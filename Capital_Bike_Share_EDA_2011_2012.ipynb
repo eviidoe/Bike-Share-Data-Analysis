{
  "nbformat": 4,
  "nbformat_minor": 0,
  "metadata": {
    "colab": {
      "name": "Capital Bike Share EDA 2011/2012.ipynb",
      "provenance": [],
      "collapsed_sections": [
        "BTFD_vVb1a2y",
        "siFZnPTuxXp3",
        "CNZaU1x8x_7B"
      ],
      "authorship_tag": "ABX9TyNft6VTsKfpKhWc107bmsRV",
      "include_colab_link": true
    },
    "kernelspec": {
      "display_name": "Python 3",
      "name": "python3"
    },
    "language_info": {
      "name": "python"
    }
  },
  "cells": [
    {
      "cell_type": "markdown",
      "metadata": {
        "id": "view-in-github",
        "colab_type": "text"
      },
      "source": [
        "<a href=\"https://colab.research.google.com/github/eviidoe/Bike-Share-Data-Analysis/blob/main/Capital_Bike_Share_EDA_2011_2012.ipynb\" target=\"_parent\"><img src=\"https://colab.research.google.com/assets/colab-badge.svg\" alt=\"Open In Colab\"/></a>"
      ]
    },
    {
      "cell_type": "markdown",
      "metadata": {
        "id": "mE8P5-lbzhFt"
      },
      "source": [
        "# **Rental Bikeshare Data Analysis**\n",
        "\n",
        "\n",
        "\n"
      ]
    },
    {
      "cell_type": "markdown",
      "metadata": {
        "id": "tM8bJEYK00O1"
      },
      "source": [
        "# Import Libraries"
      ]
    },
    {
      "cell_type": "code",
      "metadata": {
        "colab": {
          "resources": {
            "http://localhost:8080/nbextensions/google.colab/files.js": {
              "data": "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",
              "ok": true,
              "headers": [
                [
                  "content-type",
                  "application/javascript"
                ]
              ],
              "status": 200,
              "status_text": ""
            }
          },
          "base_uri": "https://localhost:8080/",
          "height": 72
        },
        "id": "KcWhH45-sZGG",
        "outputId": "a93c2d63-4034-4b29-82b4-00276ad1f4fc"
      },
      "source": [
        "import matplotlib.pyplot as plt\n",
        "import numpy as np\n",
        "import pandas as pd\n",
        "import seaborn as sns\n",
        "\n",
        "from google.colab import files\n",
        "uploaded = files.upload()\n"
      ],
      "execution_count": null,
      "outputs": [
        {
          "output_type": "display_data",
          "data": {
            "text/html": [
              "\n",
              "     <input type=\"file\" id=\"files-8fbfbdb7-4d00-4f1b-a41c-b18f1897e9fb\" name=\"files[]\" multiple disabled\n",
              "        style=\"border:none\" />\n",
              "     <output id=\"result-8fbfbdb7-4d00-4f1b-a41c-b18f1897e9fb\">\n",
              "      Upload widget is only available when the cell has been executed in the\n",
              "      current browser session. Please rerun this cell to enable.\n",
              "      </output>\n",
              "      <script src=\"/nbextensions/google.colab/files.js\"></script> "
            ],
            "text/plain": [
              "<IPython.core.display.HTML object>"
            ]
          },
          "metadata": {
            "tags": []
          }
        },
        {
          "output_type": "stream",
          "text": [
            "Saving day.csv to day.csv\n"
          ],
          "name": "stdout"
        }
      ]
    },
    {
      "cell_type": "code",
      "metadata": {
        "colab": {
          "resources": {
            "http://localhost:8080/nbextensions/google.colab/files.js": {
              "data": "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",
              "ok": true,
              "headers": [
                [
                  "content-type",
                  "application/javascript"
                ]
              ],
              "status": 200,
              "status_text": ""
            }
          },
          "base_uri": "https://localhost:8080/",
          "height": 72
        },
        "id": "niQC0xBHyOkI",
        "outputId": "c4aa0d06-2b27-42b1-e6e4-5bcafe5b673b"
      },
      "source": [
        "from google.colab import files\n",
        "uploaded = files.upload()"
      ],
      "execution_count": null,
      "outputs": [
        {
          "output_type": "display_data",
          "data": {
            "text/html": [
              "\n",
              "     <input type=\"file\" id=\"files-f98da3fb-38cc-48ce-9288-d3cd3b5469ac\" name=\"files[]\" multiple disabled\n",
              "        style=\"border:none\" />\n",
              "     <output id=\"result-f98da3fb-38cc-48ce-9288-d3cd3b5469ac\">\n",
              "      Upload widget is only available when the cell has been executed in the\n",
              "      current browser session. Please rerun this cell to enable.\n",
              "      </output>\n",
              "      <script src=\"/nbextensions/google.colab/files.js\"></script> "
            ],
            "text/plain": [
              "<IPython.core.display.HTML object>"
            ]
          },
          "metadata": {
            "tags": []
          }
        },
        {
          "output_type": "stream",
          "text": [
            "Saving hour.csv to hour.csv\n"
          ],
          "name": "stdout"
        }
      ]
    },
    {
      "cell_type": "code",
      "metadata": {
        "colab": {
          "resources": {
            "http://localhost:8080/nbextensions/google.colab/files.js": {
              "data": "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",
              "ok": true,
              "headers": [
                [
                  "content-type",
                  "application/javascript"
                ]
              ],
              "status": 200,
              "status_text": ""
            }
          },
          "base_uri": "https://localhost:8080/",
          "height": 72
        },
        "id": "8_uGTvFwqJDu",
        "outputId": "1e711c06-b43f-4473-9d95-50dab1ad1445"
      },
      "source": [
        "from google.colab import files\n",
        "uploaded = files.upload()"
      ],
      "execution_count": null,
      "outputs": [
        {
          "output_type": "display_data",
          "data": {
            "text/html": [
              "\n",
              "     <input type=\"file\" id=\"files-b16f4cfb-063d-4ec4-aba7-b96aa5c7b140\" name=\"files[]\" multiple disabled\n",
              "        style=\"border:none\" />\n",
              "     <output id=\"result-b16f4cfb-063d-4ec4-aba7-b96aa5c7b140\">\n",
              "      Upload widget is only available when the cell has been executed in the\n",
              "      current browser session. Please rerun this cell to enable.\n",
              "      </output>\n",
              "      <script src=\"/nbextensions/google.colab/files.js\"></script> "
            ],
            "text/plain": [
              "<IPython.core.display.HTML object>"
            ]
          },
          "metadata": {
            "tags": []
          }
        },
        {
          "output_type": "stream",
          "text": [
            "Saving last_week.csv to last_week.csv\n"
          ],
          "name": "stdout"
        }
      ]
    },
    {
      "cell_type": "code",
      "metadata": {
        "id": "ve9d603pQVXy",
        "colab": {
          "resources": {
            "http://localhost:8080/nbextensions/google.colab/files.js": {
              "data": "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",
              "ok": true,
              "headers": [
                [
                  "content-type",
                  "application/javascript"
                ]
              ],
              "status": 200,
              "status_text": ""
            }
          },
          "base_uri": "https://localhost:8080/",
          "height": 72
        },
        "outputId": "a58574cf-5e61-4bb3-ef53-e1b21284fa71"
      },
      "source": [
        "from google.colab import files\n",
        "uploaded = files.upload()"
      ],
      "execution_count": null,
      "outputs": [
        {
          "output_type": "display_data",
          "data": {
            "text/html": [
              "\n",
              "     <input type=\"file\" id=\"files-b800dbcf-0f68-4ff0-b74e-522b3ea95fbc\" name=\"files[]\" multiple disabled\n",
              "        style=\"border:none\" />\n",
              "     <output id=\"result-b800dbcf-0f68-4ff0-b74e-522b3ea95fbc\">\n",
              "      Upload widget is only available when the cell has been executed in the\n",
              "      current browser session. Please rerun this cell to enable.\n",
              "      </output>\n",
              "      <script src=\"/nbextensions/google.colab/files.js\"></script> "
            ],
            "text/plain": [
              "<IPython.core.display.HTML object>"
            ]
          },
          "metadata": {
            "tags": []
          }
        },
        {
          "output_type": "stream",
          "text": [
            "Saving station_info.csv to station_info.csv\n"
          ],
          "name": "stdout"
        }
      ]
    },
    {
      "cell_type": "code",
      "metadata": {
        "colab": {
          "resources": {
            "http://localhost:8080/nbextensions/google.colab/files.js": {
              "data": "Ly8gQ29weXJpZ2h0IDIwMTcgR29vZ2xlIExMQwovLwovLyBMaWNlbnNlZCB1bmRlciB0aGUgQXBhY2hlIExpY2Vuc2UsIFZlcnNpb24gMi4wICh0aGUgIkxpY2Vuc2UiKTsKLy8geW91IG1heSBub3QgdXNlIHRoaXMgZmlsZSBleGNlcHQgaW4gY29tcGxpYW5jZSB3aXRoIHRoZSBMaWNlbnNlLgovLyBZb3UgbWF5IG9idGFpbiBhIGNvcHkgb2YgdGhlIExpY2Vuc2UgYXQKLy8KLy8gICAgICBodHRwOi8vd3d3LmFwYWNoZS5vcmcvbGljZW5zZXMvTElDRU5TRS0yLjAKLy8KLy8gVW5sZXNzIHJlcXVpcmVkIGJ5IGFwcGxpY2FibGUgbGF3IG9yIGFncmVlZCB0byBpbiB3cml0aW5nLCBzb2Z0d2FyZQovLyBkaXN0cmlidXRlZCB1bmRlciB0aGUgTGljZW5zZSBpcyBkaXN0cmlidXRlZCBvbiBhbiAiQVMgSVMiIEJBU0lTLAovLyBXSVRIT1VUIFdBUlJBTlRJRVMgT1IgQ09ORElUSU9OUyBPRiBBTlkgS0lORCwgZWl0aGVyIGV4cHJlc3Mgb3IgaW1wbGllZC4KLy8gU2VlIHRoZSBMaWNlbnNlIGZvciB0aGUgc3BlY2lmaWMgbGFuZ3VhZ2UgZ292ZXJuaW5nIHBlcm1pc3Npb25zIGFuZAovLyBsaW1pdGF0aW9ucyB1bmRlciB0aGUgTGljZW5zZS4KCi8qKgogKiBAZmlsZW92ZXJ2aWV3IEhlbHBlcnMgZm9yIGdvb2dsZS5jb2xhYiBQeXRob24gbW9kdWxlLgogKi8KKGZ1bmN0aW9uKHNjb3BlKSB7CmZ1bmN0aW9uIHNwYW4odGV4dCwgc3R5bGVBdHRyaWJ1dGVzID0ge30pIHsKICBjb25zdCBlbGVtZW50ID0gZG9jdW1lbnQuY3JlYXRlRWxlbWVudCgnc3BhbicpOwogIGVsZW1lbnQudGV4dENvbnRlbnQgPSB0ZXh0OwogIGZvciAoY29uc3Qga2V5IG9mIE9iamVjdC5rZXlzKHN0eWxlQXR0cmlidXRlcykpIHsKICAgIGVsZW1lbnQuc3R5bGVba2V5XSA9IHN0eWxlQXR0cmlidXRlc1trZXldOwogIH0KICByZXR1cm4gZWxlbWVudDsKfQoKLy8gTWF4IG51bWJlciBvZiBieXRlcyB3aGljaCB3aWxsIGJlIHVwbG9hZGVkIGF0IGEgdGltZS4KY29uc3QgTUFYX1BBWUxPQURfU0laRSA9IDEwMCAqIDEwMjQ7CgpmdW5jdGlvbiBfdXBsb2FkRmlsZXMoaW5wdXRJZCwgb3V0cHV0SWQpIHsKICBjb25zdCBzdGVwcyA9IHVwbG9hZEZpbGVzU3RlcChpbnB1dElkLCBvdXRwdXRJZCk7CiAgY29uc3Qgb3V0cHV0RWxlbWVudCA9IGRvY3VtZW50LmdldEVsZW1lbnRCeUlkKG91dHB1dElkKTsKICAvLyBDYWNoZSBzdGVwcyBvbiB0aGUgb3V0cHV0RWxlbWVudCB0byBtYWtlIGl0IGF2YWlsYWJsZSBmb3IgdGhlIG5leHQgY2FsbAogIC8vIHRvIHVwbG9hZEZpbGVzQ29udGludWUgZnJvbSBQeXRob24uCiAgb3V0cHV0RWxlbWVudC5zdGVwcyA9IHN0ZXBzOwoKICByZXR1cm4gX3VwbG9hZEZpbGVzQ29udGludWUob3V0cHV0SWQpOwp9CgovLyBUaGlzIGlzIHJvdWdobHkgYW4gYXN5bmMgZ2VuZXJhdG9yIChub3Qgc3VwcG9ydGVkIGluIHRoZSBicm93c2VyIHlldCksCi8vIHdoZXJlIHRoZXJlIGFyZSBtdWx0aXBsZSBhc3luY2hyb25vdXMgc3RlcHMgYW5kIHRoZSBQeXRob24gc2lkZSBpcyBnb2luZwovLyB0byBwb2xsIGZvciBjb21wbGV0aW9uIG9mIGVhY2ggc3RlcC4KLy8gVGhpcyB1c2VzIGEgUHJvbWlzZSB0byBibG9jayB0aGUgcHl0aG9uIHNpZGUgb24gY29tcGxldGlvbiBvZiBlYWNoIHN0ZXAsCi8vIHRoZW4gcGFzc2VzIHRoZSByZXN1bHQgb2YgdGhlIHByZXZpb3VzIHN0ZXAgYXMgdGhlIGlucHV0IHRvIHRoZSBuZXh0IHN0ZXAuCmZ1bmN0aW9uIF91cGxvYWRGaWxlc0NvbnRpbnVlKG91dHB1dElkKSB7CiAgY29uc3Qgb3V0cHV0RWxlbWVudCA9IGRvY3VtZW50LmdldEVsZW1lbnRCeUlkKG91dHB1dElkKTsKICBjb25zdCBzdGVwcyA9IG91dHB1dEVsZW1lbnQuc3RlcHM7CgogIGNvbnN0IG5leHQgPSBzdGVwcy5uZXh0KG91dHB1dEVsZW1lbnQubGFzdFByb21pc2VWYWx1ZSk7CiAgcmV0dXJuIFByb21pc2UucmVzb2x2ZShuZXh0LnZhbHVlLnByb21pc2UpLnRoZW4oKHZhbHVlKSA9PiB7CiAgICAvLyBDYWNoZSB0aGUgbGFzdCBwcm9taXNlIHZhbHVlIHRvIG1ha2UgaXQgYXZhaWxhYmxlIHRvIHRoZSBuZXh0CiAgICAvLyBzdGVwIG9mIHRoZSBnZW5lcmF0b3IuCiAgICBvdXRwdXRFbGVtZW50Lmxhc3RQcm9taXNlVmFsdWUgPSB2YWx1ZTsKICAgIHJldHVybiBuZXh0LnZhbHVlLnJlc3BvbnNlOwogIH0pOwp9CgovKioKICogR2VuZXJhdG9yIGZ1bmN0aW9uIHdoaWNoIGlzIGNhbGxlZCBiZXR3ZWVuIGVhY2ggYXN5bmMgc3RlcCBvZiB0aGUgdXBsb2FkCiAqIHByb2Nlc3MuCiAqIEBwYXJhbSB7c3RyaW5nfSBpbnB1dElkIEVsZW1lbnQgSUQgb2YgdGhlIGlucHV0IGZpbGUgcGlja2VyIGVsZW1lbnQuCiAqIEBwYXJhbSB7c3RyaW5nfSBvdXRwdXRJZCBFbGVtZW50IElEIG9mIHRoZSBvdXRwdXQgZGlzcGxheS4KICogQHJldHVybiB7IUl0ZXJhYmxlPCFPYmplY3Q+fSBJdGVyYWJsZSBvZiBuZXh0IHN0ZXBzLgogKi8KZnVuY3Rpb24qIHVwbG9hZEZpbGVzU3RlcChpbnB1dElkLCBvdXRwdXRJZCkgewogIGNvbnN0IGlucHV0RWxlbWVudCA9IGRvY3VtZW50LmdldEVsZW1lbnRCeUlkKGlucHV0SWQpOwogIGlucHV0RWxlbWVudC5kaXNhYmxlZCA9IGZhbHNlOwoKICBjb25zdCBvdXRwdXRFbGVtZW50ID0gZG9jdW1lbnQuZ2V0RWxlbWVudEJ5SWQob3V0cHV0SWQpOwogIG91dHB1dEVsZW1lbnQuaW5uZXJIVE1MID0gJyc7CgogIGNvbnN0IHBpY2tlZFByb21pc2UgPSBuZXcgUHJvbWlzZSgocmVzb2x2ZSkgPT4gewogICAgaW5wdXRFbGVtZW50LmFkZEV2ZW50TGlzdGVuZXIoJ2NoYW5nZScsIChlKSA9PiB7CiAgICAgIHJlc29sdmUoZS50YXJnZXQuZmlsZXMpOwogICAgfSk7CiAgfSk7CgogIGNvbnN0IGNhbmNlbCA9IGRvY3VtZW50LmNyZWF0ZUVsZW1lbnQoJ2J1dHRvbicpOwogIGlucHV0RWxlbWVudC5wYXJlbnRFbGVtZW50LmFwcGVuZENoaWxkKGNhbmNlbCk7CiAgY2FuY2VsLnRleHRDb250ZW50ID0gJ0NhbmNlbCB1cGxvYWQnOwogIGNvbnN0IGNhbmNlbFByb21pc2UgPSBuZXcgUHJvbWlzZSgocmVzb2x2ZSkgPT4gewogICAgY2FuY2VsLm9uY2xpY2sgPSAoKSA9PiB7CiAgICAgIHJlc29sdmUobnVsbCk7CiAgICB9OwogIH0pOwoKICAvLyBXYWl0IGZvciB0aGUgdXNlciB0byBwaWNrIHRoZSBmaWxlcy4KICBjb25zdCBmaWxlcyA9IHlpZWxkIHsKICAgIHByb21pc2U6IFByb21pc2UucmFjZShbcGlja2VkUHJvbWlzZSwgY2FuY2VsUHJvbWlzZV0pLAogICAgcmVzcG9uc2U6IHsKICAgICAgYWN0aW9uOiAnc3RhcnRpbmcnLAogICAgfQogIH07CgogIGNhbmNlbC5yZW1vdmUoKTsKCiAgLy8gRGlzYWJsZSB0aGUgaW5wdXQgZWxlbWVudCBzaW5jZSBmdXJ0aGVyIHBpY2tzIGFyZSBub3QgYWxsb3dlZC4KICBpbnB1dEVsZW1lbnQuZGlzYWJsZWQgPSB0cnVlOwoKICBpZiAoIWZpbGVzKSB7CiAgICByZXR1cm4gewogICAgICByZXNwb25zZTogewogICAgICAgIGFjdGlvbjogJ2NvbXBsZXRlJywKICAgICAgfQogICAgfTsKICB9CgogIGZvciAoY29uc3QgZmlsZSBvZiBmaWxlcykgewogICAgY29uc3QgbGkgPSBkb2N1bWVudC5jcmVhdGVFbGVtZW50KCdsaScpOwogICAgbGkuYXBwZW5kKHNwYW4oZmlsZS5uYW1lLCB7Zm9udFdlaWdodDogJ2JvbGQnfSkpOwogICAgbGkuYXBwZW5kKHNwYW4oCiAgICAgICAgYCgke2ZpbGUudHlwZSB8fCAnbi9hJ30pIC0gJHtmaWxlLnNpemV9IGJ5dGVzLCBgICsKICAgICAgICBgbGFzdCBtb2RpZmllZDogJHsKICAgICAgICAgICAgZmlsZS5sYXN0TW9kaWZpZWREYXRlID8gZmlsZS5sYXN0TW9kaWZpZWREYXRlLnRvTG9jYWxlRGF0ZVN0cmluZygpIDoKICAgICAgICAgICAgICAgICAgICAgICAgICAgICAgICAgICAgJ24vYSd9IC0gYCkpOwogICAgY29uc3QgcGVyY2VudCA9IHNwYW4oJzAlIGRvbmUnKTsKICAgIGxpLmFwcGVuZENoaWxkKHBlcmNlbnQpOwoKICAgIG91dHB1dEVsZW1lbnQuYXBwZW5kQ2hpbGQobGkpOwoKICAgIGNvbnN0IGZpbGVEYXRhUHJvbWlzZSA9IG5ldyBQcm9taXNlKChyZXNvbHZlKSA9PiB7CiAgICAgIGNvbnN0IHJlYWRlciA9IG5ldyBGaWxlUmVhZGVyKCk7CiAgICAgIHJlYWRlci5vbmxvYWQgPSAoZSkgPT4gewogICAgICAgIHJlc29sdmUoZS50YXJnZXQucmVzdWx0KTsKICAgICAgfTsKICAgICAgcmVhZGVyLnJlYWRBc0FycmF5QnVmZmVyKGZpbGUpOwogICAgfSk7CiAgICAvLyBXYWl0IGZvciB0aGUgZGF0YSB0byBiZSByZWFkeS4KICAgIGxldCBmaWxlRGF0YSA9IHlpZWxkIHsKICAgICAgcHJvbWlzZTogZmlsZURhdGFQcm9taXNlLAogICAgICByZXNwb25zZTogewogICAgICAgIGFjdGlvbjogJ2NvbnRpbnVlJywKICAgICAgfQogICAgfTsKCiAgICAvLyBVc2UgYSBjaHVua2VkIHNlbmRpbmcgdG8gYXZvaWQgbWVzc2FnZSBzaXplIGxpbWl0cy4gU2VlIGIvNjIxMTU2NjAuCiAgICBsZXQgcG9zaXRpb24gPSAwOwogICAgZG8gewogICAgICBjb25zdCBsZW5ndGggPSBNYXRoLm1pbihmaWxlRGF0YS5ieXRlTGVuZ3RoIC0gcG9zaXRpb24sIE1BWF9QQVlMT0FEX1NJWkUpOwogICAgICBjb25zdCBjaHVuayA9IG5ldyBVaW50OEFycmF5KGZpbGVEYXRhLCBwb3NpdGlvbiwgbGVuZ3RoKTsKICAgICAgcG9zaXRpb24gKz0gbGVuZ3RoOwoKICAgICAgY29uc3QgYmFzZTY0ID0gYnRvYShTdHJpbmcuZnJvbUNoYXJDb2RlLmFwcGx5KG51bGwsIGNodW5rKSk7CiAgICAgIHlpZWxkIHsKICAgICAgICByZXNwb25zZTogewogICAgICAgICAgYWN0aW9uOiAnYXBwZW5kJywKICAgICAgICAgIGZpbGU6IGZpbGUubmFtZSwKICAgICAgICAgIGRhdGE6IGJhc2U2NCwKICAgICAgICB9LAogICAgICB9OwoKICAgICAgbGV0IHBlcmNlbnREb25lID0gZmlsZURhdGEuYnl0ZUxlbmd0aCA9PT0gMCA/CiAgICAgICAgICAxMDAgOgogICAgICAgICAgTWF0aC5yb3VuZCgocG9zaXRpb24gLyBmaWxlRGF0YS5ieXRlTGVuZ3RoKSAqIDEwMCk7CiAgICAgIHBlcmNlbnQudGV4dENvbnRlbnQgPSBgJHtwZXJjZW50RG9uZX0lIGRvbmVgOwoKICAgIH0gd2hpbGUgKHBvc2l0aW9uIDwgZmlsZURhdGEuYnl0ZUxlbmd0aCk7CiAgfQoKICAvLyBBbGwgZG9uZS4KICB5aWVsZCB7CiAgICByZXNwb25zZTogewogICAgICBhY3Rpb246ICdjb21wbGV0ZScsCiAgICB9CiAgfTsKfQoKc2NvcGUuZ29vZ2xlID0gc2NvcGUuZ29vZ2xlIHx8IHt9OwpzY29wZS5nb29nbGUuY29sYWIgPSBzY29wZS5nb29nbGUuY29sYWIgfHwge307CnNjb3BlLmdvb2dsZS5jb2xhYi5fZmlsZXMgPSB7CiAgX3VwbG9hZEZpbGVzLAogIF91cGxvYWRGaWxlc0NvbnRpbnVlLAp9Owp9KShzZWxmKTsK",
              "ok": true,
              "headers": [
                [
                  "content-type",
                  "application/javascript"
                ]
              ],
              "status": 200,
              "status_text": ""
            }
          },
          "base_uri": "https://localhost:8080/",
          "height": 72
        },
        "id": "LJf4R7SPbIRX",
        "outputId": "6d80e1dd-8bce-4e21-bcf4-ea717b633cfb"
      },
      "source": [
        "from google.colab import files\n",
        "uploaded = files.upload()"
      ],
      "execution_count": null,
      "outputs": [
        {
          "output_type": "display_data",
          "data": {
            "text/html": [
              "\n",
              "     <input type=\"file\" id=\"files-135b0c92-38b6-4af9-983a-d4ffcfa07c7b\" name=\"files[]\" multiple disabled\n",
              "        style=\"border:none\" />\n",
              "     <output id=\"result-135b0c92-38b6-4af9-983a-d4ffcfa07c7b\">\n",
              "      Upload widget is only available when the cell has been executed in the\n",
              "      current browser session. Please rerun this cell to enable.\n",
              "      </output>\n",
              "      <script src=\"/nbextensions/google.colab/files.js\"></script> "
            ],
            "text/plain": [
              "<IPython.core.display.HTML object>"
            ]
          },
          "metadata": {
            "tags": []
          }
        },
        {
          "output_type": "stream",
          "text": [
            "Saving count_end.csv to count_end.csv\n"
          ],
          "name": "stdout"
        }
      ]
    },
    {
      "cell_type": "markdown",
      "metadata": {
        "id": "kTcGnUe4Z25R"
      },
      "source": [
        "# Transforming Variables"
      ]
    },
    {
      "cell_type": "markdown",
      "metadata": {
        "id": "siFZnPTuxXp3"
      },
      "source": [
        "# DF DAY"
      ]
    },
    {
      "cell_type": "code",
      "metadata": {
        "id": "A_2JINN7wx12"
      },
      "source": [
        "df_day = pd.read_csv('/content/day.csv')"
      ],
      "execution_count": null,
      "outputs": []
    },
    {
      "cell_type": "code",
      "metadata": {
        "id": "V5WjUlNTw7vv",
        "colab": {
          "base_uri": "https://localhost:8080/"
        },
        "outputId": "f1a01c53-d6cb-4978-dfa9-25acd4a6c179"
      },
      "source": [
        "df_day"
      ],
      "execution_count": null,
      "outputs": [
        {
          "output_type": "execute_result",
          "data": {
            "text/html": [
              "<div>\n",
              "<style scoped>\n",
              "    .dataframe tbody tr th:only-of-type {\n",
              "        vertical-align: middle;\n",
              "    }\n",
              "\n",
              "    .dataframe tbody tr th {\n",
              "        vertical-align: top;\n",
              "    }\n",
              "\n",
              "    .dataframe thead th {\n",
              "        text-align: right;\n",
              "    }\n",
              "</style>\n",
              "<table border=\"1\" class=\"dataframe\">\n",
              "  <thead>\n",
              "    <tr style=\"text-align: right;\">\n",
              "      <th></th>\n",
              "      <th>instant</th>\n",
              "      <th>dteday</th>\n",
              "      <th>season</th>\n",
              "      <th>yr</th>\n",
              "      <th>mnth</th>\n",
              "      <th>holiday</th>\n",
              "      <th>weekday</th>\n",
              "      <th>workingday</th>\n",
              "      <th>weathersit</th>\n",
              "      <th>temp</th>\n",
              "      <th>atemp</th>\n",
              "      <th>hum</th>\n",
              "      <th>windspeed</th>\n",
              "      <th>casual</th>\n",
              "      <th>registered</th>\n",
              "      <th>cnt</th>\n",
              "    </tr>\n",
              "  </thead>\n",
              "  <tbody>\n",
              "    <tr>\n",
              "      <th>0</th>\n",
              "      <td>1</td>\n",
              "      <td>2011-01-01</td>\n",
              "      <td>1</td>\n",
              "      <td>0</td>\n",
              "      <td>1</td>\n",
              "      <td>0</td>\n",
              "      <td>6</td>\n",
              "      <td>0</td>\n",
              "      <td>2</td>\n",
              "      <td>0.344167</td>\n",
              "      <td>0.363625</td>\n",
              "      <td>0.805833</td>\n",
              "      <td>0.160446</td>\n",
              "      <td>331</td>\n",
              "      <td>654</td>\n",
              "      <td>985</td>\n",
              "    </tr>\n",
              "    <tr>\n",
              "      <th>1</th>\n",
              "      <td>2</td>\n",
              "      <td>2011-01-02</td>\n",
              "      <td>1</td>\n",
              "      <td>0</td>\n",
              "      <td>1</td>\n",
              "      <td>0</td>\n",
              "      <td>0</td>\n",
              "      <td>0</td>\n",
              "      <td>2</td>\n",
              "      <td>0.363478</td>\n",
              "      <td>0.353739</td>\n",
              "      <td>0.696087</td>\n",
              "      <td>0.248539</td>\n",
              "      <td>131</td>\n",
              "      <td>670</td>\n",
              "      <td>801</td>\n",
              "    </tr>\n",
              "    <tr>\n",
              "      <th>2</th>\n",
              "      <td>3</td>\n",
              "      <td>2011-01-03</td>\n",
              "      <td>1</td>\n",
              "      <td>0</td>\n",
              "      <td>1</td>\n",
              "      <td>0</td>\n",
              "      <td>1</td>\n",
              "      <td>1</td>\n",
              "      <td>1</td>\n",
              "      <td>0.196364</td>\n",
              "      <td>0.189405</td>\n",
              "      <td>0.437273</td>\n",
              "      <td>0.248309</td>\n",
              "      <td>120</td>\n",
              "      <td>1229</td>\n",
              "      <td>1349</td>\n",
              "    </tr>\n",
              "    <tr>\n",
              "      <th>3</th>\n",
              "      <td>4</td>\n",
              "      <td>2011-01-04</td>\n",
              "      <td>1</td>\n",
              "      <td>0</td>\n",
              "      <td>1</td>\n",
              "      <td>0</td>\n",
              "      <td>2</td>\n",
              "      <td>1</td>\n",
              "      <td>1</td>\n",
              "      <td>0.200000</td>\n",
              "      <td>0.212122</td>\n",
              "      <td>0.590435</td>\n",
              "      <td>0.160296</td>\n",
              "      <td>108</td>\n",
              "      <td>1454</td>\n",
              "      <td>1562</td>\n",
              "    </tr>\n",
              "    <tr>\n",
              "      <th>4</th>\n",
              "      <td>5</td>\n",
              "      <td>2011-01-05</td>\n",
              "      <td>1</td>\n",
              "      <td>0</td>\n",
              "      <td>1</td>\n",
              "      <td>0</td>\n",
              "      <td>3</td>\n",
              "      <td>1</td>\n",
              "      <td>1</td>\n",
              "      <td>0.226957</td>\n",
              "      <td>0.229270</td>\n",
              "      <td>0.436957</td>\n",
              "      <td>0.186900</td>\n",
              "      <td>82</td>\n",
              "      <td>1518</td>\n",
              "      <td>1600</td>\n",
              "    </tr>\n",
              "    <tr>\n",
              "      <th>...</th>\n",
              "      <td>...</td>\n",
              "      <td>...</td>\n",
              "      <td>...</td>\n",
              "      <td>...</td>\n",
              "      <td>...</td>\n",
              "      <td>...</td>\n",
              "      <td>...</td>\n",
              "      <td>...</td>\n",
              "      <td>...</td>\n",
              "      <td>...</td>\n",
              "      <td>...</td>\n",
              "      <td>...</td>\n",
              "      <td>...</td>\n",
              "      <td>...</td>\n",
              "      <td>...</td>\n",
              "      <td>...</td>\n",
              "    </tr>\n",
              "    <tr>\n",
              "      <th>726</th>\n",
              "      <td>727</td>\n",
              "      <td>2012-12-27</td>\n",
              "      <td>1</td>\n",
              "      <td>1</td>\n",
              "      <td>12</td>\n",
              "      <td>0</td>\n",
              "      <td>4</td>\n",
              "      <td>1</td>\n",
              "      <td>2</td>\n",
              "      <td>0.254167</td>\n",
              "      <td>0.226642</td>\n",
              "      <td>0.652917</td>\n",
              "      <td>0.350133</td>\n",
              "      <td>247</td>\n",
              "      <td>1867</td>\n",
              "      <td>2114</td>\n",
              "    </tr>\n",
              "    <tr>\n",
              "      <th>727</th>\n",
              "      <td>728</td>\n",
              "      <td>2012-12-28</td>\n",
              "      <td>1</td>\n",
              "      <td>1</td>\n",
              "      <td>12</td>\n",
              "      <td>0</td>\n",
              "      <td>5</td>\n",
              "      <td>1</td>\n",
              "      <td>2</td>\n",
              "      <td>0.253333</td>\n",
              "      <td>0.255046</td>\n",
              "      <td>0.590000</td>\n",
              "      <td>0.155471</td>\n",
              "      <td>644</td>\n",
              "      <td>2451</td>\n",
              "      <td>3095</td>\n",
              "    </tr>\n",
              "    <tr>\n",
              "      <th>728</th>\n",
              "      <td>729</td>\n",
              "      <td>2012-12-29</td>\n",
              "      <td>1</td>\n",
              "      <td>1</td>\n",
              "      <td>12</td>\n",
              "      <td>0</td>\n",
              "      <td>6</td>\n",
              "      <td>0</td>\n",
              "      <td>2</td>\n",
              "      <td>0.253333</td>\n",
              "      <td>0.242400</td>\n",
              "      <td>0.752917</td>\n",
              "      <td>0.124383</td>\n",
              "      <td>159</td>\n",
              "      <td>1182</td>\n",
              "      <td>1341</td>\n",
              "    </tr>\n",
              "    <tr>\n",
              "      <th>729</th>\n",
              "      <td>730</td>\n",
              "      <td>2012-12-30</td>\n",
              "      <td>1</td>\n",
              "      <td>1</td>\n",
              "      <td>12</td>\n",
              "      <td>0</td>\n",
              "      <td>0</td>\n",
              "      <td>0</td>\n",
              "      <td>1</td>\n",
              "      <td>0.255833</td>\n",
              "      <td>0.231700</td>\n",
              "      <td>0.483333</td>\n",
              "      <td>0.350754</td>\n",
              "      <td>364</td>\n",
              "      <td>1432</td>\n",
              "      <td>1796</td>\n",
              "    </tr>\n",
              "    <tr>\n",
              "      <th>730</th>\n",
              "      <td>731</td>\n",
              "      <td>2012-12-31</td>\n",
              "      <td>1</td>\n",
              "      <td>1</td>\n",
              "      <td>12</td>\n",
              "      <td>0</td>\n",
              "      <td>1</td>\n",
              "      <td>1</td>\n",
              "      <td>2</td>\n",
              "      <td>0.215833</td>\n",
              "      <td>0.223487</td>\n",
              "      <td>0.577500</td>\n",
              "      <td>0.154846</td>\n",
              "      <td>439</td>\n",
              "      <td>2290</td>\n",
              "      <td>2729</td>\n",
              "    </tr>\n",
              "  </tbody>\n",
              "</table>\n",
              "<p>731 rows × 16 columns</p>\n",
              "</div>"
            ],
            "text/plain": [
              "     instant      dteday  season  yr  ...  windspeed  casual  registered   cnt\n",
              "0          1  2011-01-01       1   0  ...   0.160446     331         654   985\n",
              "1          2  2011-01-02       1   0  ...   0.248539     131         670   801\n",
              "2          3  2011-01-03       1   0  ...   0.248309     120        1229  1349\n",
              "3          4  2011-01-04       1   0  ...   0.160296     108        1454  1562\n",
              "4          5  2011-01-05       1   0  ...   0.186900      82        1518  1600\n",
              "..       ...         ...     ...  ..  ...        ...     ...         ...   ...\n",
              "726      727  2012-12-27       1   1  ...   0.350133     247        1867  2114\n",
              "727      728  2012-12-28       1   1  ...   0.155471     644        2451  3095\n",
              "728      729  2012-12-29       1   1  ...   0.124383     159        1182  1341\n",
              "729      730  2012-12-30       1   1  ...   0.350754     364        1432  1796\n",
              "730      731  2012-12-31       1   1  ...   0.154846     439        2290  2729\n",
              "\n",
              "[731 rows x 16 columns]"
            ]
          },
          "metadata": {
            "tags": []
          },
          "execution_count": 7
        }
      ]
    },
    {
      "cell_type": "code",
      "metadata": {
        "id": "a5rWyozZxJZo",
        "colab": {
          "base_uri": "https://localhost:8080/"
        },
        "outputId": "6c9ecde3-08e1-45e3-c666-f4248aae7062"
      },
      "source": [
        "df_day.shape"
      ],
      "execution_count": null,
      "outputs": [
        {
          "output_type": "execute_result",
          "data": {
            "text/plain": [
              "(731, 16)"
            ]
          },
          "metadata": {
            "tags": []
          },
          "execution_count": 8
        }
      ]
    },
    {
      "cell_type": "code",
      "metadata": {
        "id": "9dRyPDqjxMLi",
        "colab": {
          "base_uri": "https://localhost:8080/"
        },
        "outputId": "df6b34d8-dde9-4b15-ba2c-64a7b82f7028"
      },
      "source": [
        "df_day.columns"
      ],
      "execution_count": null,
      "outputs": [
        {
          "output_type": "execute_result",
          "data": {
            "text/plain": [
              "Index(['instant', 'dteday', 'season', 'yr', 'mnth', 'holiday', 'weekday',\n",
              "       'workingday', 'weathersit', 'temp', 'atemp', 'hum', 'windspeed',\n",
              "       'casual', 'registered', 'cnt'],\n",
              "      dtype='object')"
            ]
          },
          "metadata": {
            "tags": []
          },
          "execution_count": 9
        }
      ]
    },
    {
      "cell_type": "markdown",
      "metadata": {
        "id": "yLNe-eZXzdXj"
      },
      "source": [
        ""
      ]
    },
    {
      "cell_type": "code",
      "metadata": {
        "id": "WwQxgt5RxPeO",
        "colab": {
          "base_uri": "https://localhost:8080/"
        },
        "outputId": "4ba08a6b-805a-4e05-fbed-6667c5d468b3"
      },
      "source": [
        "df_day.dtypes"
      ],
      "execution_count": null,
      "outputs": [
        {
          "output_type": "execute_result",
          "data": {
            "text/plain": [
              "instant         int64\n",
              "dteday         object\n",
              "season          int64\n",
              "yr              int64\n",
              "mnth            int64\n",
              "holiday         int64\n",
              "weekday         int64\n",
              "workingday      int64\n",
              "weathersit      int64\n",
              "temp          float64\n",
              "atemp         float64\n",
              "hum           float64\n",
              "windspeed     float64\n",
              "casual          int64\n",
              "registered      int64\n",
              "cnt             int64\n",
              "dtype: object"
            ]
          },
          "metadata": {
            "tags": []
          },
          "execution_count": 10
        }
      ]
    },
    {
      "cell_type": "code",
      "metadata": {
        "id": "0LJSUXUSxdfN",
        "colab": {
          "base_uri": "https://localhost:8080/"
        },
        "outputId": "6ccb9a18-ec33-434f-8a40-f7795fb85eca"
      },
      "source": [
        "df_day.describe"
      ],
      "execution_count": null,
      "outputs": [
        {
          "output_type": "execute_result",
          "data": {
            "text/plain": [
              "<bound method NDFrame.describe of      instant      dteday  season  yr  ...  windspeed  casual  registered   cnt\n",
              "0          1  2011-01-01       1   0  ...   0.160446     331         654   985\n",
              "1          2  2011-01-02       1   0  ...   0.248539     131         670   801\n",
              "2          3  2011-01-03       1   0  ...   0.248309     120        1229  1349\n",
              "3          4  2011-01-04       1   0  ...   0.160296     108        1454  1562\n",
              "4          5  2011-01-05       1   0  ...   0.186900      82        1518  1600\n",
              "..       ...         ...     ...  ..  ...        ...     ...         ...   ...\n",
              "726      727  2012-12-27       1   1  ...   0.350133     247        1867  2114\n",
              "727      728  2012-12-28       1   1  ...   0.155471     644        2451  3095\n",
              "728      729  2012-12-29       1   1  ...   0.124383     159        1182  1341\n",
              "729      730  2012-12-30       1   1  ...   0.350754     364        1432  1796\n",
              "730      731  2012-12-31       1   1  ...   0.154846     439        2290  2729\n",
              "\n",
              "[731 rows x 16 columns]>"
            ]
          },
          "metadata": {
            "tags": []
          },
          "execution_count": 11
        }
      ]
    },
    {
      "cell_type": "markdown",
      "metadata": {
        "id": "CNZaU1x8x_7B"
      },
      "source": [
        "# DF HOURS"
      ]
    },
    {
      "cell_type": "code",
      "metadata": {
        "id": "ehnwluyUyKeo"
      },
      "source": [
        "df_hour = pd.read_csv('/content/hour.csv')"
      ],
      "execution_count": null,
      "outputs": []
    },
    {
      "cell_type": "code",
      "metadata": {
        "colab": {
          "base_uri": "https://localhost:8080/",
          "height": 424
        },
        "id": "3PvYJmqJpa6L",
        "outputId": "6114a864-6a34-4537-eff0-d855f2fc77a7"
      },
      "source": [
        "df_hour"
      ],
      "execution_count": null,
      "outputs": [
        {
          "output_type": "execute_result",
          "data": {
            "text/html": [
              "<div>\n",
              "<style scoped>\n",
              "    .dataframe tbody tr th:only-of-type {\n",
              "        vertical-align: middle;\n",
              "    }\n",
              "\n",
              "    .dataframe tbody tr th {\n",
              "        vertical-align: top;\n",
              "    }\n",
              "\n",
              "    .dataframe thead th {\n",
              "        text-align: right;\n",
              "    }\n",
              "</style>\n",
              "<table border=\"1\" class=\"dataframe\">\n",
              "  <thead>\n",
              "    <tr style=\"text-align: right;\">\n",
              "      <th></th>\n",
              "      <th>instant</th>\n",
              "      <th>dteday</th>\n",
              "      <th>season</th>\n",
              "      <th>yr</th>\n",
              "      <th>mnth</th>\n",
              "      <th>hr</th>\n",
              "      <th>holiday</th>\n",
              "      <th>weekday</th>\n",
              "      <th>workingday</th>\n",
              "      <th>weathersit</th>\n",
              "      <th>temp</th>\n",
              "      <th>atemp</th>\n",
              "      <th>hum</th>\n",
              "      <th>windspeed</th>\n",
              "      <th>casual</th>\n",
              "      <th>registered</th>\n",
              "      <th>cnt</th>\n",
              "    </tr>\n",
              "  </thead>\n",
              "  <tbody>\n",
              "    <tr>\n",
              "      <th>0</th>\n",
              "      <td>1</td>\n",
              "      <td>2011-01-01</td>\n",
              "      <td>1</td>\n",
              "      <td>0</td>\n",
              "      <td>1</td>\n",
              "      <td>0</td>\n",
              "      <td>0</td>\n",
              "      <td>6</td>\n",
              "      <td>0</td>\n",
              "      <td>1</td>\n",
              "      <td>0.24</td>\n",
              "      <td>0.2879</td>\n",
              "      <td>0.81</td>\n",
              "      <td>0.0000</td>\n",
              "      <td>3</td>\n",
              "      <td>13</td>\n",
              "      <td>16</td>\n",
              "    </tr>\n",
              "    <tr>\n",
              "      <th>1</th>\n",
              "      <td>2</td>\n",
              "      <td>2011-01-01</td>\n",
              "      <td>1</td>\n",
              "      <td>0</td>\n",
              "      <td>1</td>\n",
              "      <td>1</td>\n",
              "      <td>0</td>\n",
              "      <td>6</td>\n",
              "      <td>0</td>\n",
              "      <td>1</td>\n",
              "      <td>0.22</td>\n",
              "      <td>0.2727</td>\n",
              "      <td>0.80</td>\n",
              "      <td>0.0000</td>\n",
              "      <td>8</td>\n",
              "      <td>32</td>\n",
              "      <td>40</td>\n",
              "    </tr>\n",
              "    <tr>\n",
              "      <th>2</th>\n",
              "      <td>3</td>\n",
              "      <td>2011-01-01</td>\n",
              "      <td>1</td>\n",
              "      <td>0</td>\n",
              "      <td>1</td>\n",
              "      <td>2</td>\n",
              "      <td>0</td>\n",
              "      <td>6</td>\n",
              "      <td>0</td>\n",
              "      <td>1</td>\n",
              "      <td>0.22</td>\n",
              "      <td>0.2727</td>\n",
              "      <td>0.80</td>\n",
              "      <td>0.0000</td>\n",
              "      <td>5</td>\n",
              "      <td>27</td>\n",
              "      <td>32</td>\n",
              "    </tr>\n",
              "    <tr>\n",
              "      <th>3</th>\n",
              "      <td>4</td>\n",
              "      <td>2011-01-01</td>\n",
              "      <td>1</td>\n",
              "      <td>0</td>\n",
              "      <td>1</td>\n",
              "      <td>3</td>\n",
              "      <td>0</td>\n",
              "      <td>6</td>\n",
              "      <td>0</td>\n",
              "      <td>1</td>\n",
              "      <td>0.24</td>\n",
              "      <td>0.2879</td>\n",
              "      <td>0.75</td>\n",
              "      <td>0.0000</td>\n",
              "      <td>3</td>\n",
              "      <td>10</td>\n",
              "      <td>13</td>\n",
              "    </tr>\n",
              "    <tr>\n",
              "      <th>4</th>\n",
              "      <td>5</td>\n",
              "      <td>2011-01-01</td>\n",
              "      <td>1</td>\n",
              "      <td>0</td>\n",
              "      <td>1</td>\n",
              "      <td>4</td>\n",
              "      <td>0</td>\n",
              "      <td>6</td>\n",
              "      <td>0</td>\n",
              "      <td>1</td>\n",
              "      <td>0.24</td>\n",
              "      <td>0.2879</td>\n",
              "      <td>0.75</td>\n",
              "      <td>0.0000</td>\n",
              "      <td>0</td>\n",
              "      <td>1</td>\n",
              "      <td>1</td>\n",
              "    </tr>\n",
              "    <tr>\n",
              "      <th>...</th>\n",
              "      <td>...</td>\n",
              "      <td>...</td>\n",
              "      <td>...</td>\n",
              "      <td>...</td>\n",
              "      <td>...</td>\n",
              "      <td>...</td>\n",
              "      <td>...</td>\n",
              "      <td>...</td>\n",
              "      <td>...</td>\n",
              "      <td>...</td>\n",
              "      <td>...</td>\n",
              "      <td>...</td>\n",
              "      <td>...</td>\n",
              "      <td>...</td>\n",
              "      <td>...</td>\n",
              "      <td>...</td>\n",
              "      <td>...</td>\n",
              "    </tr>\n",
              "    <tr>\n",
              "      <th>17374</th>\n",
              "      <td>17375</td>\n",
              "      <td>2012-12-31</td>\n",
              "      <td>1</td>\n",
              "      <td>1</td>\n",
              "      <td>12</td>\n",
              "      <td>19</td>\n",
              "      <td>0</td>\n",
              "      <td>1</td>\n",
              "      <td>1</td>\n",
              "      <td>2</td>\n",
              "      <td>0.26</td>\n",
              "      <td>0.2576</td>\n",
              "      <td>0.60</td>\n",
              "      <td>0.1642</td>\n",
              "      <td>11</td>\n",
              "      <td>108</td>\n",
              "      <td>119</td>\n",
              "    </tr>\n",
              "    <tr>\n",
              "      <th>17375</th>\n",
              "      <td>17376</td>\n",
              "      <td>2012-12-31</td>\n",
              "      <td>1</td>\n",
              "      <td>1</td>\n",
              "      <td>12</td>\n",
              "      <td>20</td>\n",
              "      <td>0</td>\n",
              "      <td>1</td>\n",
              "      <td>1</td>\n",
              "      <td>2</td>\n",
              "      <td>0.26</td>\n",
              "      <td>0.2576</td>\n",
              "      <td>0.60</td>\n",
              "      <td>0.1642</td>\n",
              "      <td>8</td>\n",
              "      <td>81</td>\n",
              "      <td>89</td>\n",
              "    </tr>\n",
              "    <tr>\n",
              "      <th>17376</th>\n",
              "      <td>17377</td>\n",
              "      <td>2012-12-31</td>\n",
              "      <td>1</td>\n",
              "      <td>1</td>\n",
              "      <td>12</td>\n",
              "      <td>21</td>\n",
              "      <td>0</td>\n",
              "      <td>1</td>\n",
              "      <td>1</td>\n",
              "      <td>1</td>\n",
              "      <td>0.26</td>\n",
              "      <td>0.2576</td>\n",
              "      <td>0.60</td>\n",
              "      <td>0.1642</td>\n",
              "      <td>7</td>\n",
              "      <td>83</td>\n",
              "      <td>90</td>\n",
              "    </tr>\n",
              "    <tr>\n",
              "      <th>17377</th>\n",
              "      <td>17378</td>\n",
              "      <td>2012-12-31</td>\n",
              "      <td>1</td>\n",
              "      <td>1</td>\n",
              "      <td>12</td>\n",
              "      <td>22</td>\n",
              "      <td>0</td>\n",
              "      <td>1</td>\n",
              "      <td>1</td>\n",
              "      <td>1</td>\n",
              "      <td>0.26</td>\n",
              "      <td>0.2727</td>\n",
              "      <td>0.56</td>\n",
              "      <td>0.1343</td>\n",
              "      <td>13</td>\n",
              "      <td>48</td>\n",
              "      <td>61</td>\n",
              "    </tr>\n",
              "    <tr>\n",
              "      <th>17378</th>\n",
              "      <td>17379</td>\n",
              "      <td>2012-12-31</td>\n",
              "      <td>1</td>\n",
              "      <td>1</td>\n",
              "      <td>12</td>\n",
              "      <td>23</td>\n",
              "      <td>0</td>\n",
              "      <td>1</td>\n",
              "      <td>1</td>\n",
              "      <td>1</td>\n",
              "      <td>0.26</td>\n",
              "      <td>0.2727</td>\n",
              "      <td>0.65</td>\n",
              "      <td>0.1343</td>\n",
              "      <td>12</td>\n",
              "      <td>37</td>\n",
              "      <td>49</td>\n",
              "    </tr>\n",
              "  </tbody>\n",
              "</table>\n",
              "<p>17379 rows × 17 columns</p>\n",
              "</div>"
            ],
            "text/plain": [
              "       instant      dteday  season  yr  ...  windspeed  casual  registered  cnt\n",
              "0            1  2011-01-01       1   0  ...     0.0000       3          13   16\n",
              "1            2  2011-01-01       1   0  ...     0.0000       8          32   40\n",
              "2            3  2011-01-01       1   0  ...     0.0000       5          27   32\n",
              "3            4  2011-01-01       1   0  ...     0.0000       3          10   13\n",
              "4            5  2011-01-01       1   0  ...     0.0000       0           1    1\n",
              "...        ...         ...     ...  ..  ...        ...     ...         ...  ...\n",
              "17374    17375  2012-12-31       1   1  ...     0.1642      11         108  119\n",
              "17375    17376  2012-12-31       1   1  ...     0.1642       8          81   89\n",
              "17376    17377  2012-12-31       1   1  ...     0.1642       7          83   90\n",
              "17377    17378  2012-12-31       1   1  ...     0.1343      13          48   61\n",
              "17378    17379  2012-12-31       1   1  ...     0.1343      12          37   49\n",
              "\n",
              "[17379 rows x 17 columns]"
            ]
          },
          "metadata": {
            "tags": []
          },
          "execution_count": 13
        }
      ]
    },
    {
      "cell_type": "code",
      "metadata": {
        "colab": {
          "base_uri": "https://localhost:8080/",
          "height": 454
        },
        "id": "_tUsM0CCpGXg",
        "outputId": "1a75dffd-2474-4a99-d9b3-7accc4b6ee9d"
      },
      "source": [
        "df_hour = pd.read_csv('/content/hour.csv', delimiter = ',', index_col = 0) \n",
        "df_hour.dteday = pd.to_datetime(df_hour.dteday)\n",
        "df_hour.loc[:,'day'] = df_hour.dteday.dt.day\n",
        "df_hour.loc[:,'weekday'] = df_hour.dteday.dt.day_name()\n",
        "df_hour.loc[:,'month'] = df_hour.dteday.dt.month_name()\n",
        "\n",
        "df_hour"
      ],
      "execution_count": null,
      "outputs": [
        {
          "output_type": "execute_result",
          "data": {
            "text/html": [
              "<div>\n",
              "<style scoped>\n",
              "    .dataframe tbody tr th:only-of-type {\n",
              "        vertical-align: middle;\n",
              "    }\n",
              "\n",
              "    .dataframe tbody tr th {\n",
              "        vertical-align: top;\n",
              "    }\n",
              "\n",
              "    .dataframe thead th {\n",
              "        text-align: right;\n",
              "    }\n",
              "</style>\n",
              "<table border=\"1\" class=\"dataframe\">\n",
              "  <thead>\n",
              "    <tr style=\"text-align: right;\">\n",
              "      <th></th>\n",
              "      <th>dteday</th>\n",
              "      <th>season</th>\n",
              "      <th>yr</th>\n",
              "      <th>mnth</th>\n",
              "      <th>hr</th>\n",
              "      <th>holiday</th>\n",
              "      <th>weekday</th>\n",
              "      <th>workingday</th>\n",
              "      <th>weathersit</th>\n",
              "      <th>temp</th>\n",
              "      <th>atemp</th>\n",
              "      <th>hum</th>\n",
              "      <th>windspeed</th>\n",
              "      <th>casual</th>\n",
              "      <th>registered</th>\n",
              "      <th>cnt</th>\n",
              "      <th>day</th>\n",
              "      <th>month</th>\n",
              "    </tr>\n",
              "    <tr>\n",
              "      <th>instant</th>\n",
              "      <th></th>\n",
              "      <th></th>\n",
              "      <th></th>\n",
              "      <th></th>\n",
              "      <th></th>\n",
              "      <th></th>\n",
              "      <th></th>\n",
              "      <th></th>\n",
              "      <th></th>\n",
              "      <th></th>\n",
              "      <th></th>\n",
              "      <th></th>\n",
              "      <th></th>\n",
              "      <th></th>\n",
              "      <th></th>\n",
              "      <th></th>\n",
              "      <th></th>\n",
              "      <th></th>\n",
              "    </tr>\n",
              "  </thead>\n",
              "  <tbody>\n",
              "    <tr>\n",
              "      <th>1</th>\n",
              "      <td>2011-01-01</td>\n",
              "      <td>1</td>\n",
              "      <td>0</td>\n",
              "      <td>1</td>\n",
              "      <td>0</td>\n",
              "      <td>0</td>\n",
              "      <td>Saturday</td>\n",
              "      <td>0</td>\n",
              "      <td>1</td>\n",
              "      <td>0.24</td>\n",
              "      <td>0.2879</td>\n",
              "      <td>0.81</td>\n",
              "      <td>0.0000</td>\n",
              "      <td>3</td>\n",
              "      <td>13</td>\n",
              "      <td>16</td>\n",
              "      <td>1</td>\n",
              "      <td>January</td>\n",
              "    </tr>\n",
              "    <tr>\n",
              "      <th>2</th>\n",
              "      <td>2011-01-01</td>\n",
              "      <td>1</td>\n",
              "      <td>0</td>\n",
              "      <td>1</td>\n",
              "      <td>1</td>\n",
              "      <td>0</td>\n",
              "      <td>Saturday</td>\n",
              "      <td>0</td>\n",
              "      <td>1</td>\n",
              "      <td>0.22</td>\n",
              "      <td>0.2727</td>\n",
              "      <td>0.80</td>\n",
              "      <td>0.0000</td>\n",
              "      <td>8</td>\n",
              "      <td>32</td>\n",
              "      <td>40</td>\n",
              "      <td>1</td>\n",
              "      <td>January</td>\n",
              "    </tr>\n",
              "    <tr>\n",
              "      <th>3</th>\n",
              "      <td>2011-01-01</td>\n",
              "      <td>1</td>\n",
              "      <td>0</td>\n",
              "      <td>1</td>\n",
              "      <td>2</td>\n",
              "      <td>0</td>\n",
              "      <td>Saturday</td>\n",
              "      <td>0</td>\n",
              "      <td>1</td>\n",
              "      <td>0.22</td>\n",
              "      <td>0.2727</td>\n",
              "      <td>0.80</td>\n",
              "      <td>0.0000</td>\n",
              "      <td>5</td>\n",
              "      <td>27</td>\n",
              "      <td>32</td>\n",
              "      <td>1</td>\n",
              "      <td>January</td>\n",
              "    </tr>\n",
              "    <tr>\n",
              "      <th>4</th>\n",
              "      <td>2011-01-01</td>\n",
              "      <td>1</td>\n",
              "      <td>0</td>\n",
              "      <td>1</td>\n",
              "      <td>3</td>\n",
              "      <td>0</td>\n",
              "      <td>Saturday</td>\n",
              "      <td>0</td>\n",
              "      <td>1</td>\n",
              "      <td>0.24</td>\n",
              "      <td>0.2879</td>\n",
              "      <td>0.75</td>\n",
              "      <td>0.0000</td>\n",
              "      <td>3</td>\n",
              "      <td>10</td>\n",
              "      <td>13</td>\n",
              "      <td>1</td>\n",
              "      <td>January</td>\n",
              "    </tr>\n",
              "    <tr>\n",
              "      <th>5</th>\n",
              "      <td>2011-01-01</td>\n",
              "      <td>1</td>\n",
              "      <td>0</td>\n",
              "      <td>1</td>\n",
              "      <td>4</td>\n",
              "      <td>0</td>\n",
              "      <td>Saturday</td>\n",
              "      <td>0</td>\n",
              "      <td>1</td>\n",
              "      <td>0.24</td>\n",
              "      <td>0.2879</td>\n",
              "      <td>0.75</td>\n",
              "      <td>0.0000</td>\n",
              "      <td>0</td>\n",
              "      <td>1</td>\n",
              "      <td>1</td>\n",
              "      <td>1</td>\n",
              "      <td>January</td>\n",
              "    </tr>\n",
              "    <tr>\n",
              "      <th>...</th>\n",
              "      <td>...</td>\n",
              "      <td>...</td>\n",
              "      <td>...</td>\n",
              "      <td>...</td>\n",
              "      <td>...</td>\n",
              "      <td>...</td>\n",
              "      <td>...</td>\n",
              "      <td>...</td>\n",
              "      <td>...</td>\n",
              "      <td>...</td>\n",
              "      <td>...</td>\n",
              "      <td>...</td>\n",
              "      <td>...</td>\n",
              "      <td>...</td>\n",
              "      <td>...</td>\n",
              "      <td>...</td>\n",
              "      <td>...</td>\n",
              "      <td>...</td>\n",
              "    </tr>\n",
              "    <tr>\n",
              "      <th>17375</th>\n",
              "      <td>2012-12-31</td>\n",
              "      <td>1</td>\n",
              "      <td>1</td>\n",
              "      <td>12</td>\n",
              "      <td>19</td>\n",
              "      <td>0</td>\n",
              "      <td>Monday</td>\n",
              "      <td>1</td>\n",
              "      <td>2</td>\n",
              "      <td>0.26</td>\n",
              "      <td>0.2576</td>\n",
              "      <td>0.60</td>\n",
              "      <td>0.1642</td>\n",
              "      <td>11</td>\n",
              "      <td>108</td>\n",
              "      <td>119</td>\n",
              "      <td>31</td>\n",
              "      <td>December</td>\n",
              "    </tr>\n",
              "    <tr>\n",
              "      <th>17376</th>\n",
              "      <td>2012-12-31</td>\n",
              "      <td>1</td>\n",
              "      <td>1</td>\n",
              "      <td>12</td>\n",
              "      <td>20</td>\n",
              "      <td>0</td>\n",
              "      <td>Monday</td>\n",
              "      <td>1</td>\n",
              "      <td>2</td>\n",
              "      <td>0.26</td>\n",
              "      <td>0.2576</td>\n",
              "      <td>0.60</td>\n",
              "      <td>0.1642</td>\n",
              "      <td>8</td>\n",
              "      <td>81</td>\n",
              "      <td>89</td>\n",
              "      <td>31</td>\n",
              "      <td>December</td>\n",
              "    </tr>\n",
              "    <tr>\n",
              "      <th>17377</th>\n",
              "      <td>2012-12-31</td>\n",
              "      <td>1</td>\n",
              "      <td>1</td>\n",
              "      <td>12</td>\n",
              "      <td>21</td>\n",
              "      <td>0</td>\n",
              "      <td>Monday</td>\n",
              "      <td>1</td>\n",
              "      <td>1</td>\n",
              "      <td>0.26</td>\n",
              "      <td>0.2576</td>\n",
              "      <td>0.60</td>\n",
              "      <td>0.1642</td>\n",
              "      <td>7</td>\n",
              "      <td>83</td>\n",
              "      <td>90</td>\n",
              "      <td>31</td>\n",
              "      <td>December</td>\n",
              "    </tr>\n",
              "    <tr>\n",
              "      <th>17378</th>\n",
              "      <td>2012-12-31</td>\n",
              "      <td>1</td>\n",
              "      <td>1</td>\n",
              "      <td>12</td>\n",
              "      <td>22</td>\n",
              "      <td>0</td>\n",
              "      <td>Monday</td>\n",
              "      <td>1</td>\n",
              "      <td>1</td>\n",
              "      <td>0.26</td>\n",
              "      <td>0.2727</td>\n",
              "      <td>0.56</td>\n",
              "      <td>0.1343</td>\n",
              "      <td>13</td>\n",
              "      <td>48</td>\n",
              "      <td>61</td>\n",
              "      <td>31</td>\n",
              "      <td>December</td>\n",
              "    </tr>\n",
              "    <tr>\n",
              "      <th>17379</th>\n",
              "      <td>2012-12-31</td>\n",
              "      <td>1</td>\n",
              "      <td>1</td>\n",
              "      <td>12</td>\n",
              "      <td>23</td>\n",
              "      <td>0</td>\n",
              "      <td>Monday</td>\n",
              "      <td>1</td>\n",
              "      <td>1</td>\n",
              "      <td>0.26</td>\n",
              "      <td>0.2727</td>\n",
              "      <td>0.65</td>\n",
              "      <td>0.1343</td>\n",
              "      <td>12</td>\n",
              "      <td>37</td>\n",
              "      <td>49</td>\n",
              "      <td>31</td>\n",
              "      <td>December</td>\n",
              "    </tr>\n",
              "  </tbody>\n",
              "</table>\n",
              "<p>17379 rows × 18 columns</p>\n",
              "</div>"
            ],
            "text/plain": [
              "            dteday  season  yr  mnth  ...  registered  cnt day     month\n",
              "instant                               ...                               \n",
              "1       2011-01-01       1   0     1  ...          13   16   1   January\n",
              "2       2011-01-01       1   0     1  ...          32   40   1   January\n",
              "3       2011-01-01       1   0     1  ...          27   32   1   January\n",
              "4       2011-01-01       1   0     1  ...          10   13   1   January\n",
              "5       2011-01-01       1   0     1  ...           1    1   1   January\n",
              "...            ...     ...  ..   ...  ...         ...  ...  ..       ...\n",
              "17375   2012-12-31       1   1    12  ...         108  119  31  December\n",
              "17376   2012-12-31       1   1    12  ...          81   89  31  December\n",
              "17377   2012-12-31       1   1    12  ...          83   90  31  December\n",
              "17378   2012-12-31       1   1    12  ...          48   61  31  December\n",
              "17379   2012-12-31       1   1    12  ...          37   49  31  December\n",
              "\n",
              "[17379 rows x 18 columns]"
            ]
          },
          "metadata": {
            "tags": []
          },
          "execution_count": 14
        }
      ]
    },
    {
      "cell_type": "code",
      "metadata": {
        "colab": {
          "base_uri": "https://localhost:8080/"
        },
        "id": "E0ozrD7Nyk_d",
        "outputId": "967af0a7-44ed-4aa4-ca49-46ec07529f60"
      },
      "source": [
        "df_hour.shape"
      ],
      "execution_count": null,
      "outputs": [
        {
          "output_type": "execute_result",
          "data": {
            "text/plain": [
              "(17379, 18)"
            ]
          },
          "metadata": {
            "tags": []
          },
          "execution_count": 15
        }
      ]
    },
    {
      "cell_type": "code",
      "metadata": {
        "colab": {
          "base_uri": "https://localhost:8080/"
        },
        "id": "LwTP_QSXyoNd",
        "outputId": "8f87bcca-10d3-4e4f-f5b7-d63b887ca2b3"
      },
      "source": [
        "df_hour.columns"
      ],
      "execution_count": null,
      "outputs": [
        {
          "output_type": "execute_result",
          "data": {
            "text/plain": [
              "Index(['dteday', 'season', 'yr', 'mnth', 'hr', 'holiday', 'weekday',\n",
              "       'workingday', 'weathersit', 'temp', 'atemp', 'hum', 'windspeed',\n",
              "       'casual', 'registered', 'cnt', 'day', 'month'],\n",
              "      dtype='object')"
            ]
          },
          "metadata": {
            "tags": []
          },
          "execution_count": 16
        }
      ]
    },
    {
      "cell_type": "code",
      "metadata": {
        "colab": {
          "base_uri": "https://localhost:8080/"
        },
        "id": "xOBGqV1myr_q",
        "outputId": "698cd56f-92ee-4623-b21f-3314a62fb89d"
      },
      "source": [
        "df_hour.dtypes"
      ],
      "execution_count": null,
      "outputs": [
        {
          "output_type": "execute_result",
          "data": {
            "text/plain": [
              "dteday        datetime64[ns]\n",
              "season                 int64\n",
              "yr                     int64\n",
              "mnth                   int64\n",
              "hr                     int64\n",
              "holiday                int64\n",
              "weekday               object\n",
              "workingday             int64\n",
              "weathersit             int64\n",
              "temp                 float64\n",
              "atemp                float64\n",
              "hum                  float64\n",
              "windspeed            float64\n",
              "casual                 int64\n",
              "registered             int64\n",
              "cnt                    int64\n",
              "day                    int64\n",
              "month                 object\n",
              "dtype: object"
            ]
          },
          "metadata": {
            "tags": []
          },
          "execution_count": 17
        }
      ]
    },
    {
      "cell_type": "code",
      "metadata": {
        "colab": {
          "base_uri": "https://localhost:8080/"
        },
        "id": "8e0wrhf7y68b",
        "outputId": "78139470-a2c7-403e-a167-cdeb06d7df35"
      },
      "source": [
        "df_hour.describe"
      ],
      "execution_count": null,
      "outputs": [
        {
          "output_type": "execute_result",
          "data": {
            "text/plain": [
              "<bound method NDFrame.describe of             dteday  season  yr  mnth  ...  registered  cnt day     month\n",
              "instant                               ...                               \n",
              "1       2011-01-01       1   0     1  ...          13   16   1   January\n",
              "2       2011-01-01       1   0     1  ...          32   40   1   January\n",
              "3       2011-01-01       1   0     1  ...          27   32   1   January\n",
              "4       2011-01-01       1   0     1  ...          10   13   1   January\n",
              "5       2011-01-01       1   0     1  ...           1    1   1   January\n",
              "...            ...     ...  ..   ...  ...         ...  ...  ..       ...\n",
              "17375   2012-12-31       1   1    12  ...         108  119  31  December\n",
              "17376   2012-12-31       1   1    12  ...          81   89  31  December\n",
              "17377   2012-12-31       1   1    12  ...          83   90  31  December\n",
              "17378   2012-12-31       1   1    12  ...          48   61  31  December\n",
              "17379   2012-12-31       1   1    12  ...          37   49  31  December\n",
              "\n",
              "[17379 rows x 18 columns]>"
            ]
          },
          "metadata": {
            "tags": []
          },
          "execution_count": 18
        }
      ]
    },
    {
      "cell_type": "code",
      "metadata": {
        "colab": {
          "base_uri": "https://localhost:8080/"
        },
        "id": "X4CqavsfOdYP",
        "outputId": "e027e444-0761-45b5-9035-fb4e4a3a4db9"
      },
      "source": [
        "df_hour.isnull().all()\n"
      ],
      "execution_count": null,
      "outputs": [
        {
          "output_type": "execute_result",
          "data": {
            "text/plain": [
              "dteday        False\n",
              "season        False\n",
              "yr            False\n",
              "mnth          False\n",
              "hr            False\n",
              "holiday       False\n",
              "weekday       False\n",
              "workingday    False\n",
              "weathersit    False\n",
              "temp          False\n",
              "atemp         False\n",
              "hum           False\n",
              "windspeed     False\n",
              "casual        False\n",
              "registered    False\n",
              "cnt           False\n",
              "day           False\n",
              "month         False\n",
              "dtype: bool"
            ]
          },
          "metadata": {
            "tags": []
          },
          "execution_count": 19
        }
      ]
    },
    {
      "cell_type": "code",
      "metadata": {
        "colab": {
          "base_uri": "https://localhost:8080/",
          "height": 454
        },
        "id": "5NiVKyrkjWp0",
        "outputId": "988de149-cbb4-4e0c-aad7-5263c2d3941e"
      },
      "source": [
        "df_hour.dteday = pd.to_datetime(df_hour.dteday)\n",
        "df_hour.loc[:,'day'] = df_hour.dteday.dt.day\n",
        "df_hour.loc[:,'weekday'] = df_hour.dteday.dt.day_name()\n",
        "df_hour.loc[:,'month'] = df_hour.dteday.dt.month_name()\n",
        "\n",
        "df_hour"
      ],
      "execution_count": null,
      "outputs": [
        {
          "output_type": "execute_result",
          "data": {
            "text/html": [
              "<div>\n",
              "<style scoped>\n",
              "    .dataframe tbody tr th:only-of-type {\n",
              "        vertical-align: middle;\n",
              "    }\n",
              "\n",
              "    .dataframe tbody tr th {\n",
              "        vertical-align: top;\n",
              "    }\n",
              "\n",
              "    .dataframe thead th {\n",
              "        text-align: right;\n",
              "    }\n",
              "</style>\n",
              "<table border=\"1\" class=\"dataframe\">\n",
              "  <thead>\n",
              "    <tr style=\"text-align: right;\">\n",
              "      <th></th>\n",
              "      <th>dteday</th>\n",
              "      <th>season</th>\n",
              "      <th>yr</th>\n",
              "      <th>mnth</th>\n",
              "      <th>hr</th>\n",
              "      <th>holiday</th>\n",
              "      <th>weekday</th>\n",
              "      <th>workingday</th>\n",
              "      <th>weathersit</th>\n",
              "      <th>temp</th>\n",
              "      <th>atemp</th>\n",
              "      <th>hum</th>\n",
              "      <th>windspeed</th>\n",
              "      <th>casual</th>\n",
              "      <th>registered</th>\n",
              "      <th>cnt</th>\n",
              "      <th>day</th>\n",
              "      <th>month</th>\n",
              "    </tr>\n",
              "    <tr>\n",
              "      <th>instant</th>\n",
              "      <th></th>\n",
              "      <th></th>\n",
              "      <th></th>\n",
              "      <th></th>\n",
              "      <th></th>\n",
              "      <th></th>\n",
              "      <th></th>\n",
              "      <th></th>\n",
              "      <th></th>\n",
              "      <th></th>\n",
              "      <th></th>\n",
              "      <th></th>\n",
              "      <th></th>\n",
              "      <th></th>\n",
              "      <th></th>\n",
              "      <th></th>\n",
              "      <th></th>\n",
              "      <th></th>\n",
              "    </tr>\n",
              "  </thead>\n",
              "  <tbody>\n",
              "    <tr>\n",
              "      <th>1</th>\n",
              "      <td>2011-01-01</td>\n",
              "      <td>1</td>\n",
              "      <td>0</td>\n",
              "      <td>1</td>\n",
              "      <td>0</td>\n",
              "      <td>0</td>\n",
              "      <td>Saturday</td>\n",
              "      <td>0</td>\n",
              "      <td>1</td>\n",
              "      <td>0.24</td>\n",
              "      <td>0.2879</td>\n",
              "      <td>0.81</td>\n",
              "      <td>0.0000</td>\n",
              "      <td>3</td>\n",
              "      <td>13</td>\n",
              "      <td>16</td>\n",
              "      <td>1</td>\n",
              "      <td>January</td>\n",
              "    </tr>\n",
              "    <tr>\n",
              "      <th>2</th>\n",
              "      <td>2011-01-01</td>\n",
              "      <td>1</td>\n",
              "      <td>0</td>\n",
              "      <td>1</td>\n",
              "      <td>1</td>\n",
              "      <td>0</td>\n",
              "      <td>Saturday</td>\n",
              "      <td>0</td>\n",
              "      <td>1</td>\n",
              "      <td>0.22</td>\n",
              "      <td>0.2727</td>\n",
              "      <td>0.80</td>\n",
              "      <td>0.0000</td>\n",
              "      <td>8</td>\n",
              "      <td>32</td>\n",
              "      <td>40</td>\n",
              "      <td>1</td>\n",
              "      <td>January</td>\n",
              "    </tr>\n",
              "    <tr>\n",
              "      <th>3</th>\n",
              "      <td>2011-01-01</td>\n",
              "      <td>1</td>\n",
              "      <td>0</td>\n",
              "      <td>1</td>\n",
              "      <td>2</td>\n",
              "      <td>0</td>\n",
              "      <td>Saturday</td>\n",
              "      <td>0</td>\n",
              "      <td>1</td>\n",
              "      <td>0.22</td>\n",
              "      <td>0.2727</td>\n",
              "      <td>0.80</td>\n",
              "      <td>0.0000</td>\n",
              "      <td>5</td>\n",
              "      <td>27</td>\n",
              "      <td>32</td>\n",
              "      <td>1</td>\n",
              "      <td>January</td>\n",
              "    </tr>\n",
              "    <tr>\n",
              "      <th>4</th>\n",
              "      <td>2011-01-01</td>\n",
              "      <td>1</td>\n",
              "      <td>0</td>\n",
              "      <td>1</td>\n",
              "      <td>3</td>\n",
              "      <td>0</td>\n",
              "      <td>Saturday</td>\n",
              "      <td>0</td>\n",
              "      <td>1</td>\n",
              "      <td>0.24</td>\n",
              "      <td>0.2879</td>\n",
              "      <td>0.75</td>\n",
              "      <td>0.0000</td>\n",
              "      <td>3</td>\n",
              "      <td>10</td>\n",
              "      <td>13</td>\n",
              "      <td>1</td>\n",
              "      <td>January</td>\n",
              "    </tr>\n",
              "    <tr>\n",
              "      <th>5</th>\n",
              "      <td>2011-01-01</td>\n",
              "      <td>1</td>\n",
              "      <td>0</td>\n",
              "      <td>1</td>\n",
              "      <td>4</td>\n",
              "      <td>0</td>\n",
              "      <td>Saturday</td>\n",
              "      <td>0</td>\n",
              "      <td>1</td>\n",
              "      <td>0.24</td>\n",
              "      <td>0.2879</td>\n",
              "      <td>0.75</td>\n",
              "      <td>0.0000</td>\n",
              "      <td>0</td>\n",
              "      <td>1</td>\n",
              "      <td>1</td>\n",
              "      <td>1</td>\n",
              "      <td>January</td>\n",
              "    </tr>\n",
              "    <tr>\n",
              "      <th>...</th>\n",
              "      <td>...</td>\n",
              "      <td>...</td>\n",
              "      <td>...</td>\n",
              "      <td>...</td>\n",
              "      <td>...</td>\n",
              "      <td>...</td>\n",
              "      <td>...</td>\n",
              "      <td>...</td>\n",
              "      <td>...</td>\n",
              "      <td>...</td>\n",
              "      <td>...</td>\n",
              "      <td>...</td>\n",
              "      <td>...</td>\n",
              "      <td>...</td>\n",
              "      <td>...</td>\n",
              "      <td>...</td>\n",
              "      <td>...</td>\n",
              "      <td>...</td>\n",
              "    </tr>\n",
              "    <tr>\n",
              "      <th>17375</th>\n",
              "      <td>2012-12-31</td>\n",
              "      <td>1</td>\n",
              "      <td>1</td>\n",
              "      <td>12</td>\n",
              "      <td>19</td>\n",
              "      <td>0</td>\n",
              "      <td>Monday</td>\n",
              "      <td>1</td>\n",
              "      <td>2</td>\n",
              "      <td>0.26</td>\n",
              "      <td>0.2576</td>\n",
              "      <td>0.60</td>\n",
              "      <td>0.1642</td>\n",
              "      <td>11</td>\n",
              "      <td>108</td>\n",
              "      <td>119</td>\n",
              "      <td>31</td>\n",
              "      <td>December</td>\n",
              "    </tr>\n",
              "    <tr>\n",
              "      <th>17376</th>\n",
              "      <td>2012-12-31</td>\n",
              "      <td>1</td>\n",
              "      <td>1</td>\n",
              "      <td>12</td>\n",
              "      <td>20</td>\n",
              "      <td>0</td>\n",
              "      <td>Monday</td>\n",
              "      <td>1</td>\n",
              "      <td>2</td>\n",
              "      <td>0.26</td>\n",
              "      <td>0.2576</td>\n",
              "      <td>0.60</td>\n",
              "      <td>0.1642</td>\n",
              "      <td>8</td>\n",
              "      <td>81</td>\n",
              "      <td>89</td>\n",
              "      <td>31</td>\n",
              "      <td>December</td>\n",
              "    </tr>\n",
              "    <tr>\n",
              "      <th>17377</th>\n",
              "      <td>2012-12-31</td>\n",
              "      <td>1</td>\n",
              "      <td>1</td>\n",
              "      <td>12</td>\n",
              "      <td>21</td>\n",
              "      <td>0</td>\n",
              "      <td>Monday</td>\n",
              "      <td>1</td>\n",
              "      <td>1</td>\n",
              "      <td>0.26</td>\n",
              "      <td>0.2576</td>\n",
              "      <td>0.60</td>\n",
              "      <td>0.1642</td>\n",
              "      <td>7</td>\n",
              "      <td>83</td>\n",
              "      <td>90</td>\n",
              "      <td>31</td>\n",
              "      <td>December</td>\n",
              "    </tr>\n",
              "    <tr>\n",
              "      <th>17378</th>\n",
              "      <td>2012-12-31</td>\n",
              "      <td>1</td>\n",
              "      <td>1</td>\n",
              "      <td>12</td>\n",
              "      <td>22</td>\n",
              "      <td>0</td>\n",
              "      <td>Monday</td>\n",
              "      <td>1</td>\n",
              "      <td>1</td>\n",
              "      <td>0.26</td>\n",
              "      <td>0.2727</td>\n",
              "      <td>0.56</td>\n",
              "      <td>0.1343</td>\n",
              "      <td>13</td>\n",
              "      <td>48</td>\n",
              "      <td>61</td>\n",
              "      <td>31</td>\n",
              "      <td>December</td>\n",
              "    </tr>\n",
              "    <tr>\n",
              "      <th>17379</th>\n",
              "      <td>2012-12-31</td>\n",
              "      <td>1</td>\n",
              "      <td>1</td>\n",
              "      <td>12</td>\n",
              "      <td>23</td>\n",
              "      <td>0</td>\n",
              "      <td>Monday</td>\n",
              "      <td>1</td>\n",
              "      <td>1</td>\n",
              "      <td>0.26</td>\n",
              "      <td>0.2727</td>\n",
              "      <td>0.65</td>\n",
              "      <td>0.1343</td>\n",
              "      <td>12</td>\n",
              "      <td>37</td>\n",
              "      <td>49</td>\n",
              "      <td>31</td>\n",
              "      <td>December</td>\n",
              "    </tr>\n",
              "  </tbody>\n",
              "</table>\n",
              "<p>17379 rows × 18 columns</p>\n",
              "</div>"
            ],
            "text/plain": [
              "            dteday  season  yr  mnth  ...  registered  cnt day     month\n",
              "instant                               ...                               \n",
              "1       2011-01-01       1   0     1  ...          13   16   1   January\n",
              "2       2011-01-01       1   0     1  ...          32   40   1   January\n",
              "3       2011-01-01       1   0     1  ...          27   32   1   January\n",
              "4       2011-01-01       1   0     1  ...          10   13   1   January\n",
              "5       2011-01-01       1   0     1  ...           1    1   1   January\n",
              "...            ...     ...  ..   ...  ...         ...  ...  ..       ...\n",
              "17375   2012-12-31       1   1    12  ...         108  119  31  December\n",
              "17376   2012-12-31       1   1    12  ...          81   89  31  December\n",
              "17377   2012-12-31       1   1    12  ...          83   90  31  December\n",
              "17378   2012-12-31       1   1    12  ...          48   61  31  December\n",
              "17379   2012-12-31       1   1    12  ...          37   49  31  December\n",
              "\n",
              "[17379 rows x 18 columns]"
            ]
          },
          "metadata": {
            "tags": []
          },
          "execution_count": 20
        }
      ]
    },
    {
      "cell_type": "code",
      "metadata": {
        "id": "BPfB8HAY3aXs"
      },
      "source": [
        "df_hour.loc[df_hour['holiday'] == 0, 'holiday'] = 'No'\n",
        "df_hour.loc[df_hour['holiday'] == 1, 'holiday'] = 'Yes'"
      ],
      "execution_count": null,
      "outputs": []
    },
    {
      "cell_type": "code",
      "metadata": {
        "id": "Ka8_j84f6E3k"
      },
      "source": [
        "#Categorical\n",
        "df_hour.loc[df_hour['season'] == 1, 'season'] = 'Winter'\n",
        "df_hour.loc[df_hour['season'] == 2, 'season'] = 'Spring'\n",
        "df_hour.loc[df_hour['season'] == 3, 'season'] = 'Summer'\n",
        "df_hour.loc[df_hour['season'] == 4, 'season'] = 'Fall'"
      ],
      "execution_count": null,
      "outputs": []
    },
    {
      "cell_type": "code",
      "metadata": {
        "id": "YffwOY248maM"
      },
      "source": [
        "df_hour.loc[df_hour['holiday'] == 0, 'holiday'] = 'No'\n",
        "df_hour.loc[df_hour['holiday'] == 1, 'holiday'] = 'Yes'\n"
      ],
      "execution_count": null,
      "outputs": []
    },
    {
      "cell_type": "code",
      "metadata": {
        "id": "_guBC6sx8ebM"
      },
      "source": [
        "df_hour.loc[df_hour['workingday'] == 0, 'workingday'] = 'No'\n",
        "df_hour.loc[df_hour['workingday'] == 1, 'workingday'] = 'Yes'"
      ],
      "execution_count": null,
      "outputs": []
    },
    {
      "cell_type": "code",
      "metadata": {
        "id": "xd89cpas88pv"
      },
      "source": [
        "#Categorical\n",
        "df_hour.loc[df_hour['weekday'] == 0, 'weekday'] = 'Sunday'\n",
        "df_hour.loc[df_hour['weekday'] == 1, 'weekday'] = 'Monday'\n",
        "df_hour.loc[df_hour['weekday'] == 2, 'weekday'] = 'Tuesday'\n",
        "df_hour.loc[df_hour['weekday'] == 3, 'weekday'] = 'Wendesday'\n",
        "df_hour.loc[df_hour['weekday'] == 4, 'weekday'] = 'Thursday'\n",
        "df_hour.loc[df_hour['weekday'] == 5, 'weekday'] = 'Friday'\n",
        "df_hour.loc[df_hour['weekday'] == 6, 'weekday'] = 'Saturday'\n"
      ],
      "execution_count": null,
      "outputs": []
    },
    {
      "cell_type": "code",
      "metadata": {
        "id": "GKoLnt7pSI7S"
      },
      "source": [
        "#Categorical\n",
        "df_hour.loc[df_hour['mnth'] == 1, 'month'] = 'Jan'\n",
        "df_hour.loc[df_hour['mnth'] == 2, 'month'] = 'Feb'\n",
        "df_hour.loc[df_hour['mnth'] == 3, 'month'] = 'Mar'\n",
        "df_hour.loc[df_hour['mnth'] == 4, 'month'] = 'Apr'\n",
        "df_hour.loc[df_hour['mnth'] == 5, 'month'] = 'May'\n",
        "df_hour.loc[df_hour['mnth'] == 6, 'month'] = 'Jun'\n",
        "df_hour.loc[df_hour['mnth'] == 7, 'month'] = 'Jul'\n",
        "df_hour.loc[df_hour['mnth'] == 8, 'month'] = 'Aug'\n",
        "df_hour.loc[df_hour['mnth'] == 9, 'month'] = 'Sep'\n",
        "df_hour.loc[df_hour['mnth'] == 10, 'month'] = 'Okt'\n",
        "df_hour.loc[df_hour['mnth'] == 11, 'month'] = 'Nov'\n",
        "df_hour.loc[df_hour['mnth'] == 12, 'month'] = 'Dez'"
      ],
      "execution_count": null,
      "outputs": []
    },
    {
      "cell_type": "code",
      "metadata": {
        "id": "c36oXFQszslI"
      },
      "source": [
        "df_hour.weekday = df_hour.weekday.astype('category')\n",
        "df_hour.season = df_hour.season.astype('category')       \n",
        "df_hour.holiday = df_hour.holiday.astype('category')\n",
        "df_hour.workingday = df_hour.workingday.astype('category')\n",
        "df_hour.mnth = df_hour.mnth.astype('category')\n",
        "df_hour.hr = df_hour.hr.astype('category')\n",
        "df_hour.yr = df_hour.yr.astype('category')"
      ],
      "execution_count": null,
      "outputs": []
    },
    {
      "cell_type": "code",
      "metadata": {
        "id": "zpHhrTpTcDT1"
      },
      "source": [
        ""
      ],
      "execution_count": null,
      "outputs": []
    },
    {
      "cell_type": "code",
      "metadata": {
        "colab": {
          "base_uri": "https://localhost:8080/",
          "height": 454
        },
        "id": "MP5wb1jCyeS9",
        "outputId": "8bc2da9b-b441-4a52-eacb-a79bb71d55cd"
      },
      "source": [
        "df_hour\n"
      ],
      "execution_count": null,
      "outputs": [
        {
          "output_type": "execute_result",
          "data": {
            "text/html": [
              "<div>\n",
              "<style scoped>\n",
              "    .dataframe tbody tr th:only-of-type {\n",
              "        vertical-align: middle;\n",
              "    }\n",
              "\n",
              "    .dataframe tbody tr th {\n",
              "        vertical-align: top;\n",
              "    }\n",
              "\n",
              "    .dataframe thead th {\n",
              "        text-align: right;\n",
              "    }\n",
              "</style>\n",
              "<table border=\"1\" class=\"dataframe\">\n",
              "  <thead>\n",
              "    <tr style=\"text-align: right;\">\n",
              "      <th></th>\n",
              "      <th>dteday</th>\n",
              "      <th>season</th>\n",
              "      <th>yr</th>\n",
              "      <th>mnth</th>\n",
              "      <th>hr</th>\n",
              "      <th>holiday</th>\n",
              "      <th>weekday</th>\n",
              "      <th>workingday</th>\n",
              "      <th>weathersit</th>\n",
              "      <th>temp</th>\n",
              "      <th>atemp</th>\n",
              "      <th>hum</th>\n",
              "      <th>windspeed</th>\n",
              "      <th>casual</th>\n",
              "      <th>registered</th>\n",
              "      <th>cnt</th>\n",
              "      <th>day</th>\n",
              "      <th>month</th>\n",
              "    </tr>\n",
              "    <tr>\n",
              "      <th>instant</th>\n",
              "      <th></th>\n",
              "      <th></th>\n",
              "      <th></th>\n",
              "      <th></th>\n",
              "      <th></th>\n",
              "      <th></th>\n",
              "      <th></th>\n",
              "      <th></th>\n",
              "      <th></th>\n",
              "      <th></th>\n",
              "      <th></th>\n",
              "      <th></th>\n",
              "      <th></th>\n",
              "      <th></th>\n",
              "      <th></th>\n",
              "      <th></th>\n",
              "      <th></th>\n",
              "      <th></th>\n",
              "    </tr>\n",
              "  </thead>\n",
              "  <tbody>\n",
              "    <tr>\n",
              "      <th>1</th>\n",
              "      <td>2011-01-01</td>\n",
              "      <td>Winter</td>\n",
              "      <td>0</td>\n",
              "      <td>1</td>\n",
              "      <td>0</td>\n",
              "      <td>No</td>\n",
              "      <td>Saturday</td>\n",
              "      <td>No</td>\n",
              "      <td>1</td>\n",
              "      <td>0.24</td>\n",
              "      <td>0.2879</td>\n",
              "      <td>0.81</td>\n",
              "      <td>0.0000</td>\n",
              "      <td>3</td>\n",
              "      <td>13</td>\n",
              "      <td>16</td>\n",
              "      <td>1</td>\n",
              "      <td>Jan</td>\n",
              "    </tr>\n",
              "    <tr>\n",
              "      <th>2</th>\n",
              "      <td>2011-01-01</td>\n",
              "      <td>Winter</td>\n",
              "      <td>0</td>\n",
              "      <td>1</td>\n",
              "      <td>1</td>\n",
              "      <td>No</td>\n",
              "      <td>Saturday</td>\n",
              "      <td>No</td>\n",
              "      <td>1</td>\n",
              "      <td>0.22</td>\n",
              "      <td>0.2727</td>\n",
              "      <td>0.80</td>\n",
              "      <td>0.0000</td>\n",
              "      <td>8</td>\n",
              "      <td>32</td>\n",
              "      <td>40</td>\n",
              "      <td>1</td>\n",
              "      <td>Jan</td>\n",
              "    </tr>\n",
              "    <tr>\n",
              "      <th>3</th>\n",
              "      <td>2011-01-01</td>\n",
              "      <td>Winter</td>\n",
              "      <td>0</td>\n",
              "      <td>1</td>\n",
              "      <td>2</td>\n",
              "      <td>No</td>\n",
              "      <td>Saturday</td>\n",
              "      <td>No</td>\n",
              "      <td>1</td>\n",
              "      <td>0.22</td>\n",
              "      <td>0.2727</td>\n",
              "      <td>0.80</td>\n",
              "      <td>0.0000</td>\n",
              "      <td>5</td>\n",
              "      <td>27</td>\n",
              "      <td>32</td>\n",
              "      <td>1</td>\n",
              "      <td>Jan</td>\n",
              "    </tr>\n",
              "    <tr>\n",
              "      <th>4</th>\n",
              "      <td>2011-01-01</td>\n",
              "      <td>Winter</td>\n",
              "      <td>0</td>\n",
              "      <td>1</td>\n",
              "      <td>3</td>\n",
              "      <td>No</td>\n",
              "      <td>Saturday</td>\n",
              "      <td>No</td>\n",
              "      <td>1</td>\n",
              "      <td>0.24</td>\n",
              "      <td>0.2879</td>\n",
              "      <td>0.75</td>\n",
              "      <td>0.0000</td>\n",
              "      <td>3</td>\n",
              "      <td>10</td>\n",
              "      <td>13</td>\n",
              "      <td>1</td>\n",
              "      <td>Jan</td>\n",
              "    </tr>\n",
              "    <tr>\n",
              "      <th>5</th>\n",
              "      <td>2011-01-01</td>\n",
              "      <td>Winter</td>\n",
              "      <td>0</td>\n",
              "      <td>1</td>\n",
              "      <td>4</td>\n",
              "      <td>No</td>\n",
              "      <td>Saturday</td>\n",
              "      <td>No</td>\n",
              "      <td>1</td>\n",
              "      <td>0.24</td>\n",
              "      <td>0.2879</td>\n",
              "      <td>0.75</td>\n",
              "      <td>0.0000</td>\n",
              "      <td>0</td>\n",
              "      <td>1</td>\n",
              "      <td>1</td>\n",
              "      <td>1</td>\n",
              "      <td>Jan</td>\n",
              "    </tr>\n",
              "    <tr>\n",
              "      <th>...</th>\n",
              "      <td>...</td>\n",
              "      <td>...</td>\n",
              "      <td>...</td>\n",
              "      <td>...</td>\n",
              "      <td>...</td>\n",
              "      <td>...</td>\n",
              "      <td>...</td>\n",
              "      <td>...</td>\n",
              "      <td>...</td>\n",
              "      <td>...</td>\n",
              "      <td>...</td>\n",
              "      <td>...</td>\n",
              "      <td>...</td>\n",
              "      <td>...</td>\n",
              "      <td>...</td>\n",
              "      <td>...</td>\n",
              "      <td>...</td>\n",
              "      <td>...</td>\n",
              "    </tr>\n",
              "    <tr>\n",
              "      <th>17375</th>\n",
              "      <td>2012-12-31</td>\n",
              "      <td>Winter</td>\n",
              "      <td>1</td>\n",
              "      <td>12</td>\n",
              "      <td>19</td>\n",
              "      <td>No</td>\n",
              "      <td>Monday</td>\n",
              "      <td>Yes</td>\n",
              "      <td>2</td>\n",
              "      <td>0.26</td>\n",
              "      <td>0.2576</td>\n",
              "      <td>0.60</td>\n",
              "      <td>0.1642</td>\n",
              "      <td>11</td>\n",
              "      <td>108</td>\n",
              "      <td>119</td>\n",
              "      <td>31</td>\n",
              "      <td>Dez</td>\n",
              "    </tr>\n",
              "    <tr>\n",
              "      <th>17376</th>\n",
              "      <td>2012-12-31</td>\n",
              "      <td>Winter</td>\n",
              "      <td>1</td>\n",
              "      <td>12</td>\n",
              "      <td>20</td>\n",
              "      <td>No</td>\n",
              "      <td>Monday</td>\n",
              "      <td>Yes</td>\n",
              "      <td>2</td>\n",
              "      <td>0.26</td>\n",
              "      <td>0.2576</td>\n",
              "      <td>0.60</td>\n",
              "      <td>0.1642</td>\n",
              "      <td>8</td>\n",
              "      <td>81</td>\n",
              "      <td>89</td>\n",
              "      <td>31</td>\n",
              "      <td>Dez</td>\n",
              "    </tr>\n",
              "    <tr>\n",
              "      <th>17377</th>\n",
              "      <td>2012-12-31</td>\n",
              "      <td>Winter</td>\n",
              "      <td>1</td>\n",
              "      <td>12</td>\n",
              "      <td>21</td>\n",
              "      <td>No</td>\n",
              "      <td>Monday</td>\n",
              "      <td>Yes</td>\n",
              "      <td>1</td>\n",
              "      <td>0.26</td>\n",
              "      <td>0.2576</td>\n",
              "      <td>0.60</td>\n",
              "      <td>0.1642</td>\n",
              "      <td>7</td>\n",
              "      <td>83</td>\n",
              "      <td>90</td>\n",
              "      <td>31</td>\n",
              "      <td>Dez</td>\n",
              "    </tr>\n",
              "    <tr>\n",
              "      <th>17378</th>\n",
              "      <td>2012-12-31</td>\n",
              "      <td>Winter</td>\n",
              "      <td>1</td>\n",
              "      <td>12</td>\n",
              "      <td>22</td>\n",
              "      <td>No</td>\n",
              "      <td>Monday</td>\n",
              "      <td>Yes</td>\n",
              "      <td>1</td>\n",
              "      <td>0.26</td>\n",
              "      <td>0.2727</td>\n",
              "      <td>0.56</td>\n",
              "      <td>0.1343</td>\n",
              "      <td>13</td>\n",
              "      <td>48</td>\n",
              "      <td>61</td>\n",
              "      <td>31</td>\n",
              "      <td>Dez</td>\n",
              "    </tr>\n",
              "    <tr>\n",
              "      <th>17379</th>\n",
              "      <td>2012-12-31</td>\n",
              "      <td>Winter</td>\n",
              "      <td>1</td>\n",
              "      <td>12</td>\n",
              "      <td>23</td>\n",
              "      <td>No</td>\n",
              "      <td>Monday</td>\n",
              "      <td>Yes</td>\n",
              "      <td>1</td>\n",
              "      <td>0.26</td>\n",
              "      <td>0.2727</td>\n",
              "      <td>0.65</td>\n",
              "      <td>0.1343</td>\n",
              "      <td>12</td>\n",
              "      <td>37</td>\n",
              "      <td>49</td>\n",
              "      <td>31</td>\n",
              "      <td>Dez</td>\n",
              "    </tr>\n",
              "  </tbody>\n",
              "</table>\n",
              "<p>17379 rows × 18 columns</p>\n",
              "</div>"
            ],
            "text/plain": [
              "            dteday  season yr mnth  hr  ... casual registered  cnt  day  month\n",
              "instant                                 ...                                   \n",
              "1       2011-01-01  Winter  0    1   0  ...      3         13   16    1    Jan\n",
              "2       2011-01-01  Winter  0    1   1  ...      8         32   40    1    Jan\n",
              "3       2011-01-01  Winter  0    1   2  ...      5         27   32    1    Jan\n",
              "4       2011-01-01  Winter  0    1   3  ...      3         10   13    1    Jan\n",
              "5       2011-01-01  Winter  0    1   4  ...      0          1    1    1    Jan\n",
              "...            ...     ... ..  ...  ..  ...    ...        ...  ...  ...    ...\n",
              "17375   2012-12-31  Winter  1   12  19  ...     11        108  119   31    Dez\n",
              "17376   2012-12-31  Winter  1   12  20  ...      8         81   89   31    Dez\n",
              "17377   2012-12-31  Winter  1   12  21  ...      7         83   90   31    Dez\n",
              "17378   2012-12-31  Winter  1   12  22  ...     13         48   61   31    Dez\n",
              "17379   2012-12-31  Winter  1   12  23  ...     12         37   49   31    Dez\n",
              "\n",
              "[17379 rows x 18 columns]"
            ]
          },
          "metadata": {
            "tags": []
          },
          "execution_count": 28
        }
      ]
    },
    {
      "cell_type": "code",
      "metadata": {
        "colab": {
          "base_uri": "https://localhost:8080/",
          "height": 237
        },
        "id": "9wOkgXycPI2p",
        "outputId": "179ffb59-d85c-4b9d-c800-fd603c9670d1"
      },
      "source": [
        "df_hour.head()"
      ],
      "execution_count": null,
      "outputs": [
        {
          "output_type": "execute_result",
          "data": {
            "text/html": [
              "<div>\n",
              "<style scoped>\n",
              "    .dataframe tbody tr th:only-of-type {\n",
              "        vertical-align: middle;\n",
              "    }\n",
              "\n",
              "    .dataframe tbody tr th {\n",
              "        vertical-align: top;\n",
              "    }\n",
              "\n",
              "    .dataframe thead th {\n",
              "        text-align: right;\n",
              "    }\n",
              "</style>\n",
              "<table border=\"1\" class=\"dataframe\">\n",
              "  <thead>\n",
              "    <tr style=\"text-align: right;\">\n",
              "      <th></th>\n",
              "      <th>dteday</th>\n",
              "      <th>season</th>\n",
              "      <th>yr</th>\n",
              "      <th>mnth</th>\n",
              "      <th>hr</th>\n",
              "      <th>holiday</th>\n",
              "      <th>weekday</th>\n",
              "      <th>workingday</th>\n",
              "      <th>weathersit</th>\n",
              "      <th>temp</th>\n",
              "      <th>atemp</th>\n",
              "      <th>hum</th>\n",
              "      <th>windspeed</th>\n",
              "      <th>casual</th>\n",
              "      <th>registered</th>\n",
              "      <th>cnt</th>\n",
              "      <th>day</th>\n",
              "      <th>month</th>\n",
              "    </tr>\n",
              "    <tr>\n",
              "      <th>instant</th>\n",
              "      <th></th>\n",
              "      <th></th>\n",
              "      <th></th>\n",
              "      <th></th>\n",
              "      <th></th>\n",
              "      <th></th>\n",
              "      <th></th>\n",
              "      <th></th>\n",
              "      <th></th>\n",
              "      <th></th>\n",
              "      <th></th>\n",
              "      <th></th>\n",
              "      <th></th>\n",
              "      <th></th>\n",
              "      <th></th>\n",
              "      <th></th>\n",
              "      <th></th>\n",
              "      <th></th>\n",
              "    </tr>\n",
              "  </thead>\n",
              "  <tbody>\n",
              "    <tr>\n",
              "      <th>1</th>\n",
              "      <td>2011-01-01</td>\n",
              "      <td>Winter</td>\n",
              "      <td>0</td>\n",
              "      <td>1</td>\n",
              "      <td>0</td>\n",
              "      <td>No</td>\n",
              "      <td>Saturday</td>\n",
              "      <td>No</td>\n",
              "      <td>1</td>\n",
              "      <td>0.24</td>\n",
              "      <td>0.2879</td>\n",
              "      <td>0.81</td>\n",
              "      <td>0.0</td>\n",
              "      <td>3</td>\n",
              "      <td>13</td>\n",
              "      <td>16</td>\n",
              "      <td>1</td>\n",
              "      <td>Jan</td>\n",
              "    </tr>\n",
              "    <tr>\n",
              "      <th>2</th>\n",
              "      <td>2011-01-01</td>\n",
              "      <td>Winter</td>\n",
              "      <td>0</td>\n",
              "      <td>1</td>\n",
              "      <td>1</td>\n",
              "      <td>No</td>\n",
              "      <td>Saturday</td>\n",
              "      <td>No</td>\n",
              "      <td>1</td>\n",
              "      <td>0.22</td>\n",
              "      <td>0.2727</td>\n",
              "      <td>0.80</td>\n",
              "      <td>0.0</td>\n",
              "      <td>8</td>\n",
              "      <td>32</td>\n",
              "      <td>40</td>\n",
              "      <td>1</td>\n",
              "      <td>Jan</td>\n",
              "    </tr>\n",
              "    <tr>\n",
              "      <th>3</th>\n",
              "      <td>2011-01-01</td>\n",
              "      <td>Winter</td>\n",
              "      <td>0</td>\n",
              "      <td>1</td>\n",
              "      <td>2</td>\n",
              "      <td>No</td>\n",
              "      <td>Saturday</td>\n",
              "      <td>No</td>\n",
              "      <td>1</td>\n",
              "      <td>0.22</td>\n",
              "      <td>0.2727</td>\n",
              "      <td>0.80</td>\n",
              "      <td>0.0</td>\n",
              "      <td>5</td>\n",
              "      <td>27</td>\n",
              "      <td>32</td>\n",
              "      <td>1</td>\n",
              "      <td>Jan</td>\n",
              "    </tr>\n",
              "    <tr>\n",
              "      <th>4</th>\n",
              "      <td>2011-01-01</td>\n",
              "      <td>Winter</td>\n",
              "      <td>0</td>\n",
              "      <td>1</td>\n",
              "      <td>3</td>\n",
              "      <td>No</td>\n",
              "      <td>Saturday</td>\n",
              "      <td>No</td>\n",
              "      <td>1</td>\n",
              "      <td>0.24</td>\n",
              "      <td>0.2879</td>\n",
              "      <td>0.75</td>\n",
              "      <td>0.0</td>\n",
              "      <td>3</td>\n",
              "      <td>10</td>\n",
              "      <td>13</td>\n",
              "      <td>1</td>\n",
              "      <td>Jan</td>\n",
              "    </tr>\n",
              "    <tr>\n",
              "      <th>5</th>\n",
              "      <td>2011-01-01</td>\n",
              "      <td>Winter</td>\n",
              "      <td>0</td>\n",
              "      <td>1</td>\n",
              "      <td>4</td>\n",
              "      <td>No</td>\n",
              "      <td>Saturday</td>\n",
              "      <td>No</td>\n",
              "      <td>1</td>\n",
              "      <td>0.24</td>\n",
              "      <td>0.2879</td>\n",
              "      <td>0.75</td>\n",
              "      <td>0.0</td>\n",
              "      <td>0</td>\n",
              "      <td>1</td>\n",
              "      <td>1</td>\n",
              "      <td>1</td>\n",
              "      <td>Jan</td>\n",
              "    </tr>\n",
              "  </tbody>\n",
              "</table>\n",
              "</div>"
            ],
            "text/plain": [
              "            dteday  season yr mnth hr  ... casual registered cnt  day  month\n",
              "instant                                ...                                  \n",
              "1       2011-01-01  Winter  0    1  0  ...      3         13  16    1    Jan\n",
              "2       2011-01-01  Winter  0    1  1  ...      8         32  40    1    Jan\n",
              "3       2011-01-01  Winter  0    1  2  ...      5         27  32    1    Jan\n",
              "4       2011-01-01  Winter  0    1  3  ...      3         10  13    1    Jan\n",
              "5       2011-01-01  Winter  0    1  4  ...      0          1   1    1    Jan\n",
              "\n",
              "[5 rows x 18 columns]"
            ]
          },
          "metadata": {
            "tags": []
          },
          "execution_count": 29
        }
      ]
    },
    {
      "cell_type": "code",
      "metadata": {
        "colab": {
          "base_uri": "https://localhost:8080/"
        },
        "id": "hKzdtBpFcPap",
        "outputId": "92ec7206-5be1-4bc9-b793-c69b8cef93b6"
      },
      "source": [
        "df_hour.dtypes"
      ],
      "execution_count": null,
      "outputs": [
        {
          "output_type": "execute_result",
          "data": {
            "text/plain": [
              "dteday        datetime64[ns]\n",
              "season              category\n",
              "yr                  category\n",
              "mnth                category\n",
              "hr                  category\n",
              "holiday             category\n",
              "weekday             category\n",
              "workingday          category\n",
              "weathersit             int64\n",
              "temp                 float64\n",
              "atemp                float64\n",
              "hum                  float64\n",
              "windspeed            float64\n",
              "casual                 int64\n",
              "registered             int64\n",
              "cnt                    int64\n",
              "day                    int64\n",
              "month                 object\n",
              "dtype: object"
            ]
          },
          "metadata": {
            "tags": []
          },
          "execution_count": 30
        }
      ]
    },
    {
      "cell_type": "code",
      "metadata": {
        "colab": {
          "base_uri": "https://localhost:8080/"
        },
        "id": "7-00qk9rOn9c",
        "outputId": "16001cf8-e374-41dc-9e25-392b1e3af171"
      },
      "source": [
        "df_hour.isnull().sum()\n"
      ],
      "execution_count": null,
      "outputs": [
        {
          "output_type": "execute_result",
          "data": {
            "text/plain": [
              "dteday        0\n",
              "season        0\n",
              "yr            0\n",
              "mnth          0\n",
              "hr            0\n",
              "holiday       0\n",
              "weekday       0\n",
              "workingday    0\n",
              "weathersit    0\n",
              "temp          0\n",
              "atemp         0\n",
              "hum           0\n",
              "windspeed     0\n",
              "casual        0\n",
              "registered    0\n",
              "cnt           0\n",
              "day           0\n",
              "month         0\n",
              "dtype: int64"
            ]
          },
          "metadata": {
            "tags": []
          },
          "execution_count": 31
        }
      ]
    },
    {
      "cell_type": "markdown",
      "metadata": {
        "id": "5sIz-IPif7_q"
      },
      "source": [
        "### Data Visualization\n"
      ]
    },
    {
      "cell_type": "code",
      "metadata": {
        "id": "DIxaPui2jcEm"
      },
      "source": [
        "#df_hour['weekday'].value_counts()"
      ],
      "execution_count": null,
      "outputs": []
    },
    {
      "cell_type": "code",
      "metadata": {
        "id": "oTbk33T2ju2F"
      },
      "source": [
        "#df_hour['weekday'].value_counts()[1]"
      ],
      "execution_count": null,
      "outputs": []
    },
    {
      "cell_type": "code",
      "metadata": {
        "id": "ZU9MtaGpkNXD"
      },
      "source": [
        "#df_hour['weekday'].value_counts()[2]"
      ],
      "execution_count": null,
      "outputs": []
    },
    {
      "cell_type": "code",
      "metadata": {
        "id": "R-NAbbGIkO_a"
      },
      "source": [
        "#df_hour['weekday'].value_counts()[3]"
      ],
      "execution_count": null,
      "outputs": []
    },
    {
      "cell_type": "code",
      "metadata": {
        "id": "HmJUEHrPkUii"
      },
      "source": [
        "#df_hour['weekday'].value_counts()[4]"
      ],
      "execution_count": null,
      "outputs": []
    },
    {
      "cell_type": "code",
      "metadata": {
        "colab": {
          "base_uri": "https://localhost:8080/",
          "height": 300
        },
        "id": "fbL8t3moYT3O",
        "outputId": "e71fff54-a51d-4184-c0f0-c7fa60b53d6d"
      },
      "source": [
        "df_weekday = df_hour.groupby(['weekday']).sum()\n",
        "df_weekday"
      ],
      "execution_count": null,
      "outputs": [
        {
          "output_type": "execute_result",
          "data": {
            "text/html": [
              "<div>\n",
              "<style scoped>\n",
              "    .dataframe tbody tr th:only-of-type {\n",
              "        vertical-align: middle;\n",
              "    }\n",
              "\n",
              "    .dataframe tbody tr th {\n",
              "        vertical-align: top;\n",
              "    }\n",
              "\n",
              "    .dataframe thead th {\n",
              "        text-align: right;\n",
              "    }\n",
              "</style>\n",
              "<table border=\"1\" class=\"dataframe\">\n",
              "  <thead>\n",
              "    <tr style=\"text-align: right;\">\n",
              "      <th></th>\n",
              "      <th>weathersit</th>\n",
              "      <th>temp</th>\n",
              "      <th>atemp</th>\n",
              "      <th>hum</th>\n",
              "      <th>windspeed</th>\n",
              "      <th>casual</th>\n",
              "      <th>registered</th>\n",
              "      <th>cnt</th>\n",
              "      <th>day</th>\n",
              "    </tr>\n",
              "    <tr>\n",
              "      <th>weekday</th>\n",
              "      <th></th>\n",
              "      <th></th>\n",
              "      <th></th>\n",
              "      <th></th>\n",
              "      <th></th>\n",
              "      <th></th>\n",
              "      <th></th>\n",
              "      <th></th>\n",
              "      <th></th>\n",
              "    </tr>\n",
              "  </thead>\n",
              "  <tbody>\n",
              "    <tr>\n",
              "      <th>Friday</th>\n",
              "      <td>3512</td>\n",
              "      <td>1234.62</td>\n",
              "      <td>1173.4364</td>\n",
              "      <td>1526.62</td>\n",
              "      <td>463.6522</td>\n",
              "      <td>78238</td>\n",
              "      <td>409552</td>\n",
              "      <td>487790</td>\n",
              "      <td>39183</td>\n",
              "    </tr>\n",
              "    <tr>\n",
              "      <th>Monday</th>\n",
              "      <td>3548</td>\n",
              "      <td>1227.22</td>\n",
              "      <td>1179.7755</td>\n",
              "      <td>1575.78</td>\n",
              "      <td>468.1913</td>\n",
              "      <td>70784</td>\n",
              "      <td>384719</td>\n",
              "      <td>455503</td>\n",
              "      <td>39342</td>\n",
              "    </tr>\n",
              "    <tr>\n",
              "      <th>Saturday</th>\n",
              "      <td>3539</td>\n",
              "      <td>1210.40</td>\n",
              "      <td>1160.3154</td>\n",
              "      <td>1555.14</td>\n",
              "      <td>492.8296</td>\n",
              "      <td>153852</td>\n",
              "      <td>323955</td>\n",
              "      <td>477807</td>\n",
              "      <td>39435</td>\n",
              "    </tr>\n",
              "    <tr>\n",
              "      <th>Sunday</th>\n",
              "      <td>3408</td>\n",
              "      <td>1210.52</td>\n",
              "      <td>1164.6976</td>\n",
              "      <td>1571.24</td>\n",
              "      <td>470.6084</td>\n",
              "      <td>140521</td>\n",
              "      <td>303506</td>\n",
              "      <td>444027</td>\n",
              "      <td>38847</td>\n",
              "    </tr>\n",
              "    <tr>\n",
              "      <th>Thursday</th>\n",
              "      <td>3465</td>\n",
              "      <td>1252.84</td>\n",
              "      <td>1198.4877</td>\n",
              "      <td>1506.39</td>\n",
              "      <td>474.4004</td>\n",
              "      <td>61460</td>\n",
              "      <td>423935</td>\n",
              "      <td>485395</td>\n",
              "      <td>38484</td>\n",
              "    </tr>\n",
              "    <tr>\n",
              "      <th>Tuesday</th>\n",
              "      <td>3621</td>\n",
              "      <td>1247.52</td>\n",
              "      <td>1195.0513</td>\n",
              "      <td>1569.51</td>\n",
              "      <td>470.7732</td>\n",
              "      <td>57843</td>\n",
              "      <td>411266</td>\n",
              "      <td>469109</td>\n",
              "      <td>38269</td>\n",
              "    </tr>\n",
              "    <tr>\n",
              "      <th>Wednesday</th>\n",
              "      <td>3677</td>\n",
              "      <td>1254.02</td>\n",
              "      <td>1196.7316</td>\n",
              "      <td>1595.93</td>\n",
              "      <td>463.2512</td>\n",
              "      <td>57319</td>\n",
              "      <td>415729</td>\n",
              "      <td>473048</td>\n",
              "      <td>39002</td>\n",
              "    </tr>\n",
              "  </tbody>\n",
              "</table>\n",
              "</div>"
            ],
            "text/plain": [
              "           weathersit     temp      atemp  ...  registered     cnt    day\n",
              "weekday                                    ...                           \n",
              "Friday           3512  1234.62  1173.4364  ...      409552  487790  39183\n",
              "Monday           3548  1227.22  1179.7755  ...      384719  455503  39342\n",
              "Saturday         3539  1210.40  1160.3154  ...      323955  477807  39435\n",
              "Sunday           3408  1210.52  1164.6976  ...      303506  444027  38847\n",
              "Thursday         3465  1252.84  1198.4877  ...      423935  485395  38484\n",
              "Tuesday          3621  1247.52  1195.0513  ...      411266  469109  38269\n",
              "Wednesday        3677  1254.02  1196.7316  ...      415729  473048  39002\n",
              "\n",
              "[7 rows x 9 columns]"
            ]
          },
          "metadata": {
            "tags": []
          },
          "execution_count": 37
        }
      ]
    },
    {
      "cell_type": "code",
      "metadata": {
        "colab": {
          "base_uri": "https://localhost:8080/",
          "height": 294
        },
        "id": "L3wMUdnr70TF",
        "outputId": "1ea6b2d5-d6f6-4933-9328-3871f5f8af87"
      },
      "source": [
        "plt.hist(df_hour.workingday);\n",
        "plt.title('Bike Rentals by Workingday')\n",
        "plt.xlabel('workingday')\n",
        "plt.ylabel('Cnt');"
      ],
      "execution_count": null,
      "outputs": [
        {
          "output_type": "display_data",
          "data": {
            "image/png": "[encoded data removed]",
            "text/plain": [
              "<Figure size 432x288 with 1 Axes>"
            ]
          },
          "metadata": {
            "tags": [],
            "needs_background": "light"
          }
        }
      ]
    },
    {
      "cell_type": "code",
      "metadata": {
        "colab": {
          "base_uri": "https://localhost:8080/"
        },
        "id": "G-LXGsFSby5w",
        "outputId": "448ff092-089c-401a-c292-89f250545bbb"
      },
      "source": [
        "df_hour['registered'].value_counts()"
      ],
      "execution_count": null,
      "outputs": [
        {
          "output_type": "execute_result",
          "data": {
            "text/plain": [
              "4      307\n",
              "3      294\n",
              "5      287\n",
              "6      266\n",
              "2      245\n",
              "      ... \n",
              "822      1\n",
              "806      1\n",
              "790      1\n",
              "614      1\n",
              "791      1\n",
              "Name: registered, Length: 776, dtype: int64"
            ]
          },
          "metadata": {
            "tags": []
          },
          "execution_count": 39
        }
      ]
    },
    {
      "cell_type": "code",
      "metadata": {
        "colab": {
          "base_uri": "https://localhost:8080/"
        },
        "id": "sMF6ZjKvp8HJ",
        "outputId": "f24bfc00-bfcd-45fc-bb7b-e24f8c09725a"
      },
      "source": [
        "df_hour['registered'].sum()"
      ],
      "execution_count": null,
      "outputs": [
        {
          "output_type": "execute_result",
          "data": {
            "text/plain": [
              "2672662"
            ]
          },
          "metadata": {
            "tags": []
          },
          "execution_count": 40
        }
      ]
    },
    {
      "cell_type": "code",
      "metadata": {
        "colab": {
          "base_uri": "https://localhost:8080/"
        },
        "id": "ssgoOVBgr6zI",
        "outputId": "0ae7fd68-e792-4a04-99c5-88d4af55fdc0"
      },
      "source": [
        "df_hour['casual'].sum()"
      ],
      "execution_count": null,
      "outputs": [
        {
          "output_type": "execute_result",
          "data": {
            "text/plain": [
              "620017"
            ]
          },
          "metadata": {
            "tags": []
          },
          "execution_count": 41
        }
      ]
    },
    {
      "cell_type": "code",
      "metadata": {
        "colab": {
          "base_uri": "https://localhost:8080/"
        },
        "id": "hrrRwD9YsGVV",
        "outputId": "5c315c2c-595d-47b4-b72d-b3f462970c53"
      },
      "source": [
        "df_hour['cnt'].sum()"
      ],
      "execution_count": null,
      "outputs": [
        {
          "output_type": "execute_result",
          "data": {
            "text/plain": [
              "3292679"
            ]
          },
          "metadata": {
            "tags": []
          },
          "execution_count": 42
        }
      ]
    },
    {
      "cell_type": "code",
      "metadata": {
        "colab": {
          "base_uri": "https://localhost:8080/",
          "height": 550
        },
        "id": "Ef0s3nizuCyZ",
        "outputId": "5dfd0481-b2a4-46b6-a310-f5dd16590801"
      },
      "source": [
        "df_hour.sort_values(by=['registered'], ascending=False).head(15)\n"
      ],
      "execution_count": null,
      "outputs": [
        {
          "output_type": "execute_result",
          "data": {
            "text/html": [
              "<div>\n",
              "<style scoped>\n",
              "    .dataframe tbody tr th:only-of-type {\n",
              "        vertical-align: middle;\n",
              "    }\n",
              "\n",
              "    .dataframe tbody tr th {\n",
              "        vertical-align: top;\n",
              "    }\n",
              "\n",
              "    .dataframe thead th {\n",
              "        text-align: right;\n",
              "    }\n",
              "</style>\n",
              "<table border=\"1\" class=\"dataframe\">\n",
              "  <thead>\n",
              "    <tr style=\"text-align: right;\">\n",
              "      <th></th>\n",
              "      <th>dteday</th>\n",
              "      <th>season</th>\n",
              "      <th>yr</th>\n",
              "      <th>mnth</th>\n",
              "      <th>hr</th>\n",
              "      <th>holiday</th>\n",
              "      <th>weekday</th>\n",
              "      <th>workingday</th>\n",
              "      <th>weathersit</th>\n",
              "      <th>temp</th>\n",
              "      <th>atemp</th>\n",
              "      <th>hum</th>\n",
              "      <th>windspeed</th>\n",
              "      <th>casual</th>\n",
              "      <th>registered</th>\n",
              "      <th>cnt</th>\n",
              "      <th>day</th>\n",
              "      <th>month</th>\n",
              "    </tr>\n",
              "    <tr>\n",
              "      <th>instant</th>\n",
              "      <th></th>\n",
              "      <th></th>\n",
              "      <th></th>\n",
              "      <th></th>\n",
              "      <th></th>\n",
              "      <th></th>\n",
              "      <th></th>\n",
              "      <th></th>\n",
              "      <th></th>\n",
              "      <th></th>\n",
              "      <th></th>\n",
              "      <th></th>\n",
              "      <th></th>\n",
              "      <th></th>\n",
              "      <th></th>\n",
              "      <th></th>\n",
              "      <th></th>\n",
              "      <th></th>\n",
              "    </tr>\n",
              "  </thead>\n",
              "  <tbody>\n",
              "    <tr>\n",
              "      <th>14774</th>\n",
              "      <td>2012-09-12</td>\n",
              "      <td>Summer</td>\n",
              "      <td>1</td>\n",
              "      <td>9</td>\n",
              "      <td>18</td>\n",
              "      <td>No</td>\n",
              "      <td>Wednesday</td>\n",
              "      <td>Yes</td>\n",
              "      <td>1</td>\n",
              "      <td>0.66</td>\n",
              "      <td>0.6212</td>\n",
              "      <td>0.44</td>\n",
              "      <td>0.2537</td>\n",
              "      <td>91</td>\n",
              "      <td>886</td>\n",
              "      <td>977</td>\n",
              "      <td>12</td>\n",
              "      <td>Sep</td>\n",
              "    </tr>\n",
              "    <tr>\n",
              "      <th>14965</th>\n",
              "      <td>2012-09-20</td>\n",
              "      <td>Summer</td>\n",
              "      <td>1</td>\n",
              "      <td>9</td>\n",
              "      <td>17</td>\n",
              "      <td>No</td>\n",
              "      <td>Thursday</td>\n",
              "      <td>Yes</td>\n",
              "      <td>1</td>\n",
              "      <td>0.64</td>\n",
              "      <td>0.6212</td>\n",
              "      <td>0.50</td>\n",
              "      <td>0.2239</td>\n",
              "      <td>91</td>\n",
              "      <td>885</td>\n",
              "      <td>976</td>\n",
              "      <td>20</td>\n",
              "      <td>Sep</td>\n",
              "    </tr>\n",
              "    <tr>\n",
              "      <th>15781</th>\n",
              "      <td>2012-10-24</td>\n",
              "      <td>Fall</td>\n",
              "      <td>1</td>\n",
              "      <td>10</td>\n",
              "      <td>17</td>\n",
              "      <td>No</td>\n",
              "      <td>Wednesday</td>\n",
              "      <td>Yes</td>\n",
              "      <td>1</td>\n",
              "      <td>0.66</td>\n",
              "      <td>0.6212</td>\n",
              "      <td>0.47</td>\n",
              "      <td>0.0000</td>\n",
              "      <td>87</td>\n",
              "      <td>876</td>\n",
              "      <td>963</td>\n",
              "      <td>24</td>\n",
              "      <td>Okt</td>\n",
              "    </tr>\n",
              "    <tr>\n",
              "      <th>15109</th>\n",
              "      <td>2012-09-26</td>\n",
              "      <td>Fall</td>\n",
              "      <td>1</td>\n",
              "      <td>9</td>\n",
              "      <td>17</td>\n",
              "      <td>No</td>\n",
              "      <td>Wednesday</td>\n",
              "      <td>Yes</td>\n",
              "      <td>1</td>\n",
              "      <td>0.74</td>\n",
              "      <td>0.6667</td>\n",
              "      <td>0.48</td>\n",
              "      <td>0.2985</td>\n",
              "      <td>77</td>\n",
              "      <td>876</td>\n",
              "      <td>953</td>\n",
              "      <td>26</td>\n",
              "      <td>Sep</td>\n",
              "    </tr>\n",
              "    <tr>\n",
              "      <th>15757</th>\n",
              "      <td>2012-10-23</td>\n",
              "      <td>Fall</td>\n",
              "      <td>1</td>\n",
              "      <td>10</td>\n",
              "      <td>17</td>\n",
              "      <td>No</td>\n",
              "      <td>Tuesday</td>\n",
              "      <td>Yes</td>\n",
              "      <td>1</td>\n",
              "      <td>0.68</td>\n",
              "      <td>0.6364</td>\n",
              "      <td>0.41</td>\n",
              "      <td>0.0000</td>\n",
              "      <td>67</td>\n",
              "      <td>871</td>\n",
              "      <td>938</td>\n",
              "      <td>23</td>\n",
              "      <td>Okt</td>\n",
              "    </tr>\n",
              "    <tr>\n",
              "      <th>15085</th>\n",
              "      <td>2012-09-25</td>\n",
              "      <td>Fall</td>\n",
              "      <td>1</td>\n",
              "      <td>9</td>\n",
              "      <td>17</td>\n",
              "      <td>No</td>\n",
              "      <td>Tuesday</td>\n",
              "      <td>Yes</td>\n",
              "      <td>1</td>\n",
              "      <td>0.66</td>\n",
              "      <td>0.6212</td>\n",
              "      <td>0.39</td>\n",
              "      <td>0.2836</td>\n",
              "      <td>107</td>\n",
              "      <td>860</td>\n",
              "      <td>967</td>\n",
              "      <td>25</td>\n",
              "      <td>Sep</td>\n",
              "    </tr>\n",
              "    <tr>\n",
              "      <th>15445</th>\n",
              "      <td>2012-10-10</td>\n",
              "      <td>Fall</td>\n",
              "      <td>1</td>\n",
              "      <td>10</td>\n",
              "      <td>17</td>\n",
              "      <td>No</td>\n",
              "      <td>Wednesday</td>\n",
              "      <td>Yes</td>\n",
              "      <td>1</td>\n",
              "      <td>0.58</td>\n",
              "      <td>0.5455</td>\n",
              "      <td>0.43</td>\n",
              "      <td>0.2239</td>\n",
              "      <td>91</td>\n",
              "      <td>857</td>\n",
              "      <td>948</td>\n",
              "      <td>10</td>\n",
              "      <td>Okt</td>\n",
              "    </tr>\n",
              "    <tr>\n",
              "      <th>14726</th>\n",
              "      <td>2012-09-10</td>\n",
              "      <td>Summer</td>\n",
              "      <td>1</td>\n",
              "      <td>9</td>\n",
              "      <td>18</td>\n",
              "      <td>No</td>\n",
              "      <td>Monday</td>\n",
              "      <td>Yes</td>\n",
              "      <td>1</td>\n",
              "      <td>0.62</td>\n",
              "      <td>0.6212</td>\n",
              "      <td>0.35</td>\n",
              "      <td>0.2985</td>\n",
              "      <td>111</td>\n",
              "      <td>857</td>\n",
              "      <td>968</td>\n",
              "      <td>10</td>\n",
              "      <td>Sep</td>\n",
              "    </tr>\n",
              "    <tr>\n",
              "      <th>15589</th>\n",
              "      <td>2012-10-16</td>\n",
              "      <td>Fall</td>\n",
              "      <td>1</td>\n",
              "      <td>10</td>\n",
              "      <td>17</td>\n",
              "      <td>No</td>\n",
              "      <td>Tuesday</td>\n",
              "      <td>Yes</td>\n",
              "      <td>1</td>\n",
              "      <td>0.52</td>\n",
              "      <td>0.5000</td>\n",
              "      <td>0.39</td>\n",
              "      <td>0.1940</td>\n",
              "      <td>104</td>\n",
              "      <td>839</td>\n",
              "      <td>943</td>\n",
              "      <td>16</td>\n",
              "      <td>Okt</td>\n",
              "    </tr>\n",
              "    <tr>\n",
              "      <th>15733</th>\n",
              "      <td>2012-10-22</td>\n",
              "      <td>Fall</td>\n",
              "      <td>1</td>\n",
              "      <td>10</td>\n",
              "      <td>17</td>\n",
              "      <td>No</td>\n",
              "      <td>Monday</td>\n",
              "      <td>Yes</td>\n",
              "      <td>1</td>\n",
              "      <td>0.62</td>\n",
              "      <td>0.6212</td>\n",
              "      <td>0.33</td>\n",
              "      <td>0.1045</td>\n",
              "      <td>84</td>\n",
              "      <td>838</td>\n",
              "      <td>922</td>\n",
              "      <td>22</td>\n",
              "      <td>Okt</td>\n",
              "    </tr>\n",
              "    <tr>\n",
              "      <th>15277</th>\n",
              "      <td>2012-10-03</td>\n",
              "      <td>Fall</td>\n",
              "      <td>1</td>\n",
              "      <td>10</td>\n",
              "      <td>17</td>\n",
              "      <td>No</td>\n",
              "      <td>Wednesday</td>\n",
              "      <td>Yes</td>\n",
              "      <td>1</td>\n",
              "      <td>0.70</td>\n",
              "      <td>0.6515</td>\n",
              "      <td>0.65</td>\n",
              "      <td>0.0000</td>\n",
              "      <td>84</td>\n",
              "      <td>833</td>\n",
              "      <td>917</td>\n",
              "      <td>3</td>\n",
              "      <td>Okt</td>\n",
              "    </tr>\n",
              "    <tr>\n",
              "      <th>15134</th>\n",
              "      <td>2012-09-27</td>\n",
              "      <td>Fall</td>\n",
              "      <td>1</td>\n",
              "      <td>9</td>\n",
              "      <td>18</td>\n",
              "      <td>No</td>\n",
              "      <td>Thursday</td>\n",
              "      <td>Yes</td>\n",
              "      <td>2</td>\n",
              "      <td>0.66</td>\n",
              "      <td>0.6212</td>\n",
              "      <td>0.69</td>\n",
              "      <td>0.2239</td>\n",
              "      <td>77</td>\n",
              "      <td>822</td>\n",
              "      <td>899</td>\n",
              "      <td>27</td>\n",
              "      <td>Sep</td>\n",
              "    </tr>\n",
              "    <tr>\n",
              "      <th>15133</th>\n",
              "      <td>2012-09-27</td>\n",
              "      <td>Fall</td>\n",
              "      <td>1</td>\n",
              "      <td>9</td>\n",
              "      <td>17</td>\n",
              "      <td>No</td>\n",
              "      <td>Thursday</td>\n",
              "      <td>Yes</td>\n",
              "      <td>2</td>\n",
              "      <td>0.66</td>\n",
              "      <td>0.6212</td>\n",
              "      <td>0.69</td>\n",
              "      <td>0.2985</td>\n",
              "      <td>87</td>\n",
              "      <td>818</td>\n",
              "      <td>905</td>\n",
              "      <td>27</td>\n",
              "      <td>Sep</td>\n",
              "    </tr>\n",
              "    <tr>\n",
              "      <th>15110</th>\n",
              "      <td>2012-09-26</td>\n",
              "      <td>Fall</td>\n",
              "      <td>1</td>\n",
              "      <td>9</td>\n",
              "      <td>18</td>\n",
              "      <td>No</td>\n",
              "      <td>Wednesday</td>\n",
              "      <td>Yes</td>\n",
              "      <td>1</td>\n",
              "      <td>0.74</td>\n",
              "      <td>0.6667</td>\n",
              "      <td>0.48</td>\n",
              "      <td>0.2239</td>\n",
              "      <td>69</td>\n",
              "      <td>815</td>\n",
              "      <td>884</td>\n",
              "      <td>26</td>\n",
              "      <td>Sep</td>\n",
              "    </tr>\n",
              "    <tr>\n",
              "      <th>15302</th>\n",
              "      <td>2012-10-04</td>\n",
              "      <td>Fall</td>\n",
              "      <td>1</td>\n",
              "      <td>10</td>\n",
              "      <td>18</td>\n",
              "      <td>No</td>\n",
              "      <td>Thursday</td>\n",
              "      <td>Yes</td>\n",
              "      <td>1</td>\n",
              "      <td>0.66</td>\n",
              "      <td>0.6212</td>\n",
              "      <td>0.57</td>\n",
              "      <td>0.1045</td>\n",
              "      <td>75</td>\n",
              "      <td>812</td>\n",
              "      <td>887</td>\n",
              "      <td>4</td>\n",
              "      <td>Okt</td>\n",
              "    </tr>\n",
              "  </tbody>\n",
              "</table>\n",
              "</div>"
            ],
            "text/plain": [
              "            dteday  season yr mnth  hr  ... casual registered  cnt  day  month\n",
              "instant                                 ...                                   \n",
              "14774   2012-09-12  Summer  1    9  18  ...     91        886  977   12    Sep\n",
              "14965   2012-09-20  Summer  1    9  17  ...     91        885  976   20    Sep\n",
              "15781   2012-10-24    Fall  1   10  17  ...     87        876  963   24    Okt\n",
              "15109   2012-09-26    Fall  1    9  17  ...     77        876  953   26    Sep\n",
              "15757   2012-10-23    Fall  1   10  17  ...     67        871  938   23    Okt\n",
              "15085   2012-09-25    Fall  1    9  17  ...    107        860  967   25    Sep\n",
              "15445   2012-10-10    Fall  1   10  17  ...     91        857  948   10    Okt\n",
              "14726   2012-09-10  Summer  1    9  18  ...    111        857  968   10    Sep\n",
              "15589   2012-10-16    Fall  1   10  17  ...    104        839  943   16    Okt\n",
              "15733   2012-10-22    Fall  1   10  17  ...     84        838  922   22    Okt\n",
              "15277   2012-10-03    Fall  1   10  17  ...     84        833  917    3    Okt\n",
              "15134   2012-09-27    Fall  1    9  18  ...     77        822  899   27    Sep\n",
              "15133   2012-09-27    Fall  1    9  17  ...     87        818  905   27    Sep\n",
              "15110   2012-09-26    Fall  1    9  18  ...     69        815  884   26    Sep\n",
              "15302   2012-10-04    Fall  1   10  18  ...     75        812  887    4    Okt\n",
              "\n",
              "[15 rows x 18 columns]"
            ]
          },
          "metadata": {
            "tags": []
          },
          "execution_count": 43
        }
      ]
    },
    {
      "cell_type": "code",
      "metadata": {
        "colab": {
          "base_uri": "https://localhost:8080/",
          "height": 237
        },
        "id": "TfhIZY6YyohE",
        "outputId": "70388908-dc34-4f71-9e4f-5c7029d637cd"
      },
      "source": [
        "df_hour.sort_values(by=['registered', 'weekday'], ascending=False).head()\n"
      ],
      "execution_count": null,
      "outputs": [
        {
          "output_type": "execute_result",
          "data": {
            "text/html": [
              "<div>\n",
              "<style scoped>\n",
              "    .dataframe tbody tr th:only-of-type {\n",
              "        vertical-align: middle;\n",
              "    }\n",
              "\n",
              "    .dataframe tbody tr th {\n",
              "        vertical-align: top;\n",
              "    }\n",
              "\n",
              "    .dataframe thead th {\n",
              "        text-align: right;\n",
              "    }\n",
              "</style>\n",
              "<table border=\"1\" class=\"dataframe\">\n",
              "  <thead>\n",
              "    <tr style=\"text-align: right;\">\n",
              "      <th></th>\n",
              "      <th>dteday</th>\n",
              "      <th>season</th>\n",
              "      <th>yr</th>\n",
              "      <th>mnth</th>\n",
              "      <th>hr</th>\n",
              "      <th>holiday</th>\n",
              "      <th>weekday</th>\n",
              "      <th>workingday</th>\n",
              "      <th>weathersit</th>\n",
              "      <th>temp</th>\n",
              "      <th>atemp</th>\n",
              "      <th>hum</th>\n",
              "      <th>windspeed</th>\n",
              "      <th>casual</th>\n",
              "      <th>registered</th>\n",
              "      <th>cnt</th>\n",
              "      <th>day</th>\n",
              "      <th>month</th>\n",
              "    </tr>\n",
              "    <tr>\n",
              "      <th>instant</th>\n",
              "      <th></th>\n",
              "      <th></th>\n",
              "      <th></th>\n",
              "      <th></th>\n",
              "      <th></th>\n",
              "      <th></th>\n",
              "      <th></th>\n",
              "      <th></th>\n",
              "      <th></th>\n",
              "      <th></th>\n",
              "      <th></th>\n",
              "      <th></th>\n",
              "      <th></th>\n",
              "      <th></th>\n",
              "      <th></th>\n",
              "      <th></th>\n",
              "      <th></th>\n",
              "      <th></th>\n",
              "    </tr>\n",
              "  </thead>\n",
              "  <tbody>\n",
              "    <tr>\n",
              "      <th>14774</th>\n",
              "      <td>2012-09-12</td>\n",
              "      <td>Summer</td>\n",
              "      <td>1</td>\n",
              "      <td>9</td>\n",
              "      <td>18</td>\n",
              "      <td>No</td>\n",
              "      <td>Wednesday</td>\n",
              "      <td>Yes</td>\n",
              "      <td>1</td>\n",
              "      <td>0.66</td>\n",
              "      <td>0.6212</td>\n",
              "      <td>0.44</td>\n",
              "      <td>0.2537</td>\n",
              "      <td>91</td>\n",
              "      <td>886</td>\n",
              "      <td>977</td>\n",
              "      <td>12</td>\n",
              "      <td>Sep</td>\n",
              "    </tr>\n",
              "    <tr>\n",
              "      <th>14965</th>\n",
              "      <td>2012-09-20</td>\n",
              "      <td>Summer</td>\n",
              "      <td>1</td>\n",
              "      <td>9</td>\n",
              "      <td>17</td>\n",
              "      <td>No</td>\n",
              "      <td>Thursday</td>\n",
              "      <td>Yes</td>\n",
              "      <td>1</td>\n",
              "      <td>0.64</td>\n",
              "      <td>0.6212</td>\n",
              "      <td>0.50</td>\n",
              "      <td>0.2239</td>\n",
              "      <td>91</td>\n",
              "      <td>885</td>\n",
              "      <td>976</td>\n",
              "      <td>20</td>\n",
              "      <td>Sep</td>\n",
              "    </tr>\n",
              "    <tr>\n",
              "      <th>15109</th>\n",
              "      <td>2012-09-26</td>\n",
              "      <td>Fall</td>\n",
              "      <td>1</td>\n",
              "      <td>9</td>\n",
              "      <td>17</td>\n",
              "      <td>No</td>\n",
              "      <td>Wednesday</td>\n",
              "      <td>Yes</td>\n",
              "      <td>1</td>\n",
              "      <td>0.74</td>\n",
              "      <td>0.6667</td>\n",
              "      <td>0.48</td>\n",
              "      <td>0.2985</td>\n",
              "      <td>77</td>\n",
              "      <td>876</td>\n",
              "      <td>953</td>\n",
              "      <td>26</td>\n",
              "      <td>Sep</td>\n",
              "    </tr>\n",
              "    <tr>\n",
              "      <th>15781</th>\n",
              "      <td>2012-10-24</td>\n",
              "      <td>Fall</td>\n",
              "      <td>1</td>\n",
              "      <td>10</td>\n",
              "      <td>17</td>\n",
              "      <td>No</td>\n",
              "      <td>Wednesday</td>\n",
              "      <td>Yes</td>\n",
              "      <td>1</td>\n",
              "      <td>0.66</td>\n",
              "      <td>0.6212</td>\n",
              "      <td>0.47</td>\n",
              "      <td>0.0000</td>\n",
              "      <td>87</td>\n",
              "      <td>876</td>\n",
              "      <td>963</td>\n",
              "      <td>24</td>\n",
              "      <td>Okt</td>\n",
              "    </tr>\n",
              "    <tr>\n",
              "      <th>15757</th>\n",
              "      <td>2012-10-23</td>\n",
              "      <td>Fall</td>\n",
              "      <td>1</td>\n",
              "      <td>10</td>\n",
              "      <td>17</td>\n",
              "      <td>No</td>\n",
              "      <td>Tuesday</td>\n",
              "      <td>Yes</td>\n",
              "      <td>1</td>\n",
              "      <td>0.68</td>\n",
              "      <td>0.6364</td>\n",
              "      <td>0.41</td>\n",
              "      <td>0.0000</td>\n",
              "      <td>67</td>\n",
              "      <td>871</td>\n",
              "      <td>938</td>\n",
              "      <td>23</td>\n",
              "      <td>Okt</td>\n",
              "    </tr>\n",
              "  </tbody>\n",
              "</table>\n",
              "</div>"
            ],
            "text/plain": [
              "            dteday  season yr mnth  hr  ... casual registered  cnt  day  month\n",
              "instant                                 ...                                   \n",
              "14774   2012-09-12  Summer  1    9  18  ...     91        886  977   12    Sep\n",
              "14965   2012-09-20  Summer  1    9  17  ...     91        885  976   20    Sep\n",
              "15109   2012-09-26    Fall  1    9  17  ...     77        876  953   26    Sep\n",
              "15781   2012-10-24    Fall  1   10  17  ...     87        876  963   24    Okt\n",
              "15757   2012-10-23    Fall  1   10  17  ...     67        871  938   23    Okt\n",
              "\n",
              "[5 rows x 18 columns]"
            ]
          },
          "metadata": {
            "tags": []
          },
          "execution_count": 44
        }
      ]
    },
    {
      "cell_type": "code",
      "metadata": {
        "colab": {
          "base_uri": "https://localhost:8080/",
          "height": 237
        },
        "id": "Tmj0mxlBCl6m",
        "outputId": "106bef2e-f14a-4ec7-c53b-d8674e2217dd"
      },
      "source": [
        "df_hour.sort_values(by=['cnt', 'weekday'], ascending=False).head()\n"
      ],
      "execution_count": null,
      "outputs": [
        {
          "output_type": "execute_result",
          "data": {
            "text/html": [
              "<div>\n",
              "<style scoped>\n",
              "    .dataframe tbody tr th:only-of-type {\n",
              "        vertical-align: middle;\n",
              "    }\n",
              "\n",
              "    .dataframe tbody tr th {\n",
              "        vertical-align: top;\n",
              "    }\n",
              "\n",
              "    .dataframe thead th {\n",
              "        text-align: right;\n",
              "    }\n",
              "</style>\n",
              "<table border=\"1\" class=\"dataframe\">\n",
              "  <thead>\n",
              "    <tr style=\"text-align: right;\">\n",
              "      <th></th>\n",
              "      <th>dteday</th>\n",
              "      <th>season</th>\n",
              "      <th>yr</th>\n",
              "      <th>mnth</th>\n",
              "      <th>hr</th>\n",
              "      <th>holiday</th>\n",
              "      <th>weekday</th>\n",
              "      <th>workingday</th>\n",
              "      <th>weathersit</th>\n",
              "      <th>temp</th>\n",
              "      <th>atemp</th>\n",
              "      <th>hum</th>\n",
              "      <th>windspeed</th>\n",
              "      <th>casual</th>\n",
              "      <th>registered</th>\n",
              "      <th>cnt</th>\n",
              "      <th>day</th>\n",
              "      <th>month</th>\n",
              "    </tr>\n",
              "    <tr>\n",
              "      <th>instant</th>\n",
              "      <th></th>\n",
              "      <th></th>\n",
              "      <th></th>\n",
              "      <th></th>\n",
              "      <th></th>\n",
              "      <th></th>\n",
              "      <th></th>\n",
              "      <th></th>\n",
              "      <th></th>\n",
              "      <th></th>\n",
              "      <th></th>\n",
              "      <th></th>\n",
              "      <th></th>\n",
              "      <th></th>\n",
              "      <th></th>\n",
              "      <th></th>\n",
              "      <th></th>\n",
              "      <th></th>\n",
              "    </tr>\n",
              "  </thead>\n",
              "  <tbody>\n",
              "    <tr>\n",
              "      <th>14774</th>\n",
              "      <td>2012-09-12</td>\n",
              "      <td>Summer</td>\n",
              "      <td>1</td>\n",
              "      <td>9</td>\n",
              "      <td>18</td>\n",
              "      <td>No</td>\n",
              "      <td>Wednesday</td>\n",
              "      <td>Yes</td>\n",
              "      <td>1</td>\n",
              "      <td>0.66</td>\n",
              "      <td>0.6212</td>\n",
              "      <td>0.44</td>\n",
              "      <td>0.2537</td>\n",
              "      <td>91</td>\n",
              "      <td>886</td>\n",
              "      <td>977</td>\n",
              "      <td>12</td>\n",
              "      <td>Sep</td>\n",
              "    </tr>\n",
              "    <tr>\n",
              "      <th>14965</th>\n",
              "      <td>2012-09-20</td>\n",
              "      <td>Summer</td>\n",
              "      <td>1</td>\n",
              "      <td>9</td>\n",
              "      <td>17</td>\n",
              "      <td>No</td>\n",
              "      <td>Thursday</td>\n",
              "      <td>Yes</td>\n",
              "      <td>1</td>\n",
              "      <td>0.64</td>\n",
              "      <td>0.6212</td>\n",
              "      <td>0.50</td>\n",
              "      <td>0.2239</td>\n",
              "      <td>91</td>\n",
              "      <td>885</td>\n",
              "      <td>976</td>\n",
              "      <td>20</td>\n",
              "      <td>Sep</td>\n",
              "    </tr>\n",
              "    <tr>\n",
              "      <th>14749</th>\n",
              "      <td>2012-09-11</td>\n",
              "      <td>Summer</td>\n",
              "      <td>1</td>\n",
              "      <td>9</td>\n",
              "      <td>17</td>\n",
              "      <td>No</td>\n",
              "      <td>Tuesday</td>\n",
              "      <td>Yes</td>\n",
              "      <td>1</td>\n",
              "      <td>0.70</td>\n",
              "      <td>0.6364</td>\n",
              "      <td>0.28</td>\n",
              "      <td>0.0000</td>\n",
              "      <td>168</td>\n",
              "      <td>802</td>\n",
              "      <td>970</td>\n",
              "      <td>11</td>\n",
              "      <td>Sep</td>\n",
              "    </tr>\n",
              "    <tr>\n",
              "      <th>14726</th>\n",
              "      <td>2012-09-10</td>\n",
              "      <td>Summer</td>\n",
              "      <td>1</td>\n",
              "      <td>9</td>\n",
              "      <td>18</td>\n",
              "      <td>No</td>\n",
              "      <td>Monday</td>\n",
              "      <td>Yes</td>\n",
              "      <td>1</td>\n",
              "      <td>0.62</td>\n",
              "      <td>0.6212</td>\n",
              "      <td>0.35</td>\n",
              "      <td>0.2985</td>\n",
              "      <td>111</td>\n",
              "      <td>857</td>\n",
              "      <td>968</td>\n",
              "      <td>10</td>\n",
              "      <td>Sep</td>\n",
              "    </tr>\n",
              "    <tr>\n",
              "      <th>15085</th>\n",
              "      <td>2012-09-25</td>\n",
              "      <td>Fall</td>\n",
              "      <td>1</td>\n",
              "      <td>9</td>\n",
              "      <td>17</td>\n",
              "      <td>No</td>\n",
              "      <td>Tuesday</td>\n",
              "      <td>Yes</td>\n",
              "      <td>1</td>\n",
              "      <td>0.66</td>\n",
              "      <td>0.6212</td>\n",
              "      <td>0.39</td>\n",
              "      <td>0.2836</td>\n",
              "      <td>107</td>\n",
              "      <td>860</td>\n",
              "      <td>967</td>\n",
              "      <td>25</td>\n",
              "      <td>Sep</td>\n",
              "    </tr>\n",
              "  </tbody>\n",
              "</table>\n",
              "</div>"
            ],
            "text/plain": [
              "            dteday  season yr mnth  hr  ... casual registered  cnt  day  month\n",
              "instant                                 ...                                   \n",
              "14774   2012-09-12  Summer  1    9  18  ...     91        886  977   12    Sep\n",
              "14965   2012-09-20  Summer  1    9  17  ...     91        885  976   20    Sep\n",
              "14749   2012-09-11  Summer  1    9  17  ...    168        802  970   11    Sep\n",
              "14726   2012-09-10  Summer  1    9  18  ...    111        857  968   10    Sep\n",
              "15085   2012-09-25    Fall  1    9  17  ...    107        860  967   25    Sep\n",
              "\n",
              "[5 rows x 18 columns]"
            ]
          },
          "metadata": {
            "tags": []
          },
          "execution_count": 45
        }
      ]
    },
    {
      "cell_type": "code",
      "metadata": {
        "colab": {
          "base_uri": "https://localhost:8080/",
          "height": 278
        },
        "id": "Qfd-5A38BYjp",
        "outputId": "ca593fd4-cff3-41e5-b353-d499deb58cc3"
      },
      "source": [
        "sns.histplot(df_hour.loc[df_hour['cnt'], 'weathersit'] );\n"
      ],
      "execution_count": null,
      "outputs": [
        {
          "output_type": "display_data",
          "data": {
            "image/png": "[encoded data removed]",
            "text/plain": [
              "<Figure size 432x288 with 1 Axes>"
            ]
          },
          "metadata": {
            "tags": [],
            "needs_background": "light"
          }
        }
      ]
    },
    {
      "cell_type": "code",
      "metadata": {
        "colab": {
          "base_uri": "https://localhost:8080/",
          "height": 282
        },
        "id": "NF69oC6ONA6L",
        "outputId": "92dd6b43-3196-4f62-91ee-ba3ae5e1230f"
      },
      "source": [
        "fig = plt.subplot()\n",
        "sns.boxplot(data=df_hour[['cnt', 'casual', 'registered']])"
      ],
      "execution_count": null,
      "outputs": [
        {
          "output_type": "execute_result",
          "data": {
            "text/plain": [
              "<matplotlib.axes._subplots.AxesSubplot at 0x7f093dbf12d0>"
            ]
          },
          "metadata": {
            "tags": []
          },
          "execution_count": 52
        },
        {
          "output_type": "display_data",
          "data": {
            "image/png": "[encoded data removed]",
            "text/plain": [
              "<Figure size 432x288 with 1 Axes>"
            ]
          },
          "metadata": {
            "tags": [],
            "needs_background": "light"
          }
        }
      ]
    },
    {
      "cell_type": "code",
      "metadata": {
        "colab": {
          "base_uri": "https://localhost:8080/",
          "height": 225
        },
        "id": "6-iEhPmxR5vl",
        "outputId": "1793ad4a-fa2e-4b99-a3a9-45e00d895ded"
      },
      "source": [
        "corr = df_hour.corr()\n",
        "corr.style.background_gradient(cmap='RdYlGn')\n"
      ],
      "execution_count": null,
      "outputs": [
        {
          "output_type": "execute_result",
          "data": {
            "text/html": [
              "<style  type=\"text/css\" >\n",
              "#T_1737f738_fd19_11eb_a551_0242ac1c0002row0_col0,#T_1737f738_fd19_11eb_a551_0242ac1c0002row1_col1,#T_1737f738_fd19_11eb_a551_0242ac1c0002row2_col2,#T_1737f738_fd19_11eb_a551_0242ac1c0002row3_col3,#T_1737f738_fd19_11eb_a551_0242ac1c0002row4_col4,#T_1737f738_fd19_11eb_a551_0242ac1c0002row5_col5,#T_1737f738_fd19_11eb_a551_0242ac1c0002row6_col6,#T_1737f738_fd19_11eb_a551_0242ac1c0002row7_col7,#T_1737f738_fd19_11eb_a551_0242ac1c0002row8_col8{\n",
              "            background-color:  #006837;\n",
              "            color:  #f1f1f1;\n",
              "        }#T_1737f738_fd19_11eb_a551_0242ac1c0002row0_col1,#T_1737f738_fd19_11eb_a551_0242ac1c0002row0_col2,#T_1737f738_fd19_11eb_a551_0242ac1c0002row0_col8,#T_1737f738_fd19_11eb_a551_0242ac1c0002row3_col4,#T_1737f738_fd19_11eb_a551_0242ac1c0002row3_col5,#T_1737f738_fd19_11eb_a551_0242ac1c0002row3_col6,#T_1737f738_fd19_11eb_a551_0242ac1c0002row3_col7,#T_1737f738_fd19_11eb_a551_0242ac1c0002row5_col0,#T_1737f738_fd19_11eb_a551_0242ac1c0002row5_col3,#T_1737f738_fd19_11eb_a551_0242ac1c0002row5_col8,#T_1737f738_fd19_11eb_a551_0242ac1c0002row6_col8,#T_1737f738_fd19_11eb_a551_0242ac1c0002row7_col8{\n",
              "            background-color:  #a50026;\n",
              "            color:  #f1f1f1;\n",
              "        }#T_1737f738_fd19_11eb_a551_0242ac1c0002row0_col3{\n",
              "            background-color:  #e5f49b;\n",
              "            color:  #000000;\n",
              "        }#T_1737f738_fd19_11eb_a551_0242ac1c0002row0_col4{\n",
              "            background-color:  #f88950;\n",
              "            color:  #000000;\n",
              "        }#T_1737f738_fd19_11eb_a551_0242ac1c0002row0_col5{\n",
              "            background-color:  #e34933;\n",
              "            color:  #f1f1f1;\n",
              "        }#T_1737f738_fd19_11eb_a551_0242ac1c0002row0_col6,#T_1737f738_fd19_11eb_a551_0242ac1c0002row8_col1{\n",
              "            background-color:  #dc3b2c;\n",
              "            color:  #f1f1f1;\n",
              "        }#T_1737f738_fd19_11eb_a551_0242ac1c0002row0_col7{\n",
              "            background-color:  #e14430;\n",
              "            color:  #f1f1f1;\n",
              "        }#T_1737f738_fd19_11eb_a551_0242ac1c0002row1_col0{\n",
              "            background-color:  #bb1526;\n",
              "            color:  #f1f1f1;\n",
              "        }#T_1737f738_fd19_11eb_a551_0242ac1c0002row1_col2,#T_1737f738_fd19_11eb_a551_0242ac1c0002row2_col1{\n",
              "            background-color:  #026c39;\n",
              "            color:  #f1f1f1;\n",
              "        }#T_1737f738_fd19_11eb_a551_0242ac1c0002row1_col3,#T_1737f738_fd19_11eb_a551_0242ac1c0002row1_col4{\n",
              "            background-color:  #f47044;\n",
              "            color:  #000000;\n",
              "        }#T_1737f738_fd19_11eb_a551_0242ac1c0002row1_col5{\n",
              "            background-color:  #d9ef8b;\n",
              "            color:  #000000;\n",
              "        }#T_1737f738_fd19_11eb_a551_0242ac1c0002row1_col6{\n",
              "            background-color:  #fff8b4;\n",
              "            color:  #000000;\n",
              "        }#T_1737f738_fd19_11eb_a551_0242ac1c0002row1_col7,#T_1737f738_fd19_11eb_a551_0242ac1c0002row2_col7{\n",
              "            background-color:  #ecf7a6;\n",
              "            color:  #000000;\n",
              "        }#T_1737f738_fd19_11eb_a551_0242ac1c0002row1_col8{\n",
              "            background-color:  #b50f26;\n",
              "            color:  #f1f1f1;\n",
              "        }#T_1737f738_fd19_11eb_a551_0242ac1c0002row2_col0,#T_1737f738_fd19_11eb_a551_0242ac1c0002row4_col2,#T_1737f738_fd19_11eb_a551_0242ac1c0002row4_col3{\n",
              "            background-color:  #b91326;\n",
              "            color:  #f1f1f1;\n",
              "        }#T_1737f738_fd19_11eb_a551_0242ac1c0002row2_col3{\n",
              "            background-color:  #f67a49;\n",
              "            color:  #000000;\n",
              "        }#T_1737f738_fd19_11eb_a551_0242ac1c0002row2_col4{\n",
              "            background-color:  #ed5f3c;\n",
              "            color:  #000000;\n",
              "        }#T_1737f738_fd19_11eb_a551_0242ac1c0002row2_col5{\n",
              "            background-color:  #daf08d;\n",
              "            color:  #000000;\n",
              "        }#T_1737f738_fd19_11eb_a551_0242ac1c0002row2_col6{\n",
              "            background-color:  #fff7b2;\n",
              "            color:  #000000;\n",
              "        }#T_1737f738_fd19_11eb_a551_0242ac1c0002row2_col8{\n",
              "            background-color:  #b10b26;\n",
              "            color:  #f1f1f1;\n",
              "        }#T_1737f738_fd19_11eb_a551_0242ac1c0002row3_col0{\n",
              "            background-color:  #fffdbc;\n",
              "            color:  #000000;\n",
              "        }#T_1737f738_fd19_11eb_a551_0242ac1c0002row3_col1,#T_1737f738_fd19_11eb_a551_0242ac1c0002row3_col8,#T_1737f738_fd19_11eb_a551_0242ac1c0002row6_col0{\n",
              "            background-color:  #b30d26;\n",
              "            color:  #f1f1f1;\n",
              "        }#T_1737f738_fd19_11eb_a551_0242ac1c0002row3_col2{\n",
              "            background-color:  #bd1726;\n",
              "            color:  #f1f1f1;\n",
              "        }#T_1737f738_fd19_11eb_a551_0242ac1c0002row4_col0{\n",
              "            background-color:  #e65036;\n",
              "            color:  #000000;\n",
              "        }#T_1737f738_fd19_11eb_a551_0242ac1c0002row4_col1{\n",
              "            background-color:  #c82227;\n",
              "            color:  #f1f1f1;\n",
              "        }#T_1737f738_fd19_11eb_a551_0242ac1c0002row4_col5{\n",
              "            background-color:  #fdbb6c;\n",
              "            color:  #000000;\n",
              "        }#T_1737f738_fd19_11eb_a551_0242ac1c0002row4_col6{\n",
              "            background-color:  #fba05b;\n",
              "            color:  #000000;\n",
              "        }#T_1737f738_fd19_11eb_a551_0242ac1c0002row4_col7{\n",
              "            background-color:  #fdb567;\n",
              "            color:  #000000;\n",
              "        }#T_1737f738_fd19_11eb_a551_0242ac1c0002row4_col8{\n",
              "            background-color:  #ab0626;\n",
              "            color:  #f1f1f1;\n",
              "        }#T_1737f738_fd19_11eb_a551_0242ac1c0002row5_col1{\n",
              "            background-color:  #fbfdba;\n",
              "            color:  #000000;\n",
              "        }#T_1737f738_fd19_11eb_a551_0242ac1c0002row5_col2{\n",
              "            background-color:  #fdfebc;\n",
              "            color:  #000000;\n",
              "        }#T_1737f738_fd19_11eb_a551_0242ac1c0002row5_col4{\n",
              "            background-color:  #fcaa5f;\n",
              "            color:  #000000;\n",
              "        }#T_1737f738_fd19_11eb_a551_0242ac1c0002row5_col6{\n",
              "            background-color:  #d3ec87;\n",
              "            color:  #000000;\n",
              "        }#T_1737f738_fd19_11eb_a551_0242ac1c0002row5_col7{\n",
              "            background-color:  #7ac665;\n",
              "            color:  #000000;\n",
              "        }#T_1737f738_fd19_11eb_a551_0242ac1c0002row6_col1,#T_1737f738_fd19_11eb_a551_0242ac1c0002row6_col2{\n",
              "            background-color:  #fede89;\n",
              "            color:  #000000;\n",
              "        }#T_1737f738_fd19_11eb_a551_0242ac1c0002row6_col3{\n",
              "            background-color:  #be1827;\n",
              "            color:  #f1f1f1;\n",
              "        }#T_1737f738_fd19_11eb_a551_0242ac1c0002row6_col4{\n",
              "            background-color:  #fca55d;\n",
              "            color:  #000000;\n",
              "        }#T_1737f738_fd19_11eb_a551_0242ac1c0002row6_col5{\n",
              "            background-color:  #c7e77f;\n",
              "            color:  #000000;\n",
              "        }#T_1737f738_fd19_11eb_a551_0242ac1c0002row6_col7,#T_1737f738_fd19_11eb_a551_0242ac1c0002row7_col6{\n",
              "            background-color:  #05713c;\n",
              "            color:  #f1f1f1;\n",
              "        }#T_1737f738_fd19_11eb_a551_0242ac1c0002row7_col0{\n",
              "            background-color:  #a90426;\n",
              "            color:  #f1f1f1;\n",
              "        }#T_1737f738_fd19_11eb_a551_0242ac1c0002row7_col1,#T_1737f738_fd19_11eb_a551_0242ac1c0002row7_col2{\n",
              "            background-color:  #fff2aa;\n",
              "            color:  #000000;\n",
              "        }#T_1737f738_fd19_11eb_a551_0242ac1c0002row7_col3{\n",
              "            background-color:  #ad0826;\n",
              "            color:  #f1f1f1;\n",
              "        }#T_1737f738_fd19_11eb_a551_0242ac1c0002row7_col4{\n",
              "            background-color:  #fdad60;\n",
              "            color:  #000000;\n",
              "        }#T_1737f738_fd19_11eb_a551_0242ac1c0002row7_col5{\n",
              "            background-color:  #78c565;\n",
              "            color:  #000000;\n",
              "        }#T_1737f738_fd19_11eb_a551_0242ac1c0002row8_col0{\n",
              "            background-color:  #e0422f;\n",
              "            color:  #f1f1f1;\n",
              "        }#T_1737f738_fd19_11eb_a551_0242ac1c0002row8_col2{\n",
              "            background-color:  #db382b;\n",
              "            color:  #f1f1f1;\n",
              "        }#T_1737f738_fd19_11eb_a551_0242ac1c0002row8_col3{\n",
              "            background-color:  #fb9d59;\n",
              "            color:  #000000;\n",
              "        }#T_1737f738_fd19_11eb_a551_0242ac1c0002row8_col4{\n",
              "            background-color:  #f7814c;\n",
              "            color:  #000000;\n",
              "        }#T_1737f738_fd19_11eb_a551_0242ac1c0002row8_col5{\n",
              "            background-color:  #f99153;\n",
              "            color:  #000000;\n",
              "        }#T_1737f738_fd19_11eb_a551_0242ac1c0002row8_col6{\n",
              "            background-color:  #f57547;\n",
              "            color:  #000000;\n",
              "        }#T_1737f738_fd19_11eb_a551_0242ac1c0002row8_col7{\n",
              "            background-color:  #f8864f;\n",
              "            color:  #000000;\n",
              "        }</style><table id=\"T_1737f738_fd19_11eb_a551_0242ac1c0002\" ><thead>    <tr>        <th class=\"blank level0\" ></th>        <th class=\"col_heading level0 col0\" >weathersit</th>        <th class=\"col_heading level0 col1\" >temp</th>        <th class=\"col_heading level0 col2\" >atemp</th>        <th class=\"col_heading level0 col3\" >hum</th>        <th class=\"col_heading level0 col4\" >windspeed</th>        <th class=\"col_heading level0 col5\" >casual</th>        <th class=\"col_heading level0 col6\" >registered</th>        <th class=\"col_heading level0 col7\" >cnt</th>        <th class=\"col_heading level0 col8\" >day</th>    </tr></thead><tbody>\n",
              "                <tr>\n",
              "                        <th id=\"T_1737f738_fd19_11eb_a551_0242ac1c0002level0_row0\" class=\"row_heading level0 row0\" >weathersit</th>\n",
              "                        <td id=\"T_1737f738_fd19_11eb_a551_0242ac1c0002row0_col0\" class=\"data row0 col0\" >1.000000</td>\n",
              "                        <td id=\"T_1737f738_fd19_11eb_a551_0242ac1c0002row0_col1\" class=\"data row0 col1\" >-0.102640</td>\n",
              "                        <td id=\"T_1737f738_fd19_11eb_a551_0242ac1c0002row0_col2\" class=\"data row0 col2\" >-0.105563</td>\n",
              "                        <td id=\"T_1737f738_fd19_11eb_a551_0242ac1c0002row0_col3\" class=\"data row0 col3\" >0.418130</td>\n",
              "                        <td id=\"T_1737f738_fd19_11eb_a551_0242ac1c0002row0_col4\" class=\"data row0 col4\" >0.026226</td>\n",
              "                        <td id=\"T_1737f738_fd19_11eb_a551_0242ac1c0002row0_col5\" class=\"data row0 col5\" >-0.152628</td>\n",
              "                        <td id=\"T_1737f738_fd19_11eb_a551_0242ac1c0002row0_col6\" class=\"data row0 col6\" >-0.120966</td>\n",
              "                        <td id=\"T_1737f738_fd19_11eb_a551_0242ac1c0002row0_col7\" class=\"data row0 col7\" >-0.142426</td>\n",
              "                        <td id=\"T_1737f738_fd19_11eb_a551_0242ac1c0002row0_col8\" class=\"data row0 col8\" >-0.003882</td>\n",
              "            </tr>\n",
              "            <tr>\n",
              "                        <th id=\"T_1737f738_fd19_11eb_a551_0242ac1c0002level0_row1\" class=\"row_heading level0 row1\" >temp</th>\n",
              "                        <td id=\"T_1737f738_fd19_11eb_a551_0242ac1c0002row1_col0\" class=\"data row1 col0\" >-0.102640</td>\n",
              "                        <td id=\"T_1737f738_fd19_11eb_a551_0242ac1c0002row1_col1\" class=\"data row1 col1\" >1.000000</td>\n",
              "                        <td id=\"T_1737f738_fd19_11eb_a551_0242ac1c0002row1_col2\" class=\"data row1 col2\" >0.987672</td>\n",
              "                        <td id=\"T_1737f738_fd19_11eb_a551_0242ac1c0002row1_col3\" class=\"data row1 col3\" >-0.069881</td>\n",
              "                        <td id=\"T_1737f738_fd19_11eb_a551_0242ac1c0002row1_col4\" class=\"data row1 col4\" >-0.023125</td>\n",
              "                        <td id=\"T_1737f738_fd19_11eb_a551_0242ac1c0002row1_col5\" class=\"data row1 col5\" >0.459616</td>\n",
              "                        <td id=\"T_1737f738_fd19_11eb_a551_0242ac1c0002row1_col6\" class=\"data row1 col6\" >0.335361</td>\n",
              "                        <td id=\"T_1737f738_fd19_11eb_a551_0242ac1c0002row1_col7\" class=\"data row1 col7\" >0.404772</td>\n",
              "                        <td id=\"T_1737f738_fd19_11eb_a551_0242ac1c0002row1_col8\" class=\"data row1 col8\" >0.027180</td>\n",
              "            </tr>\n",
              "            <tr>\n",
              "                        <th id=\"T_1737f738_fd19_11eb_a551_0242ac1c0002level0_row2\" class=\"row_heading level0 row2\" >atemp</th>\n",
              "                        <td id=\"T_1737f738_fd19_11eb_a551_0242ac1c0002row2_col0\" class=\"data row2 col0\" >-0.105563</td>\n",
              "                        <td id=\"T_1737f738_fd19_11eb_a551_0242ac1c0002row2_col1\" class=\"data row2 col1\" >0.987672</td>\n",
              "                        <td id=\"T_1737f738_fd19_11eb_a551_0242ac1c0002row2_col2\" class=\"data row2 col2\" >1.000000</td>\n",
              "                        <td id=\"T_1737f738_fd19_11eb_a551_0242ac1c0002row2_col3\" class=\"data row2 col3\" >-0.051918</td>\n",
              "                        <td id=\"T_1737f738_fd19_11eb_a551_0242ac1c0002row2_col4\" class=\"data row2 col4\" >-0.062336</td>\n",
              "                        <td id=\"T_1737f738_fd19_11eb_a551_0242ac1c0002row2_col5\" class=\"data row2 col5\" >0.454080</td>\n",
              "                        <td id=\"T_1737f738_fd19_11eb_a551_0242ac1c0002row2_col6\" class=\"data row2 col6\" >0.332559</td>\n",
              "                        <td id=\"T_1737f738_fd19_11eb_a551_0242ac1c0002row2_col7\" class=\"data row2 col7\" >0.400929</td>\n",
              "                        <td id=\"T_1737f738_fd19_11eb_a551_0242ac1c0002row2_col8\" class=\"data row2 col8\" >0.021269</td>\n",
              "            </tr>\n",
              "            <tr>\n",
              "                        <th id=\"T_1737f738_fd19_11eb_a551_0242ac1c0002level0_row3\" class=\"row_heading level0 row3\" >hum</th>\n",
              "                        <td id=\"T_1737f738_fd19_11eb_a551_0242ac1c0002row3_col0\" class=\"data row3 col0\" >0.418130</td>\n",
              "                        <td id=\"T_1737f738_fd19_11eb_a551_0242ac1c0002row3_col1\" class=\"data row3 col1\" >-0.069881</td>\n",
              "                        <td id=\"T_1737f738_fd19_11eb_a551_0242ac1c0002row3_col2\" class=\"data row3 col2\" >-0.051918</td>\n",
              "                        <td id=\"T_1737f738_fd19_11eb_a551_0242ac1c0002row3_col3\" class=\"data row3 col3\" >1.000000</td>\n",
              "                        <td id=\"T_1737f738_fd19_11eb_a551_0242ac1c0002row3_col4\" class=\"data row3 col4\" >-0.290105</td>\n",
              "                        <td id=\"T_1737f738_fd19_11eb_a551_0242ac1c0002row3_col5\" class=\"data row3 col5\" >-0.347028</td>\n",
              "                        <td id=\"T_1737f738_fd19_11eb_a551_0242ac1c0002row3_col6\" class=\"data row3 col6\" >-0.273933</td>\n",
              "                        <td id=\"T_1737f738_fd19_11eb_a551_0242ac1c0002row3_col7\" class=\"data row3 col7\" >-0.322911</td>\n",
              "                        <td id=\"T_1737f738_fd19_11eb_a551_0242ac1c0002row3_col8\" class=\"data row3 col8\" >0.025663</td>\n",
              "            </tr>\n",
              "            <tr>\n",
              "                        <th id=\"T_1737f738_fd19_11eb_a551_0242ac1c0002level0_row4\" class=\"row_heading level0 row4\" >windspeed</th>\n",
              "                        <td id=\"T_1737f738_fd19_11eb_a551_0242ac1c0002row4_col0\" class=\"data row4 col0\" >0.026226</td>\n",
              "                        <td id=\"T_1737f738_fd19_11eb_a551_0242ac1c0002row4_col1\" class=\"data row4 col1\" >-0.023125</td>\n",
              "                        <td id=\"T_1737f738_fd19_11eb_a551_0242ac1c0002row4_col2\" class=\"data row4 col2\" >-0.062336</td>\n",
              "                        <td id=\"T_1737f738_fd19_11eb_a551_0242ac1c0002row4_col3\" class=\"data row4 col3\" >-0.290105</td>\n",
              "                        <td id=\"T_1737f738_fd19_11eb_a551_0242ac1c0002row4_col4\" class=\"data row4 col4\" >1.000000</td>\n",
              "                        <td id=\"T_1737f738_fd19_11eb_a551_0242ac1c0002row4_col5\" class=\"data row4 col5\" >0.090287</td>\n",
              "                        <td id=\"T_1737f738_fd19_11eb_a551_0242ac1c0002row4_col6\" class=\"data row4 col6\" >0.082321</td>\n",
              "                        <td id=\"T_1737f738_fd19_11eb_a551_0242ac1c0002row4_col7\" class=\"data row4 col7\" >0.093234</td>\n",
              "                        <td id=\"T_1737f738_fd19_11eb_a551_0242ac1c0002row4_col8\" class=\"data row4 col8\" >0.010505</td>\n",
              "            </tr>\n",
              "            <tr>\n",
              "                        <th id=\"T_1737f738_fd19_11eb_a551_0242ac1c0002level0_row5\" class=\"row_heading level0 row5\" >casual</th>\n",
              "                        <td id=\"T_1737f738_fd19_11eb_a551_0242ac1c0002row5_col0\" class=\"data row5 col0\" >-0.152628</td>\n",
              "                        <td id=\"T_1737f738_fd19_11eb_a551_0242ac1c0002row5_col1\" class=\"data row5 col1\" >0.459616</td>\n",
              "                        <td id=\"T_1737f738_fd19_11eb_a551_0242ac1c0002row5_col2\" class=\"data row5 col2\" >0.454080</td>\n",
              "                        <td id=\"T_1737f738_fd19_11eb_a551_0242ac1c0002row5_col3\" class=\"data row5 col3\" >-0.347028</td>\n",
              "                        <td id=\"T_1737f738_fd19_11eb_a551_0242ac1c0002row5_col4\" class=\"data row5 col4\" >0.090287</td>\n",
              "                        <td id=\"T_1737f738_fd19_11eb_a551_0242ac1c0002row5_col5\" class=\"data row5 col5\" >1.000000</td>\n",
              "                        <td id=\"T_1737f738_fd19_11eb_a551_0242ac1c0002row5_col6\" class=\"data row5 col6\" >0.506618</td>\n",
              "                        <td id=\"T_1737f738_fd19_11eb_a551_0242ac1c0002row5_col7\" class=\"data row5 col7\" >0.694564</td>\n",
              "                        <td id=\"T_1737f738_fd19_11eb_a551_0242ac1c0002row5_col8\" class=\"data row5 col8\" >-0.003283</td>\n",
              "            </tr>\n",
              "            <tr>\n",
              "                        <th id=\"T_1737f738_fd19_11eb_a551_0242ac1c0002level0_row6\" class=\"row_heading level0 row6\" >registered</th>\n",
              "                        <td id=\"T_1737f738_fd19_11eb_a551_0242ac1c0002row6_col0\" class=\"data row6 col0\" >-0.120966</td>\n",
              "                        <td id=\"T_1737f738_fd19_11eb_a551_0242ac1c0002row6_col1\" class=\"data row6 col1\" >0.335361</td>\n",
              "                        <td id=\"T_1737f738_fd19_11eb_a551_0242ac1c0002row6_col2\" class=\"data row6 col2\" >0.332559</td>\n",
              "                        <td id=\"T_1737f738_fd19_11eb_a551_0242ac1c0002row6_col3\" class=\"data row6 col3\" >-0.273933</td>\n",
              "                        <td id=\"T_1737f738_fd19_11eb_a551_0242ac1c0002row6_col4\" class=\"data row6 col4\" >0.082321</td>\n",
              "                        <td id=\"T_1737f738_fd19_11eb_a551_0242ac1c0002row6_col5\" class=\"data row6 col5\" >0.506618</td>\n",
              "                        <td id=\"T_1737f738_fd19_11eb_a551_0242ac1c0002row6_col6\" class=\"data row6 col6\" >1.000000</td>\n",
              "                        <td id=\"T_1737f738_fd19_11eb_a551_0242ac1c0002row6_col7\" class=\"data row6 col7\" >0.972151</td>\n",
              "                        <td id=\"T_1737f738_fd19_11eb_a551_0242ac1c0002row6_col8\" class=\"data row6 col8\" >-0.004098</td>\n",
              "            </tr>\n",
              "            <tr>\n",
              "                        <th id=\"T_1737f738_fd19_11eb_a551_0242ac1c0002level0_row7\" class=\"row_heading level0 row7\" >cnt</th>\n",
              "                        <td id=\"T_1737f738_fd19_11eb_a551_0242ac1c0002row7_col0\" class=\"data row7 col0\" >-0.142426</td>\n",
              "                        <td id=\"T_1737f738_fd19_11eb_a551_0242ac1c0002row7_col1\" class=\"data row7 col1\" >0.404772</td>\n",
              "                        <td id=\"T_1737f738_fd19_11eb_a551_0242ac1c0002row7_col2\" class=\"data row7 col2\" >0.400929</td>\n",
              "                        <td id=\"T_1737f738_fd19_11eb_a551_0242ac1c0002row7_col3\" class=\"data row7 col3\" >-0.322911</td>\n",
              "                        <td id=\"T_1737f738_fd19_11eb_a551_0242ac1c0002row7_col4\" class=\"data row7 col4\" >0.093234</td>\n",
              "                        <td id=\"T_1737f738_fd19_11eb_a551_0242ac1c0002row7_col5\" class=\"data row7 col5\" >0.694564</td>\n",
              "                        <td id=\"T_1737f738_fd19_11eb_a551_0242ac1c0002row7_col6\" class=\"data row7 col6\" >0.972151</td>\n",
              "                        <td id=\"T_1737f738_fd19_11eb_a551_0242ac1c0002row7_col7\" class=\"data row7 col7\" >1.000000</td>\n",
              "                        <td id=\"T_1737f738_fd19_11eb_a551_0242ac1c0002row7_col8\" class=\"data row7 col8\" >-0.004312</td>\n",
              "            </tr>\n",
              "            <tr>\n",
              "                        <th id=\"T_1737f738_fd19_11eb_a551_0242ac1c0002level0_row8\" class=\"row_heading level0 row8\" >day</th>\n",
              "                        <td id=\"T_1737f738_fd19_11eb_a551_0242ac1c0002row8_col0\" class=\"data row8 col0\" >-0.003882</td>\n",
              "                        <td id=\"T_1737f738_fd19_11eb_a551_0242ac1c0002row8_col1\" class=\"data row8 col1\" >0.027180</td>\n",
              "                        <td id=\"T_1737f738_fd19_11eb_a551_0242ac1c0002row8_col2\" class=\"data row8 col2\" >0.021269</td>\n",
              "                        <td id=\"T_1737f738_fd19_11eb_a551_0242ac1c0002row8_col3\" class=\"data row8 col3\" >0.025663</td>\n",
              "                        <td id=\"T_1737f738_fd19_11eb_a551_0242ac1c0002row8_col4\" class=\"data row8 col4\" >0.010505</td>\n",
              "                        <td id=\"T_1737f738_fd19_11eb_a551_0242ac1c0002row8_col5\" class=\"data row8 col5\" >-0.003283</td>\n",
              "                        <td id=\"T_1737f738_fd19_11eb_a551_0242ac1c0002row8_col6\" class=\"data row8 col6\" >-0.004098</td>\n",
              "                        <td id=\"T_1737f738_fd19_11eb_a551_0242ac1c0002row8_col7\" class=\"data row8 col7\" >-0.004312</td>\n",
              "                        <td id=\"T_1737f738_fd19_11eb_a551_0242ac1c0002row8_col8\" class=\"data row8 col8\" >1.000000</td>\n",
              "            </tr>\n",
              "    </tbody></table>"
            ],
            "text/plain": [
              "<pandas.io.formats.style.Styler at 0x7f093de8ef90>"
            ]
          },
          "metadata": {
            "tags": []
          },
          "execution_count": 53
        }
      ]
    },
    {
      "cell_type": "code",
      "metadata": {
        "colab": {
          "base_uri": "https://localhost:8080/",
          "height": 294
        },
        "id": "6uQ6Jw-TD7u8",
        "outputId": "0a51a2e9-74c8-4ed7-b276-70c4c510c64b"
      },
      "source": [
        "fig, ax = plt.subplots()\n",
        "sns.barplot(data=df_hour[['season','cnt']],\n",
        "            x='season',\n",
        "            y='cnt',\n",
        "            ax=ax)\n",
        "\n",
        "plt.title('Capital Bikeshare Ridership by Season')\n",
        "plt.ylabel('Cnt')\n",
        "plt.xlabel('Season')\n",
        "\n",
        "tick_val=[0, 1, 2, 3]\n",
        "tick_lab=['Winter', 'Spring', 'Summer', 'Fall']\n",
        "plt.xticks(tick_val, tick_lab)\n",
        "\n",
        "plt.show()"
      ],
      "execution_count": null,
      "outputs": [
        {
          "output_type": "display_data",
          "data": {
            "image/png": "[encoded data removed]",
            "text/plain": [
              "<Figure size 432x288 with 1 Axes>"
            ]
          },
          "metadata": {
            "tags": [],
            "needs_background": "light"
          }
        }
      ]
    },
    {
      "cell_type": "code",
      "metadata": {
        "colab": {
          "base_uri": "https://localhost:8080/",
          "height": 294
        },
        "id": "U5SOgTQlvKSF",
        "outputId": "560ed68e-a1bc-49f7-d03a-5e815cc7c431"
      },
      "source": [
        "fig, ax = plt.subplots()\n",
        "sns.barplot(data=df_hour[['weekday','cnt']],\n",
        "            x='weekday',\n",
        "            y='cnt',\n",
        "            ax=ax)\n",
        "\n",
        "plt.title('Capital Bikeshare Ridership by Weekday')\n",
        "plt.ylabel('Cnt')\n",
        "plt.xlabel('Weekday')\n",
        "\n",
        "tick_val=[0, 1, 2, 3, 4, 5, 6]\n",
        "tick_lab=['Sun', 'Mon', 'Tues', 'Wen', 'Thu', 'Fri', 'Sat']\n",
        "plt.xticks(tick_val, tick_lab)\n",
        "\n",
        "plt.show()"
      ],
      "execution_count": null,
      "outputs": [
        {
          "output_type": "display_data",
          "data": {
            "image/png": "[encoded data removed]",
            "text/plain": [
              "<Figure size 432x288 with 1 Axes>"
            ]
          },
          "metadata": {
            "tags": [],
            "needs_background": "light"
          }
        }
      ]
    },
    {
      "cell_type": "code",
      "metadata": {
        "colab": {
          "base_uri": "https://localhost:8080/",
          "height": 294
        },
        "id": "AXTOUVNIy81y",
        "outputId": "a86a2a0e-7f0b-42fc-ba71-4cbbf1c9e6ae"
      },
      "source": [
        "fig, ax = plt.subplots()\n",
        "sns.barplot(data=df_hour[['month','cnt']], x='month', y='cnt', ax=ax)\n",
        "\n",
        "plt.title('Capital Bikeshare Ridership by Month')\n",
        "plt.ylabel('Cnt')\n",
        "plt.xlabel('Mnth')\n",
        "\n",
        "tick_val=[0, 1, 2, 3, 4, 5, 6, 7, 8, 9, 10, 11]\n",
        "tick_lab=['January', 'February', 'March', 'April', 'May', 'June', 'July', 'August', 'September', 'October', 'November', 'December']\n",
        "plt.xticks(tick_val, tick_lab)\n",
        "\n",
        "plt.show()"
      ],
      "execution_count": null,
      "outputs": [
        {
          "output_type": "display_data",
          "data": {
            "image/png": "[encoded data removed]",
            "text/plain": [
              "<Figure size 432x288 with 1 Axes>"
            ]
          },
          "metadata": {
            "tags": [],
            "needs_background": "light"
          }
        }
      ]
    },
    {
      "cell_type": "code",
      "metadata": {
        "colab": {
          "base_uri": "https://localhost:8080/",
          "height": 294
        },
        "id": "Dv_XKtoJNR21",
        "outputId": "db380a87-4023-4bf4-b46c-72123f8ad161"
      },
      "source": [
        "fig, ax = plt.subplots()\n",
        "sns.pointplot(data=df_hour[['month', 'casual', 'registered']],\n",
        "              x='month',\n",
        "              y='casual',\n",
        "              ax=ax,\n",
        "              color='orange')\n",
        "\n",
        "sns.pointplot(data=df_hour[['month', 'casual', 'registered']],\n",
        "              x='month',\n",
        "              y='registered',\n",
        "              ax=ax,\n",
        "              color='green')\n",
        "\n",
        "tick_val=[0, 1, 2, 3, 4, 5, 6, 7, 8, 9, 10, 11]\n",
        "tick_lab=['January', 'February', 'March', 'April', 'May', 'June', 'July', 'August', 'September', 'October', 'November', 'December']\n",
        "plt.xticks(tick_val, tick_lab)\n",
        "\n",
        "plt.title('Casual and Registered Bikeshare Ridership by Month')\n",
        "plt.ylabel('cnt')\n",
        "plt.xlabel('Month')\n",
        "\n",
        "plt.show()"
      ],
      "execution_count": null,
      "outputs": [
        {
          "output_type": "display_data",
          "data": {
            "image/png": "[encoded data removed]",
            "text/plain": [
              "<Figure size 432x288 with 1 Axes>"
            ]
          },
          "metadata": {
            "tags": [],
            "needs_background": "light"
          }
        }
      ]
    },
    {
      "cell_type": "code",
      "metadata": {
        "colab": {
          "base_uri": "https://localhost:8080/",
          "height": 234
        },
        "id": "lzxoSEifNnAb",
        "outputId": "8e764628-cc3a-407d-ef68-ca7c888862fd"
      },
      "source": [
        "fig, ax = plt.subplots()\n",
        "sns.pointplot(data=df_hour[['weekday', 'casual', 'registered']],\n",
        "              x='weekday',\n",
        "              y='casual',\n",
        "              ax=ax,\n",
        "              color='orange')\n",
        "\n",
        "sns.pointplot(data=df_hour[['weekday', 'casual', 'registered']],\n",
        "              x='weekday',\n",
        "              y='registered',\n",
        "              ax=ax,\n",
        "              color='green')\n",
        "\n",
        "tick_val=[0, 1, 2, 3, 4, 5, 6]\n",
        "tick_lab=['Sunday', 'Monday', 'Tuesday', 'Wendesday', 'Thursday', 'Friday', 'Saturday']\n",
        "plt.xticks(tick_val, tick_lab)\n",
        "\n",
        "plt.title('Casual and Registered Bikeshare Ridership by Month')\n",
        "plt.ylabel('cnt')\n",
        "plt.xlabel('Month')\n",
        "\n",
        "plt.show()"
      ],
      "execution_count": null,
      "outputs": [
        {
          "output_type": "error",
          "ename": "NameError",
          "evalue": "ignored",
          "traceback": [
            "\u001b[0;31m---------------------------------------------------------------------------\u001b[0m",
            "\u001b[0;31mNameError\u001b[0m                                 Traceback (most recent call last)",
            "\u001b[0;32m<ipython-input-1-217d73d58606>\u001b[0m in \u001b[0;36m<module>\u001b[0;34m()\u001b[0m\n\u001b[0;32m----> 1\u001b[0;31m \u001b[0mfig\u001b[0m\u001b[0;34m,\u001b[0m \u001b[0max\u001b[0m \u001b[0;34m=\u001b[0m \u001b[0mplt\u001b[0m\u001b[0;34m.\u001b[0m\u001b[0msubplots\u001b[0m\u001b[0;34m(\u001b[0m\u001b[0;34m)\u001b[0m\u001b[0;34m\u001b[0m\u001b[0;34m\u001b[0m\u001b[0m\n\u001b[0m\u001b[1;32m      2\u001b[0m sns.pointplot(data=df_hour[['weekday', 'casual', 'registered']],\n\u001b[1;32m      3\u001b[0m               \u001b[0mx\u001b[0m\u001b[0;34m=\u001b[0m\u001b[0;34m'weekday'\u001b[0m\u001b[0;34m,\u001b[0m\u001b[0;34m\u001b[0m\u001b[0;34m\u001b[0m\u001b[0m\n\u001b[1;32m      4\u001b[0m               \u001b[0my\u001b[0m\u001b[0;34m=\u001b[0m\u001b[0;34m'casual'\u001b[0m\u001b[0;34m,\u001b[0m\u001b[0;34m\u001b[0m\u001b[0;34m\u001b[0m\u001b[0m\n\u001b[1;32m      5\u001b[0m               \u001b[0max\u001b[0m\u001b[0;34m=\u001b[0m\u001b[0max\u001b[0m\u001b[0;34m,\u001b[0m\u001b[0;34m\u001b[0m\u001b[0;34m\u001b[0m\u001b[0m\n",
            "\u001b[0;31mNameError\u001b[0m: name 'plt' is not defined"
          ]
        }
      ]
    },
    {
      "cell_type": "markdown",
      "metadata": {
        "id": "mvOUjOUUrkb8"
      },
      "source": [
        "**Types of Weather **\n",
        "- 1: Clear, Few clouds, Partly cloudy, Partly cloudy\n",
        "- 2: Mist + Cloudy, Mist + Broken clouds, Mist + Few clouds, Mist\n",
        "- 3: Light Snow, Light Rain + Thunderstorm + Scattered clouds, Light Rain + Scattered clouds\n",
        "- 4: Heavy Rain + Ice Pallets + Thunderstorm + Mist, Snow + Fog"
      ]
    },
    {
      "cell_type": "code",
      "metadata": {
        "colab": {
          "base_uri": "https://localhost:8080/",
          "height": 234
        },
        "id": "ML9TR_RJqm4q",
        "outputId": "7528f5da-19ea-4385-9ca6-333fe6c1f376"
      },
      "source": [
        "plt.rcParams['figure.figsize'] = [12.0, 12.0]\n",
        "sns.set_context('talk', font_scale=0.6)\n",
        "\n",
        "g = sns.FacetGrid(data=df_hour,\n",
        "               col='season',\n",
        "               row='weathersit',hue='season')\n",
        "g.map(plt.hist,'cnt')\n",
        "\n",
        "plt.subplots_adjust(top=0.9)\n",
        "g.fig.suptitle('Capital Bikeshare Ridership by Weather Type')\n",
        "\n",
        "g.set_xlabels('Total Rides')\n",
        "g.set_ylabels('Frequency')\n",
        "\n",
        "plt.show()"
      ],
      "execution_count": null,
      "outputs": [
        {
          "output_type": "error",
          "ename": "NameError",
          "evalue": "ignored",
          "traceback": [
            "\u001b[0;31m---------------------------------------------------------------------------\u001b[0m",
            "\u001b[0;31mNameError\u001b[0m                                 Traceback (most recent call last)",
            "\u001b[0;32m<ipython-input-6-b30740e9ebf5>\u001b[0m in \u001b[0;36m<module>\u001b[0;34m()\u001b[0m\n\u001b[1;32m      2\u001b[0m \u001b[0msns\u001b[0m\u001b[0;34m.\u001b[0m\u001b[0mset_context\u001b[0m\u001b[0;34m(\u001b[0m\u001b[0;34m'talk'\u001b[0m\u001b[0;34m,\u001b[0m \u001b[0mfont_scale\u001b[0m\u001b[0;34m=\u001b[0m\u001b[0;36m0.6\u001b[0m\u001b[0;34m)\u001b[0m\u001b[0;34m\u001b[0m\u001b[0;34m\u001b[0m\u001b[0m\n\u001b[1;32m      3\u001b[0m \u001b[0;34m\u001b[0m\u001b[0m\n\u001b[0;32m----> 4\u001b[0;31m g = sns.FacetGrid(data=df_hour,\n\u001b[0m\u001b[1;32m      5\u001b[0m                \u001b[0mcol\u001b[0m\u001b[0;34m=\u001b[0m\u001b[0;34m'season'\u001b[0m\u001b[0;34m,\u001b[0m\u001b[0;34m\u001b[0m\u001b[0;34m\u001b[0m\u001b[0m\n\u001b[1;32m      6\u001b[0m                row='weathersit',hue='season')\n",
            "\u001b[0;31mNameError\u001b[0m: name 'df_hour' is not defined"
          ]
        }
      ]
    },
    {
      "cell_type": "code",
      "metadata": {
        "colab": {
          "base_uri": "https://localhost:8080/",
          "height": 165
        },
        "id": "vAZyGtdagxwb",
        "outputId": "1bc79bf0-c166-46ba-fa0c-3d5e112466f6"
      },
      "source": [
        "df_hour[\"weathersit\"].value_counts() "
      ],
      "execution_count": null,
      "outputs": [
        {
          "output_type": "error",
          "ename": "NameError",
          "evalue": "ignored",
          "traceback": [
            "\u001b[0;31m---------------------------------------------------------------------------\u001b[0m",
            "\u001b[0;31mNameError\u001b[0m                                 Traceback (most recent call last)",
            "\u001b[0;32m<ipython-input-7-74e0b4d54af6>\u001b[0m in \u001b[0;36m<module>\u001b[0;34m()\u001b[0m\n\u001b[0;32m----> 1\u001b[0;31m \u001b[0mdf_hour\u001b[0m\u001b[0;34m[\u001b[0m\u001b[0;34m\"weathersit\"\u001b[0m\u001b[0;34m]\u001b[0m\u001b[0;34m.\u001b[0m\u001b[0mvalue_counts\u001b[0m\u001b[0;34m(\u001b[0m\u001b[0;34m)\u001b[0m\u001b[0;34m\u001b[0m\u001b[0;34m\u001b[0m\u001b[0m\n\u001b[0m",
            "\u001b[0;31mNameError\u001b[0m: name 'df_hour' is not defined"
          ]
        }
      ]
    },
    {
      "cell_type": "code",
      "metadata": {
        "id": "0NmFDbrVhwwS"
      },
      "source": [
        "df_hour[\"weathersit\"].value_counts().plot(kind = 'bar',  subplots = True)"
      ],
      "execution_count": null,
      "outputs": []
    },
    {
      "cell_type": "code",
      "metadata": {
        "id": "ZlaXjWkk4Q0F"
      },
      "source": [
        "plt.figure(figsize=(10, 6))\n",
        "sns.catplot(x=\"weathersit\", y=\"cnt\", kind=\"point\", data=df_hour,\n",
        "           order = [\"Clear-Cloudy\", \"Mist-Cloudy\", \"Light Rainy-Snowy\", \"Heavy\"])\n",
        "plt.ylabel(\"Cnt\", size=14)\n",
        "plt.xlabel(\"weather\", size=14)\n",
        "plt.title(\"Demand according to weather\", size=18)\n"
      ],
      "execution_count": null,
      "outputs": []
    },
    {
      "cell_type": "markdown",
      "metadata": {
        "id": "MRml7z4TqsC4"
      },
      "source": [
        "# DF STATION\n"
      ]
    },
    {
      "cell_type": "code",
      "metadata": {
        "id": "_T3d1dDYqqP5"
      },
      "source": [
        "df_s = pd.read_csv('/content/station_info.csv')"
      ],
      "execution_count": null,
      "outputs": []
    },
    {
      "cell_type": "code",
      "metadata": {
        "id": "ahq8XJVgryUq"
      },
      "source": [
        "df_lw = pd.read_csv('/content/last_week.csv')"
      ],
      "execution_count": null,
      "outputs": []
    },
    {
      "cell_type": "code",
      "metadata": {
        "id": "xqRQ3CgcrpRO",
        "colab": {
          "base_uri": "https://localhost:8080/",
          "height": 424
        },
        "outputId": "030cc6a2-09fb-484b-df47-59a53eeb7702"
      },
      "source": [
        "df_s"
      ],
      "execution_count": null,
      "outputs": [
        {
          "output_type": "execute_result",
          "data": {
            "text/html": [
              "<div>\n",
              "<style scoped>\n",
              "    .dataframe tbody tr th:only-of-type {\n",
              "        vertical-align: middle;\n",
              "    }\n",
              "\n",
              "    .dataframe tbody tr th {\n",
              "        vertical-align: top;\n",
              "    }\n",
              "\n",
              "    .dataframe thead th {\n",
              "        text-align: right;\n",
              "    }\n",
              "</style>\n",
              "<table border=\"1\" class=\"dataframe\">\n",
              "  <thead>\n",
              "    <tr style=\"text-align: right;\">\n",
              "      <th></th>\n",
              "      <th>Unnamed: 0</th>\n",
              "      <th>Name</th>\n",
              "      <th>Capacity</th>\n",
              "    </tr>\n",
              "  </thead>\n",
              "  <tbody>\n",
              "    <tr>\n",
              "      <th>0</th>\n",
              "      <td>0</td>\n",
              "      <td>Eads St &amp; 15th St S</td>\n",
              "      <td>15</td>\n",
              "    </tr>\n",
              "    <tr>\n",
              "      <th>1</th>\n",
              "      <td>1</td>\n",
              "      <td>18th St &amp; S Eads St</td>\n",
              "      <td>11</td>\n",
              "    </tr>\n",
              "    <tr>\n",
              "      <th>2</th>\n",
              "      <td>2</td>\n",
              "      <td>Crystal Dr &amp; 20th St S</td>\n",
              "      <td>17</td>\n",
              "    </tr>\n",
              "    <tr>\n",
              "      <th>3</th>\n",
              "      <td>3</td>\n",
              "      <td>Crystal Dr &amp; 15th St S</td>\n",
              "      <td>16</td>\n",
              "    </tr>\n",
              "    <tr>\n",
              "      <th>4</th>\n",
              "      <td>4</td>\n",
              "      <td>Aurora Hills Cmty Ctr / 18th St &amp; S Hayes St</td>\n",
              "      <td>12</td>\n",
              "    </tr>\n",
              "    <tr>\n",
              "      <th>...</th>\n",
              "      <td>...</td>\n",
              "      <td>...</td>\n",
              "      <td>...</td>\n",
              "    </tr>\n",
              "    <tr>\n",
              "      <th>642</th>\n",
              "      <td>642</td>\n",
              "      <td>Green Range Dr and Glade Dr</td>\n",
              "      <td>12</td>\n",
              "    </tr>\n",
              "    <tr>\n",
              "      <th>643</th>\n",
              "      <td>643</td>\n",
              "      <td>South Gate Community Center</td>\n",
              "      <td>12</td>\n",
              "    </tr>\n",
              "    <tr>\n",
              "      <th>644</th>\n",
              "      <td>644</td>\n",
              "      <td>Lake Newport Rd and Autumn Ridge Cir</td>\n",
              "      <td>12</td>\n",
              "    </tr>\n",
              "    <tr>\n",
              "      <th>645</th>\n",
              "      <td>645</td>\n",
              "      <td>Ridge Heights and Owl Cove Ln</td>\n",
              "      <td>12</td>\n",
              "    </tr>\n",
              "    <tr>\n",
              "      <th>646</th>\n",
              "      <td>646</td>\n",
              "      <td>Soapstone Dr Convenience Center</td>\n",
              "      <td>12</td>\n",
              "    </tr>\n",
              "  </tbody>\n",
              "</table>\n",
              "<p>647 rows × 3 columns</p>\n",
              "</div>"
            ],
            "text/plain": [
              "     Unnamed: 0                                          Name  Capacity\n",
              "0             0                           Eads St & 15th St S        15\n",
              "1             1                           18th St & S Eads St        11\n",
              "2             2                        Crystal Dr & 20th St S        17\n",
              "3             3                        Crystal Dr & 15th St S        16\n",
              "4             4  Aurora Hills Cmty Ctr / 18th St & S Hayes St        12\n",
              "..          ...                                           ...       ...\n",
              "642         642                   Green Range Dr and Glade Dr        12\n",
              "643         643                   South Gate Community Center        12\n",
              "644         644          Lake Newport Rd and Autumn Ridge Cir        12\n",
              "645         645                 Ridge Heights and Owl Cove Ln        12\n",
              "646         646               Soapstone Dr Convenience Center        12\n",
              "\n",
              "[647 rows x 3 columns]"
            ]
          },
          "metadata": {
            "tags": []
          },
          "execution_count": 107
        }
      ]
    },
    {
      "cell_type": "code",
      "metadata": {
        "id": "oP1AMq6p8WhJ",
        "colab": {
          "base_uri": "https://localhost:8080/"
        },
        "outputId": "69fecacc-d90b-40f5-d71d-ddbb541f44b8"
      },
      "source": [
        "df_s[\"Name\"].nunique()\n"
      ],
      "execution_count": null,
      "outputs": [
        {
          "output_type": "execute_result",
          "data": {
            "text/plain": [
              "647"
            ]
          },
          "metadata": {
            "tags": []
          },
          "execution_count": 108
        }
      ]
    },
    {
      "cell_type": "code",
      "metadata": {
        "id": "qkLC3PCI9YDP",
        "colab": {
          "base_uri": "https://localhost:8080/",
          "height": 362
        },
        "outputId": "a8c9f749-9c58-4b71-b28e-def18ebbfee7"
      },
      "source": [
        "df_s.sort_values(by = 'Capacity', ascending = True ).head(10)"
      ],
      "execution_count": null,
      "outputs": [
        {
          "output_type": "execute_result",
          "data": {
            "text/html": [
              "<div>\n",
              "<style scoped>\n",
              "    .dataframe tbody tr th:only-of-type {\n",
              "        vertical-align: middle;\n",
              "    }\n",
              "\n",
              "    .dataframe tbody tr th {\n",
              "        vertical-align: top;\n",
              "    }\n",
              "\n",
              "    .dataframe thead th {\n",
              "        text-align: right;\n",
              "    }\n",
              "</style>\n",
              "<table border=\"1\" class=\"dataframe\">\n",
              "  <thead>\n",
              "    <tr style=\"text-align: right;\">\n",
              "      <th></th>\n",
              "      <th>Unnamed: 0</th>\n",
              "      <th>Name</th>\n",
              "      <th>Capacity</th>\n",
              "    </tr>\n",
              "  </thead>\n",
              "  <tbody>\n",
              "    <tr>\n",
              "      <th>577</th>\n",
              "      <td>577</td>\n",
              "      <td>Hardy Rec Center</td>\n",
              "      <td>8</td>\n",
              "    </tr>\n",
              "    <tr>\n",
              "      <th>255</th>\n",
              "      <td>255</td>\n",
              "      <td>Frederick Ave &amp; Horners Ln</td>\n",
              "      <td>9</td>\n",
              "    </tr>\n",
              "    <tr>\n",
              "      <th>324</th>\n",
              "      <td>324</td>\n",
              "      <td>Mount Vernon Ave &amp; E Nelson Ave</td>\n",
              "      <td>11</td>\n",
              "    </tr>\n",
              "    <tr>\n",
              "      <th>164</th>\n",
              "      <td>164</td>\n",
              "      <td>N Veitch St &amp; Key Blvd</td>\n",
              "      <td>11</td>\n",
              "    </tr>\n",
              "    <tr>\n",
              "      <th>166</th>\n",
              "      <td>166</td>\n",
              "      <td>15th St &amp; N Scott St</td>\n",
              "      <td>11</td>\n",
              "    </tr>\n",
              "    <tr>\n",
              "      <th>167</th>\n",
              "      <td>167</td>\n",
              "      <td>Washington Blvd &amp; 7th St N</td>\n",
              "      <td>11</td>\n",
              "    </tr>\n",
              "    <tr>\n",
              "      <th>169</th>\n",
              "      <td>169</td>\n",
              "      <td>Fairfax Dr &amp; N Randolph St</td>\n",
              "      <td>11</td>\n",
              "    </tr>\n",
              "    <tr>\n",
              "      <th>70</th>\n",
              "      <td>70</td>\n",
              "      <td>12th &amp; Newton St NE</td>\n",
              "      <td>11</td>\n",
              "    </tr>\n",
              "    <tr>\n",
              "      <th>172</th>\n",
              "      <td>172</td>\n",
              "      <td>Glebe Rd &amp; 11th St N</td>\n",
              "      <td>11</td>\n",
              "    </tr>\n",
              "    <tr>\n",
              "      <th>174</th>\n",
              "      <td>174</td>\n",
              "      <td>GMU / Fairfax Dr &amp; Kenmore St</td>\n",
              "      <td>11</td>\n",
              "    </tr>\n",
              "  </tbody>\n",
              "</table>\n",
              "</div>"
            ],
            "text/plain": [
              "     Unnamed: 0                             Name  Capacity\n",
              "577         577                 Hardy Rec Center         8\n",
              "255         255       Frederick Ave & Horners Ln         9\n",
              "324         324  Mount Vernon Ave & E Nelson Ave        11\n",
              "164         164           N Veitch St & Key Blvd        11\n",
              "166         166             15th St & N Scott St        11\n",
              "167         167       Washington Blvd & 7th St N        11\n",
              "169         169       Fairfax Dr & N Randolph St        11\n",
              "70           70              12th & Newton St NE        11\n",
              "172         172             Glebe Rd & 11th St N        11\n",
              "174         174    GMU / Fairfax Dr & Kenmore St        11"
            ]
          },
          "metadata": {
            "tags": []
          },
          "execution_count": 109
        }
      ]
    },
    {
      "cell_type": "code",
      "metadata": {
        "id": "6YvA63pq3Aqy",
        "colab": {
          "base_uri": "https://localhost:8080/",
          "height": 362
        },
        "outputId": "cfe48da4-a20d-4c53-b779-fdce2abf9887"
      },
      "source": [
        "df_s.sort_values(by = 'Capacity', ascending = False ).head(10)"
      ],
      "execution_count": null,
      "outputs": [
        {
          "output_type": "execute_result",
          "data": {
            "text/html": [
              "<div>\n",
              "<style scoped>\n",
              "    .dataframe tbody tr th:only-of-type {\n",
              "        vertical-align: middle;\n",
              "    }\n",
              "\n",
              "    .dataframe tbody tr th {\n",
              "        vertical-align: top;\n",
              "    }\n",
              "\n",
              "    .dataframe thead th {\n",
              "        text-align: right;\n",
              "    }\n",
              "</style>\n",
              "<table border=\"1\" class=\"dataframe\">\n",
              "  <thead>\n",
              "    <tr style=\"text-align: right;\">\n",
              "      <th></th>\n",
              "      <th>Unnamed: 0</th>\n",
              "      <th>Name</th>\n",
              "      <th>Capacity</th>\n",
              "    </tr>\n",
              "  </thead>\n",
              "  <tbody>\n",
              "    <tr>\n",
              "      <th>110</th>\n",
              "      <td>110</td>\n",
              "      <td>Columbus Circle / Union Station</td>\n",
              "      <td>55</td>\n",
              "    </tr>\n",
              "    <tr>\n",
              "      <th>48</th>\n",
              "      <td>48</td>\n",
              "      <td>Massachusetts Ave &amp; Dupont Circle NW</td>\n",
              "      <td>45</td>\n",
              "    </tr>\n",
              "    <tr>\n",
              "      <th>43</th>\n",
              "      <td>43</td>\n",
              "      <td>1st &amp; N St  SE</td>\n",
              "      <td>39</td>\n",
              "    </tr>\n",
              "    <tr>\n",
              "      <th>100</th>\n",
              "      <td>100</td>\n",
              "      <td>Metro Center / 12th &amp; G St NW</td>\n",
              "      <td>39</td>\n",
              "    </tr>\n",
              "    <tr>\n",
              "      <th>68</th>\n",
              "      <td>68</td>\n",
              "      <td>USDA / 12th &amp; C St SW</td>\n",
              "      <td>39</td>\n",
              "    </tr>\n",
              "    <tr>\n",
              "      <th>134</th>\n",
              "      <td>134</td>\n",
              "      <td>4th &amp; C St SW</td>\n",
              "      <td>39</td>\n",
              "    </tr>\n",
              "    <tr>\n",
              "      <th>103</th>\n",
              "      <td>103</td>\n",
              "      <td>17th &amp; K St NW / Farragut Square</td>\n",
              "      <td>35</td>\n",
              "    </tr>\n",
              "    <tr>\n",
              "      <th>25</th>\n",
              "      <td>25</td>\n",
              "      <td>21st &amp; I St NW</td>\n",
              "      <td>35</td>\n",
              "    </tr>\n",
              "    <tr>\n",
              "      <th>161</th>\n",
              "      <td>161</td>\n",
              "      <td>Smithsonian-National Mall / Jefferson Dr &amp; 12t...</td>\n",
              "      <td>35</td>\n",
              "    </tr>\n",
              "    <tr>\n",
              "      <th>106</th>\n",
              "      <td>106</td>\n",
              "      <td>19th St &amp; Constitution Ave NW</td>\n",
              "      <td>35</td>\n",
              "    </tr>\n",
              "  </tbody>\n",
              "</table>\n",
              "</div>"
            ],
            "text/plain": [
              "     Unnamed: 0                                               Name  Capacity\n",
              "110         110                    Columbus Circle / Union Station        55\n",
              "48           48               Massachusetts Ave & Dupont Circle NW        45\n",
              "43           43                                     1st & N St  SE        39\n",
              "100         100                      Metro Center / 12th & G St NW        39\n",
              "68           68                              USDA / 12th & C St SW        39\n",
              "134         134                                      4th & C St SW        39\n",
              "103         103                   17th & K St NW / Farragut Square        35\n",
              "25           25                                     21st & I St NW        35\n",
              "161         161  Smithsonian-National Mall / Jefferson Dr & 12t...        35\n",
              "106         106                      19th St & Constitution Ave NW        35"
            ]
          },
          "metadata": {
            "tags": []
          },
          "execution_count": 110
        }
      ]
    },
    {
      "cell_type": "code",
      "metadata": {
        "id": "ULKun1u7r8Tr",
        "colab": {
          "base_uri": "https://localhost:8080/",
          "height": 424
        },
        "outputId": "ebed4c2f-9504-46f2-deea-6aa8af8f5aeb"
      },
      "source": [
        "df_lw"
      ],
      "execution_count": null,
      "outputs": [
        {
          "output_type": "execute_result",
          "data": {
            "text/html": [
              "<div>\n",
              "<style scoped>\n",
              "    .dataframe tbody tr th:only-of-type {\n",
              "        vertical-align: middle;\n",
              "    }\n",
              "\n",
              "    .dataframe tbody tr th {\n",
              "        vertical-align: top;\n",
              "    }\n",
              "\n",
              "    .dataframe thead th {\n",
              "        text-align: right;\n",
              "    }\n",
              "</style>\n",
              "<table border=\"1\" class=\"dataframe\">\n",
              "  <thead>\n",
              "    <tr style=\"text-align: right;\">\n",
              "      <th></th>\n",
              "      <th>ride_id</th>\n",
              "      <th>rideable_type</th>\n",
              "      <th>started_at</th>\n",
              "      <th>ended_at</th>\n",
              "      <th>start_station_name</th>\n",
              "      <th>start_station_id</th>\n",
              "      <th>end_station_name</th>\n",
              "      <th>end_station_id</th>\n",
              "      <th>start_lat</th>\n",
              "      <th>start_lng</th>\n",
              "      <th>end_lat</th>\n",
              "      <th>end_lng</th>\n",
              "      <th>member_casual</th>\n",
              "      <th>day</th>\n",
              "    </tr>\n",
              "  </thead>\n",
              "  <tbody>\n",
              "    <tr>\n",
              "      <th>0</th>\n",
              "      <td>B3FA23181ADC06FE</td>\n",
              "      <td>docked_bike</td>\n",
              "      <td>2021-06-25 00:51:53</td>\n",
              "      <td>2021-06-25 01:51:40</td>\n",
              "      <td>Georgia Ave &amp; Spring St</td>\n",
              "      <td>32035.0</td>\n",
              "      <td>New Hampshire &amp; Kirklynn Ave</td>\n",
              "      <td>32061.0</td>\n",
              "      <td>38.999388</td>\n",
              "      <td>-77.031555</td>\n",
              "      <td>38.988101</td>\n",
              "      <td>-76.988422</td>\n",
              "      <td>casual</td>\n",
              "      <td>2021-06-25</td>\n",
              "    </tr>\n",
              "    <tr>\n",
              "      <th>1</th>\n",
              "      <td>6A153F2AD6700EE1</td>\n",
              "      <td>classic_bike</td>\n",
              "      <td>2021-06-22 06:28:23</td>\n",
              "      <td>2021-06-22 06:33:19</td>\n",
              "      <td>Merrifield Cinema &amp; Merrifield Town Center</td>\n",
              "      <td>32235.0</td>\n",
              "      <td>Merrilee Dr &amp; Lauren Elizabeth Lane</td>\n",
              "      <td>32234.0</td>\n",
              "      <td>38.870093</td>\n",
              "      <td>-77.229970</td>\n",
              "      <td>38.879355</td>\n",
              "      <td>-77.230681</td>\n",
              "      <td>casual</td>\n",
              "      <td>2021-06-22</td>\n",
              "    </tr>\n",
              "    <tr>\n",
              "      <th>2</th>\n",
              "      <td>7265E4C759F1EDC0</td>\n",
              "      <td>classic_bike</td>\n",
              "      <td>2021-06-22 22:27:28</td>\n",
              "      <td>2021-06-22 22:30:39</td>\n",
              "      <td>Columbia &amp; Ontario Rd NW</td>\n",
              "      <td>31296.0</td>\n",
              "      <td>15th &amp; Harvard St NW</td>\n",
              "      <td>31103.0</td>\n",
              "      <td>38.924088</td>\n",
              "      <td>-77.040787</td>\n",
              "      <td>38.926124</td>\n",
              "      <td>-77.035421</td>\n",
              "      <td>member</td>\n",
              "      <td>2021-06-22</td>\n",
              "    </tr>\n",
              "    <tr>\n",
              "      <th>3</th>\n",
              "      <td>18FB278BE5F2B0C7</td>\n",
              "      <td>docked_bike</td>\n",
              "      <td>2021-06-26 20:49:57</td>\n",
              "      <td>2021-06-26 22:44:29</td>\n",
              "      <td>1st &amp; H St NW</td>\n",
              "      <td>31638.0</td>\n",
              "      <td>1st &amp; H St NW</td>\n",
              "      <td>31638.0</td>\n",
              "      <td>38.900358</td>\n",
              "      <td>-77.012108</td>\n",
              "      <td>38.900358</td>\n",
              "      <td>-77.012108</td>\n",
              "      <td>casual</td>\n",
              "      <td>2021-06-26</td>\n",
              "    </tr>\n",
              "    <tr>\n",
              "      <th>4</th>\n",
              "      <td>294E78FE02E1C65F</td>\n",
              "      <td>classic_bike</td>\n",
              "      <td>2021-06-22 20:35:41</td>\n",
              "      <td>2021-06-22 20:45:27</td>\n",
              "      <td>5th &amp; K St NW</td>\n",
              "      <td>31600.0</td>\n",
              "      <td>17th St &amp; Massachusetts Ave NW</td>\n",
              "      <td>31267.0</td>\n",
              "      <td>38.903040</td>\n",
              "      <td>-77.019027</td>\n",
              "      <td>38.908142</td>\n",
              "      <td>-77.038359</td>\n",
              "      <td>member</td>\n",
              "      <td>2021-06-22</td>\n",
              "    </tr>\n",
              "    <tr>\n",
              "      <th>...</th>\n",
              "      <td>...</td>\n",
              "      <td>...</td>\n",
              "      <td>...</td>\n",
              "      <td>...</td>\n",
              "      <td>...</td>\n",
              "      <td>...</td>\n",
              "      <td>...</td>\n",
              "      <td>...</td>\n",
              "      <td>...</td>\n",
              "      <td>...</td>\n",
              "      <td>...</td>\n",
              "      <td>...</td>\n",
              "      <td>...</td>\n",
              "      <td>...</td>\n",
              "    </tr>\n",
              "    <tr>\n",
              "      <th>57929</th>\n",
              "      <td>A964858139D8693F</td>\n",
              "      <td>classic_bike</td>\n",
              "      <td>2021-06-23 11:48:10</td>\n",
              "      <td>2021-06-23 12:03:06</td>\n",
              "      <td>17th St &amp; Independence Ave SW</td>\n",
              "      <td>31290.0</td>\n",
              "      <td>17th St &amp; Independence Ave SW</td>\n",
              "      <td>31290.0</td>\n",
              "      <td>38.888097</td>\n",
              "      <td>-77.038325</td>\n",
              "      <td>38.888097</td>\n",
              "      <td>-77.038325</td>\n",
              "      <td>member</td>\n",
              "      <td>2021-06-23</td>\n",
              "    </tr>\n",
              "    <tr>\n",
              "      <th>57930</th>\n",
              "      <td>C027BB4E110C06B7</td>\n",
              "      <td>docked_bike</td>\n",
              "      <td>2021-06-25 00:07:51</td>\n",
              "      <td>2021-06-25 00:40:00</td>\n",
              "      <td>17th St &amp; Independence Ave SW</td>\n",
              "      <td>31290.0</td>\n",
              "      <td>17th St &amp; Independence Ave SW</td>\n",
              "      <td>31290.0</td>\n",
              "      <td>38.888097</td>\n",
              "      <td>-77.038325</td>\n",
              "      <td>38.888097</td>\n",
              "      <td>-77.038325</td>\n",
              "      <td>casual</td>\n",
              "      <td>2021-06-25</td>\n",
              "    </tr>\n",
              "    <tr>\n",
              "      <th>57931</th>\n",
              "      <td>3EF5B216B64E7FDD</td>\n",
              "      <td>docked_bike</td>\n",
              "      <td>2021-06-25 17:44:53</td>\n",
              "      <td>2021-06-25 18:11:00</td>\n",
              "      <td>17th St &amp; Independence Ave SW</td>\n",
              "      <td>31290.0</td>\n",
              "      <td>17th St &amp; Independence Ave SW</td>\n",
              "      <td>31290.0</td>\n",
              "      <td>38.888097</td>\n",
              "      <td>-77.038325</td>\n",
              "      <td>38.888097</td>\n",
              "      <td>-77.038325</td>\n",
              "      <td>casual</td>\n",
              "      <td>2021-06-25</td>\n",
              "    </tr>\n",
              "    <tr>\n",
              "      <th>57932</th>\n",
              "      <td>C37E11998FDC1078</td>\n",
              "      <td>classic_bike</td>\n",
              "      <td>2021-06-25 17:43:45</td>\n",
              "      <td>2021-06-25 18:11:10</td>\n",
              "      <td>17th St &amp; Independence Ave SW</td>\n",
              "      <td>31290.0</td>\n",
              "      <td>17th St &amp; Independence Ave SW</td>\n",
              "      <td>31290.0</td>\n",
              "      <td>38.888097</td>\n",
              "      <td>-77.038325</td>\n",
              "      <td>38.888097</td>\n",
              "      <td>-77.038325</td>\n",
              "      <td>casual</td>\n",
              "      <td>2021-06-25</td>\n",
              "    </tr>\n",
              "    <tr>\n",
              "      <th>57933</th>\n",
              "      <td>56B80D92A24B8C93</td>\n",
              "      <td>docked_bike</td>\n",
              "      <td>2021-06-21 20:00:18</td>\n",
              "      <td>2021-06-21 20:33:48</td>\n",
              "      <td>17th St &amp; Independence Ave SW</td>\n",
              "      <td>31290.0</td>\n",
              "      <td>17th St &amp; Independence Ave SW</td>\n",
              "      <td>31290.0</td>\n",
              "      <td>38.888097</td>\n",
              "      <td>-77.038325</td>\n",
              "      <td>38.888097</td>\n",
              "      <td>-77.038325</td>\n",
              "      <td>casual</td>\n",
              "      <td>2021-06-21</td>\n",
              "    </tr>\n",
              "  </tbody>\n",
              "</table>\n",
              "<p>57934 rows × 14 columns</p>\n",
              "</div>"
            ],
            "text/plain": [
              "                ride_id rideable_type  ... member_casual         day\n",
              "0      B3FA23181ADC06FE   docked_bike  ...        casual  2021-06-25\n",
              "1      6A153F2AD6700EE1  classic_bike  ...        casual  2021-06-22\n",
              "2      7265E4C759F1EDC0  classic_bike  ...        member  2021-06-22\n",
              "3      18FB278BE5F2B0C7   docked_bike  ...        casual  2021-06-26\n",
              "4      294E78FE02E1C65F  classic_bike  ...        member  2021-06-22\n",
              "...                 ...           ...  ...           ...         ...\n",
              "57929  A964858139D8693F  classic_bike  ...        member  2021-06-23\n",
              "57930  C027BB4E110C06B7   docked_bike  ...        casual  2021-06-25\n",
              "57931  3EF5B216B64E7FDD   docked_bike  ...        casual  2021-06-25\n",
              "57932  C37E11998FDC1078  classic_bike  ...        casual  2021-06-25\n",
              "57933  56B80D92A24B8C93   docked_bike  ...        casual  2021-06-21\n",
              "\n",
              "[57934 rows x 14 columns]"
            ]
          },
          "metadata": {
            "tags": []
          },
          "execution_count": 111
        }
      ]
    },
    {
      "cell_type": "code",
      "metadata": {
        "id": "SDgc5NlmvpZI",
        "colab": {
          "base_uri": "https://localhost:8080/"
        },
        "outputId": "21e7a4dd-387d-4d9a-8666-11df0f1cb34d"
      },
      "source": [
        "df_lw.dtypes\n"
      ],
      "execution_count": null,
      "outputs": [
        {
          "output_type": "execute_result",
          "data": {
            "text/plain": [
              "ride_id                object\n",
              "rideable_type          object\n",
              "started_at             object\n",
              "ended_at               object\n",
              "start_station_name     object\n",
              "start_station_id      float64\n",
              "end_station_name       object\n",
              "end_station_id        float64\n",
              "start_lat             float64\n",
              "start_lng             float64\n",
              "end_lat               float64\n",
              "end_lng               float64\n",
              "member_casual          object\n",
              "day                    object\n",
              "dtype: object"
            ]
          },
          "metadata": {
            "tags": []
          },
          "execution_count": 112
        }
      ]
    },
    {
      "cell_type": "code",
      "metadata": {
        "id": "3HMkHk_1wDcZ",
        "colab": {
          "base_uri": "https://localhost:8080/",
          "height": 237
        },
        "outputId": "0d4e0e8b-5daf-4e7e-cf84-c4bb89d4203b"
      },
      "source": [
        "df_lw.describe().T\n"
      ],
      "execution_count": null,
      "outputs": [
        {
          "output_type": "execute_result",
          "data": {
            "text/html": [
              "<div>\n",
              "<style scoped>\n",
              "    .dataframe tbody tr th:only-of-type {\n",
              "        vertical-align: middle;\n",
              "    }\n",
              "\n",
              "    .dataframe tbody tr th {\n",
              "        vertical-align: top;\n",
              "    }\n",
              "\n",
              "    .dataframe thead th {\n",
              "        text-align: right;\n",
              "    }\n",
              "</style>\n",
              "<table border=\"1\" class=\"dataframe\">\n",
              "  <thead>\n",
              "    <tr style=\"text-align: right;\">\n",
              "      <th></th>\n",
              "      <th>count</th>\n",
              "      <th>mean</th>\n",
              "      <th>std</th>\n",
              "      <th>min</th>\n",
              "      <th>25%</th>\n",
              "      <th>50%</th>\n",
              "      <th>75%</th>\n",
              "      <th>max</th>\n",
              "    </tr>\n",
              "  </thead>\n",
              "  <tbody>\n",
              "    <tr>\n",
              "      <th>start_station_id</th>\n",
              "      <td>52943.0</td>\n",
              "      <td>31359.690233</td>\n",
              "      <td>252.234932</td>\n",
              "      <td>31000.000000</td>\n",
              "      <td>31212.000000</td>\n",
              "      <td>31272.000000</td>\n",
              "      <td>31603.000000</td>\n",
              "      <td>32609.000000</td>\n",
              "    </tr>\n",
              "    <tr>\n",
              "      <th>end_station_id</th>\n",
              "      <td>52512.0</td>\n",
              "      <td>31360.699612</td>\n",
              "      <td>252.048691</td>\n",
              "      <td>31000.000000</td>\n",
              "      <td>31213.000000</td>\n",
              "      <td>31271.000000</td>\n",
              "      <td>31603.000000</td>\n",
              "      <td>32901.000000</td>\n",
              "    </tr>\n",
              "    <tr>\n",
              "      <th>start_lat</th>\n",
              "      <td>57934.0</td>\n",
              "      <td>38.903398</td>\n",
              "      <td>0.027371</td>\n",
              "      <td>38.782633</td>\n",
              "      <td>38.890496</td>\n",
              "      <td>38.902674</td>\n",
              "      <td>38.915417</td>\n",
              "      <td>39.123513</td>\n",
              "    </tr>\n",
              "    <tr>\n",
              "      <th>start_lng</th>\n",
              "      <td>57934.0</td>\n",
              "      <td>-77.031929</td>\n",
              "      <td>0.031668</td>\n",
              "      <td>-77.368416</td>\n",
              "      <td>-77.045128</td>\n",
              "      <td>-77.032008</td>\n",
              "      <td>-77.015970</td>\n",
              "      <td>-76.820000</td>\n",
              "    </tr>\n",
              "    <tr>\n",
              "      <th>end_lat</th>\n",
              "      <td>57848.0</td>\n",
              "      <td>38.902358</td>\n",
              "      <td>0.027130</td>\n",
              "      <td>38.780000</td>\n",
              "      <td>38.890000</td>\n",
              "      <td>38.902386</td>\n",
              "      <td>38.912717</td>\n",
              "      <td>39.123513</td>\n",
              "    </tr>\n",
              "    <tr>\n",
              "      <th>end_lng</th>\n",
              "      <td>57848.0</td>\n",
              "      <td>-77.031565</td>\n",
              "      <td>0.031517</td>\n",
              "      <td>-77.368447</td>\n",
              "      <td>-77.045000</td>\n",
              "      <td>-77.031887</td>\n",
              "      <td>-77.015861</td>\n",
              "      <td>-76.820000</td>\n",
              "    </tr>\n",
              "  </tbody>\n",
              "</table>\n",
              "</div>"
            ],
            "text/plain": [
              "                    count          mean  ...           75%           max\n",
              "start_station_id  52943.0  31359.690233  ...  31603.000000  32609.000000\n",
              "end_station_id    52512.0  31360.699612  ...  31603.000000  32901.000000\n",
              "start_lat         57934.0     38.903398  ...     38.915417     39.123513\n",
              "start_lng         57934.0    -77.031929  ...    -77.015970    -76.820000\n",
              "end_lat           57848.0     38.902358  ...     38.912717     39.123513\n",
              "end_lng           57848.0    -77.031565  ...    -77.015861    -76.820000\n",
              "\n",
              "[6 rows x 8 columns]"
            ]
          },
          "metadata": {
            "tags": []
          },
          "execution_count": 113
        }
      ]
    },
    {
      "cell_type": "code",
      "metadata": {
        "id": "I13dwMAfylWa",
        "colab": {
          "base_uri": "https://localhost:8080/"
        },
        "outputId": "a4241784-33c3-4238-95c0-276d4a0d728b"
      },
      "source": [
        "df_lw[\"end_station_name\"].value_counts(ascending=False)[0:10]"
      ],
      "execution_count": null,
      "outputs": [
        {
          "output_type": "execute_result",
          "data": {
            "text/plain": [
              "Jefferson Dr & 14th St SW                                721\n",
              "Lincoln Memorial                                         681\n",
              "4th St & Madison Dr NW                                   623\n",
              "15th & P St NW                                           596\n",
              "Henry Bacon Dr & Lincoln Memorial Circle NW              590\n",
              "New Hampshire Ave & T St NW                              569\n",
              "Smithsonian-National Mall / Jefferson Dr & 12th St SW    531\n",
              "3rd & M St NE                                            490\n",
              "Columbus Circle / Union Station                          482\n",
              "Massachusetts Ave & Dupont Circle NW                     454\n",
              "Name: end_station_name, dtype: int64"
            ]
          },
          "metadata": {
            "tags": []
          },
          "execution_count": 114
        }
      ]
    },
    {
      "cell_type": "code",
      "metadata": {
        "id": "EYhyS7Rcy3dB",
        "colab": {
          "base_uri": "https://localhost:8080/"
        },
        "outputId": "f535fd65-cebd-4e66-bdc4-d82c7c2df65a"
      },
      "source": [
        "df_lw[\"end_station_name\"].value_counts(ascending=True)[0:40]\n"
      ],
      "execution_count": null,
      "outputs": [
        {
          "output_type": "execute_result",
          "data": {
            "text/plain": [
              "Traville Gateway Dr & Gudelsky Dr                 1\n",
              "Towers Crescent Dr & Tysons One Pl                1\n",
              "Shady Grove Metro East                            1\n",
              "Campus Commons                                    1\n",
              "Stewart Ln & Old Columbia Pike                    1\n",
              "Stewart & April                                   1\n",
              "Needwood Rd & Eagles Head Ct                      1\n",
              "Shady Grove Metro West                            1\n",
              "Jones Branch Drive & Scotts Crossing Rd           1\n",
              "Amherst Ave & Prichard Rd                         1\n",
              "Wheaton Library & Community Rec Center            1\n",
              "Fairfax Village                                   1\n",
              "37th & Ely Pl SE                                  1\n",
              "Joliet St & MLK Ave SW/Bald Eagle Rec Ctr         1\n",
              "North Shore Dr & Village Rd                       2\n",
              "Congressional Ln & E Jefferson St                 2\n",
              "Briggs Chaney Park & Ride                         2\n",
              "N Howard St & Taney Ave                           2\n",
              "Monroe St & Monroe Pl                             2\n",
              "Key West Ave & Siesta Key Way                     2\n",
              "Tysons One Pl & Chain Bridge Rd                   2\n",
              "Spring St & 2nd Ave                               2\n",
              "Westpark & Park Run Dr                            2\n",
              "31st St & S Woodrow St                            2\n",
              "Whiting & Lane Dr                                 2\n",
              "Columbus Ave & Gramercy Blvd                      2\n",
              "E Fairfax St & S Washington St                    2\n",
              "Oxon Hill Park & Ride                             2\n",
              "White Oak Transit Center                          2\n",
              "Fishers Ln & Rock Creek Mill Rd                   2\n",
              "Reston Pkwy & Spectrum Dr                         2\n",
              "53rd & D St SE/C.W. Harris Elementary             2\n",
              "Citadel Ave & McGrath Blvd                        2\n",
              "New Hampshire & Lockwood                          2\n",
              "Stanton Square SE                                 2\n",
              "Oak Leaf & Lockwood                               2\n",
              "Shady Grove Hospital                              3\n",
              "Anacostia Library                                 3\n",
              "Montgomery College / W Campus Dr & Mannakee St    3\n",
              "61st St & Banks Pl NE                             3\n",
              "Name: end_station_name, dtype: int64"
            ]
          },
          "metadata": {
            "tags": []
          },
          "execution_count": 115
        }
      ]
    },
    {
      "cell_type": "code",
      "metadata": {
        "id": "uIlN8_xkgOy0",
        "colab": {
          "base_uri": "https://localhost:8080/"
        },
        "outputId": "2c8a86f6-6e98-4c3b-d855-9dd494a82a21"
      },
      "source": [
        "df_lw[\"start_station_name\"].value_counts(ascending=True)[0:40]\n"
      ],
      "execution_count": null,
      "outputs": [
        {
          "output_type": "execute_result",
          "data": {
            "text/plain": [
              "37th & Ely Pl SE                             1\n",
              "53rd & D St SE/C.W. Harris Elementary        1\n",
              "Citadel Ave & McGrath Blvd                   1\n",
              "United Medical Center                        1\n",
              "Jones Branch Drive & Scotts Crossing Rd      1\n",
              "Amherst Ave & Elkins St                      1\n",
              "4th St & Mississippi Ave SE                  1\n",
              "Key West Ave & Siesta Key Way                1\n",
              "Anacostia Library                            1\n",
              "Monroe St & Monroe Pl                        1\n",
              "Joliet St & MLK Ave SW/Bald Eagle Rec Ctr    1\n",
              "McLean Metro                                 1\n",
              "Traville Gateway Dr & Gudelsky Dr            1\n",
              "Columbus Ave & Gramercy Blvd                 1\n",
              "Shady Grove Hospital                         1\n",
              "Stewart Ln & Old Columbia Pike               1\n",
              "Lyttonsville Rd & Lyttonsville Pl            2\n",
              "White Oak Transit Center                     2\n",
              "N Hampton Dr & Ford Ave                      2\n",
              "Wheaton Library & Community Rec Center       2\n",
              "Tysons One Pl & Chain Bridge Rd              2\n",
              "Greensboro & Pinnacle Dr                     2\n",
              "Oxon Hill Park & Ride                        2\n",
              "Temporary Rd & Old Reston Ave                2\n",
              "Merrilee Dr & Lauren Elizabeth Lane          2\n",
              "Key West Ave & Diamondback Dr                2\n",
              "Shady Grove Metro East                       2\n",
              "Stewart & April                              2\n",
              "New Dominion Pkwy & Fountain Dr              2\n",
              "Arlington Blvd & S George Mason Dr           2\n",
              "Blueridge Ave & Elkin St                     2\n",
              "Westpark & Park Run Dr                       2\n",
              "Wheeler Ave & S. Floyd St.                   2\n",
              "North Shore Dr & Village Rd                  2\n",
              "Branch & Pennsylvania Ave SE                 2\n",
              "Fairfax Village                              2\n",
              "N Howard St & Taney Ave                      2\n",
              "Amherst Ave & Prichard Rd                    2\n",
              "Windham Ln & Amherst Ave                     2\n",
              "Needwood Rd & Eagles Head Ct                 3\n",
              "Name: start_station_name, dtype: int64"
            ]
          },
          "metadata": {
            "tags": []
          },
          "execution_count": 116
        }
      ]
    },
    {
      "cell_type": "code",
      "metadata": {
        "id": "hDQH6f2VQhc4"
      },
      "source": [
        "trip_mem = df_lw[(df_lw[\"member_casual\"] == \"member\")]"
      ],
      "execution_count": null,
      "outputs": []
    },
    {
      "cell_type": "code",
      "metadata": {
        "id": "F57OZbX4Q_K7"
      },
      "source": [
        "trip_cas = df_lw[(df_lw[\"member_casual\"] == \"casual\")]"
      ],
      "execution_count": null,
      "outputs": []
    },
    {
      "cell_type": "code",
      "metadata": {
        "id": "Ewclkt8eRYRa",
        "colab": {
          "base_uri": "https://localhost:8080/"
        },
        "outputId": "abaa5150-5073-4c7a-bd7b-37a483155030"
      },
      "source": [
        "trip_mem_start = trip_mem[\"start_station_name\"].value_counts()[0:20]\n",
        "trip_mem_start "
      ],
      "execution_count": null,
      "outputs": [
        {
          "output_type": "execute_result",
          "data": {
            "text/plain": [
              "New Hampshire Ave & T St NW                            437\n",
              "15th & P St NW                                         435\n",
              "3rd & M St NE                                          292\n",
              "17th & Corcoran St NW                                  290\n",
              "Columbus Circle / Union Station                        288\n",
              "1st & M St NE                                          270\n",
              "Thomas Circle                                          267\n",
              "5th & K St NW                                          267\n",
              "14th & V St NW                                         264\n",
              "11th & M St NW                                         256\n",
              "14th & Irving St NW                                    249\n",
              "Columbia & Ontario Rd NW                               240\n",
              "15th & W St NW                                         227\n",
              "8th & O St NW                                          227\n",
              "18th St & Wyoming Ave NW                               226\n",
              "14th & Rhode Island Ave NW                             221\n",
              "Eastern Market Metro / Pennsylvania Ave & 8th St SE    215\n",
              "14th & R St NW                                         208\n",
              "California St & Florida Ave NW                         206\n",
              "1st & K St SE                                          205\n",
              "Name: start_station_name, dtype: int64"
            ]
          },
          "metadata": {
            "tags": []
          },
          "execution_count": 119
        }
      ]
    },
    {
      "cell_type": "code",
      "metadata": {
        "id": "LL0hG1PhRlHB",
        "colab": {
          "base_uri": "https://localhost:8080/"
        },
        "outputId": "4653e7d4-c392-4816-8ca1-6fa883000dda"
      },
      "source": [
        "trip_mem_end = trip_mem[\"end_station_name\"].value_counts() [0:20]\n",
        "trip_mem_end"
      ],
      "execution_count": null,
      "outputs": [
        {
          "output_type": "execute_result",
          "data": {
            "text/plain": [
              "15th & P St NW                                         464\n",
              "New Hampshire Ave & T St NW                            451\n",
              "3rd & M St NE                                          347\n",
              "Columbus Circle / Union Station                        305\n",
              "17th & Corcoran St NW                                  289\n",
              "1st & M St NE                                          282\n",
              "14th & V St NW                                         273\n",
              "Massachusetts Ave & Dupont Circle NW                   263\n",
              "5th & K St NW                                          262\n",
              "15th & W St NW                                         247\n",
              "11th & M St NW                                         243\n",
              "14th & Rhode Island Ave NW                             243\n",
              "Thomas Circle                                          237\n",
              "8th & O St NW                                          237\n",
              "23rd & M St NW                                         233\n",
              "Eastern Market Metro / Pennsylvania Ave & 8th St SE    233\n",
              "14th & R St NW                                         225\n",
              "6th & H St NE                                          220\n",
              "California St & Florida Ave NW                         219\n",
              "4th & M St SW                                          218\n",
              "Name: end_station_name, dtype: int64"
            ]
          },
          "metadata": {
            "tags": []
          },
          "execution_count": 120
        }
      ]
    },
    {
      "cell_type": "code",
      "metadata": {
        "id": "h7mnPyXvSEQy",
        "colab": {
          "base_uri": "https://localhost:8080/"
        },
        "outputId": "65c20c2d-7cf4-4443-86bf-441b2919c6a1"
      },
      "source": [
        "trip_cas_start = trip_cas[\"start_station_name\"].value_counts() [0:20]\n",
        "trip_cas_start"
      ],
      "execution_count": null,
      "outputs": [
        {
          "output_type": "execute_result",
          "data": {
            "text/plain": [
              "Jefferson Dr & 14th St SW                                589\n",
              "Lincoln Memorial                                         586\n",
              "Henry Bacon Dr & Lincoln Memorial Circle NW              522\n",
              "4th St & Madison Dr NW                                   501\n",
              "Smithsonian-National Mall / Jefferson Dr & 12th St SW    463\n",
              "17th St & Independence Ave SW                            346\n",
              "Jefferson Memorial                                       307\n",
              "15th St & Constitution Ave NW                            293\n",
              "Ohio Dr & West Basin Dr SW / MLK & FDR Memorials         217\n",
              "Constitution Ave & 2nd St NW/DOL                         198\n",
              "15th St & Pennsylvania Ave NW                            193\n",
              "Maine Ave & 9th St SW                                    193\n",
              "Columbus Circle / Union Station                          189\n",
              "10th St & L'Enfant Plaza SW                              184\n",
              "Thomas Circle                                            175\n",
              "Massachusetts Ave & Dupont Circle NW                     173\n",
              "14th & R St NW                                           165\n",
              "1st & M St NE                                            158\n",
              "Maine Ave & 7th St SW                                    151\n",
              "Gravelly Point                                           148\n",
              "Name: start_station_name, dtype: int64"
            ]
          },
          "metadata": {
            "tags": []
          },
          "execution_count": 121
        }
      ]
    },
    {
      "cell_type": "code",
      "metadata": {
        "id": "CeLp8VGkSKtK",
        "colab": {
          "base_uri": "https://localhost:8080/"
        },
        "outputId": "ee28bcc4-58e6-479a-aae7-5fbb4d4b52ad"
      },
      "source": [
        "trip_cas_end = trip_cas[\"end_station_name\"].value_counts() [0:20]\n",
        "trip_cas_end"
      ],
      "execution_count": null,
      "outputs": [
        {
          "output_type": "execute_result",
          "data": {
            "text/plain": [
              "Jefferson Dr & 14th St SW                                628\n",
              "Lincoln Memorial                                         555\n",
              "Henry Bacon Dr & Lincoln Memorial Circle NW              516\n",
              "4th St & Madison Dr NW                                   467\n",
              "Smithsonian-National Mall / Jefferson Dr & 12th St SW    448\n",
              "17th St & Independence Ave SW                            321\n",
              "Jefferson Memorial                                       304\n",
              "15th St & Constitution Ave NW                            273\n",
              "Ohio Dr & West Basin Dr SW / MLK & FDR Memorials         208\n",
              "Maine Ave & 7th St SW                                    202\n",
              "Massachusetts Ave & Dupont Circle NW                     191\n",
              "Maine Ave & 9th St SW                                    188\n",
              "15th St & Pennsylvania Ave NW                            185\n",
              "Columbus Circle / Union Station                          177\n",
              "Constitution Ave & 2nd St NW/DOL                         173\n",
              "1st & M St NE                                            167\n",
              "M St & Pennsylvania Ave NW                               166\n",
              "14th & R St NW                                           165\n",
              "4th & C St SW                                            154\n",
              "1st & K St SE                                            154\n",
              "Name: end_station_name, dtype: int64"
            ]
          },
          "metadata": {
            "tags": []
          },
          "execution_count": 122
        }
      ]
    },
    {
      "cell_type": "code",
      "metadata": {
        "id": "OC6qXKZtJ3Tb",
        "colab": {
          "base_uri": "https://localhost:8080/",
          "height": 1000
        },
        "outputId": "41c31341-7f06-474a-ed30-59412a95c509"
      },
      "source": [
        "trip_mem_start.plot(kind = 'bar',  subplots = True)"
      ],
      "execution_count": null,
      "outputs": [
        {
          "output_type": "execute_result",
          "data": {
            "text/plain": [
              "array([<matplotlib.axes._subplots.AxesSubplot object at 0x7f6f6ad84910>],\n",
              "      dtype=object)"
            ]
          },
          "metadata": {
            "tags": []
          },
          "execution_count": 123
        },
        {
          "output_type": "display_data",
          "data": {
            "image/png": "[encoded data removed]",
            "text/plain": [
              "<Figure size 864x864 with 1 Axes>"
            ]
          },
          "metadata": {
            "tags": [],
            "needs_background": "light"
          }
        }
      ]
    },
    {
      "cell_type": "code",
      "metadata": {
        "id": "jy4rog7ST0MM",
        "colab": {
          "base_uri": "https://localhost:8080/",
          "height": 1000
        },
        "outputId": "faca2261-d657-4fa3-ee35-fe89d5c615ff"
      },
      "source": [
        "trip_mem_end.plot(kind = 'bar',  subplots = True)"
      ],
      "execution_count": null,
      "outputs": [
        {
          "output_type": "execute_result",
          "data": {
            "text/plain": [
              "array([<matplotlib.axes._subplots.AxesSubplot object at 0x7f6f69fad090>],\n",
              "      dtype=object)"
            ]
          },
          "metadata": {
            "tags": []
          },
          "execution_count": 124
        },
        {
          "output_type": "display_data",
          "data": {
            "image/png": "[encoded data removed]",
            "text/plain": [
              "<Figure size 864x864 with 1 Axes>"
            ]
          },
          "metadata": {
            "tags": [],
            "needs_background": "light"
          }
        }
      ]
    },
    {
      "cell_type": "code",
      "metadata": {
        "id": "WZVbFmW8T-kJ",
        "colab": {
          "base_uri": "https://localhost:8080/",
          "height": 1000
        },
        "outputId": "3a9d8d54-c3de-408b-c5ea-a2a305e384ee"
      },
      "source": [
        "trip_cas_start.plot(kind = 'bar',  subplots = True)"
      ],
      "execution_count": null,
      "outputs": [
        {
          "output_type": "execute_result",
          "data": {
            "text/plain": [
              "array([<matplotlib.axes._subplots.AxesSubplot object at 0x7f6f6a053110>],\n",
              "      dtype=object)"
            ]
          },
          "metadata": {
            "tags": []
          },
          "execution_count": 125
        },
        {
          "output_type": "display_data",
          "data": {
            "image/png": "[encoded data removed]",
            "text/plain": [
              "<Figure size 864x864 with 1 Axes>"
            ]
          },
          "metadata": {
            "tags": [],
            "needs_background": "light"
          }
        }
      ]
    },
    {
      "cell_type": "code",
      "metadata": {
        "id": "KCdATRCkUCjz",
        "colab": {
          "base_uri": "https://localhost:8080/",
          "height": 1000
        },
        "outputId": "6b214e36-6e5f-4ee0-8021-64f493fd1e50"
      },
      "source": [
        "trip_cas_end.plot(kind = 'bar',  subplots = True)"
      ],
      "execution_count": null,
      "outputs": [
        {
          "output_type": "execute_result",
          "data": {
            "text/plain": [
              "array([<matplotlib.axes._subplots.AxesSubplot object at 0x7f6f69e2f050>],\n",
              "      dtype=object)"
            ]
          },
          "metadata": {
            "tags": []
          },
          "execution_count": 126
        },
        {
          "output_type": "display_data",
          "data": {
            "image/png": "[encoded data removed]",
            "text/plain": [
              "<Figure size 864x864 with 1 Axes>"
            ]
          },
          "metadata": {
            "tags": [],
            "needs_background": "light"
          }
        }
      ]
    },
    {
      "cell_type": "code",
      "metadata": {
        "id": "ktPYDqyNKkLT",
        "colab": {
          "base_uri": "https://localhost:8080/",
          "height": 424
        },
        "outputId": "4abdf7b5-74b6-4380-9e63-0a1e3e236a7e"
      },
      "source": [
        "df_lw[df_lw['member_casual'] == 'casual']"
      ],
      "execution_count": null,
      "outputs": [
        {
          "output_type": "execute_result",
          "data": {
            "text/html": [
              "<div>\n",
              "<style scoped>\n",
              "    .dataframe tbody tr th:only-of-type {\n",
              "        vertical-align: middle;\n",
              "    }\n",
              "\n",
              "    .dataframe tbody tr th {\n",
              "        vertical-align: top;\n",
              "    }\n",
              "\n",
              "    .dataframe thead th {\n",
              "        text-align: right;\n",
              "    }\n",
              "</style>\n",
              "<table border=\"1\" class=\"dataframe\">\n",
              "  <thead>\n",
              "    <tr style=\"text-align: right;\">\n",
              "      <th></th>\n",
              "      <th>ride_id</th>\n",
              "      <th>rideable_type</th>\n",
              "      <th>started_at</th>\n",
              "      <th>ended_at</th>\n",
              "      <th>start_station_name</th>\n",
              "      <th>start_station_id</th>\n",
              "      <th>end_station_name</th>\n",
              "      <th>end_station_id</th>\n",
              "      <th>start_lat</th>\n",
              "      <th>start_lng</th>\n",
              "      <th>end_lat</th>\n",
              "      <th>end_lng</th>\n",
              "      <th>member_casual</th>\n",
              "      <th>day</th>\n",
              "    </tr>\n",
              "  </thead>\n",
              "  <tbody>\n",
              "    <tr>\n",
              "      <th>0</th>\n",
              "      <td>B3FA23181ADC06FE</td>\n",
              "      <td>docked_bike</td>\n",
              "      <td>2021-06-25 00:51:53</td>\n",
              "      <td>2021-06-25 01:51:40</td>\n",
              "      <td>Georgia Ave &amp; Spring St</td>\n",
              "      <td>32035.0</td>\n",
              "      <td>New Hampshire &amp; Kirklynn Ave</td>\n",
              "      <td>32061.0</td>\n",
              "      <td>38.999388</td>\n",
              "      <td>-77.031555</td>\n",
              "      <td>38.988101</td>\n",
              "      <td>-76.988422</td>\n",
              "      <td>casual</td>\n",
              "      <td>2021-06-25</td>\n",
              "    </tr>\n",
              "    <tr>\n",
              "      <th>1</th>\n",
              "      <td>6A153F2AD6700EE1</td>\n",
              "      <td>classic_bike</td>\n",
              "      <td>2021-06-22 06:28:23</td>\n",
              "      <td>2021-06-22 06:33:19</td>\n",
              "      <td>Merrifield Cinema &amp; Merrifield Town Center</td>\n",
              "      <td>32235.0</td>\n",
              "      <td>Merrilee Dr &amp; Lauren Elizabeth Lane</td>\n",
              "      <td>32234.0</td>\n",
              "      <td>38.870093</td>\n",
              "      <td>-77.229970</td>\n",
              "      <td>38.879355</td>\n",
              "      <td>-77.230681</td>\n",
              "      <td>casual</td>\n",
              "      <td>2021-06-22</td>\n",
              "    </tr>\n",
              "    <tr>\n",
              "      <th>3</th>\n",
              "      <td>18FB278BE5F2B0C7</td>\n",
              "      <td>docked_bike</td>\n",
              "      <td>2021-06-26 20:49:57</td>\n",
              "      <td>2021-06-26 22:44:29</td>\n",
              "      <td>1st &amp; H St NW</td>\n",
              "      <td>31638.0</td>\n",
              "      <td>1st &amp; H St NW</td>\n",
              "      <td>31638.0</td>\n",
              "      <td>38.900358</td>\n",
              "      <td>-77.012108</td>\n",
              "      <td>38.900358</td>\n",
              "      <td>-77.012108</td>\n",
              "      <td>casual</td>\n",
              "      <td>2021-06-26</td>\n",
              "    </tr>\n",
              "    <tr>\n",
              "      <th>9</th>\n",
              "      <td>531D31DEB45D2F2C</td>\n",
              "      <td>docked_bike</td>\n",
              "      <td>2021-06-21 16:33:50</td>\n",
              "      <td>2021-06-21 16:54:22</td>\n",
              "      <td>S Arlington Mill Dr &amp; Campbell Ave</td>\n",
              "      <td>31060.0</td>\n",
              "      <td>Mount Vernon Ave &amp; E Del Ray Ave</td>\n",
              "      <td>31086.0</td>\n",
              "      <td>38.842320</td>\n",
              "      <td>-77.089555</td>\n",
              "      <td>38.825950</td>\n",
              "      <td>-77.058541</td>\n",
              "      <td>casual</td>\n",
              "      <td>2021-06-21</td>\n",
              "    </tr>\n",
              "    <tr>\n",
              "      <th>18</th>\n",
              "      <td>9AB01744D5B2C807</td>\n",
              "      <td>classic_bike</td>\n",
              "      <td>2021-06-26 10:27:14</td>\n",
              "      <td>2021-06-26 11:26:35</td>\n",
              "      <td>5th &amp; K St NW</td>\n",
              "      <td>31600.0</td>\n",
              "      <td>Wilson Blvd &amp; N Edgewood St</td>\n",
              "      <td>31019.0</td>\n",
              "      <td>38.903040</td>\n",
              "      <td>-77.019027</td>\n",
              "      <td>38.889000</td>\n",
              "      <td>-77.092500</td>\n",
              "      <td>casual</td>\n",
              "      <td>2021-06-26</td>\n",
              "    </tr>\n",
              "    <tr>\n",
              "      <th>...</th>\n",
              "      <td>...</td>\n",
              "      <td>...</td>\n",
              "      <td>...</td>\n",
              "      <td>...</td>\n",
              "      <td>...</td>\n",
              "      <td>...</td>\n",
              "      <td>...</td>\n",
              "      <td>...</td>\n",
              "      <td>...</td>\n",
              "      <td>...</td>\n",
              "      <td>...</td>\n",
              "      <td>...</td>\n",
              "      <td>...</td>\n",
              "      <td>...</td>\n",
              "    </tr>\n",
              "    <tr>\n",
              "      <th>57928</th>\n",
              "      <td>AD0C3E7F3BC2EDD6</td>\n",
              "      <td>docked_bike</td>\n",
              "      <td>2021-06-25 12:28:37</td>\n",
              "      <td>2021-06-25 15:34:37</td>\n",
              "      <td>17th St &amp; Independence Ave SW</td>\n",
              "      <td>31290.0</td>\n",
              "      <td>17th St &amp; Independence Ave SW</td>\n",
              "      <td>31290.0</td>\n",
              "      <td>38.888097</td>\n",
              "      <td>-77.038325</td>\n",
              "      <td>38.888097</td>\n",
              "      <td>-77.038325</td>\n",
              "      <td>casual</td>\n",
              "      <td>2021-06-25</td>\n",
              "    </tr>\n",
              "    <tr>\n",
              "      <th>57930</th>\n",
              "      <td>C027BB4E110C06B7</td>\n",
              "      <td>docked_bike</td>\n",
              "      <td>2021-06-25 00:07:51</td>\n",
              "      <td>2021-06-25 00:40:00</td>\n",
              "      <td>17th St &amp; Independence Ave SW</td>\n",
              "      <td>31290.0</td>\n",
              "      <td>17th St &amp; Independence Ave SW</td>\n",
              "      <td>31290.0</td>\n",
              "      <td>38.888097</td>\n",
              "      <td>-77.038325</td>\n",
              "      <td>38.888097</td>\n",
              "      <td>-77.038325</td>\n",
              "      <td>casual</td>\n",
              "      <td>2021-06-25</td>\n",
              "    </tr>\n",
              "    <tr>\n",
              "      <th>57931</th>\n",
              "      <td>3EF5B216B64E7FDD</td>\n",
              "      <td>docked_bike</td>\n",
              "      <td>2021-06-25 17:44:53</td>\n",
              "      <td>2021-06-25 18:11:00</td>\n",
              "      <td>17th St &amp; Independence Ave SW</td>\n",
              "      <td>31290.0</td>\n",
              "      <td>17th St &amp; Independence Ave SW</td>\n",
              "      <td>31290.0</td>\n",
              "      <td>38.888097</td>\n",
              "      <td>-77.038325</td>\n",
              "      <td>38.888097</td>\n",
              "      <td>-77.038325</td>\n",
              "      <td>casual</td>\n",
              "      <td>2021-06-25</td>\n",
              "    </tr>\n",
              "    <tr>\n",
              "      <th>57932</th>\n",
              "      <td>C37E11998FDC1078</td>\n",
              "      <td>classic_bike</td>\n",
              "      <td>2021-06-25 17:43:45</td>\n",
              "      <td>2021-06-25 18:11:10</td>\n",
              "      <td>17th St &amp; Independence Ave SW</td>\n",
              "      <td>31290.0</td>\n",
              "      <td>17th St &amp; Independence Ave SW</td>\n",
              "      <td>31290.0</td>\n",
              "      <td>38.888097</td>\n",
              "      <td>-77.038325</td>\n",
              "      <td>38.888097</td>\n",
              "      <td>-77.038325</td>\n",
              "      <td>casual</td>\n",
              "      <td>2021-06-25</td>\n",
              "    </tr>\n",
              "    <tr>\n",
              "      <th>57933</th>\n",
              "      <td>56B80D92A24B8C93</td>\n",
              "      <td>docked_bike</td>\n",
              "      <td>2021-06-21 20:00:18</td>\n",
              "      <td>2021-06-21 20:33:48</td>\n",
              "      <td>17th St &amp; Independence Ave SW</td>\n",
              "      <td>31290.0</td>\n",
              "      <td>17th St &amp; Independence Ave SW</td>\n",
              "      <td>31290.0</td>\n",
              "      <td>38.888097</td>\n",
              "      <td>-77.038325</td>\n",
              "      <td>38.888097</td>\n",
              "      <td>-77.038325</td>\n",
              "      <td>casual</td>\n",
              "      <td>2021-06-21</td>\n",
              "    </tr>\n",
              "  </tbody>\n",
              "</table>\n",
              "<p>25857 rows × 14 columns</p>\n",
              "</div>"
            ],
            "text/plain": [
              "                ride_id rideable_type  ... member_casual         day\n",
              "0      B3FA23181ADC06FE   docked_bike  ...        casual  2021-06-25\n",
              "1      6A153F2AD6700EE1  classic_bike  ...        casual  2021-06-22\n",
              "3      18FB278BE5F2B0C7   docked_bike  ...        casual  2021-06-26\n",
              "9      531D31DEB45D2F2C   docked_bike  ...        casual  2021-06-21\n",
              "18     9AB01744D5B2C807  classic_bike  ...        casual  2021-06-26\n",
              "...                 ...           ...  ...           ...         ...\n",
              "57928  AD0C3E7F3BC2EDD6   docked_bike  ...        casual  2021-06-25\n",
              "57930  C027BB4E110C06B7   docked_bike  ...        casual  2021-06-25\n",
              "57931  3EF5B216B64E7FDD   docked_bike  ...        casual  2021-06-25\n",
              "57932  C37E11998FDC1078  classic_bike  ...        casual  2021-06-25\n",
              "57933  56B80D92A24B8C93   docked_bike  ...        casual  2021-06-21\n",
              "\n",
              "[25857 rows x 14 columns]"
            ]
          },
          "metadata": {
            "tags": []
          },
          "execution_count": 127
        }
      ]
    },
    {
      "cell_type": "code",
      "metadata": {
        "id": "IdF3p88klGZd",
        "colab": {
          "base_uri": "https://localhost:8080/",
          "height": 454
        },
        "outputId": "f710f555-29c4-4029-c59a-c62099a0031f"
      },
      "source": [
        "count_wk= pd.DataFrame(df_lw.groupby(['start_station_name']).count()['ride_id'])\n",
        "count_wk"
      ],
      "execution_count": null,
      "outputs": [
        {
          "output_type": "execute_result",
          "data": {
            "text/html": [
              "<div>\n",
              "<style scoped>\n",
              "    .dataframe tbody tr th:only-of-type {\n",
              "        vertical-align: middle;\n",
              "    }\n",
              "\n",
              "    .dataframe tbody tr th {\n",
              "        vertical-align: top;\n",
              "    }\n",
              "\n",
              "    .dataframe thead th {\n",
              "        text-align: right;\n",
              "    }\n",
              "</style>\n",
              "<table border=\"1\" class=\"dataframe\">\n",
              "  <thead>\n",
              "    <tr style=\"text-align: right;\">\n",
              "      <th></th>\n",
              "      <th>ride_id</th>\n",
              "    </tr>\n",
              "    <tr>\n",
              "      <th>start_station_name</th>\n",
              "      <th></th>\n",
              "    </tr>\n",
              "  </thead>\n",
              "  <tbody>\n",
              "    <tr>\n",
              "      <th>10th &amp; E St NW</th>\n",
              "      <td>183</td>\n",
              "    </tr>\n",
              "    <tr>\n",
              "      <th>10th &amp; Florida Ave NW</th>\n",
              "      <td>247</td>\n",
              "    </tr>\n",
              "    <tr>\n",
              "      <th>10th &amp; G St NW</th>\n",
              "      <td>116</td>\n",
              "    </tr>\n",
              "    <tr>\n",
              "      <th>10th &amp; K St NW</th>\n",
              "      <td>257</td>\n",
              "    </tr>\n",
              "    <tr>\n",
              "      <th>10th &amp; Monroe St NE</th>\n",
              "      <td>54</td>\n",
              "    </tr>\n",
              "    <tr>\n",
              "      <th>...</th>\n",
              "      <td>...</td>\n",
              "    </tr>\n",
              "    <tr>\n",
              "      <th>Wisconsin Ave &amp; O St NW</th>\n",
              "      <td>164</td>\n",
              "    </tr>\n",
              "    <tr>\n",
              "      <th>Woodglen Dr &amp; Executive Blvd</th>\n",
              "      <td>15</td>\n",
              "    </tr>\n",
              "    <tr>\n",
              "      <th>Woodley Park Metro / Calvert St &amp; Connecticut Ave NW</th>\n",
              "      <td>207</td>\n",
              "    </tr>\n",
              "    <tr>\n",
              "      <th>Woodmont Ave &amp; Strathmore St</th>\n",
              "      <td>47</td>\n",
              "    </tr>\n",
              "    <tr>\n",
              "      <th>Yuma St &amp; Tenley Circle NW</th>\n",
              "      <td>14</td>\n",
              "    </tr>\n",
              "  </tbody>\n",
              "</table>\n",
              "<p>611 rows × 1 columns</p>\n",
              "</div>"
            ],
            "text/plain": [
              "                                                    ride_id\n",
              "start_station_name                                         \n",
              "10th & E St NW                                          183\n",
              "10th & Florida Ave NW                                   247\n",
              "10th & G St NW                                          116\n",
              "10th & K St NW                                          257\n",
              "10th & Monroe St NE                                      54\n",
              "...                                                     ...\n",
              "Wisconsin Ave & O St NW                                 164\n",
              "Woodglen Dr & Executive Blvd                             15\n",
              "Woodley Park Metro / Calvert St & Connecticut A...      207\n",
              "Woodmont Ave & Strathmore St                             47\n",
              "Yuma St & Tenley Circle NW                               14\n",
              "\n",
              "[611 rows x 1 columns]"
            ]
          },
          "metadata": {
            "tags": []
          },
          "execution_count": 128
        }
      ]
    },
    {
      "cell_type": "code",
      "metadata": {
        "id": "FNsowQmiqoYe",
        "colab": {
          "base_uri": "https://localhost:8080/",
          "height": 454
        },
        "outputId": "04d5d284-f586-4b05-9173-9a03216c7776"
      },
      "source": [
        "count_ride= pd.DataFrame(df_lw.groupby(['end_station_name']).count()['ride_id'])\n",
        "count_ride"
      ],
      "execution_count": null,
      "outputs": [
        {
          "output_type": "execute_result",
          "data": {
            "text/html": [
              "<div>\n",
              "<style scoped>\n",
              "    .dataframe tbody tr th:only-of-type {\n",
              "        vertical-align: middle;\n",
              "    }\n",
              "\n",
              "    .dataframe tbody tr th {\n",
              "        vertical-align: top;\n",
              "    }\n",
              "\n",
              "    .dataframe thead th {\n",
              "        text-align: right;\n",
              "    }\n",
              "</style>\n",
              "<table border=\"1\" class=\"dataframe\">\n",
              "  <thead>\n",
              "    <tr style=\"text-align: right;\">\n",
              "      <th></th>\n",
              "      <th>ride_id</th>\n",
              "    </tr>\n",
              "    <tr>\n",
              "      <th>end_station_name</th>\n",
              "      <th></th>\n",
              "    </tr>\n",
              "  </thead>\n",
              "  <tbody>\n",
              "    <tr>\n",
              "      <th>10th &amp; E St NW</th>\n",
              "      <td>200</td>\n",
              "    </tr>\n",
              "    <tr>\n",
              "      <th>10th &amp; Florida Ave NW</th>\n",
              "      <td>239</td>\n",
              "    </tr>\n",
              "    <tr>\n",
              "      <th>10th &amp; G St NW</th>\n",
              "      <td>150</td>\n",
              "    </tr>\n",
              "    <tr>\n",
              "      <th>10th &amp; K St NW</th>\n",
              "      <td>263</td>\n",
              "    </tr>\n",
              "    <tr>\n",
              "      <th>10th &amp; Monroe St NE</th>\n",
              "      <td>54</td>\n",
              "    </tr>\n",
              "    <tr>\n",
              "      <th>...</th>\n",
              "      <td>...</td>\n",
              "    </tr>\n",
              "    <tr>\n",
              "      <th>Wisconsin Ave &amp; O St NW</th>\n",
              "      <td>206</td>\n",
              "    </tr>\n",
              "    <tr>\n",
              "      <th>Woodglen Dr &amp; Executive Blvd</th>\n",
              "      <td>16</td>\n",
              "    </tr>\n",
              "    <tr>\n",
              "      <th>Woodley Park Metro / Calvert St &amp; Connecticut Ave NW</th>\n",
              "      <td>147</td>\n",
              "    </tr>\n",
              "    <tr>\n",
              "      <th>Woodmont Ave &amp; Strathmore St</th>\n",
              "      <td>37</td>\n",
              "    </tr>\n",
              "    <tr>\n",
              "      <th>Yuma St &amp; Tenley Circle NW</th>\n",
              "      <td>7</td>\n",
              "    </tr>\n",
              "  </tbody>\n",
              "</table>\n",
              "<p>607 rows × 1 columns</p>\n",
              "</div>"
            ],
            "text/plain": [
              "                                                    ride_id\n",
              "end_station_name                                           \n",
              "10th & E St NW                                          200\n",
              "10th & Florida Ave NW                                   239\n",
              "10th & G St NW                                          150\n",
              "10th & K St NW                                          263\n",
              "10th & Monroe St NE                                      54\n",
              "...                                                     ...\n",
              "Wisconsin Ave & O St NW                                 206\n",
              "Woodglen Dr & Executive Blvd                             16\n",
              "Woodley Park Metro / Calvert St & Connecticut A...      147\n",
              "Woodmont Ave & Strathmore St                             37\n",
              "Yuma St & Tenley Circle NW                                7\n",
              "\n",
              "[607 rows x 1 columns]"
            ]
          },
          "metadata": {
            "tags": []
          },
          "execution_count": 129
        }
      ]
    },
    {
      "cell_type": "code",
      "metadata": {
        "id": "0QmhSYyDuzWQ",
        "colab": {
          "base_uri": "https://localhost:8080/",
          "height": 394
        },
        "outputId": "a9b447cf-416f-49a4-a63b-177a8bd9cc2c"
      },
      "source": [
        "count_ride.head(10)"
      ],
      "execution_count": null,
      "outputs": [
        {
          "output_type": "execute_result",
          "data": {
            "text/html": [
              "<div>\n",
              "<style scoped>\n",
              "    .dataframe tbody tr th:only-of-type {\n",
              "        vertical-align: middle;\n",
              "    }\n",
              "\n",
              "    .dataframe tbody tr th {\n",
              "        vertical-align: top;\n",
              "    }\n",
              "\n",
              "    .dataframe thead th {\n",
              "        text-align: right;\n",
              "    }\n",
              "</style>\n",
              "<table border=\"1\" class=\"dataframe\">\n",
              "  <thead>\n",
              "    <tr style=\"text-align: right;\">\n",
              "      <th></th>\n",
              "      <th>ride_id</th>\n",
              "    </tr>\n",
              "    <tr>\n",
              "      <th>end_station_name</th>\n",
              "      <th></th>\n",
              "    </tr>\n",
              "  </thead>\n",
              "  <tbody>\n",
              "    <tr>\n",
              "      <th>10th &amp; E St NW</th>\n",
              "      <td>200</td>\n",
              "    </tr>\n",
              "    <tr>\n",
              "      <th>10th &amp; Florida Ave NW</th>\n",
              "      <td>239</td>\n",
              "    </tr>\n",
              "    <tr>\n",
              "      <th>10th &amp; G St NW</th>\n",
              "      <td>150</td>\n",
              "    </tr>\n",
              "    <tr>\n",
              "      <th>10th &amp; K St NW</th>\n",
              "      <td>263</td>\n",
              "    </tr>\n",
              "    <tr>\n",
              "      <th>10th &amp; Monroe St NE</th>\n",
              "      <td>54</td>\n",
              "    </tr>\n",
              "    <tr>\n",
              "      <th>10th &amp; U St NW</th>\n",
              "      <td>167</td>\n",
              "    </tr>\n",
              "    <tr>\n",
              "      <th>10th St &amp; Constitution Ave NW</th>\n",
              "      <td>172</td>\n",
              "    </tr>\n",
              "    <tr>\n",
              "      <th>10th St &amp; L'Enfant Plaza SW</th>\n",
              "      <td>186</td>\n",
              "    </tr>\n",
              "    <tr>\n",
              "      <th>11th &amp; C St SE</th>\n",
              "      <td>98</td>\n",
              "    </tr>\n",
              "    <tr>\n",
              "      <th>11th &amp; F St NW</th>\n",
              "      <td>140</td>\n",
              "    </tr>\n",
              "  </tbody>\n",
              "</table>\n",
              "</div>"
            ],
            "text/plain": [
              "                               ride_id\n",
              "end_station_name                      \n",
              "10th & E St NW                     200\n",
              "10th & Florida Ave NW              239\n",
              "10th & G St NW                     150\n",
              "10th & K St NW                     263\n",
              "10th & Monroe St NE                 54\n",
              "10th & U St NW                     167\n",
              "10th St & Constitution Ave NW      172\n",
              "10th St & L'Enfant Plaza SW        186\n",
              "11th & C St SE                      98\n",
              "11th & F St NW                     140"
            ]
          },
          "metadata": {
            "tags": []
          },
          "execution_count": 130
        }
      ]
    },
    {
      "cell_type": "code",
      "metadata": {
        "id": "N3xro3BaoGuy",
        "colab": {
          "base_uri": "https://localhost:8080/"
        },
        "outputId": "6acd4ac3-66f5-441e-e811-8b43d1540e51"
      },
      "source": [
        "df_lw['member_casual'].value_counts()"
      ],
      "execution_count": null,
      "outputs": [
        {
          "output_type": "execute_result",
          "data": {
            "text/plain": [
              "member    32077\n",
              "casual    25857\n",
              "Name: member_casual, dtype: int64"
            ]
          },
          "metadata": {
            "tags": []
          },
          "execution_count": 131
        }
      ]
    },
    {
      "cell_type": "code",
      "metadata": {
        "id": "Z93avPKhQUDp",
        "colab": {
          "base_uri": "https://localhost:8080/",
          "height": 394
        },
        "outputId": "0d57bcb1-0765-498e-91c8-d035f9144a43"
      },
      "source": [
        "count_end = pd.DataFrame(df_lw[['end_station_name', 'member_casual']].groupby(['end_station_name'])['member_casual'].value_counts(sort=True))\n",
        "count_end.head(10)"
      ],
      "execution_count": null,
      "outputs": [
        {
          "output_type": "execute_result",
          "data": {
            "text/html": [
              "<div>\n",
              "<style scoped>\n",
              "    .dataframe tbody tr th:only-of-type {\n",
              "        vertical-align: middle;\n",
              "    }\n",
              "\n",
              "    .dataframe tbody tr th {\n",
              "        vertical-align: top;\n",
              "    }\n",
              "\n",
              "    .dataframe thead th {\n",
              "        text-align: right;\n",
              "    }\n",
              "</style>\n",
              "<table border=\"1\" class=\"dataframe\">\n",
              "  <thead>\n",
              "    <tr style=\"text-align: right;\">\n",
              "      <th></th>\n",
              "      <th></th>\n",
              "      <th>member_casual</th>\n",
              "    </tr>\n",
              "    <tr>\n",
              "      <th>end_station_name</th>\n",
              "      <th>member_casual</th>\n",
              "      <th></th>\n",
              "    </tr>\n",
              "  </thead>\n",
              "  <tbody>\n",
              "    <tr>\n",
              "      <th rowspan=\"2\" valign=\"top\">10th &amp; E St NW</th>\n",
              "      <th>casual</th>\n",
              "      <td>103</td>\n",
              "    </tr>\n",
              "    <tr>\n",
              "      <th>member</th>\n",
              "      <td>97</td>\n",
              "    </tr>\n",
              "    <tr>\n",
              "      <th rowspan=\"2\" valign=\"top\">10th &amp; Florida Ave NW</th>\n",
              "      <th>member</th>\n",
              "      <td>168</td>\n",
              "    </tr>\n",
              "    <tr>\n",
              "      <th>casual</th>\n",
              "      <td>71</td>\n",
              "    </tr>\n",
              "    <tr>\n",
              "      <th rowspan=\"2\" valign=\"top\">10th &amp; G St NW</th>\n",
              "      <th>member</th>\n",
              "      <td>90</td>\n",
              "    </tr>\n",
              "    <tr>\n",
              "      <th>casual</th>\n",
              "      <td>60</td>\n",
              "    </tr>\n",
              "    <tr>\n",
              "      <th rowspan=\"2\" valign=\"top\">10th &amp; K St NW</th>\n",
              "      <th>casual</th>\n",
              "      <td>139</td>\n",
              "    </tr>\n",
              "    <tr>\n",
              "      <th>member</th>\n",
              "      <td>124</td>\n",
              "    </tr>\n",
              "    <tr>\n",
              "      <th rowspan=\"2\" valign=\"top\">10th &amp; Monroe St NE</th>\n",
              "      <th>member</th>\n",
              "      <td>37</td>\n",
              "    </tr>\n",
              "    <tr>\n",
              "      <th>casual</th>\n",
              "      <td>17</td>\n",
              "    </tr>\n",
              "  </tbody>\n",
              "</table>\n",
              "</div>"
            ],
            "text/plain": [
              "                                     member_casual\n",
              "end_station_name      member_casual               \n",
              "10th & E St NW        casual                   103\n",
              "                      member                    97\n",
              "10th & Florida Ave NW member                   168\n",
              "                      casual                    71\n",
              "10th & G St NW        member                    90\n",
              "                      casual                    60\n",
              "10th & K St NW        casual                   139\n",
              "                      member                   124\n",
              "10th & Monroe St NE   member                    37\n",
              "                      casual                    17"
            ]
          },
          "metadata": {
            "tags": []
          },
          "execution_count": 132
        }
      ]
    },
    {
      "cell_type": "code",
      "metadata": {
        "id": "FQ8Lx39npWTh"
      },
      "source": [
        ""
      ],
      "execution_count": null,
      "outputs": []
    },
    {
      "cell_type": "code",
      "metadata": {
        "id": "miKzjXvctlNa",
        "colab": {
          "base_uri": "https://localhost:8080/",
          "height": 454
        },
        "outputId": "6c9e7752-0056-41a9-c9b4-679a643112c4"
      },
      "source": [
        "count_end = pd.DataFrame(df_lw[['member_casual', 'end_station_name']].groupby(['member_casual'])['end_station_name'].value_counts(ascending=False))\n",
        "count_end"
      ],
      "execution_count": null,
      "outputs": [
        {
          "output_type": "execute_result",
          "data": {
            "text/html": [
              "<div>\n",
              "<style scoped>\n",
              "    .dataframe tbody tr th:only-of-type {\n",
              "        vertical-align: middle;\n",
              "    }\n",
              "\n",
              "    .dataframe tbody tr th {\n",
              "        vertical-align: top;\n",
              "    }\n",
              "\n",
              "    .dataframe thead th {\n",
              "        text-align: right;\n",
              "    }\n",
              "</style>\n",
              "<table border=\"1\" class=\"dataframe\">\n",
              "  <thead>\n",
              "    <tr style=\"text-align: right;\">\n",
              "      <th></th>\n",
              "      <th></th>\n",
              "      <th>end_station_name</th>\n",
              "    </tr>\n",
              "    <tr>\n",
              "      <th>member_casual</th>\n",
              "      <th>end_station_name</th>\n",
              "      <th></th>\n",
              "    </tr>\n",
              "  </thead>\n",
              "  <tbody>\n",
              "    <tr>\n",
              "      <th rowspan=\"5\" valign=\"top\">casual</th>\n",
              "      <th>Jefferson Dr &amp; 14th St SW</th>\n",
              "      <td>628</td>\n",
              "    </tr>\n",
              "    <tr>\n",
              "      <th>Lincoln Memorial</th>\n",
              "      <td>555</td>\n",
              "    </tr>\n",
              "    <tr>\n",
              "      <th>Henry Bacon Dr &amp; Lincoln Memorial Circle NW</th>\n",
              "      <td>516</td>\n",
              "    </tr>\n",
              "    <tr>\n",
              "      <th>4th St &amp; Madison Dr NW</th>\n",
              "      <td>467</td>\n",
              "    </tr>\n",
              "    <tr>\n",
              "      <th>Smithsonian-National Mall / Jefferson Dr &amp; 12th St SW</th>\n",
              "      <td>448</td>\n",
              "    </tr>\n",
              "    <tr>\n",
              "      <th>...</th>\n",
              "      <th>...</th>\n",
              "      <td>...</td>\n",
              "    </tr>\n",
              "    <tr>\n",
              "      <th rowspan=\"5\" valign=\"top\">member</th>\n",
              "      <th>Takoma Park Rec Center</th>\n",
              "      <td>1</td>\n",
              "    </tr>\n",
              "    <tr>\n",
              "      <th>Temporary Rd &amp; Old Reston Ave</th>\n",
              "      <td>1</td>\n",
              "    </tr>\n",
              "    <tr>\n",
              "      <th>Tysons One Pl &amp; Chain Bridge Rd</th>\n",
              "      <td>1</td>\n",
              "    </tr>\n",
              "    <tr>\n",
              "      <th>West Hyattsville Metro</th>\n",
              "      <td>1</td>\n",
              "    </tr>\n",
              "    <tr>\n",
              "      <th>Wheeler Ave &amp; S. Floyd St.</th>\n",
              "      <td>1</td>\n",
              "    </tr>\n",
              "  </tbody>\n",
              "</table>\n",
              "<p>1152 rows × 1 columns</p>\n",
              "</div>"
            ],
            "text/plain": [
              "                                                                  end_station_name\n",
              "member_casual end_station_name                                                    \n",
              "casual        Jefferson Dr & 14th St SW                                        628\n",
              "              Lincoln Memorial                                                 555\n",
              "              Henry Bacon Dr & Lincoln Memorial Circle NW                      516\n",
              "              4th St & Madison Dr NW                                           467\n",
              "              Smithsonian-National Mall / Jefferson Dr & 12th...               448\n",
              "...                                                                            ...\n",
              "member        Takoma Park Rec Center                                             1\n",
              "              Temporary Rd & Old Reston Ave                                      1\n",
              "              Tysons One Pl & Chain Bridge Rd                                    1\n",
              "              West Hyattsville Metro                                             1\n",
              "              Wheeler Ave & S. Floyd St.                                         1\n",
              "\n",
              "[1152 rows x 1 columns]"
            ]
          },
          "metadata": {
            "tags": []
          },
          "execution_count": 133
        }
      ]
    },
    {
      "cell_type": "code",
      "metadata": {
        "id": "cR21L3tWbFm_"
      },
      "source": [
        "dff = pd.read_csv('/content/count_end.csv')\n"
      ],
      "execution_count": null,
      "outputs": []
    },
    {
      "cell_type": "code",
      "metadata": {
        "colab": {
          "base_uri": "https://localhost:8080/",
          "height": 424
        },
        "id": "0eh1BVQNbiEv",
        "outputId": "c3a15874-fc9a-46b8-f940-75aed5adafac"
      },
      "source": [
        "dff"
      ],
      "execution_count": null,
      "outputs": [
        {
          "output_type": "execute_result",
          "data": {
            "text/html": [
              "<div>\n",
              "<style scoped>\n",
              "    .dataframe tbody tr th:only-of-type {\n",
              "        vertical-align: middle;\n",
              "    }\n",
              "\n",
              "    .dataframe tbody tr th {\n",
              "        vertical-align: top;\n",
              "    }\n",
              "\n",
              "    .dataframe thead th {\n",
              "        text-align: right;\n",
              "    }\n",
              "</style>\n",
              "<table border=\"1\" class=\"dataframe\">\n",
              "  <thead>\n",
              "    <tr style=\"text-align: right;\">\n",
              "      <th></th>\n",
              "      <th>member_casual</th>\n",
              "      <th>end_station_name</th>\n",
              "      <th>count</th>\n",
              "    </tr>\n",
              "  </thead>\n",
              "  <tbody>\n",
              "    <tr>\n",
              "      <th>0</th>\n",
              "      <td>casual</td>\n",
              "      <td>Jefferson Dr &amp; 14th St SW</td>\n",
              "      <td>628</td>\n",
              "    </tr>\n",
              "    <tr>\n",
              "      <th>1</th>\n",
              "      <td>casual</td>\n",
              "      <td>Lincoln Memorial</td>\n",
              "      <td>555</td>\n",
              "    </tr>\n",
              "    <tr>\n",
              "      <th>2</th>\n",
              "      <td>casual</td>\n",
              "      <td>Henry Bacon Dr &amp; Lincoln Memorial Circle NW</td>\n",
              "      <td>516</td>\n",
              "    </tr>\n",
              "    <tr>\n",
              "      <th>3</th>\n",
              "      <td>casual</td>\n",
              "      <td>4th St &amp; Madison Dr NW</td>\n",
              "      <td>467</td>\n",
              "    </tr>\n",
              "    <tr>\n",
              "      <th>4</th>\n",
              "      <td>casual</td>\n",
              "      <td>Smithsonian-National Mall / Jefferson Dr &amp; 12t...</td>\n",
              "      <td>448</td>\n",
              "    </tr>\n",
              "    <tr>\n",
              "      <th>...</th>\n",
              "      <td>...</td>\n",
              "      <td>...</td>\n",
              "      <td>...</td>\n",
              "    </tr>\n",
              "    <tr>\n",
              "      <th>1147</th>\n",
              "      <td>member</td>\n",
              "      <td>Takoma Park Rec Center</td>\n",
              "      <td>1</td>\n",
              "    </tr>\n",
              "    <tr>\n",
              "      <th>1148</th>\n",
              "      <td>member</td>\n",
              "      <td>Temporary Rd &amp; Old Reston Ave</td>\n",
              "      <td>1</td>\n",
              "    </tr>\n",
              "    <tr>\n",
              "      <th>1149</th>\n",
              "      <td>member</td>\n",
              "      <td>Tysons One Pl &amp; Chain Bridge Rd</td>\n",
              "      <td>1</td>\n",
              "    </tr>\n",
              "    <tr>\n",
              "      <th>1150</th>\n",
              "      <td>member</td>\n",
              "      <td>West Hyattsville Metro</td>\n",
              "      <td>1</td>\n",
              "    </tr>\n",
              "    <tr>\n",
              "      <th>1151</th>\n",
              "      <td>member</td>\n",
              "      <td>Wheeler Ave &amp; S. Floyd St.</td>\n",
              "      <td>1</td>\n",
              "    </tr>\n",
              "  </tbody>\n",
              "</table>\n",
              "<p>1152 rows × 3 columns</p>\n",
              "</div>"
            ],
            "text/plain": [
              "     member_casual                                   end_station_name  count\n",
              "0           casual                          Jefferson Dr & 14th St SW    628\n",
              "1           casual                                   Lincoln Memorial    555\n",
              "2           casual        Henry Bacon Dr & Lincoln Memorial Circle NW    516\n",
              "3           casual                             4th St & Madison Dr NW    467\n",
              "4           casual  Smithsonian-National Mall / Jefferson Dr & 12t...    448\n",
              "...            ...                                                ...    ...\n",
              "1147        member                             Takoma Park Rec Center      1\n",
              "1148        member                      Temporary Rd & Old Reston Ave      1\n",
              "1149        member                    Tysons One Pl & Chain Bridge Rd      1\n",
              "1150        member                             West Hyattsville Metro      1\n",
              "1151        member                         Wheeler Ave & S. Floyd St.      1\n",
              "\n",
              "[1152 rows x 3 columns]"
            ]
          },
          "metadata": {
            "tags": []
          },
          "execution_count": 151
        }
      ]
    },
    {
      "cell_type": "code",
      "metadata": {
        "colab": {
          "base_uri": "https://localhost:8080/"
        },
        "id": "pRIAeUPcfepo",
        "outputId": "967a2ed4-d168-4592-bb20-26f65d6fabee"
      },
      "source": [
        "dff['member_casual'].value_counts()"
      ],
      "execution_count": null,
      "outputs": [
        {
          "output_type": "execute_result",
          "data": {
            "text/plain": [
              "casual    596\n",
              "member    556\n",
              "Name: member_casual, dtype: int64"
            ]
          },
          "metadata": {
            "tags": []
          },
          "execution_count": 158
        }
      ]
    },
    {
      "cell_type": "code",
      "metadata": {
        "colab": {
          "base_uri": "https://localhost:8080/",
          "height": 454
        },
        "id": "JeglzANWnFjf",
        "outputId": "45659d39-d874-442e-f372-2f1147507909"
      },
      "source": [
        "count_start = pd.DataFrame(df_lw[['member_casual', 'start_station_name']].groupby(['member_casual'])['start_station_name'].value_counts(ascending=False))\n",
        "count_start"
      ],
      "execution_count": null,
      "outputs": [
        {
          "output_type": "execute_result",
          "data": {
            "text/html": [
              "<div>\n",
              "<style scoped>\n",
              "    .dataframe tbody tr th:only-of-type {\n",
              "        vertical-align: middle;\n",
              "    }\n",
              "\n",
              "    .dataframe tbody tr th {\n",
              "        vertical-align: top;\n",
              "    }\n",
              "\n",
              "    .dataframe thead th {\n",
              "        text-align: right;\n",
              "    }\n",
              "</style>\n",
              "<table border=\"1\" class=\"dataframe\">\n",
              "  <thead>\n",
              "    <tr style=\"text-align: right;\">\n",
              "      <th></th>\n",
              "      <th></th>\n",
              "      <th>start_station_name</th>\n",
              "    </tr>\n",
              "    <tr>\n",
              "      <th>member_casual</th>\n",
              "      <th>start_station_name</th>\n",
              "      <th></th>\n",
              "    </tr>\n",
              "  </thead>\n",
              "  <tbody>\n",
              "    <tr>\n",
              "      <th rowspan=\"5\" valign=\"top\">casual</th>\n",
              "      <th>Jefferson Dr &amp; 14th St SW</th>\n",
              "      <td>589</td>\n",
              "    </tr>\n",
              "    <tr>\n",
              "      <th>Lincoln Memorial</th>\n",
              "      <td>586</td>\n",
              "    </tr>\n",
              "    <tr>\n",
              "      <th>Henry Bacon Dr &amp; Lincoln Memorial Circle NW</th>\n",
              "      <td>522</td>\n",
              "    </tr>\n",
              "    <tr>\n",
              "      <th>4th St &amp; Madison Dr NW</th>\n",
              "      <td>501</td>\n",
              "    </tr>\n",
              "    <tr>\n",
              "      <th>Smithsonian-National Mall / Jefferson Dr &amp; 12th St SW</th>\n",
              "      <td>463</td>\n",
              "    </tr>\n",
              "    <tr>\n",
              "      <th>...</th>\n",
              "      <th>...</th>\n",
              "      <td>...</td>\n",
              "    </tr>\n",
              "    <tr>\n",
              "      <th rowspan=\"5\" valign=\"top\">member</th>\n",
              "      <th>United Medical Center</th>\n",
              "      <td>1</td>\n",
              "    </tr>\n",
              "    <tr>\n",
              "      <th>Vy Reston Heights</th>\n",
              "      <td>1</td>\n",
              "    </tr>\n",
              "    <tr>\n",
              "      <th>West Hyattsville Metro</th>\n",
              "      <td>1</td>\n",
              "    </tr>\n",
              "    <tr>\n",
              "      <th>Wheaton Library &amp; Community Rec Center</th>\n",
              "      <td>1</td>\n",
              "    </tr>\n",
              "    <tr>\n",
              "      <th>Windham Ln &amp; Amherst Ave</th>\n",
              "      <td>1</td>\n",
              "    </tr>\n",
              "  </tbody>\n",
              "</table>\n",
              "<p>1160 rows × 1 columns</p>\n",
              "</div>"
            ],
            "text/plain": [
              "                                                                  start_station_name\n",
              "member_casual start_station_name                                                    \n",
              "casual        Jefferson Dr & 14th St SW                                          589\n",
              "              Lincoln Memorial                                                   586\n",
              "              Henry Bacon Dr & Lincoln Memorial Circle NW                        522\n",
              "              4th St & Madison Dr NW                                             501\n",
              "              Smithsonian-National Mall / Jefferson Dr & 12th...                 463\n",
              "...                                                                              ...\n",
              "member        United Medical Center                                                1\n",
              "              Vy Reston Heights                                                    1\n",
              "              West Hyattsville Metro                                               1\n",
              "              Wheaton Library & Community Rec Center                               1\n",
              "              Windham Ln & Amherst Ave                                             1\n",
              "\n",
              "[1160 rows x 1 columns]"
            ]
          },
          "metadata": {
            "tags": []
          },
          "execution_count": 165
        }
      ]
    },
    {
      "cell_type": "markdown",
      "metadata": {
        "id": "QdjXPWLau6ki"
      },
      "source": [
        ""
      ]
    },
    {
      "cell_type": "code",
      "metadata": {
        "id": "SALH7qRynFUq"
      },
      "source": [
        ""
      ],
      "execution_count": null,
      "outputs": []
    }
  ]
}