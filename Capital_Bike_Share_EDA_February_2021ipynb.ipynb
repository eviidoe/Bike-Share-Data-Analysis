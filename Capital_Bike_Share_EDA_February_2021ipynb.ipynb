{
  "nbformat": 4,
  "nbformat_minor": 0,
  "metadata": {
    "colab": {
      "name": "Capital Bike Share EDA_February 2021ipynb",
      "provenance": [],
      "authorship_tag": "ABX9TyM1NinuDmXVlPnZDy2csWJ9",
      "include_colab_link": true
    },
    "kernelspec": {
      "name": "python3",
      "display_name": "Python 3"
    },
    "language_info": {
      "name": "python"
    }
  },
  "cells": [
    {
      "cell_type": "markdown",
      "metadata": {
        "id": "view-in-github",
        "colab_type": "text"
      },
      "source": [
        "<a href=\"https://colab.research.google.com/github/eviidoe/Bike-Share-Data-Analysis/blob/main/Capital_Bike_Share_EDA_February_2021ipynb.ipynb\" target=\"_parent\"><img src=\"https://colab.research.google.com/assets/colab-badge.svg\" alt=\"Open In Colab\"/></a>"
      ]
    },
    {
      "cell_type": "code",
      "metadata": {
        "colab": {
          "resources": {
            "http://localhost:8080/nbextensions/google.colab/files.js": {
              "data": "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",
              "ok": true,
              "headers": [
                [
                  "content-type",
                  "application/javascript"
                ]
              ],
              "status": 200,
              "status_text": ""
            }
          },
          "base_uri": "https://localhost:8080/",
          "height": 72
        },
        "id": "r3XDk7Ab7_9p",
        "outputId": "5802f632-c9ae-426a-bcec-f19d1dfbe622"
      },
      "source": [
        "import matplotlib.pyplot as plt\n",
        "import numpy as np\n",
        "import pandas as pd\n",
        "import seaborn as sns\n",
        "from sklearn.cluster import KMeans\n",
        "\n",
        "\n",
        "from google.colab import files\n",
        "uploaded = files.upload()"
      ],
      "execution_count": null,
      "outputs": [
        {
          "output_type": "display_data",
          "data": {
            "text/html": [
              "\n",
              "     <input type=\"file\" id=\"files-8818b13d-2170-485e-9345-f3b38b393e88\" name=\"files[]\" multiple disabled\n",
              "        style=\"border:none\" />\n",
              "     <output id=\"result-8818b13d-2170-485e-9345-f3b38b393e88\">\n",
              "      Upload widget is only available when the cell has been executed in the\n",
              "      current browser session. Please rerun this cell to enable.\n",
              "      </output>\n",
              "      <script src=\"/nbextensions/google.colab/files.js\"></script> "
            ],
            "text/plain": [
              "<IPython.core.display.HTML object>"
            ]
          },
          "metadata": {
            "tags": []
          }
        },
        {
          "output_type": "stream",
          "text": [
            "Saving trips.csv to trips.csv\n"
          ],
          "name": "stdout"
        }
      ]
    },
    {
      "cell_type": "code",
      "metadata": {
        "colab": {
          "base_uri": "https://localhost:8080/"
        },
        "id": "wWrzbUAi87FJ",
        "outputId": "4f2f7bed-d516-419a-94b9-031a28d74761"
      },
      "source": [
        "trips = pd.read_csv(\"../content/trips.csv\", index_col=0)\n"
      ],
      "execution_count": null,
      "outputs": [
        {
          "output_type": "stream",
          "text": [
            "/usr/local/lib/python3.7/dist-packages/IPython/core/interactiveshell.py:2718: DtypeWarning: Columns (5,7) have mixed types.Specify dtype option on import or set low_memory=False.\n",
            "  interactivity=interactivity, compiler=compiler, result=result)\n"
          ],
          "name": "stderr"
        }
      ]
    },
    {
      "cell_type": "code",
      "metadata": {
        "colab": {
          "base_uri": "https://localhost:8080/",
          "height": 628
        },
        "id": "0MEzAB6lAgNr",
        "outputId": "fd06b18f-d7b5-40be-8c31-a7216837ee6b"
      },
      "source": [
        "trips"
      ],
      "execution_count": null,
      "outputs": [
        {
          "output_type": "execute_result",
          "data": {
            "text/html": [
              "<div>\n",
              "<style scoped>\n",
              "    .dataframe tbody tr th:only-of-type {\n",
              "        vertical-align: middle;\n",
              "    }\n",
              "\n",
              "    .dataframe tbody tr th {\n",
              "        vertical-align: top;\n",
              "    }\n",
              "\n",
              "    .dataframe thead th {\n",
              "        text-align: right;\n",
              "    }\n",
              "</style>\n",
              "<table border=\"1\" class=\"dataframe\">\n",
              "  <thead>\n",
              "    <tr style=\"text-align: right;\">\n",
              "      <th></th>\n",
              "      <th>rideable_type</th>\n",
              "      <th>started_at.1</th>\n",
              "      <th>ended_at</th>\n",
              "      <th>start_station_name</th>\n",
              "      <th>start_station_id</th>\n",
              "      <th>end_station_name</th>\n",
              "      <th>end_station_id</th>\n",
              "      <th>start_lat</th>\n",
              "      <th>start_lng</th>\n",
              "      <th>end_lat</th>\n",
              "      <th>end_lng</th>\n",
              "      <th>member_casual</th>\n",
              "      <th>duration</th>\n",
              "      <th>start_date</th>\n",
              "      <th>start_day</th>\n",
              "      <th>start_hour</th>\n",
              "      <th>start_weekday</th>\n",
              "      <th>tripdate</th>\n",
              "    </tr>\n",
              "    <tr>\n",
              "      <th>started_at</th>\n",
              "      <th></th>\n",
              "      <th></th>\n",
              "      <th></th>\n",
              "      <th></th>\n",
              "      <th></th>\n",
              "      <th></th>\n",
              "      <th></th>\n",
              "      <th></th>\n",
              "      <th></th>\n",
              "      <th></th>\n",
              "      <th></th>\n",
              "      <th></th>\n",
              "      <th></th>\n",
              "      <th></th>\n",
              "      <th></th>\n",
              "      <th></th>\n",
              "      <th></th>\n",
              "      <th></th>\n",
              "    </tr>\n",
              "  </thead>\n",
              "  <tbody>\n",
              "    <tr>\n",
              "      <th>2021-02-20 14:03:25</th>\n",
              "      <td>classic_bike</td>\n",
              "      <td>2021-02-20 14:03:25</td>\n",
              "      <td>2021-02-20 14:14:17</td>\n",
              "      <td>21st St &amp; Pennsylvania Ave NW</td>\n",
              "      <td>31252</td>\n",
              "      <td>New York Ave &amp; 15th St NW</td>\n",
              "      <td>31222</td>\n",
              "      <td>38.901539</td>\n",
              "      <td>-77.046564</td>\n",
              "      <td>38.899032</td>\n",
              "      <td>-77.033354</td>\n",
              "      <td>casual</td>\n",
              "      <td>10.866667</td>\n",
              "      <td>2021-02-20</td>\n",
              "      <td>Saturday</td>\n",
              "      <td>14</td>\n",
              "      <td>weekend</td>\n",
              "      <td>2021-02-20</td>\n",
              "    </tr>\n",
              "    <tr>\n",
              "      <th>2021-02-15 09:54:23</th>\n",
              "      <td>classic_bike</td>\n",
              "      <td>2021-02-15 09:54:23</td>\n",
              "      <td>2021-02-15 11:21:02</td>\n",
              "      <td>Hains Point/Buckeye &amp; Ohio Dr SW</td>\n",
              "      <td>31273</td>\n",
              "      <td>Hains Point/Buckeye &amp; Ohio Dr SW</td>\n",
              "      <td>31273</td>\n",
              "      <td>38.878433</td>\n",
              "      <td>-77.030230</td>\n",
              "      <td>38.878433</td>\n",
              "      <td>-77.030230</td>\n",
              "      <td>member</td>\n",
              "      <td>86.650000</td>\n",
              "      <td>2021-02-15</td>\n",
              "      <td>Monday</td>\n",
              "      <td>9</td>\n",
              "      <td>weekday</td>\n",
              "      <td>2021-02-15</td>\n",
              "    </tr>\n",
              "    <tr>\n",
              "      <th>2021-02-15 09:53:12</th>\n",
              "      <td>classic_bike</td>\n",
              "      <td>2021-02-15 09:53:12</td>\n",
              "      <td>2021-02-15 09:53:34</td>\n",
              "      <td>Hains Point/Buckeye &amp; Ohio Dr SW</td>\n",
              "      <td>31273</td>\n",
              "      <td>Hains Point/Buckeye &amp; Ohio Dr SW</td>\n",
              "      <td>31273</td>\n",
              "      <td>38.878433</td>\n",
              "      <td>-77.030230</td>\n",
              "      <td>38.878433</td>\n",
              "      <td>-77.030230</td>\n",
              "      <td>member</td>\n",
              "      <td>0.366667</td>\n",
              "      <td>2021-02-15</td>\n",
              "      <td>Monday</td>\n",
              "      <td>9</td>\n",
              "      <td>weekday</td>\n",
              "      <td>2021-02-15</td>\n",
              "    </tr>\n",
              "    <tr>\n",
              "      <th>2021-02-24 14:50:17</th>\n",
              "      <td>classic_bike</td>\n",
              "      <td>2021-02-24 14:50:17</td>\n",
              "      <td>2021-02-24 15:29:01</td>\n",
              "      <td>Hains Point/Buckeye &amp; Ohio Dr SW</td>\n",
              "      <td>31273</td>\n",
              "      <td>Hains Point/Buckeye &amp; Ohio Dr SW</td>\n",
              "      <td>31273</td>\n",
              "      <td>38.878433</td>\n",
              "      <td>-77.030230</td>\n",
              "      <td>38.878433</td>\n",
              "      <td>-77.030230</td>\n",
              "      <td>member</td>\n",
              "      <td>38.733333</td>\n",
              "      <td>2021-02-24</td>\n",
              "      <td>Wednesday</td>\n",
              "      <td>14</td>\n",
              "      <td>weekday</td>\n",
              "      <td>2021-02-24</td>\n",
              "    </tr>\n",
              "    <tr>\n",
              "      <th>2021-02-05 16:39:10</th>\n",
              "      <td>classic_bike</td>\n",
              "      <td>2021-02-05 16:39:10</td>\n",
              "      <td>2021-02-05 16:39:13</td>\n",
              "      <td>Hains Point/Buckeye &amp; Ohio Dr SW</td>\n",
              "      <td>31273</td>\n",
              "      <td>Hains Point/Buckeye &amp; Ohio Dr SW</td>\n",
              "      <td>31273</td>\n",
              "      <td>38.878433</td>\n",
              "      <td>-77.030230</td>\n",
              "      <td>38.878433</td>\n",
              "      <td>-77.030230</td>\n",
              "      <td>member</td>\n",
              "      <td>0.050000</td>\n",
              "      <td>2021-02-05</td>\n",
              "      <td>Friday</td>\n",
              "      <td>16</td>\n",
              "      <td>weekday</td>\n",
              "      <td>2021-02-05</td>\n",
              "    </tr>\n",
              "    <tr>\n",
              "      <th>...</th>\n",
              "      <td>...</td>\n",
              "      <td>...</td>\n",
              "      <td>...</td>\n",
              "      <td>...</td>\n",
              "      <td>...</td>\n",
              "      <td>...</td>\n",
              "      <td>...</td>\n",
              "      <td>...</td>\n",
              "      <td>...</td>\n",
              "      <td>...</td>\n",
              "      <td>...</td>\n",
              "      <td>...</td>\n",
              "      <td>...</td>\n",
              "      <td>...</td>\n",
              "      <td>...</td>\n",
              "      <td>...</td>\n",
              "      <td>...</td>\n",
              "      <td>...</td>\n",
              "    </tr>\n",
              "    <tr>\n",
              "      <th>2021-02-11 12:25:21</th>\n",
              "      <td>classic_bike</td>\n",
              "      <td>2021-02-11 12:25:21</td>\n",
              "      <td>2021-02-11 12:48:50</td>\n",
              "      <td>1st &amp; K St NE</td>\n",
              "      <td>31662</td>\n",
              "      <td>20th &amp; E St NW</td>\n",
              "      <td>31204</td>\n",
              "      <td>38.902386</td>\n",
              "      <td>-77.005649</td>\n",
              "      <td>38.896300</td>\n",
              "      <td>-77.045000</td>\n",
              "      <td>member</td>\n",
              "      <td>23.483333</td>\n",
              "      <td>2021-02-11</td>\n",
              "      <td>Thursday</td>\n",
              "      <td>12</td>\n",
              "      <td>weekday</td>\n",
              "      <td>2021-02-11</td>\n",
              "    </tr>\n",
              "    <tr>\n",
              "      <th>2021-02-09 12:39:15</th>\n",
              "      <td>electric_bike</td>\n",
              "      <td>2021-02-09 12:39:15</td>\n",
              "      <td>2021-02-09 13:05:19</td>\n",
              "      <td>Maryland Ave &amp; 17th St NE</td>\n",
              "      <td>31656</td>\n",
              "      <td>20th &amp; E St NW</td>\n",
              "      <td>31204</td>\n",
              "      <td>38.901953</td>\n",
              "      <td>-76.978679</td>\n",
              "      <td>38.896287</td>\n",
              "      <td>-77.044961</td>\n",
              "      <td>member</td>\n",
              "      <td>26.066667</td>\n",
              "      <td>2021-02-09</td>\n",
              "      <td>Tuesday</td>\n",
              "      <td>12</td>\n",
              "      <td>weekday</td>\n",
              "      <td>2021-02-09</td>\n",
              "    </tr>\n",
              "    <tr>\n",
              "      <th>2021-02-09 12:39:24</th>\n",
              "      <td>electric_bike</td>\n",
              "      <td>2021-02-09 12:39:24</td>\n",
              "      <td>2021-02-09 13:05:03</td>\n",
              "      <td>Maryland Ave &amp; 17th St NE</td>\n",
              "      <td>31656</td>\n",
              "      <td>20th &amp; E St NW</td>\n",
              "      <td>31204</td>\n",
              "      <td>38.901973</td>\n",
              "      <td>-76.978606</td>\n",
              "      <td>38.896269</td>\n",
              "      <td>-77.044956</td>\n",
              "      <td>casual</td>\n",
              "      <td>25.650000</td>\n",
              "      <td>2021-02-09</td>\n",
              "      <td>Tuesday</td>\n",
              "      <td>12</td>\n",
              "      <td>weekday</td>\n",
              "      <td>2021-02-09</td>\n",
              "    </tr>\n",
              "    <tr>\n",
              "      <th>2021-02-04 14:42:32</th>\n",
              "      <td>classic_bike</td>\n",
              "      <td>2021-02-04 14:42:32</td>\n",
              "      <td>2021-02-04 14:57:21</td>\n",
              "      <td>4th &amp; M St SW</td>\n",
              "      <td>31108</td>\n",
              "      <td>Smithsonian-National Mall / Jefferson Dr &amp; 12t...</td>\n",
              "      <td>31248</td>\n",
              "      <td>38.876697</td>\n",
              "      <td>-77.017898</td>\n",
              "      <td>38.888774</td>\n",
              "      <td>-77.028694</td>\n",
              "      <td>member</td>\n",
              "      <td>14.816667</td>\n",
              "      <td>2021-02-04</td>\n",
              "      <td>Thursday</td>\n",
              "      <td>14</td>\n",
              "      <td>weekday</td>\n",
              "      <td>2021-02-04</td>\n",
              "    </tr>\n",
              "    <tr>\n",
              "      <th>2021-02-09 14:59:11</th>\n",
              "      <td>electric_bike</td>\n",
              "      <td>2021-02-09 14:59:11</td>\n",
              "      <td>2021-02-09 15:08:43</td>\n",
              "      <td>M St &amp; Pennsylvania Ave NW</td>\n",
              "      <td>31246</td>\n",
              "      <td>34th St &amp; Wisconsin Ave NW</td>\n",
              "      <td>31226</td>\n",
              "      <td>38.905138</td>\n",
              "      <td>-77.056869</td>\n",
              "      <td>38.916500</td>\n",
              "      <td>-77.068185</td>\n",
              "      <td>casual</td>\n",
              "      <td>9.533333</td>\n",
              "      <td>2021-02-09</td>\n",
              "      <td>Tuesday</td>\n",
              "      <td>14</td>\n",
              "      <td>weekday</td>\n",
              "      <td>2021-02-09</td>\n",
              "    </tr>\n",
              "  </tbody>\n",
              "</table>\n",
              "<p>77505 rows × 18 columns</p>\n",
              "</div>"
            ],
            "text/plain": [
              "                     rideable_type  ...    tripdate\n",
              "started_at                          ...            \n",
              "2021-02-20 14:03:25   classic_bike  ...  2021-02-20\n",
              "2021-02-15 09:54:23   classic_bike  ...  2021-02-15\n",
              "2021-02-15 09:53:12   classic_bike  ...  2021-02-15\n",
              "2021-02-24 14:50:17   classic_bike  ...  2021-02-24\n",
              "2021-02-05 16:39:10   classic_bike  ...  2021-02-05\n",
              "...                            ...  ...         ...\n",
              "2021-02-11 12:25:21   classic_bike  ...  2021-02-11\n",
              "2021-02-09 12:39:15  electric_bike  ...  2021-02-09\n",
              "2021-02-09 12:39:24  electric_bike  ...  2021-02-09\n",
              "2021-02-04 14:42:32   classic_bike  ...  2021-02-04\n",
              "2021-02-09 14:59:11  electric_bike  ...  2021-02-09\n",
              "\n",
              "[77505 rows x 18 columns]"
            ]
          },
          "metadata": {
            "tags": []
          },
          "execution_count": 17
        }
      ]
    },
    {
      "cell_type": "code",
      "metadata": {
        "colab": {
          "base_uri": "https://localhost:8080/"
        },
        "id": "bBEtRERiCCdV",
        "outputId": "5bc8702f-4d0b-4c2b-d173-d8390e711b11"
      },
      "source": [
        "trips.dtypes"
      ],
      "execution_count": null,
      "outputs": [
        {
          "output_type": "execute_result",
          "data": {
            "text/plain": [
              "rideable_type          object\n",
              "started_at.1           object\n",
              "ended_at               object\n",
              "start_station_name     object\n",
              "start_station_id       object\n",
              "end_station_name       object\n",
              "end_station_id         object\n",
              "start_lat             float64\n",
              "start_lng             float64\n",
              "end_lat               float64\n",
              "end_lng               float64\n",
              "member_casual          object\n",
              "duration              float64\n",
              "start_date             object\n",
              "start_day              object\n",
              "start_hour              int64\n",
              "start_weekday          object\n",
              "dtype: object"
            ]
          },
          "metadata": {
            "tags": []
          },
          "execution_count": 6
        }
      ]
    },
    {
      "cell_type": "code",
      "metadata": {
        "id": "wFukrQMwCmnY"
      },
      "source": [
        "trips = trips.astype({\"started_at.1\": \"datetime64\"})\n",
        "trips = trips.astype({\"ended_at\": \"datetime64\"})\n",
        "trips = trips.astype({\"start_date\": \"datetime64\"})\n"
      ],
      "execution_count": null,
      "outputs": []
    },
    {
      "cell_type": "code",
      "metadata": {
        "colab": {
          "base_uri": "https://localhost:8080/",
          "height": 162
        },
        "id": "vb92bmkBcUG0",
        "outputId": "64f3804b-75dc-4816-d0ea-e2a189b9d7ff"
      },
      "source": [
        "corr = trips.corr()\n",
        "corr.style.background_gradient(cmap='RdYlGn')\n"
      ],
      "execution_count": null,
      "outputs": [
        {
          "output_type": "execute_result",
          "data": {
            "text/html": [
              "<style  type=\"text/css\" >\n",
              "#T_ce148bd0_fff6_11eb_b5be_0242ac1c0002row0_col0,#T_ce148bd0_fff6_11eb_b5be_0242ac1c0002row1_col1,#T_ce148bd0_fff6_11eb_b5be_0242ac1c0002row2_col2,#T_ce148bd0_fff6_11eb_b5be_0242ac1c0002row3_col3,#T_ce148bd0_fff6_11eb_b5be_0242ac1c0002row4_col4,#T_ce148bd0_fff6_11eb_b5be_0242ac1c0002row5_col5{\n",
              "            background-color:  #006837;\n",
              "            color:  #f1f1f1;\n",
              "        }#T_ce148bd0_fff6_11eb_b5be_0242ac1c0002row0_col1,#T_ce148bd0_fff6_11eb_b5be_0242ac1c0002row0_col4,#T_ce148bd0_fff6_11eb_b5be_0242ac1c0002row0_col5,#T_ce148bd0_fff6_11eb_b5be_0242ac1c0002row1_col0,#T_ce148bd0_fff6_11eb_b5be_0242ac1c0002row1_col4,#T_ce148bd0_fff6_11eb_b5be_0242ac1c0002row2_col3,#T_ce148bd0_fff6_11eb_b5be_0242ac1c0002row2_col4,#T_ce148bd0_fff6_11eb_b5be_0242ac1c0002row3_col2,#T_ce148bd0_fff6_11eb_b5be_0242ac1c0002row3_col4{\n",
              "            background-color:  #a50026;\n",
              "            color:  #f1f1f1;\n",
              "        }#T_ce148bd0_fff6_11eb_b5be_0242ac1c0002row0_col2,#T_ce148bd0_fff6_11eb_b5be_0242ac1c0002row2_col0{\n",
              "            background-color:  #42ac5a;\n",
              "            color:  #000000;\n",
              "        }#T_ce148bd0_fff6_11eb_b5be_0242ac1c0002row0_col3,#T_ce148bd0_fff6_11eb_b5be_0242ac1c0002row1_col5,#T_ce148bd0_fff6_11eb_b5be_0242ac1c0002row5_col4{\n",
              "            background-color:  #a70226;\n",
              "            color:  #f1f1f1;\n",
              "        }#T_ce148bd0_fff6_11eb_b5be_0242ac1c0002row1_col2,#T_ce148bd0_fff6_11eb_b5be_0242ac1c0002row3_col0{\n",
              "            background-color:  #a90426;\n",
              "            color:  #f1f1f1;\n",
              "        }#T_ce148bd0_fff6_11eb_b5be_0242ac1c0002row1_col3,#T_ce148bd0_fff6_11eb_b5be_0242ac1c0002row3_col1{\n",
              "            background-color:  #4bb05c;\n",
              "            color:  #000000;\n",
              "        }#T_ce148bd0_fff6_11eb_b5be_0242ac1c0002row2_col1{\n",
              "            background-color:  #ad0826;\n",
              "            color:  #f1f1f1;\n",
              "        }#T_ce148bd0_fff6_11eb_b5be_0242ac1c0002row2_col5{\n",
              "            background-color:  #b91326;\n",
              "            color:  #f1f1f1;\n",
              "        }#T_ce148bd0_fff6_11eb_b5be_0242ac1c0002row3_col5{\n",
              "            background-color:  #be1827;\n",
              "            color:  #f1f1f1;\n",
              "        }#T_ce148bd0_fff6_11eb_b5be_0242ac1c0002row4_col0,#T_ce148bd0_fff6_11eb_b5be_0242ac1c0002row4_col1{\n",
              "            background-color:  #db382b;\n",
              "            color:  #f1f1f1;\n",
              "        }#T_ce148bd0_fff6_11eb_b5be_0242ac1c0002row4_col2,#T_ce148bd0_fff6_11eb_b5be_0242ac1c0002row4_col3{\n",
              "            background-color:  #da362a;\n",
              "            color:  #f1f1f1;\n",
              "        }#T_ce148bd0_fff6_11eb_b5be_0242ac1c0002row4_col5{\n",
              "            background-color:  #af0926;\n",
              "            color:  #f1f1f1;\n",
              "        }#T_ce148bd0_fff6_11eb_b5be_0242ac1c0002row5_col0{\n",
              "            background-color:  #d83128;\n",
              "            color:  #f1f1f1;\n",
              "        }#T_ce148bd0_fff6_11eb_b5be_0242ac1c0002row5_col1{\n",
              "            background-color:  #d93429;\n",
              "            color:  #f1f1f1;\n",
              "        }#T_ce148bd0_fff6_11eb_b5be_0242ac1c0002row5_col2{\n",
              "            background-color:  #e14430;\n",
              "            color:  #f1f1f1;\n",
              "        }#T_ce148bd0_fff6_11eb_b5be_0242ac1c0002row5_col3{\n",
              "            background-color:  #e34933;\n",
              "            color:  #f1f1f1;\n",
              "        }</style><table id=\"T_ce148bd0_fff6_11eb_b5be_0242ac1c0002\" ><thead>    <tr>        <th class=\"blank level0\" ></th>        <th class=\"col_heading level0 col0\" >start_lat</th>        <th class=\"col_heading level0 col1\" >start_lng</th>        <th class=\"col_heading level0 col2\" >end_lat</th>        <th class=\"col_heading level0 col3\" >end_lng</th>        <th class=\"col_heading level0 col4\" >duration</th>        <th class=\"col_heading level0 col5\" >start_hour</th>    </tr></thead><tbody>\n",
              "                <tr>\n",
              "                        <th id=\"T_ce148bd0_fff6_11eb_b5be_0242ac1c0002level0_row0\" class=\"row_heading level0 row0\" >start_lat</th>\n",
              "                        <td id=\"T_ce148bd0_fff6_11eb_b5be_0242ac1c0002row0_col0\" class=\"data row0 col0\" >1.000000</td>\n",
              "                        <td id=\"T_ce148bd0_fff6_11eb_b5be_0242ac1c0002row0_col1\" class=\"data row0 col1\" >-0.138619</td>\n",
              "                        <td id=\"T_ce148bd0_fff6_11eb_b5be_0242ac1c0002row0_col2\" class=\"data row0 col2\" >0.826517</td>\n",
              "                        <td id=\"T_ce148bd0_fff6_11eb_b5be_0242ac1c0002row0_col3\" class=\"data row0 col3\" >-0.126626</td>\n",
              "                        <td id=\"T_ce148bd0_fff6_11eb_b5be_0242ac1c0002row0_col4\" class=\"data row0 col4\" >-0.005405</td>\n",
              "                        <td id=\"T_ce148bd0_fff6_11eb_b5be_0242ac1c0002row0_col5\" class=\"data row0 col5\" >-0.022624</td>\n",
              "            </tr>\n",
              "            <tr>\n",
              "                        <th id=\"T_ce148bd0_fff6_11eb_b5be_0242ac1c0002level0_row1\" class=\"row_heading level0 row1\" >start_lng</th>\n",
              "                        <td id=\"T_ce148bd0_fff6_11eb_b5be_0242ac1c0002row1_col0\" class=\"data row1 col0\" >-0.138619</td>\n",
              "                        <td id=\"T_ce148bd0_fff6_11eb_b5be_0242ac1c0002row1_col1\" class=\"data row1 col1\" >1.000000</td>\n",
              "                        <td id=\"T_ce148bd0_fff6_11eb_b5be_0242ac1c0002row1_col2\" class=\"data row1 col2\" >-0.119995</td>\n",
              "                        <td id=\"T_ce148bd0_fff6_11eb_b5be_0242ac1c0002row1_col3\" class=\"data row1 col3\" >0.811040</td>\n",
              "                        <td id=\"T_ce148bd0_fff6_11eb_b5be_0242ac1c0002row1_col4\" class=\"data row1 col4\" >-0.007024</td>\n",
              "                        <td id=\"T_ce148bd0_fff6_11eb_b5be_0242ac1c0002row1_col5\" class=\"data row1 col5\" >-0.018000</td>\n",
              "            </tr>\n",
              "            <tr>\n",
              "                        <th id=\"T_ce148bd0_fff6_11eb_b5be_0242ac1c0002level0_row2\" class=\"row_heading level0 row2\" >end_lat</th>\n",
              "                        <td id=\"T_ce148bd0_fff6_11eb_b5be_0242ac1c0002row2_col0\" class=\"data row2 col0\" >0.826517</td>\n",
              "                        <td id=\"T_ce148bd0_fff6_11eb_b5be_0242ac1c0002row2_col1\" class=\"data row2 col1\" >-0.119995</td>\n",
              "                        <td id=\"T_ce148bd0_fff6_11eb_b5be_0242ac1c0002row2_col2\" class=\"data row2 col2\" >1.000000</td>\n",
              "                        <td id=\"T_ce148bd0_fff6_11eb_b5be_0242ac1c0002row2_col3\" class=\"data row2 col3\" >-0.131078</td>\n",
              "                        <td id=\"T_ce148bd0_fff6_11eb_b5be_0242ac1c0002row2_col4\" class=\"data row2 col4\" >-0.004431</td>\n",
              "                        <td id=\"T_ce148bd0_fff6_11eb_b5be_0242ac1c0002row2_col5\" class=\"data row2 col5\" >0.020107</td>\n",
              "            </tr>\n",
              "            <tr>\n",
              "                        <th id=\"T_ce148bd0_fff6_11eb_b5be_0242ac1c0002level0_row3\" class=\"row_heading level0 row3\" >end_lng</th>\n",
              "                        <td id=\"T_ce148bd0_fff6_11eb_b5be_0242ac1c0002row3_col0\" class=\"data row3 col0\" >-0.126626</td>\n",
              "                        <td id=\"T_ce148bd0_fff6_11eb_b5be_0242ac1c0002row3_col1\" class=\"data row3 col1\" >0.811040</td>\n",
              "                        <td id=\"T_ce148bd0_fff6_11eb_b5be_0242ac1c0002row3_col2\" class=\"data row3 col2\" >-0.131078</td>\n",
              "                        <td id=\"T_ce148bd0_fff6_11eb_b5be_0242ac1c0002row3_col3\" class=\"data row3 col3\" >1.000000</td>\n",
              "                        <td id=\"T_ce148bd0_fff6_11eb_b5be_0242ac1c0002row3_col4\" class=\"data row3 col4\" >-0.005652</td>\n",
              "                        <td id=\"T_ce148bd0_fff6_11eb_b5be_0242ac1c0002row3_col5\" class=\"data row3 col5\" >0.030141</td>\n",
              "            </tr>\n",
              "            <tr>\n",
              "                        <th id=\"T_ce148bd0_fff6_11eb_b5be_0242ac1c0002level0_row4\" class=\"row_heading level0 row4\" >duration</th>\n",
              "                        <td id=\"T_ce148bd0_fff6_11eb_b5be_0242ac1c0002row4_col0\" class=\"data row4 col0\" >-0.005405</td>\n",
              "                        <td id=\"T_ce148bd0_fff6_11eb_b5be_0242ac1c0002row4_col1\" class=\"data row4 col1\" >-0.007024</td>\n",
              "                        <td id=\"T_ce148bd0_fff6_11eb_b5be_0242ac1c0002row4_col2\" class=\"data row4 col2\" >-0.004431</td>\n",
              "                        <td id=\"T_ce148bd0_fff6_11eb_b5be_0242ac1c0002row4_col3\" class=\"data row4 col3\" >-0.005652</td>\n",
              "                        <td id=\"T_ce148bd0_fff6_11eb_b5be_0242ac1c0002row4_col4\" class=\"data row4 col4\" >1.000000</td>\n",
              "                        <td id=\"T_ce148bd0_fff6_11eb_b5be_0242ac1c0002row4_col5\" class=\"data row4 col5\" >-0.000424</td>\n",
              "            </tr>\n",
              "            <tr>\n",
              "                        <th id=\"T_ce148bd0_fff6_11eb_b5be_0242ac1c0002level0_row5\" class=\"row_heading level0 row5\" >start_hour</th>\n",
              "                        <td id=\"T_ce148bd0_fff6_11eb_b5be_0242ac1c0002row5_col0\" class=\"data row5 col0\" >-0.022624</td>\n",
              "                        <td id=\"T_ce148bd0_fff6_11eb_b5be_0242ac1c0002row5_col1\" class=\"data row5 col1\" >-0.018000</td>\n",
              "                        <td id=\"T_ce148bd0_fff6_11eb_b5be_0242ac1c0002row5_col2\" class=\"data row5 col2\" >0.020107</td>\n",
              "                        <td id=\"T_ce148bd0_fff6_11eb_b5be_0242ac1c0002row5_col3\" class=\"data row5 col3\" >0.030141</td>\n",
              "                        <td id=\"T_ce148bd0_fff6_11eb_b5be_0242ac1c0002row5_col4\" class=\"data row5 col4\" >-0.000424</td>\n",
              "                        <td id=\"T_ce148bd0_fff6_11eb_b5be_0242ac1c0002row5_col5\" class=\"data row5 col5\" >1.000000</td>\n",
              "            </tr>\n",
              "    </tbody></table>"
            ],
            "text/plain": [
              "<pandas.io.formats.style.Styler at 0x7fec4f0416d0>"
            ]
          },
          "metadata": {
            "tags": []
          },
          "execution_count": 11
        }
      ]
    },
    {
      "cell_type": "code",
      "metadata": {
        "colab": {
          "base_uri": "https://localhost:8080/",
          "height": 300
        },
        "id": "wSur9g1vbGyp",
        "outputId": "3de1102c-6da7-4802-b8d5-414d7d9e71e6"
      },
      "source": [
        "trips.describe()"
      ],
      "execution_count": null,
      "outputs": [
        {
          "output_type": "execute_result",
          "data": {
            "text/html": [
              "<div>\n",
              "<style scoped>\n",
              "    .dataframe tbody tr th:only-of-type {\n",
              "        vertical-align: middle;\n",
              "    }\n",
              "\n",
              "    .dataframe tbody tr th {\n",
              "        vertical-align: top;\n",
              "    }\n",
              "\n",
              "    .dataframe thead th {\n",
              "        text-align: right;\n",
              "    }\n",
              "</style>\n",
              "<table border=\"1\" class=\"dataframe\">\n",
              "  <thead>\n",
              "    <tr style=\"text-align: right;\">\n",
              "      <th></th>\n",
              "      <th>start_lat</th>\n",
              "      <th>start_lng</th>\n",
              "      <th>end_lat</th>\n",
              "      <th>end_lng</th>\n",
              "      <th>duration</th>\n",
              "      <th>start_hour</th>\n",
              "    </tr>\n",
              "  </thead>\n",
              "  <tbody>\n",
              "    <tr>\n",
              "      <th>count</th>\n",
              "      <td>77503.000000</td>\n",
              "      <td>77503.000000</td>\n",
              "      <td>77399.000000</td>\n",
              "      <td>77399.000000</td>\n",
              "      <td>77505.000000</td>\n",
              "      <td>77505.000000</td>\n",
              "    </tr>\n",
              "    <tr>\n",
              "      <th>mean</th>\n",
              "      <td>38.907241</td>\n",
              "      <td>-77.031271</td>\n",
              "      <td>38.906165</td>\n",
              "      <td>-77.030887</td>\n",
              "      <td>19.603100</td>\n",
              "      <td>14.273634</td>\n",
              "    </tr>\n",
              "    <tr>\n",
              "      <th>std</th>\n",
              "      <td>0.026256</td>\n",
              "      <td>0.030574</td>\n",
              "      <td>0.026120</td>\n",
              "      <td>0.030347</td>\n",
              "      <td>155.737004</td>\n",
              "      <td>4.359021</td>\n",
              "    </tr>\n",
              "    <tr>\n",
              "      <th>min</th>\n",
              "      <td>38.782633</td>\n",
              "      <td>-77.368416</td>\n",
              "      <td>38.782633</td>\n",
              "      <td>-77.368416</td>\n",
              "      <td>-1.850000</td>\n",
              "      <td>0.000000</td>\n",
              "    </tr>\n",
              "    <tr>\n",
              "      <th>25%</th>\n",
              "      <td>38.895068</td>\n",
              "      <td>-77.044600</td>\n",
              "      <td>38.894972</td>\n",
              "      <td>-77.044600</td>\n",
              "      <td>6.300000</td>\n",
              "      <td>12.000000</td>\n",
              "    </tr>\n",
              "    <tr>\n",
              "      <th>50%</th>\n",
              "      <td>38.905697</td>\n",
              "      <td>-77.031880</td>\n",
              "      <td>38.905424</td>\n",
              "      <td>-77.031880</td>\n",
              "      <td>10.766667</td>\n",
              "      <td>15.000000</td>\n",
              "    </tr>\n",
              "    <tr>\n",
              "      <th>75%</th>\n",
              "      <td>38.918812</td>\n",
              "      <td>-77.015289</td>\n",
              "      <td>38.916936</td>\n",
              "      <td>-77.013500</td>\n",
              "      <td>18.600000</td>\n",
              "      <td>17.000000</td>\n",
              "    </tr>\n",
              "    <tr>\n",
              "      <th>max</th>\n",
              "      <td>39.123513</td>\n",
              "      <td>-76.825519</td>\n",
              "      <td>39.150000</td>\n",
              "      <td>-76.825535</td>\n",
              "      <td>21922.800000</td>\n",
              "      <td>23.000000</td>\n",
              "    </tr>\n",
              "  </tbody>\n",
              "</table>\n",
              "</div>"
            ],
            "text/plain": [
              "          start_lat     start_lng  ...      duration    start_hour\n",
              "count  77503.000000  77503.000000  ...  77505.000000  77505.000000\n",
              "mean      38.907241    -77.031271  ...     19.603100     14.273634\n",
              "std        0.026256      0.030574  ...    155.737004      4.359021\n",
              "min       38.782633    -77.368416  ...     -1.850000      0.000000\n",
              "25%       38.895068    -77.044600  ...      6.300000     12.000000\n",
              "50%       38.905697    -77.031880  ...     10.766667     15.000000\n",
              "75%       38.918812    -77.015289  ...     18.600000     17.000000\n",
              "max       39.123513    -76.825519  ...  21922.800000     23.000000\n",
              "\n",
              "[8 rows x 6 columns]"
            ]
          },
          "metadata": {
            "tags": []
          },
          "execution_count": 12
        }
      ]
    },
    {
      "cell_type": "code",
      "metadata": {
        "id": "83WipuxDK8ik"
      },
      "source": [
        "trips['tripdate'] = trips['started_at.1'].map(lambda x: x.date())\n"
      ],
      "execution_count": null,
      "outputs": []
    },
    {
      "cell_type": "code",
      "metadata": {
        "id": "sbiiZImfL9sw"
      },
      "source": [
        "grp_date = trips.groupby('tripdate')"
      ],
      "execution_count": null,
      "outputs": []
    },
    {
      "cell_type": "code",
      "metadata": {
        "id": "B-sMpi8vMEyT"
      },
      "source": [
        "trips_by_date = pd.DataFrame(grp_date.size(), columns=['num_trips'])\n"
      ],
      "execution_count": null,
      "outputs": []
    },
    {
      "cell_type": "code",
      "metadata": {
        "colab": {
          "base_uri": "https://localhost:8080/"
        },
        "id": "zKErukT-MLrY",
        "outputId": "0cb523cf-25a6-4610-d016-d82e40d50f48"
      },
      "source": [
        "mean_trips = trips_by_date['num_trips'].mean()\n",
        "tot_tripdates = trips_by_date['num_trips'].count()\n",
        "num_days = (trips_by_date.index.max() - trips_by_date.index.min()).days + 1\n",
        "\n",
        "print(\"The mean number of trips per day is {:.2f}. The mean is based on {} tripdates.\"\n",
        "      .format(mean_trips, tot_tripdates))\n",
        "print(\"The beginning of the date range is {}.\".format(trips_by_date.index.min()))\n",
        "print(\"The end of the date range is {}.\".format(trips_by_date.index.max()))\n",
        "print(\"The are {} days in the date range.\".format(num_days))"
      ],
      "execution_count": null,
      "outputs": [
        {
          "output_type": "stream",
          "text": [
            "The mean number of trips per day is 2768.04. The mean is based on 28 tripdates.\n",
            "The beginning of the date range is 2021-02-01.\n",
            "The end of the date range is 2021-02-28.\n",
            "The are 28 days in the date range.\n"
          ],
          "name": "stdout"
        }
      ]
    },
    {
      "cell_type": "code",
      "metadata": {
        "colab": {
          "base_uri": "https://localhost:8080/"
        },
        "id": "83IFK0RvS6eN",
        "outputId": "442fd0a5-6761-41c8-fd60-19dd5313d376"
      },
      "source": [
        "mean_trips/77505"
      ],
      "execution_count": null,
      "outputs": [
        {
          "output_type": "execute_result",
          "data": {
            "text/plain": [
              "0.03571428571428571"
            ]
          },
          "metadata": {
            "tags": []
          },
          "execution_count": 43
        }
      ]
    },
    {
      "cell_type": "code",
      "metadata": {
        "id": "QPfk5jwhNGVk"
      },
      "source": [
        "grp_date_mem = trips[(trips.member_casual == 'member')].groupby(['tripdate'])\n"
      ],
      "execution_count": null,
      "outputs": []
    },
    {
      "cell_type": "code",
      "metadata": {
        "id": "JXtXCM0rNXkM"
      },
      "source": [
        "trips_by_date_mem = pd.DataFrame(grp_date_mem.size(), columns=['num_trips'])\n"
      ],
      "execution_count": null,
      "outputs": []
    },
    {
      "cell_type": "code",
      "metadata": {
        "colab": {
          "base_uri": "https://localhost:8080/"
        },
        "id": "GrjVT9lsNi_6",
        "outputId": "118034c9-94a0-4f09-d341-d7e42b801874"
      },
      "source": [
        "mean_trips_mem = trips_by_date_mem['num_trips'].mean()\n",
        "tot_tripdates_mem = trips_by_date_mem['num_trips'].count()\n",
        "num_days_mem = (trips_by_date_mem.index.max() - trips_by_date_mem.index.min()).days + 1\n"
      ],
      "execution_count": null,
      "outputs": [
        {
          "output_type": "execute_result",
          "data": {
            "text/plain": [
              "<function print>"
            ]
          },
          "metadata": {
            "tags": []
          },
          "execution_count": 25
        }
      ]
    },
    {
      "cell_type": "code",
      "metadata": {
        "colab": {
          "base_uri": "https://localhost:8080/"
        },
        "id": "TIH8cNdnOJ1z",
        "outputId": "d9c20361-a88a-4833-d5e3-8d378c9762b8"
      },
      "source": [
        "mean_trips_mem"
      ],
      "execution_count": null,
      "outputs": [
        {
          "output_type": "execute_result",
          "data": {
            "text/plain": [
              "1917.642857142857"
            ]
          },
          "metadata": {
            "tags": []
          },
          "execution_count": 37
        }
      ]
    },
    {
      "cell_type": "code",
      "metadata": {
        "colab": {
          "base_uri": "https://localhost:8080/"
        },
        "id": "ndA7KOjqSi7I",
        "outputId": "24a353e3-d917-4fb2-9041-42b210b9b67a"
      },
      "source": [
        "mean_trips_mem/53694"
      ],
      "execution_count": null,
      "outputs": [
        {
          "output_type": "execute_result",
          "data": {
            "text/plain": [
              "0.03571428571428571"
            ]
          },
          "metadata": {
            "tags": []
          },
          "execution_count": 41
        }
      ]
    },
    {
      "cell_type": "code",
      "metadata": {
        "id": "L2dNxkkTPFFW"
      },
      "source": [
        "grp_date_cas = trips[(trips.member_casual == 'casual')].groupby(['tripdate'])\n",
        "trips_by_date_cas = pd.DataFrame(grp_date_cas.size(), columns=['num_trips'])\n",
        "mean_trips_cas = trips_by_date_cas['num_trips'].mean()\n",
        "tot_tripdates_cas = trips_by_date_cas['num_trips'].count()\n",
        "num_days_cas = (trips_by_date_cas.index.max() - trips_by_date_cas.index.min()).days + 1\n"
      ],
      "execution_count": null,
      "outputs": []
    },
    {
      "cell_type": "code",
      "metadata": {
        "colab": {
          "base_uri": "https://localhost:8080/"
        },
        "id": "EN6lmbHVP_bm",
        "outputId": "fabf6e92-8c5a-489f-ed5c-7c3079ad4daf"
      },
      "source": [
        "mean_trips_cas/28"
      ],
      "execution_count": null,
      "outputs": [
        {
          "output_type": "execute_result",
          "data": {
            "text/plain": [
              "30.371173469387752"
            ]
          },
          "metadata": {
            "tags": []
          },
          "execution_count": 40
        }
      ]
    },
    {
      "cell_type": "markdown",
      "metadata": {
        "id": "gqiH5GvdFcTZ"
      },
      "source": [
        "## Neuer Abschnitt"
      ]
    },
    {
      "cell_type": "markdown",
      "metadata": {
        "id": "utJIfX_GeQAt"
      },
      "source": [
        "Ridership by Membertype"
      ]
    },
    {
      "cell_type": "code",
      "metadata": {
        "colab": {
          "base_uri": "https://localhost:8080/"
        },
        "id": "uk5JZJu6Dg9N",
        "outputId": "ee86e3d7-802e-4139-da61-1888c743cd10"
      },
      "source": [
        "trips['member_casual'].value_counts()"
      ],
      "execution_count": null,
      "outputs": [
        {
          "output_type": "execute_result",
          "data": {
            "text/plain": [
              "member    53694\n",
              "casual    23811\n",
              "Name: member_casual, dtype: int64"
            ]
          },
          "metadata": {
            "tags": []
          },
          "execution_count": 121
        }
      ]
    },
    {
      "cell_type": "code",
      "metadata": {
        "colab": {
          "base_uri": "https://localhost:8080/"
        },
        "id": "qe9IKlgbDyRA",
        "outputId": "208169cf-3e96-47fa-96b8-3b3cd879ab56"
      },
      "source": [
        "trips['member_casual'].value_counts()[1]"
      ],
      "execution_count": null,
      "outputs": [
        {
          "output_type": "execute_result",
          "data": {
            "text/plain": [
              "23811"
            ]
          },
          "metadata": {
            "tags": []
          },
          "execution_count": 100
        }
      ]
    },
    {
      "cell_type": "code",
      "metadata": {
        "colab": {
          "base_uri": "https://localhost:8080/"
        },
        "id": "m3s3NLChD4F5",
        "outputId": "55fc5b4d-e643-4290-e9c0-c9a40b9812ee"
      },
      "source": [
        "trips['member_casual'].value_counts()[0]"
      ],
      "execution_count": null,
      "outputs": [
        {
          "output_type": "execute_result",
          "data": {
            "text/plain": [
              "53694"
            ]
          },
          "metadata": {
            "tags": []
          },
          "execution_count": 101
        }
      ]
    },
    {
      "cell_type": "code",
      "metadata": {
        "colab": {
          "base_uri": "https://localhost:8080/",
          "height": 312
        },
        "id": "aqw8AdnWEFUE",
        "outputId": "2dfa2d8d-0f02-4751-fef6-b1ef4dbe0ac1"
      },
      "source": [
        "fig, ax = plt.subplots(1,1)\n",
        "Ridership = ['Casual', 'Member']\n",
        "values = [trips['member_casual'].value_counts()[1], trips['member_casual'].value_counts()[0]]\n",
        "trips['member_casual'].value_counts()[0]\n",
        "ax.bar(Ridership,values)\n",
        "plt.suptitle('Ridership by Membertype')\n",
        "plt.show()\n",
        "plt.savefig(\"../content/Membertype.jpg\")"
      ],
      "execution_count": null,
      "outputs": [
        {
          "output_type": "display_data",
          "data": {
            "image/png": "[encoded data removed]",
            "text/plain": [
              "<Figure size 432x288 with 1 Axes>"
            ]
          },
          "metadata": {
            "tags": [],
            "needs_background": "light"
          }
        },
        {
          "output_type": "display_data",
          "data": {
            "text/plain": [
              "<Figure size 432x288 with 0 Axes>"
            ]
          },
          "metadata": {
            "tags": []
          }
        }
      ]
    },
    {
      "cell_type": "code",
      "metadata": {
        "colab": {
          "base_uri": "https://localhost:8080/",
          "height": 34
        },
        "id": "m6ptZr8lm0ZS",
        "outputId": "1213c715-8777-4998-e3f8-394546b9fc03"
      },
      "source": [
        "plt.savefig(\"Membertype\")"
      ],
      "execution_count": null,
      "outputs": [
        {
          "output_type": "display_data",
          "data": {
            "text/plain": [
              "<Figure size 432x288 with 0 Axes>"
            ]
          },
          "metadata": {
            "tags": []
          }
        }
      ]
    },
    {
      "cell_type": "code",
      "metadata": {
        "colab": {
          "base_uri": "https://localhost:8080/"
        },
        "id": "wjpIOn1hLVqk",
        "outputId": "f83b78e9-f35f-4529-a80f-cdfde0698c71"
      },
      "source": [
        "data1 = trips['member_casual'].value_counts()\n",
        "data1"
      ],
      "execution_count": null,
      "outputs": [
        {
          "output_type": "execute_result",
          "data": {
            "text/plain": [
              "member    53694\n",
              "casual    23811\n",
              "Name: member_casual, dtype: int64"
            ]
          },
          "metadata": {
            "tags": []
          },
          "execution_count": 5
        }
      ]
    },
    {
      "cell_type": "code",
      "metadata": {
        "colab": {
          "base_uri": "https://localhost:8080/",
          "height": 248
        },
        "id": "yp6vMJuyLhQc",
        "outputId": "202b5ad2-8bac-4951-c478-495d9b5cc19f"
      },
      "source": [
        "data1.plot.pie(autopct=\"%.1f%%\");"
      ],
      "execution_count": null,
      "outputs": [
        {
          "output_type": "display_data",
          "data": {
            "image/png": "[encoded data removed]",
            "text/plain": [
              "<Figure size 432x288 with 1 Axes>"
            ]
          },
          "metadata": {
            "tags": []
          }
        }
      ]
    },
    {
      "cell_type": "markdown",
      "metadata": {
        "id": "jWmnPImTolyM"
      },
      "source": [
        "Ridership by Rideable Type"
      ]
    },
    {
      "cell_type": "code",
      "metadata": {
        "colab": {
          "base_uri": "https://localhost:8080/"
        },
        "id": "wtrBajZHHVZO",
        "outputId": "c89dfaf4-ecaf-44ef-919b-c96ac47ac2dc"
      },
      "source": [
        "trips['rideable_type'].value_counts()"
      ],
      "execution_count": null,
      "outputs": [
        {
          "output_type": "execute_result",
          "data": {
            "text/plain": [
              "classic_bike     52263\n",
              "electric_bike    22481\n",
              "docked_bike       2761\n",
              "Name: rideable_type, dtype: int64"
            ]
          },
          "metadata": {
            "tags": []
          },
          "execution_count": 103
        }
      ]
    },
    {
      "cell_type": "code",
      "metadata": {
        "colab": {
          "base_uri": "https://localhost:8080/"
        },
        "id": "F6IBN0c1Heut",
        "outputId": "e90e1cd5-ecd4-40cd-9015-84d27897e540"
      },
      "source": [
        "trips['rideable_type'].value_counts()[0]"
      ],
      "execution_count": null,
      "outputs": [
        {
          "output_type": "execute_result",
          "data": {
            "text/plain": [
              "52263"
            ]
          },
          "metadata": {
            "tags": []
          },
          "execution_count": 104
        }
      ]
    },
    {
      "cell_type": "code",
      "metadata": {
        "colab": {
          "base_uri": "https://localhost:8080/"
        },
        "id": "P5YP7ABSHhvV",
        "outputId": "aed0246c-4d04-4943-e50c-be53906bc335"
      },
      "source": [
        "trips['rideable_type'].value_counts()[1]"
      ],
      "execution_count": null,
      "outputs": [
        {
          "output_type": "execute_result",
          "data": {
            "text/plain": [
              "22481"
            ]
          },
          "metadata": {
            "tags": []
          },
          "execution_count": 105
        }
      ]
    },
    {
      "cell_type": "code",
      "metadata": {
        "colab": {
          "base_uri": "https://localhost:8080/"
        },
        "id": "_nL9qdDYHmpR",
        "outputId": "a23bcc29-fcb7-4ff4-893f-f09398db5144"
      },
      "source": [
        "trips['rideable_type'].value_counts()[2]"
      ],
      "execution_count": null,
      "outputs": [
        {
          "output_type": "execute_result",
          "data": {
            "text/plain": [
              "2761"
            ]
          },
          "metadata": {
            "tags": []
          },
          "execution_count": 106
        }
      ]
    },
    {
      "cell_type": "code",
      "metadata": {
        "colab": {
          "base_uri": "https://localhost:8080/",
          "height": 297
        },
        "id": "ev2GGzZUHsYP",
        "outputId": "06de7680-f8de-40d2-d625-2880cf611b1a"
      },
      "source": [
        "fig, ax = plt.subplots(1,1)\n",
        "Riderable_Type = ['Classic Bike', 'Electric Bike', 'Docked Bike']\n",
        "values = [trips['rideable_type'].value_counts()[0], trips['rideable_type'].value_counts()[1], trips['rideable_type'].value_counts()[2]]\n",
        "trips['rideable_type'].value_counts()[0]\n",
        "ax.bar(Riderable_Type,values)\n",
        "plt.suptitle('Ridership by Rideable Type')\n",
        "plt.show()"
      ],
      "execution_count": null,
      "outputs": [
        {
          "output_type": "display_data",
          "data": {
            "image/png": "[encoded data removed]",
            "text/plain": [
              "<Figure size 432x288 with 1 Axes>"
            ]
          },
          "metadata": {
            "tags": []
          }
        }
      ]
    },
    {
      "cell_type": "code",
      "metadata": {
        "id": "LjzNHVFEMc-t"
      },
      "source": [
        "data2 = trips['rideable_type'].value_counts()"
      ],
      "execution_count": null,
      "outputs": []
    },
    {
      "cell_type": "code",
      "metadata": {
        "colab": {
          "base_uri": "https://localhost:8080/",
          "height": 248
        },
        "id": "1_PueXz1MmTV",
        "outputId": "4ec7e033-772a-43d8-d117-fbd5e6d8b832"
      },
      "source": [
        "data2.plot.pie(autopct=\"%.1f%%\");"
      ],
      "execution_count": null,
      "outputs": [
        {
          "output_type": "display_data",
          "data": {
            "image/png": "[encoded data removed]",
            "text/plain": [
              "<Figure size 432x288 with 1 Axes>"
            ]
          },
          "metadata": {
            "tags": []
          }
        }
      ]
    },
    {
      "cell_type": "markdown",
      "metadata": {
        "id": "P9DnXUIpouJo"
      },
      "source": [
        "Ridership by Weekday"
      ]
    },
    {
      "cell_type": "code",
      "metadata": {
        "colab": {
          "base_uri": "https://localhost:8080/"
        },
        "id": "_nhOxGtmUwZB",
        "outputId": "5a94bf33-b83e-4a00-fa4c-9d82b1103bf8"
      },
      "source": [
        "trips['start_day'].value_counts()"
      ],
      "execution_count": null,
      "outputs": [
        {
          "output_type": "execute_result",
          "data": {
            "text/plain": [
              "Saturday     14021\n",
              "Friday       13096\n",
              "Wednesday    11969\n",
              "Tuesday      11182\n",
              "Thursday     10340\n",
              "Sunday        8764\n",
              "Monday        8133\n",
              "Name: start_day, dtype: int64"
            ]
          },
          "metadata": {
            "tags": []
          },
          "execution_count": 113
        }
      ]
    },
    {
      "cell_type": "code",
      "metadata": {
        "colab": {
          "base_uri": "https://localhost:8080/"
        },
        "id": "Nopeu4cSe4JX",
        "outputId": "acb27c3c-537c-479a-937e-551e0b77cb5c"
      },
      "source": [
        "trips['start_day'].value_counts()[0]"
      ],
      "execution_count": null,
      "outputs": [
        {
          "output_type": "execute_result",
          "data": {
            "text/plain": [
              "14021"
            ]
          },
          "metadata": {
            "tags": []
          },
          "execution_count": 124
        }
      ]
    },
    {
      "cell_type": "code",
      "metadata": {
        "colab": {
          "base_uri": "https://localhost:8080/"
        },
        "id": "1G8DMsKHe_9U",
        "outputId": "21eca014-8569-4330-bf90-6203e085df69"
      },
      "source": [
        "trips['start_day'].value_counts()[1]"
      ],
      "execution_count": null,
      "outputs": [
        {
          "output_type": "execute_result",
          "data": {
            "text/plain": [
              "13096"
            ]
          },
          "metadata": {
            "tags": []
          },
          "execution_count": 125
        }
      ]
    },
    {
      "cell_type": "code",
      "metadata": {
        "colab": {
          "base_uri": "https://localhost:8080/"
        },
        "id": "Gru09rHtfAvO",
        "outputId": "62a2c285-200d-442d-ce76-9d00cf7adbad"
      },
      "source": [
        "trips['start_day'].value_counts()[2]"
      ],
      "execution_count": null,
      "outputs": [
        {
          "output_type": "execute_result",
          "data": {
            "text/plain": [
              "11969"
            ]
          },
          "metadata": {
            "tags": []
          },
          "execution_count": 128
        }
      ]
    },
    {
      "cell_type": "code",
      "metadata": {
        "colab": {
          "base_uri": "https://localhost:8080/"
        },
        "id": "iadzaqs1fBTS",
        "outputId": "b9bd6a48-38da-4409-fe3d-10ebda77fc4f"
      },
      "source": [
        "trips['start_day'].value_counts()[3]"
      ],
      "execution_count": null,
      "outputs": [
        {
          "output_type": "execute_result",
          "data": {
            "text/plain": [
              "11182"
            ]
          },
          "metadata": {
            "tags": []
          },
          "execution_count": 126
        }
      ]
    },
    {
      "cell_type": "code",
      "metadata": {
        "colab": {
          "base_uri": "https://localhost:8080/"
        },
        "id": "tia8-IZwfB3r",
        "outputId": "be8e200f-9d6c-4676-bfa8-01d495285035"
      },
      "source": [
        "trips['start_day'].value_counts()[4]"
      ],
      "execution_count": null,
      "outputs": [
        {
          "output_type": "execute_result",
          "data": {
            "text/plain": [
              "10340"
            ]
          },
          "metadata": {
            "tags": []
          },
          "execution_count": 127
        }
      ]
    },
    {
      "cell_type": "code",
      "metadata": {
        "colab": {
          "base_uri": "https://localhost:8080/"
        },
        "id": "wiC_rgwvfCcN",
        "outputId": "cc4d3603-e3fe-41d1-90df-f736449d1ae8"
      },
      "source": [
        "trips['start_day'].value_counts()[5]"
      ],
      "execution_count": null,
      "outputs": [
        {
          "output_type": "execute_result",
          "data": {
            "text/plain": [
              "8764"
            ]
          },
          "metadata": {
            "tags": []
          },
          "execution_count": 129
        }
      ]
    },
    {
      "cell_type": "code",
      "metadata": {
        "colab": {
          "base_uri": "https://localhost:8080/"
        },
        "id": "XdyM5u70fC-L",
        "outputId": "e7c081ed-3de2-4558-868a-3a54cbc1e34c"
      },
      "source": [
        "trips['start_day'].value_counts()[6]"
      ],
      "execution_count": null,
      "outputs": [
        {
          "output_type": "execute_result",
          "data": {
            "text/plain": [
              "8133"
            ]
          },
          "metadata": {
            "tags": []
          },
          "execution_count": 130
        }
      ]
    },
    {
      "cell_type": "code",
      "metadata": {
        "colab": {
          "base_uri": "https://localhost:8080/",
          "height": 297
        },
        "id": "zynoO-oUfbgB",
        "outputId": "463a9f4e-7252-4baa-ce3c-3d136a7532f5"
      },
      "source": [
        "fig, ax = plt.subplots(1,1)\n",
        "Start_Day = ['Sat', 'Sun', 'Mon', 'Tue', 'Wen', 'Thu', 'Fri']\n",
        "values = [trips['start_day'].value_counts()[0], trips['start_day'].value_counts()[5], trips['start_day'].value_counts()[6], trips['start_day'].value_counts()[3], trips['start_day'].value_counts()[2], trips['start_day'].value_counts()[4], trips['start_day'].value_counts()[1]]\n",
        "trips['start_day'].value_counts()[0]\n",
        "ax.bar(Start_Day,values)\n",
        "plt.suptitle('Ridership by Weekday')\n",
        "plt.show()"
      ],
      "execution_count": null,
      "outputs": [
        {
          "output_type": "display_data",
          "data": {
            "image/png": "[encoded data removed]",
            "text/plain": [
              "<Figure size 432x288 with 1 Axes>"
            ]
          },
          "metadata": {
            "tags": []
          }
        }
      ]
    },
    {
      "cell_type": "code",
      "metadata": {
        "id": "g2xaCE1Rbo9C"
      },
      "source": [
        "data3 = trips['start_weekday'].value_counts()"
      ],
      "execution_count": null,
      "outputs": []
    },
    {
      "cell_type": "code",
      "metadata": {
        "colab": {
          "base_uri": "https://localhost:8080/",
          "height": 248
        },
        "id": "Sm2uM4daenVx",
        "outputId": "4d5a3ff8-b1c4-4254-8be4-adc2a69ea846"
      },
      "source": [
        "data3.plot.pie(autopct=\"%.1f%%\");"
      ],
      "execution_count": null,
      "outputs": [
        {
          "output_type": "display_data",
          "data": {
            "image/png": "[encoded data removed]",
            "text/plain": [
              "<Figure size 432x288 with 1 Axes>"
            ]
          },
          "metadata": {
            "tags": []
          }
        }
      ]
    },
    {
      "cell_type": "markdown",
      "metadata": {
        "id": "2tPLNEbOpAMF"
      },
      "source": [
        "Distribution of Trip Duration"
      ]
    },
    {
      "cell_type": "code",
      "metadata": {
        "colab": {
          "base_uri": "https://localhost:8080/"
        },
        "id": "uwqkp1MLiqTg",
        "outputId": "9e6fd461-c21e-407d-9a78-64c1d3b9ef24"
      },
      "source": [
        "trips['start_hour'].value_counts()"
      ],
      "execution_count": null,
      "outputs": [
        {
          "output_type": "execute_result",
          "data": {
            "text/plain": [
              "17    8428\n",
              "16    7678\n",
              "15    7114\n",
              "18    6446\n",
              "14    6088\n",
              "13    5669\n",
              "12    5268\n",
              "19    4191\n",
              "11    4109\n",
              "8     3436\n",
              "9     3210\n",
              "10    3082\n",
              "20    2749\n",
              "7     2446\n",
              "21    1863\n",
              "22    1612\n",
              "6     1243\n",
              "23    1104\n",
              "0      594\n",
              "5      366\n",
              "1      291\n",
              "4      215\n",
              "2      184\n",
              "3      119\n",
              "Name: start_hour, dtype: int64"
            ]
          },
          "metadata": {
            "tags": []
          },
          "execution_count": 23
        }
      ]
    },
    {
      "cell_type": "code",
      "metadata": {
        "colab": {
          "base_uri": "https://localhost:8080/",
          "height": 294
        },
        "id": "kqmMESyqeDA0",
        "outputId": "8608c73a-5a43-4073-d419-579d86225004"
      },
      "source": [
        "fig, ax = plt.subplots()\n",
        "sns.barplot(data=trips[['start_hour','duration']],\n",
        "            x='start_hour',\n",
        "            y='duration',\n",
        "            ax=ax)\n",
        "\n",
        "plt.title('Ridership by Start Hour and Duration')\n",
        "plt.ylabel('Duration')\n",
        "plt.xlabel('Start Hour')\n",
        "\n",
        "#tick_val=[0, 1, 2, 3, 4, 5, 6, 7, 8, 9, 10, 11, 12, 13, 14, 15, 16, 17, 18, 19, 20, 21, 22, 23]\n",
        "#tick_lab=['0','1', '2', '3', '4', '5', '6', '7', '8', '10', '11', '12', '13', '14', '15', '16', '17', '18', '19', '20', '21', '22', '23']\n",
        "#plt.xticks(tick_val, tick_lab)\n",
        "\n",
        "plt.show()"
      ],
      "execution_count": null,
      "outputs": [
        {
          "output_type": "display_data",
          "data": {
            "image/png": "[encoded data removed]",
            "text/plain": [
              "<Figure size 432x288 with 1 Axes>"
            ]
          },
          "metadata": {
            "tags": [],
            "needs_background": "light"
          }
        }
      ]
    },
    {
      "cell_type": "code",
      "metadata": {
        "colab": {
          "base_uri": "https://localhost:8080/",
          "height": 352
        },
        "id": "KGUSmBkDds83",
        "outputId": "5c1ddb26-60ec-4d9d-c295-4ff4fcc597af"
      },
      "source": [
        "sns.distplot( a=trips[\"start_hour\"], hist=True, kde=False, rug=False )"
      ],
      "execution_count": null,
      "outputs": [
        {
          "output_type": "stream",
          "text": [
            "/usr/local/lib/python3.7/dist-packages/seaborn/distributions.py:2557: FutureWarning: `distplot` is a deprecated function and will be removed in a future version. Please adapt your code to use either `displot` (a figure-level function with similar flexibility) or `histplot` (an axes-level function for histograms).\n",
            "  warnings.warn(msg, FutureWarning)\n"
          ],
          "name": "stderr"
        },
        {
          "output_type": "execute_result",
          "data": {
            "text/plain": [
              "<matplotlib.axes._subplots.AxesSubplot at 0x7f59e9476550>"
            ]
          },
          "metadata": {
            "tags": []
          },
          "execution_count": 8
        },
        {
          "output_type": "display_data",
          "data": {
            "image/png": "[encoded data removed]",
            "text/plain": [
              "<Figure size 432x288 with 1 Axes>"
            ]
          },
          "metadata": {
            "tags": [],
            "needs_background": "light"
          }
        }
      ]
    },
    {
      "cell_type": "code",
      "metadata": {
        "colab": {
          "base_uri": "https://localhost:8080/",
          "height": 340
        },
        "id": "JukFdYaxWrQ8",
        "outputId": "a2b46ae2-131f-4eb0-ab41-e12caff4f300"
      },
      "source": [
        "sns.distplot(trips.duration);"
      ],
      "execution_count": null,
      "outputs": [
        {
          "output_type": "stream",
          "text": [
            "/usr/local/lib/python3.7/dist-packages/seaborn/distributions.py:2557: FutureWarning: `distplot` is a deprecated function and will be removed in a future version. Please adapt your code to use either `displot` (a figure-level function with similar flexibility) or `histplot` (an axes-level function for histograms).\n",
            "  warnings.warn(msg, FutureWarning)\n"
          ],
          "name": "stderr"
        },
        {
          "output_type": "display_data",
          "data": {
            "image/png": "[encoded data removed]",
            "text/plain": [
              "<Figure size 432x288 with 1 Axes>"
            ]
          },
          "metadata": {
            "tags": []
          }
        }
      ]
    },
    {
      "cell_type": "code",
      "metadata": {
        "colab": {
          "base_uri": "https://localhost:8080/",
          "height": 301
        },
        "id": "iU50vmkHBl4R",
        "outputId": "a8f2e433-1706-4043-8391-09b7a54a66d9"
      },
      "source": [
        "plt.hist(trips.duration)\n",
        "plt.title('Distribution of Trip Durations for Washington')\n",
        "plt.xlabel('duration (m)')\n",
        "plt.show()"
      ],
      "execution_count": null,
      "outputs": [
        {
          "output_type": "display_data",
          "data": {
            "image/png": "[encoded data removed]",
            "text/plain": [
              "<Figure size 432x288 with 1 Axes>"
            ]
          },
          "metadata": {
            "tags": []
          }
        }
      ]
    },
    {
      "cell_type": "code",
      "metadata": {
        "colab": {
          "base_uri": "https://localhost:8080/"
        },
        "id": "r1suf4-uRsGQ",
        "outputId": "2383c60c-8894-4de8-d336-35782a06e3fe"
      },
      "source": [
        "trips_dur_member = trips[trips['member_casual'] == 'member']['duration']\n",
        "trips_dur_member"
      ],
      "execution_count": null,
      "outputs": [
        {
          "output_type": "execute_result",
          "data": {
            "text/plain": [
              "started_at\n",
              "2021-02-15 09:54:23    86.650000\n",
              "2021-02-15 09:53:12     0.366667\n",
              "2021-02-24 14:50:17    38.733333\n",
              "2021-02-05 16:39:10     0.050000\n",
              "2021-02-09 16:20:45    17.800000\n",
              "                         ...    \n",
              "2021-02-09 08:36:35    12.383333\n",
              "2021-02-23 11:59:36    10.950000\n",
              "2021-02-11 12:25:21    23.483333\n",
              "2021-02-09 12:39:15    26.066667\n",
              "2021-02-04 14:42:32    14.816667\n",
              "Name: duration, Length: 53694, dtype: float64"
            ]
          },
          "metadata": {
            "tags": []
          },
          "execution_count": 117
        }
      ]
    },
    {
      "cell_type": "code",
      "metadata": {
        "colab": {
          "base_uri": "https://localhost:8080/"
        },
        "id": "ORlGN7YjUBiU",
        "outputId": "90771703-c71a-475a-ed95-c6d1c289c209"
      },
      "source": [
        "trips_dur_casual = trips[trips['member_casual'] == 'casual']['duration']\n",
        "trips_dur_casual"
      ],
      "execution_count": null,
      "outputs": [
        {
          "output_type": "execute_result",
          "data": {
            "text/plain": [
              "started_at\n",
              "2021-02-20 14:03:25     10.866667\n",
              "2021-02-27 12:36:18      9.200000\n",
              "2021-02-27 15:36:05    111.583333\n",
              "2021-02-09 12:36:34     20.033333\n",
              "2021-02-16 16:16:05      6.050000\n",
              "                          ...    \n",
              "2021-02-04 18:06:09      9.466667\n",
              "2021-02-21 16:43:08     39.583333\n",
              "2021-02-26 11:58:42     20.566667\n",
              "2021-02-09 12:39:24     25.650000\n",
              "2021-02-09 14:59:11      9.533333\n",
              "Name: duration, Length: 23811, dtype: float64"
            ]
          },
          "metadata": {
            "tags": []
          },
          "execution_count": 118
        }
      ]
    },
    {
      "cell_type": "code",
      "metadata": {
        "colab": {
          "base_uri": "https://localhost:8080/",
          "height": 626
        },
        "id": "9Ok-uiQaUKaT",
        "outputId": "f7a813ca-ab56-4585-be09-399cdb60a1ae"
      },
      "source": [
        "f, (plt1, plt2, plt3) = plt.subplots(3, sharey=True)\n",
        "\n",
        "\n",
        "plt1.hist(trips.duration, range = (0, 75), bins = 16)\n",
        "plt1.set_title('Distribution of Trip Durations for Members')\n",
        "plt1.set_xlabel('Time in Minutes')\n",
        "plt1.set_ylabel(\"Trip Duration in Minutes\")\n",
        "\n",
        "plt2.hist(trips_dur_casual, range = (0, 75), bins = 16)\n",
        "plt2.set_title('Distribution of Trip Durations for Casuals')\n",
        "plt2.set_xlabel('Time in Minutes')\n",
        "plt2.set_ylabel(\"Trip Duration in Minutes\")\n",
        "\n",
        "plt3.hist(trips_dur_member, range = (0, 75), bins = 16)\n",
        "plt3.set_title('Distribution of Trip Durations for Washington Customers')\n",
        "plt3.set_xlabel('Time in Minutes')\n",
        "plt3.set_ylabel(\"Trip Duration in Minutes\")\n",
        "\n",
        "f.subplots_adjust(hspace=0.50)\n",
        "f.set_figheight(10)\n",
        "f.set_figwidth(15)\n",
        "plt.show()"
      ],
      "execution_count": null,
      "outputs": [
        {
          "output_type": "display_data",
          "data": {
            "image/png": "[encoded data removed]",
            "text/plain": [
              "<Figure size 1080x720 with 3 Axes>"
            ]
          },
          "metadata": {
            "tags": []
          }
        }
      ]
    },
    {
      "cell_type": "markdown",
      "metadata": {
        "id": "-fStptiV0cvw"
      },
      "source": [
        "Ridership by Weekday and Membertype"
      ]
    },
    {
      "cell_type": "code",
      "metadata": {
        "colab": {
          "base_uri": "https://localhost:8080/",
          "height": 821
        },
        "id": "umcKra1lpW3x",
        "outputId": "ea3724a2-575a-4644-939c-36b63924d777"
      },
      "source": [
        "trips_dm = trips[(trips['member_casual'] == 'member') & (trips['start_day'])]\n",
        "trips_dm"
      ],
      "execution_count": null,
      "outputs": [
        {
          "output_type": "execute_result",
          "data": {
            "text/html": [
              "<div>\n",
              "<style scoped>\n",
              "    .dataframe tbody tr th:only-of-type {\n",
              "        vertical-align: middle;\n",
              "    }\n",
              "\n",
              "    .dataframe tbody tr th {\n",
              "        vertical-align: top;\n",
              "    }\n",
              "\n",
              "    .dataframe thead th {\n",
              "        text-align: right;\n",
              "    }\n",
              "</style>\n",
              "<table border=\"1\" class=\"dataframe\">\n",
              "  <thead>\n",
              "    <tr style=\"text-align: right;\">\n",
              "      <th></th>\n",
              "      <th>rideable_type</th>\n",
              "      <th>started_at.1</th>\n",
              "      <th>ended_at</th>\n",
              "      <th>start_station_name</th>\n",
              "      <th>start_station_id</th>\n",
              "      <th>end_station_name</th>\n",
              "      <th>end_station_id</th>\n",
              "      <th>start_lat</th>\n",
              "      <th>start_lng</th>\n",
              "      <th>end_lat</th>\n",
              "      <th>end_lng</th>\n",
              "      <th>member_casual</th>\n",
              "      <th>duration</th>\n",
              "      <th>start_date</th>\n",
              "      <th>start_day</th>\n",
              "      <th>start_hour</th>\n",
              "      <th>start_weekday</th>\n",
              "    </tr>\n",
              "    <tr>\n",
              "      <th>started_at</th>\n",
              "      <th></th>\n",
              "      <th></th>\n",
              "      <th></th>\n",
              "      <th></th>\n",
              "      <th></th>\n",
              "      <th></th>\n",
              "      <th></th>\n",
              "      <th></th>\n",
              "      <th></th>\n",
              "      <th></th>\n",
              "      <th></th>\n",
              "      <th></th>\n",
              "      <th></th>\n",
              "      <th></th>\n",
              "      <th></th>\n",
              "      <th></th>\n",
              "      <th></th>\n",
              "    </tr>\n",
              "  </thead>\n",
              "  <tbody>\n",
              "    <tr>\n",
              "      <th>2021-02-15 09:54:23</th>\n",
              "      <td>classic_bike</td>\n",
              "      <td>2021-02-15 09:54:23</td>\n",
              "      <td>2021-02-15 11:21:02</td>\n",
              "      <td>Hains Point/Buckeye &amp; Ohio Dr SW</td>\n",
              "      <td>31273</td>\n",
              "      <td>Hains Point/Buckeye &amp; Ohio Dr SW</td>\n",
              "      <td>31273</td>\n",
              "      <td>38.878433</td>\n",
              "      <td>-77.030230</td>\n",
              "      <td>38.878433</td>\n",
              "      <td>-77.030230</td>\n",
              "      <td>member</td>\n",
              "      <td>86.650000</td>\n",
              "      <td>2021-02-15</td>\n",
              "      <td>Monday</td>\n",
              "      <td>9</td>\n",
              "      <td>weekday</td>\n",
              "    </tr>\n",
              "    <tr>\n",
              "      <th>2021-02-15 09:53:12</th>\n",
              "      <td>classic_bike</td>\n",
              "      <td>2021-02-15 09:53:12</td>\n",
              "      <td>2021-02-15 09:53:34</td>\n",
              "      <td>Hains Point/Buckeye &amp; Ohio Dr SW</td>\n",
              "      <td>31273</td>\n",
              "      <td>Hains Point/Buckeye &amp; Ohio Dr SW</td>\n",
              "      <td>31273</td>\n",
              "      <td>38.878433</td>\n",
              "      <td>-77.030230</td>\n",
              "      <td>38.878433</td>\n",
              "      <td>-77.030230</td>\n",
              "      <td>member</td>\n",
              "      <td>0.366667</td>\n",
              "      <td>2021-02-15</td>\n",
              "      <td>Monday</td>\n",
              "      <td>9</td>\n",
              "      <td>weekday</td>\n",
              "    </tr>\n",
              "    <tr>\n",
              "      <th>2021-02-24 14:50:17</th>\n",
              "      <td>classic_bike</td>\n",
              "      <td>2021-02-24 14:50:17</td>\n",
              "      <td>2021-02-24 15:29:01</td>\n",
              "      <td>Hains Point/Buckeye &amp; Ohio Dr SW</td>\n",
              "      <td>31273</td>\n",
              "      <td>Hains Point/Buckeye &amp; Ohio Dr SW</td>\n",
              "      <td>31273</td>\n",
              "      <td>38.878433</td>\n",
              "      <td>-77.030230</td>\n",
              "      <td>38.878433</td>\n",
              "      <td>-77.030230</td>\n",
              "      <td>member</td>\n",
              "      <td>38.733333</td>\n",
              "      <td>2021-02-24</td>\n",
              "      <td>Wednesday</td>\n",
              "      <td>14</td>\n",
              "      <td>weekday</td>\n",
              "    </tr>\n",
              "    <tr>\n",
              "      <th>2021-02-05 16:39:10</th>\n",
              "      <td>classic_bike</td>\n",
              "      <td>2021-02-05 16:39:10</td>\n",
              "      <td>2021-02-05 16:39:13</td>\n",
              "      <td>Hains Point/Buckeye &amp; Ohio Dr SW</td>\n",
              "      <td>31273</td>\n",
              "      <td>Hains Point/Buckeye &amp; Ohio Dr SW</td>\n",
              "      <td>31273</td>\n",
              "      <td>38.878433</td>\n",
              "      <td>-77.030230</td>\n",
              "      <td>38.878433</td>\n",
              "      <td>-77.030230</td>\n",
              "      <td>member</td>\n",
              "      <td>0.050000</td>\n",
              "      <td>2021-02-05</td>\n",
              "      <td>Friday</td>\n",
              "      <td>16</td>\n",
              "      <td>weekday</td>\n",
              "    </tr>\n",
              "    <tr>\n",
              "      <th>2021-02-09 16:20:45</th>\n",
              "      <td>classic_bike</td>\n",
              "      <td>2021-02-09 16:20:45</td>\n",
              "      <td>2021-02-09 16:38:33</td>\n",
              "      <td>Hains Point/Buckeye &amp; Ohio Dr SW</td>\n",
              "      <td>31273</td>\n",
              "      <td>Hains Point/Buckeye &amp; Ohio Dr SW</td>\n",
              "      <td>31273</td>\n",
              "      <td>38.878433</td>\n",
              "      <td>-77.030230</td>\n",
              "      <td>38.878433</td>\n",
              "      <td>-77.030230</td>\n",
              "      <td>member</td>\n",
              "      <td>17.800000</td>\n",
              "      <td>2021-02-09</td>\n",
              "      <td>Tuesday</td>\n",
              "      <td>16</td>\n",
              "      <td>weekday</td>\n",
              "    </tr>\n",
              "    <tr>\n",
              "      <th>...</th>\n",
              "      <td>...</td>\n",
              "      <td>...</td>\n",
              "      <td>...</td>\n",
              "      <td>...</td>\n",
              "      <td>...</td>\n",
              "      <td>...</td>\n",
              "      <td>...</td>\n",
              "      <td>...</td>\n",
              "      <td>...</td>\n",
              "      <td>...</td>\n",
              "      <td>...</td>\n",
              "      <td>...</td>\n",
              "      <td>...</td>\n",
              "      <td>...</td>\n",
              "      <td>...</td>\n",
              "      <td>...</td>\n",
              "      <td>...</td>\n",
              "    </tr>\n",
              "    <tr>\n",
              "      <th>2021-02-09 08:36:35</th>\n",
              "      <td>classic_bike</td>\n",
              "      <td>2021-02-09 08:36:35</td>\n",
              "      <td>2021-02-09 08:48:58</td>\n",
              "      <td>5th St &amp; Massachusetts Ave NW</td>\n",
              "      <td>31265</td>\n",
              "      <td>20th &amp; E St NW</td>\n",
              "      <td>31204</td>\n",
              "      <td>38.900930</td>\n",
              "      <td>-77.018677</td>\n",
              "      <td>38.896300</td>\n",
              "      <td>-77.045000</td>\n",
              "      <td>member</td>\n",
              "      <td>12.383333</td>\n",
              "      <td>2021-02-09</td>\n",
              "      <td>Tuesday</td>\n",
              "      <td>8</td>\n",
              "      <td>weekday</td>\n",
              "    </tr>\n",
              "    <tr>\n",
              "      <th>2021-02-23 11:59:36</th>\n",
              "      <td>electric_bike</td>\n",
              "      <td>2021-02-23 11:59:36</td>\n",
              "      <td>2021-02-23 12:10:33</td>\n",
              "      <td>4th &amp; M St SW</td>\n",
              "      <td>31108</td>\n",
              "      <td>20th &amp; E St NW</td>\n",
              "      <td>31204</td>\n",
              "      <td>38.876694</td>\n",
              "      <td>-77.017831</td>\n",
              "      <td>38.896109</td>\n",
              "      <td>-77.044799</td>\n",
              "      <td>member</td>\n",
              "      <td>10.950000</td>\n",
              "      <td>2021-02-23</td>\n",
              "      <td>Tuesday</td>\n",
              "      <td>11</td>\n",
              "      <td>weekday</td>\n",
              "    </tr>\n",
              "    <tr>\n",
              "      <th>2021-02-11 12:25:21</th>\n",
              "      <td>classic_bike</td>\n",
              "      <td>2021-02-11 12:25:21</td>\n",
              "      <td>2021-02-11 12:48:50</td>\n",
              "      <td>1st &amp; K St NE</td>\n",
              "      <td>31662</td>\n",
              "      <td>20th &amp; E St NW</td>\n",
              "      <td>31204</td>\n",
              "      <td>38.902386</td>\n",
              "      <td>-77.005649</td>\n",
              "      <td>38.896300</td>\n",
              "      <td>-77.045000</td>\n",
              "      <td>member</td>\n",
              "      <td>23.483333</td>\n",
              "      <td>2021-02-11</td>\n",
              "      <td>Thursday</td>\n",
              "      <td>12</td>\n",
              "      <td>weekday</td>\n",
              "    </tr>\n",
              "    <tr>\n",
              "      <th>2021-02-09 12:39:15</th>\n",
              "      <td>electric_bike</td>\n",
              "      <td>2021-02-09 12:39:15</td>\n",
              "      <td>2021-02-09 13:05:19</td>\n",
              "      <td>Maryland Ave &amp; 17th St NE</td>\n",
              "      <td>31656</td>\n",
              "      <td>20th &amp; E St NW</td>\n",
              "      <td>31204</td>\n",
              "      <td>38.901953</td>\n",
              "      <td>-76.978679</td>\n",
              "      <td>38.896287</td>\n",
              "      <td>-77.044961</td>\n",
              "      <td>member</td>\n",
              "      <td>26.066667</td>\n",
              "      <td>2021-02-09</td>\n",
              "      <td>Tuesday</td>\n",
              "      <td>12</td>\n",
              "      <td>weekday</td>\n",
              "    </tr>\n",
              "    <tr>\n",
              "      <th>2021-02-04 14:42:32</th>\n",
              "      <td>classic_bike</td>\n",
              "      <td>2021-02-04 14:42:32</td>\n",
              "      <td>2021-02-04 14:57:21</td>\n",
              "      <td>4th &amp; M St SW</td>\n",
              "      <td>31108</td>\n",
              "      <td>Smithsonian-National Mall / Jefferson Dr &amp; 12t...</td>\n",
              "      <td>31248</td>\n",
              "      <td>38.876697</td>\n",
              "      <td>-77.017898</td>\n",
              "      <td>38.888774</td>\n",
              "      <td>-77.028694</td>\n",
              "      <td>member</td>\n",
              "      <td>14.816667</td>\n",
              "      <td>2021-02-04</td>\n",
              "      <td>Thursday</td>\n",
              "      <td>14</td>\n",
              "      <td>weekday</td>\n",
              "    </tr>\n",
              "  </tbody>\n",
              "</table>\n",
              "<p>53694 rows × 17 columns</p>\n",
              "</div>"
            ],
            "text/plain": [
              "                     rideable_type  ... start_weekday\n",
              "started_at                          ...              \n",
              "2021-02-15 09:54:23   classic_bike  ...       weekday\n",
              "2021-02-15 09:53:12   classic_bike  ...       weekday\n",
              "2021-02-24 14:50:17   classic_bike  ...       weekday\n",
              "2021-02-05 16:39:10   classic_bike  ...       weekday\n",
              "2021-02-09 16:20:45   classic_bike  ...       weekday\n",
              "...                            ...  ...           ...\n",
              "2021-02-09 08:36:35   classic_bike  ...       weekday\n",
              "2021-02-23 11:59:36  electric_bike  ...       weekday\n",
              "2021-02-11 12:25:21   classic_bike  ...       weekday\n",
              "2021-02-09 12:39:15  electric_bike  ...       weekday\n",
              "2021-02-04 14:42:32   classic_bike  ...       weekday\n",
              "\n",
              "[53694 rows x 17 columns]"
            ]
          },
          "metadata": {
            "tags": []
          },
          "execution_count": 166
        }
      ]
    },
    {
      "cell_type": "code",
      "metadata": {
        "colab": {
          "base_uri": "https://localhost:8080/"
        },
        "id": "OrkE4pKJtWyr",
        "outputId": "c6dd0443-2105-4961-d48c-f81dfe3b0a1f"
      },
      "source": [
        "trips_dm['start_day'].value_counts()"
      ],
      "execution_count": null,
      "outputs": [
        {
          "output_type": "execute_result",
          "data": {
            "text/plain": [
              "Friday       9114\n",
              "Saturday     8710\n",
              "Wednesday    8426\n",
              "Tuesday      8201\n",
              "Thursday     7404\n",
              "Monday       5951\n",
              "Sunday       5888\n",
              "Name: start_day, dtype: int64"
            ]
          },
          "metadata": {
            "tags": []
          },
          "execution_count": 167
        }
      ]
    },
    {
      "cell_type": "code",
      "metadata": {
        "colab": {
          "base_uri": "https://localhost:8080/"
        },
        "id": "LKttvyvZuDpu",
        "outputId": "47cd084d-a89b-42ba-9a8e-448916920eeb"
      },
      "source": [
        "trips_dm['start_day'].value_counts()[0]\n"
      ],
      "execution_count": null,
      "outputs": [
        {
          "output_type": "execute_result",
          "data": {
            "text/plain": [
              "9114"
            ]
          },
          "metadata": {
            "tags": []
          },
          "execution_count": 168
        }
      ]
    },
    {
      "cell_type": "code",
      "metadata": {
        "colab": {
          "base_uri": "https://localhost:8080/"
        },
        "id": "cP2E6NhduQEj",
        "outputId": "1d7b5086-2164-4ab8-d2fa-0460506e6258"
      },
      "source": [
        "trips_dm['start_day'].value_counts()[1]"
      ],
      "execution_count": null,
      "outputs": [
        {
          "output_type": "execute_result",
          "data": {
            "text/plain": [
              "8710"
            ]
          },
          "metadata": {
            "tags": []
          },
          "execution_count": 169
        }
      ]
    },
    {
      "cell_type": "code",
      "metadata": {
        "colab": {
          "base_uri": "https://localhost:8080/"
        },
        "id": "YZH70beGuROx",
        "outputId": "7d33c45a-5f0f-4fc4-93e5-f9f9ff0262bd"
      },
      "source": [
        "trips_dm['start_day'].value_counts()[2]"
      ],
      "execution_count": null,
      "outputs": [
        {
          "output_type": "execute_result",
          "data": {
            "text/plain": [
              "8426"
            ]
          },
          "metadata": {
            "tags": []
          },
          "execution_count": 170
        }
      ]
    },
    {
      "cell_type": "code",
      "metadata": {
        "colab": {
          "base_uri": "https://localhost:8080/"
        },
        "id": "6h91_SlMuR4V",
        "outputId": "afe118c9-5652-4f08-cbd0-54c3e6b63d18"
      },
      "source": [
        "trips_dm['start_day'].value_counts()[3]"
      ],
      "execution_count": null,
      "outputs": [
        {
          "output_type": "execute_result",
          "data": {
            "text/plain": [
              "8201"
            ]
          },
          "metadata": {
            "tags": []
          },
          "execution_count": 171
        }
      ]
    },
    {
      "cell_type": "code",
      "metadata": {
        "colab": {
          "base_uri": "https://localhost:8080/"
        },
        "id": "cHdcuVxQuSwA",
        "outputId": "686705ef-4663-45bc-947f-a7ede40a9e0a"
      },
      "source": [
        "trips_dm['start_day'].value_counts()[4]"
      ],
      "execution_count": null,
      "outputs": [
        {
          "output_type": "execute_result",
          "data": {
            "text/plain": [
              "7404"
            ]
          },
          "metadata": {
            "tags": []
          },
          "execution_count": 172
        }
      ]
    },
    {
      "cell_type": "code",
      "metadata": {
        "colab": {
          "base_uri": "https://localhost:8080/"
        },
        "id": "n2S4EjC_uTfS",
        "outputId": "e59b7633-7433-4a75-a0d5-0ab853b18769"
      },
      "source": [
        "trips_dm['start_day'].value_counts()[5]"
      ],
      "execution_count": null,
      "outputs": [
        {
          "output_type": "execute_result",
          "data": {
            "text/plain": [
              "5951"
            ]
          },
          "metadata": {
            "tags": []
          },
          "execution_count": 173
        }
      ]
    },
    {
      "cell_type": "code",
      "metadata": {
        "colab": {
          "base_uri": "https://localhost:8080/"
        },
        "id": "pKneC2GguUeC",
        "outputId": "a570961c-084a-4f50-987a-50db0cfe6e74"
      },
      "source": [
        "trips_dm['start_day'].value_counts()[6]"
      ],
      "execution_count": null,
      "outputs": [
        {
          "output_type": "execute_result",
          "data": {
            "text/plain": [
              "5888"
            ]
          },
          "metadata": {
            "tags": []
          },
          "execution_count": 174
        }
      ]
    },
    {
      "cell_type": "code",
      "metadata": {
        "colab": {
          "base_uri": "https://localhost:8080/",
          "height": 297
        },
        "id": "djsbrdw5usEh",
        "outputId": "8af46791-bed7-4d83-821a-c532f5490700"
      },
      "source": [
        "f, (plt1, plt2) = plt.subplots(2, sharey=True)\n",
        "\n",
        "Start_Day = ['Sat', 'Sun', 'Mon', 'Tue', 'Wen', 'Thu', 'Fri']\n",
        "values = [trips_dm['start_day'].value_counts()[1], trips_dm['start_day'].value_counts()[6], trips_dm['start_day'].value_counts()[5], trips_dm['start_day'].value_counts()[3], trips_dm['start_day'].value_counts()[2], trips_dm['start_day'].value_counts()[4], trips_dm['start_day'].value_counts()[0]]\n",
        "trips_dm['start_day'].value_counts()[0]\n",
        "ax.bar(Start_Day,values)\n",
        "plt.suptitle('Ridership by Weekday')\n",
        "\n",
        "\n",
        "\n",
        "\n",
        "\n",
        "f.subplots_adjust(hspace=0.25)\n",
        "f.set_figheight(10)\n",
        "f.set_figwidth(15)\n",
        "plt.show()"
      ],
      "execution_count": null,
      "outputs": [
        {
          "output_type": "display_data",
          "data": {
            "image/png": "[encoded data removed]",
            "text/plain": [
              "<Figure size 432x288 with 1 Axes>"
            ]
          },
          "metadata": {
            "tags": []
          }
        }
      ]
    },
    {
      "cell_type": "code",
      "metadata": {
        "colab": {
          "base_uri": "https://localhost:8080/",
          "height": 821
        },
        "id": "XXvDvf9Kw8MI",
        "outputId": "67eafd79-f4fc-4a2c-e611-6e0e8a07f903"
      },
      "source": [
        "trips_dc = trips[(trips['member_casual'] == 'casual') & (trips['start_day'])]\n",
        "trips_dc"
      ],
      "execution_count": null,
      "outputs": [
        {
          "output_type": "execute_result",
          "data": {
            "text/html": [
              "<div>\n",
              "<style scoped>\n",
              "    .dataframe tbody tr th:only-of-type {\n",
              "        vertical-align: middle;\n",
              "    }\n",
              "\n",
              "    .dataframe tbody tr th {\n",
              "        vertical-align: top;\n",
              "    }\n",
              "\n",
              "    .dataframe thead th {\n",
              "        text-align: right;\n",
              "    }\n",
              "</style>\n",
              "<table border=\"1\" class=\"dataframe\">\n",
              "  <thead>\n",
              "    <tr style=\"text-align: right;\">\n",
              "      <th></th>\n",
              "      <th>rideable_type</th>\n",
              "      <th>started_at.1</th>\n",
              "      <th>ended_at</th>\n",
              "      <th>start_station_name</th>\n",
              "      <th>start_station_id</th>\n",
              "      <th>end_station_name</th>\n",
              "      <th>end_station_id</th>\n",
              "      <th>start_lat</th>\n",
              "      <th>start_lng</th>\n",
              "      <th>end_lat</th>\n",
              "      <th>end_lng</th>\n",
              "      <th>member_casual</th>\n",
              "      <th>duration</th>\n",
              "      <th>start_date</th>\n",
              "      <th>start_day</th>\n",
              "      <th>start_hour</th>\n",
              "      <th>start_weekday</th>\n",
              "    </tr>\n",
              "    <tr>\n",
              "      <th>started_at</th>\n",
              "      <th></th>\n",
              "      <th></th>\n",
              "      <th></th>\n",
              "      <th></th>\n",
              "      <th></th>\n",
              "      <th></th>\n",
              "      <th></th>\n",
              "      <th></th>\n",
              "      <th></th>\n",
              "      <th></th>\n",
              "      <th></th>\n",
              "      <th></th>\n",
              "      <th></th>\n",
              "      <th></th>\n",
              "      <th></th>\n",
              "      <th></th>\n",
              "      <th></th>\n",
              "    </tr>\n",
              "  </thead>\n",
              "  <tbody>\n",
              "    <tr>\n",
              "      <th>2021-02-20 14:03:25</th>\n",
              "      <td>classic_bike</td>\n",
              "      <td>2021-02-20 14:03:25</td>\n",
              "      <td>2021-02-20 14:14:17</td>\n",
              "      <td>21st St &amp; Pennsylvania Ave NW</td>\n",
              "      <td>31252</td>\n",
              "      <td>New York Ave &amp; 15th St NW</td>\n",
              "      <td>31222</td>\n",
              "      <td>38.901539</td>\n",
              "      <td>-77.046564</td>\n",
              "      <td>38.899032</td>\n",
              "      <td>-77.033354</td>\n",
              "      <td>casual</td>\n",
              "      <td>10.866667</td>\n",
              "      <td>2021-02-20</td>\n",
              "      <td>Saturday</td>\n",
              "      <td>14</td>\n",
              "      <td>weekend</td>\n",
              "    </tr>\n",
              "    <tr>\n",
              "      <th>2021-02-27 12:36:18</th>\n",
              "      <td>classic_bike</td>\n",
              "      <td>2021-02-27 12:36:18</td>\n",
              "      <td>2021-02-27 12:45:30</td>\n",
              "      <td>21st St &amp; Pennsylvania Ave NW</td>\n",
              "      <td>31252</td>\n",
              "      <td>25th St &amp; Pennsylvania Ave NW</td>\n",
              "      <td>31237</td>\n",
              "      <td>38.901539</td>\n",
              "      <td>-77.046564</td>\n",
              "      <td>38.903827</td>\n",
              "      <td>-77.053485</td>\n",
              "      <td>casual</td>\n",
              "      <td>9.200000</td>\n",
              "      <td>2021-02-27</td>\n",
              "      <td>Saturday</td>\n",
              "      <td>12</td>\n",
              "      <td>weekend</td>\n",
              "    </tr>\n",
              "    <tr>\n",
              "      <th>2021-02-27 15:36:05</th>\n",
              "      <td>classic_bike</td>\n",
              "      <td>2021-02-27 15:36:05</td>\n",
              "      <td>2021-02-27 17:27:40</td>\n",
              "      <td>Lynn St &amp; 19th St North</td>\n",
              "      <td>31014</td>\n",
              "      <td>Smithsonian-National Mall / Jefferson Dr &amp; 12t...</td>\n",
              "      <td>31248</td>\n",
              "      <td>38.897315</td>\n",
              "      <td>-77.070993</td>\n",
              "      <td>38.888774</td>\n",
              "      <td>-77.028694</td>\n",
              "      <td>casual</td>\n",
              "      <td>111.583333</td>\n",
              "      <td>2021-02-27</td>\n",
              "      <td>Saturday</td>\n",
              "      <td>15</td>\n",
              "      <td>weekend</td>\n",
              "    </tr>\n",
              "    <tr>\n",
              "      <th>2021-02-09 12:36:34</th>\n",
              "      <td>classic_bike</td>\n",
              "      <td>2021-02-09 12:36:34</td>\n",
              "      <td>2021-02-09 12:56:36</td>\n",
              "      <td>Lynn St &amp; 19th St North</td>\n",
              "      <td>31014</td>\n",
              "      <td>23rd &amp; E St NW</td>\n",
              "      <td>31260</td>\n",
              "      <td>38.897315</td>\n",
              "      <td>-77.070993</td>\n",
              "      <td>38.896104</td>\n",
              "      <td>-77.049882</td>\n",
              "      <td>casual</td>\n",
              "      <td>20.033333</td>\n",
              "      <td>2021-02-09</td>\n",
              "      <td>Tuesday</td>\n",
              "      <td>12</td>\n",
              "      <td>weekday</td>\n",
              "    </tr>\n",
              "    <tr>\n",
              "      <th>2021-02-16 16:16:05</th>\n",
              "      <td>classic_bike</td>\n",
              "      <td>2021-02-16 16:16:05</td>\n",
              "      <td>2021-02-16 16:22:08</td>\n",
              "      <td>St Asaph &amp; Pendleton St</td>\n",
              "      <td>31043</td>\n",
              "      <td>Royal St &amp; Wilkes St</td>\n",
              "      <td>31903</td>\n",
              "      <td>38.810741</td>\n",
              "      <td>-77.044633</td>\n",
              "      <td>38.799267</td>\n",
              "      <td>-77.044700</td>\n",
              "      <td>casual</td>\n",
              "      <td>6.050000</td>\n",
              "      <td>2021-02-16</td>\n",
              "      <td>Tuesday</td>\n",
              "      <td>16</td>\n",
              "      <td>weekday</td>\n",
              "    </tr>\n",
              "    <tr>\n",
              "      <th>...</th>\n",
              "      <td>...</td>\n",
              "      <td>...</td>\n",
              "      <td>...</td>\n",
              "      <td>...</td>\n",
              "      <td>...</td>\n",
              "      <td>...</td>\n",
              "      <td>...</td>\n",
              "      <td>...</td>\n",
              "      <td>...</td>\n",
              "      <td>...</td>\n",
              "      <td>...</td>\n",
              "      <td>...</td>\n",
              "      <td>...</td>\n",
              "      <td>...</td>\n",
              "      <td>...</td>\n",
              "      <td>...</td>\n",
              "      <td>...</td>\n",
              "    </tr>\n",
              "    <tr>\n",
              "      <th>2021-02-04 18:06:09</th>\n",
              "      <td>electric_bike</td>\n",
              "      <td>2021-02-04 18:06:09</td>\n",
              "      <td>2021-02-04 18:15:37</td>\n",
              "      <td>3rd &amp; H St NE</td>\n",
              "      <td>31616</td>\n",
              "      <td>15th &amp; East Capitol St NE</td>\n",
              "      <td>31630</td>\n",
              "      <td>38.900440</td>\n",
              "      <td>-77.001970</td>\n",
              "      <td>38.889954</td>\n",
              "      <td>-76.983506</td>\n",
              "      <td>casual</td>\n",
              "      <td>9.466667</td>\n",
              "      <td>2021-02-04</td>\n",
              "      <td>Thursday</td>\n",
              "      <td>18</td>\n",
              "      <td>weekday</td>\n",
              "    </tr>\n",
              "    <tr>\n",
              "      <th>2021-02-21 16:43:08</th>\n",
              "      <td>classic_bike</td>\n",
              "      <td>2021-02-21 16:43:08</td>\n",
              "      <td>2021-02-21 17:22:43</td>\n",
              "      <td>3rd &amp; H St NE</td>\n",
              "      <td>31616</td>\n",
              "      <td>Smithsonian-National Mall / Jefferson Dr &amp; 12t...</td>\n",
              "      <td>31248</td>\n",
              "      <td>38.900412</td>\n",
              "      <td>-77.001949</td>\n",
              "      <td>38.888774</td>\n",
              "      <td>-77.028694</td>\n",
              "      <td>casual</td>\n",
              "      <td>39.583333</td>\n",
              "      <td>2021-02-21</td>\n",
              "      <td>Sunday</td>\n",
              "      <td>16</td>\n",
              "      <td>weekend</td>\n",
              "    </tr>\n",
              "    <tr>\n",
              "      <th>2021-02-26 11:58:42</th>\n",
              "      <td>docked_bike</td>\n",
              "      <td>2021-02-26 11:58:42</td>\n",
              "      <td>2021-02-26 12:19:16</td>\n",
              "      <td>4th &amp; M St SW</td>\n",
              "      <td>31108</td>\n",
              "      <td>Smithsonian-National Mall / Jefferson Dr &amp; 12t...</td>\n",
              "      <td>31248</td>\n",
              "      <td>38.876697</td>\n",
              "      <td>-77.017898</td>\n",
              "      <td>38.888774</td>\n",
              "      <td>-77.028694</td>\n",
              "      <td>casual</td>\n",
              "      <td>20.566667</td>\n",
              "      <td>2021-02-26</td>\n",
              "      <td>Friday</td>\n",
              "      <td>11</td>\n",
              "      <td>weekday</td>\n",
              "    </tr>\n",
              "    <tr>\n",
              "      <th>2021-02-09 12:39:24</th>\n",
              "      <td>electric_bike</td>\n",
              "      <td>2021-02-09 12:39:24</td>\n",
              "      <td>2021-02-09 13:05:03</td>\n",
              "      <td>Maryland Ave &amp; 17th St NE</td>\n",
              "      <td>31656</td>\n",
              "      <td>20th &amp; E St NW</td>\n",
              "      <td>31204</td>\n",
              "      <td>38.901973</td>\n",
              "      <td>-76.978606</td>\n",
              "      <td>38.896269</td>\n",
              "      <td>-77.044956</td>\n",
              "      <td>casual</td>\n",
              "      <td>25.650000</td>\n",
              "      <td>2021-02-09</td>\n",
              "      <td>Tuesday</td>\n",
              "      <td>12</td>\n",
              "      <td>weekday</td>\n",
              "    </tr>\n",
              "    <tr>\n",
              "      <th>2021-02-09 14:59:11</th>\n",
              "      <td>electric_bike</td>\n",
              "      <td>2021-02-09 14:59:11</td>\n",
              "      <td>2021-02-09 15:08:43</td>\n",
              "      <td>M St &amp; Pennsylvania Ave NW</td>\n",
              "      <td>31246</td>\n",
              "      <td>34th St &amp; Wisconsin Ave NW</td>\n",
              "      <td>31226</td>\n",
              "      <td>38.905138</td>\n",
              "      <td>-77.056869</td>\n",
              "      <td>38.916500</td>\n",
              "      <td>-77.068185</td>\n",
              "      <td>casual</td>\n",
              "      <td>9.533333</td>\n",
              "      <td>2021-02-09</td>\n",
              "      <td>Tuesday</td>\n",
              "      <td>14</td>\n",
              "      <td>weekday</td>\n",
              "    </tr>\n",
              "  </tbody>\n",
              "</table>\n",
              "<p>23811 rows × 17 columns</p>\n",
              "</div>"
            ],
            "text/plain": [
              "                     rideable_type  ... start_weekday\n",
              "started_at                          ...              \n",
              "2021-02-20 14:03:25   classic_bike  ...       weekend\n",
              "2021-02-27 12:36:18   classic_bike  ...       weekend\n",
              "2021-02-27 15:36:05   classic_bike  ...       weekend\n",
              "2021-02-09 12:36:34   classic_bike  ...       weekday\n",
              "2021-02-16 16:16:05   classic_bike  ...       weekday\n",
              "...                            ...  ...           ...\n",
              "2021-02-04 18:06:09  electric_bike  ...       weekday\n",
              "2021-02-21 16:43:08   classic_bike  ...       weekend\n",
              "2021-02-26 11:58:42    docked_bike  ...       weekday\n",
              "2021-02-09 12:39:24  electric_bike  ...       weekday\n",
              "2021-02-09 14:59:11  electric_bike  ...       weekday\n",
              "\n",
              "[23811 rows x 17 columns]"
            ]
          },
          "metadata": {
            "tags": []
          },
          "execution_count": 178
        }
      ]
    },
    {
      "cell_type": "code",
      "metadata": {
        "colab": {
          "base_uri": "https://localhost:8080/"
        },
        "id": "Fj8Aki9FxF0z",
        "outputId": "6b5e9f37-8503-4121-ad4a-eacba0994c00"
      },
      "source": [
        "trips_dc['start_day'].value_counts()"
      ],
      "execution_count": null,
      "outputs": [
        {
          "output_type": "execute_result",
          "data": {
            "text/plain": [
              "Saturday     5311\n",
              "Friday       3982\n",
              "Wednesday    3543\n",
              "Tuesday      2981\n",
              "Thursday     2936\n",
              "Sunday       2876\n",
              "Monday       2182\n",
              "Name: start_day, dtype: int64"
            ]
          },
          "metadata": {
            "tags": []
          },
          "execution_count": 187
        }
      ]
    },
    {
      "cell_type": "code",
      "metadata": {
        "colab": {
          "base_uri": "https://localhost:8080/"
        },
        "id": "dIFRcxugx6fg",
        "outputId": "f1136fc1-d19a-4f5e-f14a-3e1390e0556e"
      },
      "source": [
        "trips_dc['start_day'].value_counts()[0]"
      ],
      "execution_count": null,
      "outputs": [
        {
          "output_type": "execute_result",
          "data": {
            "text/plain": [
              "5311"
            ]
          },
          "metadata": {
            "tags": []
          },
          "execution_count": 188
        }
      ]
    },
    {
      "cell_type": "code",
      "metadata": {
        "colab": {
          "base_uri": "https://localhost:8080/"
        },
        "id": "1ZnIyL_OyKY6",
        "outputId": "54775fa9-9e1f-41f4-aa93-2677a2505cdf"
      },
      "source": [
        "trips_dc['start_day'].value_counts()[1]"
      ],
      "execution_count": null,
      "outputs": [
        {
          "output_type": "execute_result",
          "data": {
            "text/plain": [
              "3982"
            ]
          },
          "metadata": {
            "tags": []
          },
          "execution_count": 189
        }
      ]
    },
    {
      "cell_type": "code",
      "metadata": {
        "colab": {
          "base_uri": "https://localhost:8080/"
        },
        "id": "LoFJMUI2yLGn",
        "outputId": "b3efa566-50c2-4451-8591-799d25fb732a"
      },
      "source": [
        "trips_dc['start_day'].value_counts()[2]"
      ],
      "execution_count": null,
      "outputs": [
        {
          "output_type": "execute_result",
          "data": {
            "text/plain": [
              "3543"
            ]
          },
          "metadata": {
            "tags": []
          },
          "execution_count": 190
        }
      ]
    },
    {
      "cell_type": "code",
      "metadata": {
        "colab": {
          "base_uri": "https://localhost:8080/"
        },
        "id": "CQUFwipOyL9c",
        "outputId": "8967bc27-3fcb-4751-bd23-8f43e79fd5f3"
      },
      "source": [
        "trips_dc['start_day'].value_counts()[3]"
      ],
      "execution_count": null,
      "outputs": [
        {
          "output_type": "execute_result",
          "data": {
            "text/plain": [
              "2981"
            ]
          },
          "metadata": {
            "tags": []
          },
          "execution_count": 191
        }
      ]
    },
    {
      "cell_type": "code",
      "metadata": {
        "colab": {
          "base_uri": "https://localhost:8080/"
        },
        "id": "heJEYOI4yMns",
        "outputId": "cce5c5d5-0cb9-4869-d30d-1ac986dad93a"
      },
      "source": [
        "trips_dc['start_day'].value_counts()[4]"
      ],
      "execution_count": null,
      "outputs": [
        {
          "output_type": "execute_result",
          "data": {
            "text/plain": [
              "2936"
            ]
          },
          "metadata": {
            "tags": []
          },
          "execution_count": 192
        }
      ]
    },
    {
      "cell_type": "code",
      "metadata": {
        "colab": {
          "base_uri": "https://localhost:8080/"
        },
        "id": "nbRvD7l6yNKs",
        "outputId": "3a65e577-45ef-4936-ce9f-e8546260dfab"
      },
      "source": [
        "trips_dc['start_day'].value_counts()[5]"
      ],
      "execution_count": null,
      "outputs": [
        {
          "output_type": "execute_result",
          "data": {
            "text/plain": [
              "2876"
            ]
          },
          "metadata": {
            "tags": []
          },
          "execution_count": 193
        }
      ]
    },
    {
      "cell_type": "code",
      "metadata": {
        "colab": {
          "base_uri": "https://localhost:8080/"
        },
        "id": "X4Fg8jr8yN_6",
        "outputId": "488f694c-7a05-419b-f6c5-df6b04db9a18"
      },
      "source": [
        "trips_dc['start_day'].value_counts()[6]"
      ],
      "execution_count": null,
      "outputs": [
        {
          "output_type": "execute_result",
          "data": {
            "text/plain": [
              "2182"
            ]
          },
          "metadata": {
            "tags": []
          },
          "execution_count": 194
        }
      ]
    },
    {
      "cell_type": "code",
      "metadata": {
        "colab": {
          "base_uri": "https://localhost:8080/",
          "height": 297
        },
        "id": "ChJieVIiyptP",
        "outputId": "b4b948f1-6693-4301-9385-00d735bc0f99"
      },
      "source": [
        "fig, ax = plt.subplots(1,1)\n",
        "Start_Day = ['Sat', 'Sun', 'Mon', 'Tue', 'Wen', 'Thu', 'Fri']\n",
        "values = [trips_dc['start_day'].value_counts()[0], trips_dc['start_day'].value_counts()[5], trips_dc['start_day'].value_counts()[6], trips_dc['start_day'].value_counts()[3], trips_dc['start_day'].value_counts()[2], trips_dc['start_day'].value_counts()[4], trips_dc['start_day'].value_counts()[1]]\n",
        "trips_dc['start_day'].value_counts()[0]\n",
        "ax.bar(Start_Day,values)\n",
        "plt.suptitle('Ridership by Weekday')\n",
        "f.subplots_adjust(hspace=0.25)\n",
        "f.set_figheight(10)\n",
        "f.set_figwidth(15)\n",
        "plt.show()"
      ],
      "execution_count": null,
      "outputs": [
        {
          "output_type": "display_data",
          "data": {
            "image/png": "[encoded data removed]",
            "text/plain": [
              "<Figure size 432x288 with 1 Axes>"
            ]
          },
          "metadata": {
            "tags": []
          }
        }
      ]
    },
    {
      "cell_type": "code",
      "metadata": {
        "colab": {
          "base_uri": "https://localhost:8080/",
          "height": 297
        },
        "id": "CHpJja3sz5yZ",
        "outputId": "207e7aa5-ef30-4b0f-d714-ae3d0e48e482"
      },
      "source": [
        "fig, ax = plt.subplots(1,1)\n",
        "Start_Day = ['Sat', 'Sun', 'Mon', 'Tue', 'Wen', 'Thu', 'Fri']\n",
        "values = [trips_dm['start_day'].value_counts()[1], trips_dm['start_day'].value_counts()[6], trips_dm['start_day'].value_counts()[5], trips_dm['start_day'].value_counts()[3], trips_dm['start_day'].value_counts()[2], trips_dm['start_day'].value_counts()[4], trips_dm['start_day'].value_counts()[0]]\n",
        "trips_dm['start_day'].value_counts()[0]\n",
        "ax.bar(Start_Day,values)\n",
        "\n",
        "Start_Day = ['Sat', 'Sun', 'Mon', 'Tue', 'Wen', 'Thu', 'Fri']\n",
        "values = [trips_dc['start_day'].value_counts()[0], trips_dc['start_day'].value_counts()[5], trips_dc['start_day'].value_counts()[6], trips_dc['start_day'].value_counts()[3], trips_dc['start_day'].value_counts()[2], trips_dc['start_day'].value_counts()[4], trips_dc['start_day'].value_counts()[1]]\n",
        "trips_dc['start_day'].value_counts()[0]\n",
        "ax.bar(Start_Day,values)\n",
        "\n",
        "plt.legend(('Member Trips','Casual Trips'))\n",
        "plt.suptitle('Rides Per Weekday')\n",
        "\n",
        "\n",
        "f.subplots_adjust(hspace=0.50)\n",
        "f.set_figheight(15)\n",
        "f.set_figwidth(20)\n",
        "plt.show()"
      ],
      "execution_count": null,
      "outputs": [
        {
          "output_type": "display_data",
          "data": {
            "image/png": "[encoded data removed]",
            "text/plain": [
              "<Figure size 432x288 with 1 Axes>"
            ]
          },
          "metadata": {
            "tags": []
          }
        }
      ]
    },
    {
      "cell_type": "markdown",
      "metadata": {
        "id": "vFH-aiKDb-w1"
      },
      "source": [
        ""
      ]
    },
    {
      "cell_type": "markdown",
      "metadata": {
        "id": "grBL8CwmkUw3"
      },
      "source": [
        "Popular Stations"
      ]
    },
    {
      "cell_type": "code",
      "metadata": {
        "colab": {
          "base_uri": "https://localhost:8080/"
        },
        "id": "rOSzJ2FSkY2q",
        "outputId": "4e615a93-e30c-497d-e182-8aa55b1ffa27"
      },
      "source": [
        "trips[\"end_station_name\"].value_counts(ascending=False)[0:10]"
      ],
      "execution_count": null,
      "outputs": [
        {
          "output_type": "execute_result",
          "data": {
            "text/plain": [
              "New Hampshire Ave & T St NW    976\n",
              "15th & P St NW                 960\n",
              "1st & M St NE                  775\n",
              "14th & V St NW                 765\n",
              "17th & Corcoran St NW          682\n",
              "8th & O St NW                  662\n",
              "5th & K St NW                  638\n",
              "14th & R St NW                 611\n",
              "11th & M St NW                 602\n",
              "3rd & M St NE                  585\n",
              "Name: end_station_name, dtype: int64"
            ]
          },
          "metadata": {
            "tags": []
          },
          "execution_count": 27
        }
      ]
    },
    {
      "cell_type": "code",
      "metadata": {
        "colab": {
          "base_uri": "https://localhost:8080/"
        },
        "id": "-zH-61l6kmQj",
        "outputId": "10f732cb-8664-4ef2-9bf6-30d6ff836570"
      },
      "source": [
        "trips[\"end_station_name\"].value_counts(ascending=True)[0:20]\n"
      ],
      "execution_count": null,
      "outputs": [
        {
          "output_type": "execute_result",
          "data": {
            "text/plain": [
              "Greensboro & International Dr                          1\n",
              "Wiehle Ave & Reston Station Blvd                       1\n",
              "Montgomery College / W Campus Dr & Mannakee St         1\n",
              "Kenilworth Terrace & Hayes St. NE                      1\n",
              "Southern Ave Metro                                     1\n",
              "Castle Blvd & Castle Ln                                1\n",
              "Jones Branch & Westbranch Dr                           1\n",
              "North Shore Dr & Village Rd                            1\n",
              "White Oak Rec Center                                   1\n",
              "Blueridge Ave & Elkin St                               1\n",
              "Amherst Ave & Prichard Rd                              1\n",
              "Nannie Helen Burroughs Ave & 49th St NE                1\n",
              "Windham Ln & Amherst Ave                               1\n",
              "37th & Ely Pl SE                                       1\n",
              "N Hampton Dr & Ford Ave                                1\n",
              "Hyattsville Library / Adelphi Rd & Toledo Rd           1\n",
              "Alabama Ave & Stanton Rd SE / Shops at Park Village    1\n",
              "Westpark & Jones Branch Dr                             1\n",
              "Reston Pkwy & Spectrum Dr                              1\n",
              "Spring Hill Metro                                      1\n",
              "Name: end_station_name, dtype: int64"
            ]
          },
          "metadata": {
            "tags": []
          },
          "execution_count": 29
        }
      ]
    },
    {
      "cell_type": "code",
      "metadata": {
        "colab": {
          "base_uri": "https://localhost:8080/"
        },
        "id": "_jW3OrZhlGNs",
        "outputId": "05a24b2f-624f-4c13-c2b1-d976d0b7062e"
      },
      "source": [
        "trips[\"start_station_name\"].value_counts(ascending=True)[0:20]\n"
      ],
      "execution_count": null,
      "outputs": [
        {
          "output_type": "execute_result",
          "data": {
            "text/plain": [
              "Westpark & Jones Branch Dr                        1\n",
              "Fallsgrove Dr & W Montgomery Ave                  1\n",
              "Library St & Freedom Dr                           1\n",
              "19th & Savannah St SE                             1\n",
              "Congress Heights Metro                            1\n",
              "United Medical Center                             1\n",
              "Towers Crescent Dr & Tysons One Pl                1\n",
              "Shady Grove Hospital                              1\n",
              "White Oak Rec Center                              1\n",
              "The Shoppes @ Burnt Mills                         1\n",
              "White Oak Transit Center                          1\n",
              "Tysons West Transit Center                        1\n",
              "Alabama & MLK Ave SE                              1\n",
              "Montgomery College / W Campus Dr & Mannakee St    1\n",
              "Westpark & Park Run Dr                            1\n",
              "McLean Metro                                      1\n",
              "Nannie Helen Burroughs & Minnesota Ave NE         1\n",
              "Town Center Pkwy & Sunset Hills Rd                1\n",
              "Piccard & W Gude Dr                               1\n",
              "Wiehle Ave & Reston Station Blvd                  1\n",
              "Name: start_station_name, dtype: int64"
            ]
          },
          "metadata": {
            "tags": []
          },
          "execution_count": 30
        }
      ]
    },
    {
      "cell_type": "code",
      "metadata": {
        "id": "Vo82Elr_lcPp"
      },
      "source": [
        "trip_mem = trips[(trips[\"member_casual\"] == \"member\")]"
      ],
      "execution_count": null,
      "outputs": []
    },
    {
      "cell_type": "code",
      "metadata": {
        "id": "_GCkpVoylkRb"
      },
      "source": [
        "trip_cas = trips[(trips[\"member_casual\"] == \"casual\")]"
      ],
      "execution_count": null,
      "outputs": []
    },
    {
      "cell_type": "code",
      "metadata": {
        "colab": {
          "base_uri": "https://localhost:8080/"
        },
        "id": "qK-w9P1wlrxv",
        "outputId": "fc971125-ed49-4548-ae55-5c6cc6de4fa0"
      },
      "source": [
        "trip_mem_start = trip_mem[\"start_station_name\"].value_counts()[0:20]\n",
        "trip_mem_start "
      ],
      "execution_count": null,
      "outputs": [
        {
          "output_type": "execute_result",
          "data": {
            "text/plain": [
              "New Hampshire Ave & T St NW                            817\n",
              "15th & P St NW                                         709\n",
              "11th & M St NW                                         557\n",
              "14th & Irving St NW                                    552\n",
              "14th & V St NW                                         510\n",
              "17th & Corcoran St NW                                  509\n",
              "8th & O St NW                                          503\n",
              "5th & K St NW                                          485\n",
              "Thomas Circle                                          478\n",
              "15th & W St NW                                         438\n",
              "20th St & Florida Ave NW                               428\n",
              "1st & M St NE                                          417\n",
              "14th & Rhode Island Ave NW                             415\n",
              "4th & M St SW                                          410\n",
              "23rd & M St NW                                         408\n",
              "Eastern Market Metro / Pennsylvania Ave & 8th St SE    394\n",
              "3rd & M St NE                                          387\n",
              "Columbia & Ontario Rd NW                               383\n",
              "Columbus Circle / Union Station                        373\n",
              "14th & Belmont St NW                                   363\n",
              "Name: start_station_name, dtype: int64"
            ]
          },
          "metadata": {
            "tags": []
          },
          "execution_count": 33
        }
      ]
    },
    {
      "cell_type": "code",
      "metadata": {
        "colab": {
          "base_uri": "https://localhost:8080/"
        },
        "id": "ccrS1qMMlvnt",
        "outputId": "91a478e9-7239-4e06-8c15-696cfccc4286"
      },
      "source": [
        "trip_mem_end = trip_mem[\"end_station_name\"].value_counts() [0:20]\n",
        "trip_mem_end"
      ],
      "execution_count": null,
      "outputs": [
        {
          "output_type": "execute_result",
          "data": {
            "text/plain": [
              "New Hampshire Ave & T St NW                            816\n",
              "15th & P St NW                                         769\n",
              "14th & V St NW                                         599\n",
              "17th & Corcoran St NW                                  574\n",
              "5th & K St NW                                          534\n",
              "1st & M St NE                                          490\n",
              "11th & M St NW                                         485\n",
              "8th & O St NW                                          476\n",
              "23rd & M St NW                                         466\n",
              "20th St & Florida Ave NW                               461\n",
              "14th & Irving St NW                                    443\n",
              "14th & R St NW                                         434\n",
              "Massachusetts Ave & Dupont Circle NW                   428\n",
              "Eastern Market Metro / Pennsylvania Ave & 8th St SE    427\n",
              "3rd & M St NE                                          424\n",
              "14th & Rhode Island Ave NW                             419\n",
              "15th & W St NW                                         417\n",
              "Thomas Circle                                          397\n",
              "4th & M St SW                                          388\n",
              "New Hampshire Ave & Ward Pl NW                         387\n",
              "Name: end_station_name, dtype: int64"
            ]
          },
          "metadata": {
            "tags": []
          },
          "execution_count": 34
        }
      ]
    },
    {
      "cell_type": "code",
      "metadata": {
        "colab": {
          "base_uri": "https://localhost:8080/"
        },
        "id": "omVmxThVl0D8",
        "outputId": "73b45d7d-789e-44b4-c177-ce0b7bccd28b"
      },
      "source": [
        "trip_cas_start = trip_cas[\"start_station_name\"].value_counts() [0:20]\n",
        "trip_cas_start"
      ],
      "execution_count": null,
      "outputs": [
        {
          "output_type": "execute_result",
          "data": {
            "text/plain": [
              "Lincoln Memorial                                         367\n",
              "Henry Bacon Dr & Lincoln Memorial Circle NW              297\n",
              "1st & M St NE                                            250\n",
              "4th St & Madison Dr NW                                   241\n",
              "14th & Irving St NW                                      224\n",
              "Jefferson Dr & 14th St SW                                221\n",
              "Smithsonian-National Mall / Jefferson Dr & 12th St SW    206\n",
              "New Hampshire Ave & T St NW                              187\n",
              "8th & O St NW                                            181\n",
              "11th & M St NW                                           168\n",
              "15th & P St NW                                           167\n",
              "Lamont & Mt Pleasant NW                                  166\n",
              "15th & W St NW                                           159\n",
              "17th St & Independence Ave SW                            158\n",
              "14th & V St NW                                           152\n",
              "3rd & M St NE                                            146\n",
              "Ohio Dr & West Basin Dr SW / MLK & FDR Memorials         134\n",
              "14th & R St NW                                           130\n",
              "18th St & Wyoming Ave NW                                 130\n",
              "6th & H St NE                                            125\n",
              "Name: start_station_name, dtype: int64"
            ]
          },
          "metadata": {
            "tags": []
          },
          "execution_count": 35
        }
      ]
    },
    {
      "cell_type": "code",
      "metadata": {
        "colab": {
          "base_uri": "https://localhost:8080/"
        },
        "id": "Lnmdj7W-l3u6",
        "outputId": "26447d7d-92cd-4d78-9eba-7a28a1847aab"
      },
      "source": [
        "trip_cas_end = trip_cas[\"end_station_name\"].value_counts() [0:20]\n",
        "trip_cas_end"
      ],
      "execution_count": null,
      "outputs": [
        {
          "output_type": "execute_result",
          "data": {
            "text/plain": [
              "Lincoln Memorial                                         300\n",
              "1st & M St NE                                            285\n",
              "Henry Bacon Dr & Lincoln Memorial Circle NW              272\n",
              "Jefferson Dr & 14th St SW                                227\n",
              "4th St & Madison Dr NW                                   217\n",
              "15th & P St NW                                           191\n",
              "8th & O St NW                                            186\n",
              "Smithsonian-National Mall / Jefferson Dr & 12th St SW    180\n",
              "14th & R St NW                                           177\n",
              "15th St & Constitution Ave NW                            173\n",
              "14th & V St NW                                           166\n",
              "3rd & M St NE                                            161\n",
              "New Hampshire Ave & T St NW                              160\n",
              "15th & W St NW                                           154\n",
              "1st & K St SE                                            148\n",
              "M St & Pennsylvania Ave NW                               144\n",
              "Massachusetts Ave & Dupont Circle NW                     141\n",
              "Columbus Circle / Union Station                          140\n",
              "Potomac & M St NW                                        139\n",
              "17th St & Independence Ave SW                            136\n",
              "Name: end_station_name, dtype: int64"
            ]
          },
          "metadata": {
            "tags": []
          },
          "execution_count": 36
        }
      ]
    },
    {
      "cell_type": "code",
      "metadata": {
        "colab": {
          "base_uri": "https://localhost:8080/",
          "height": 454
        },
        "id": "clCD11SZm008",
        "outputId": "556c75bf-ac78-44b8-d80d-bbd51897ecec"
      },
      "source": [
        "count_end1 = pd.DataFrame(trips[['member_casual', 'end_station_name']].groupby(['member_casual'])['end_station_name'].value_counts(ascending=False))\n",
        "count_end1"
      ],
      "execution_count": null,
      "outputs": [
        {
          "output_type": "execute_result",
          "data": {
            "text/html": [
              "<div>\n",
              "<style scoped>\n",
              "    .dataframe tbody tr th:only-of-type {\n",
              "        vertical-align: middle;\n",
              "    }\n",
              "\n",
              "    .dataframe tbody tr th {\n",
              "        vertical-align: top;\n",
              "    }\n",
              "\n",
              "    .dataframe thead th {\n",
              "        text-align: right;\n",
              "    }\n",
              "</style>\n",
              "<table border=\"1\" class=\"dataframe\">\n",
              "  <thead>\n",
              "    <tr style=\"text-align: right;\">\n",
              "      <th></th>\n",
              "      <th></th>\n",
              "      <th>end_station_name</th>\n",
              "    </tr>\n",
              "    <tr>\n",
              "      <th>member_casual</th>\n",
              "      <th>end_station_name</th>\n",
              "      <th></th>\n",
              "    </tr>\n",
              "  </thead>\n",
              "  <tbody>\n",
              "    <tr>\n",
              "      <th rowspan=\"5\" valign=\"top\">casual</th>\n",
              "      <th>Lincoln Memorial</th>\n",
              "      <td>300</td>\n",
              "    </tr>\n",
              "    <tr>\n",
              "      <th>1st &amp; M St NE</th>\n",
              "      <td>285</td>\n",
              "    </tr>\n",
              "    <tr>\n",
              "      <th>Henry Bacon Dr &amp; Lincoln Memorial Circle NW</th>\n",
              "      <td>272</td>\n",
              "    </tr>\n",
              "    <tr>\n",
              "      <th>Jefferson Dr &amp; 14th St SW</th>\n",
              "      <td>227</td>\n",
              "    </tr>\n",
              "    <tr>\n",
              "      <th>4th St &amp; Madison Dr NW</th>\n",
              "      <td>217</td>\n",
              "    </tr>\n",
              "    <tr>\n",
              "      <th>...</th>\n",
              "      <th>...</th>\n",
              "      <td>...</td>\n",
              "    </tr>\n",
              "    <tr>\n",
              "      <th rowspan=\"5\" valign=\"top\">member</th>\n",
              "      <th>South Capitol &amp; Atlantic St SW</th>\n",
              "      <td>1</td>\n",
              "    </tr>\n",
              "    <tr>\n",
              "      <th>Southern Ave Metro</th>\n",
              "      <td>1</td>\n",
              "    </tr>\n",
              "    <tr>\n",
              "      <th>State Theatre / Park Pl &amp; N Washington St</th>\n",
              "      <td>1</td>\n",
              "    </tr>\n",
              "    <tr>\n",
              "      <th>Vy Reston Heights</th>\n",
              "      <td>1</td>\n",
              "    </tr>\n",
              "    <tr>\n",
              "      <th>Westpark Dr &amp; Leesburg Pike</th>\n",
              "      <td>1</td>\n",
              "    </tr>\n",
              "  </tbody>\n",
              "</table>\n",
              "<p>1131 rows × 1 columns</p>\n",
              "</div>"
            ],
            "text/plain": [
              "                                                           end_station_name\n",
              "member_casual end_station_name                                             \n",
              "casual        Lincoln Memorial                                          300\n",
              "              1st & M St NE                                             285\n",
              "              Henry Bacon Dr & Lincoln Memorial Circle NW               272\n",
              "              Jefferson Dr & 14th St SW                                 227\n",
              "              4th St & Madison Dr NW                                    217\n",
              "...                                                                     ...\n",
              "member        South Capitol & Atlantic St SW                              1\n",
              "              Southern Ave Metro                                          1\n",
              "              State Theatre / Park Pl & N Washington St                   1\n",
              "              Vy Reston Heights                                           1\n",
              "              Westpark Dr & Leesburg Pike                                 1\n",
              "\n",
              "[1131 rows x 1 columns]"
            ]
          },
          "metadata": {
            "tags": []
          },
          "execution_count": 41
        }
      ]
    }
  ]
}